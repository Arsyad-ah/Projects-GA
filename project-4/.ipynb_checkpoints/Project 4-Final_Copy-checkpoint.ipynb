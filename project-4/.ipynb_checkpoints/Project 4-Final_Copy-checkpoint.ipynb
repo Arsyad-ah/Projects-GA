{
 "cells": [
  {
   "cell_type": "markdown",
   "metadata": {},
   "source": [
    "# ![](https://ga-dash.s3.amazonaws.com/production/assets/logo-9f88ae6c9c3871690e33280fcf557f33.png) Project 4: Web Scraping Job Postings\n",
    "\n",
    "## Business Case Overview\n",
    "\n",
    "You're working as a data scientist for a contracting firm that's rapidly expanding. Now that they have their most valuable employee (you!), they need to leverage data to win more contracts. Your firm offers technology and scientific solutions and wants to be competitive in the hiring market. Your principal has two main objectives:\n",
    "\n",
    "   1. Determine the industry factors that are most important in predicting the salary amounts for these data.\n",
    "   2. Determine the factors that distinguish job categories and titles from each other. For example, can required skills accurately predict job title?\n",
    "\n",
    "To limit the scope, your principal has suggested that you *focus on data-related job postings*, e.g. data scientist, data analyst, research scientist, business intelligence, and any others you might think of. You may also want to decrease the scope by *limiting your search to a single region.*\n",
    "\n",
    "Hint: Aggregators like [Indeed.com](https://www.indeed.com) regularly pool job postings from a variety of markets and industries. \n",
    "\n",
    "**Goal:** Scrape your own data from a job aggregation tool like Indeed.com in order to collect the data to best answer these two questions.\n",
    "\n",
    "---\n",
    "\n",
    "## Directions\n",
    "\n",
    "In this project you will be leveraging a variety of skills. The first will be to use the web-scraping and/or API techniques you've learned to collect data on data jobs from Indeed.com or another aggregator. Once you have collected and cleaned the data, you will use it to answer the two questions described above.\n",
    "\n",
    "### QUESTION 1: Factors that impact salary\n",
    "\n",
    "To predict salary you will be building either a classification or regression model, using features like the location, title, and summary of the job. If framing this as a regression problem, you will be estimating the listed salary amounts. You may instead choose to frame this as a classification problem, in which case you will create labels from these salaries (high vs. low salary, for example) according to thresholds (such as median salary).\n",
    "\n",
    "You have learned a variety of new skills and models that may be useful for this problem:\n",
    "- NLP\n",
    "- Unsupervised learning and dimensionality reduction techniques (PCA, clustering)\n",
    "- Ensemble methods and decision tree models\n",
    "- SVM models\n",
    "\n",
    "Whatever you decide to use, the most important thing is to justify your choices and interpret your results. *Communication of your process is key.* Note that most listings **DO NOT** come with salary information. You'll need to able to extrapolate or predict the expected salaries for these listings.\n",
    "\n",
    "### QUESTION 2: Factors that distinguish job category\n",
    "\n",
    "Using the job postings you scraped for part 1 (or potentially new job postings from a second round of scraping), identify features in the data related to job postings that can distinguish job titles from each other. There are a variety of interesting ways you can frame the target variable, for example:\n",
    "- What components of a job posting distinguish data scientists from other data jobs?\n",
    "- What features are important for distinguishing junior vs. senior positions?\n",
    "- Do the requirements for titles vary significantly with industry (e.g. healthcare vs. government)?\n",
    "\n",
    "You may end up making multiple classification models to tackle different questions. Be sure to clearly explain your hypotheses and framing, any feature engineering, and what your target variables are. The type of classification model you choose is up to you. Be sure to interpret your results and evaluate your models' performance.\n",
    "\n",
    "\n",
    "### BONUS PROBLEM\n",
    "\n",
    "Your boss would rather tell a client incorrectly that they would get a lower salary job than tell a client incorrectly that they would get a high salary job. Adjust one of your models to ease his mind, and explain what it is doing and any tradeoffs. Plot the ROC curve.\n",
    "\n",
    "---\n",
    "\n",
    "## Requirements\n",
    "\n",
    "1. Scrape and prepare your own data.\n",
    "\n",
    "2. **Create and compare at least two models for each section**. One of the two models should be a decision tree or ensemble model. The other can be a classifier or regression of your choosing (e.g. Ridge, logistic regression, KNN, SVM, etc).\n",
    "   - Section 1: Job Salary Trends\n",
    "   - Section 2: Job Category Factors\n",
    "\n",
    "3. Prepare a polished Jupyter Notebook with your analysis for a peer audience of data scientists. \n",
    "   - Make sure to clearly describe and label each section.\n",
    "   - Comment on your code so that others could, in theory, replicate your work.\n",
    "\n",
    "4. A brief writeup in an executive summary, written for a non-technical audience.\n",
    "   - Writeups should be at least 500-1000 words, defining any technical terms, explaining your approach, as well as any risks and limitations.\n",
    "\n",
    "#### BONUS\n",
    "\n",
    "5. Answer the salary discussion by using your model to explain the tradeoffs between detecting high vs low salary positions.\n",
    "\n",
    "6. Convert your executive summary into a public blog post of at least 500 words, in which you document your approach in a tutorial for other aspiring data scientists. Link to this in your notebook.\n",
    "\n",
    "---\n",
    "\n",
    "## Suggestions for Getting Started\n",
    "\n",
    "1. Collect data from [Indeed.com](www.indeed.com) (or another aggregator) on data-related jobs to use in predicting salary trends for your analysis.\n",
    "  - Select and parse data from *at least 1000 postings* for jobs, potentially from multiple location searches.\n",
    "2. Find out what factors most directly impact salaries (e.g. title, location, department, etc).\n",
    "  - Test, validate, and describe your models. What factors predict salary category? How do your models perform?\n",
    "3. Discover which features have the greatest importance when determining a low vs. high paying job.\n",
    "  - Your Boss is interested in what overall features hold the greatest significance.\n",
    "  - HR is interested in which SKILLS and KEY WORDS hold the greatest significance.   \n",
    "4. Author an executive summary that details the highlights of your analysis for a non-technical audience.\n",
    "5. If tackling the bonus question, try framing the salary problem as a classification problem detecting low vs. high salary positions.\n",
    "\n",
    "---\n",
    "\n",
    "## Useful Resources\n",
    "\n",
    "- Scraping is one of the most fun, useful and interesting skills out there. Don’t lose out by copying someone else's code!\n",
    "- [Here is some advice on how to write for a non-technical audience](http://programmers.stackexchange.com/questions/11523/explaining-technical-things-to-non-technical-people)\n",
    "- [Documentation for BeautifulSoup can be found here](http://www.crummy.com/software/BeautifulSoup/).\n",
    "\n",
    "---\n",
    "\n",
    "### Project Feedback + Evaluation\n",
    "\n",
    "For all projects, students will be evaluated on a simple 3 point scale (0, 1, or 2). Instructors will use this rubric when scoring student performance on each of the core project **requirements:** \n",
    "\n",
    "Score | Expectations\n",
    "----- | ------------\n",
    "**0** | _Does not meet expectations. Try again._\n",
    "**1** | _Meets expectations. Good job._\n",
    "**2** | _Surpasses expectations. Brilliant!_\n",
    "\n",
    "[For more information on how we grade our DSI projects, see our project grading walkthrough.](https://git.generalassemb.ly/dsi-projects/readme/blob/master/README.md)\n"
   ]
  },
  {
   "cell_type": "markdown",
   "metadata": {},
   "source": [
    "# Executive Summary"
   ]
  },
  {
   "cell_type": "markdown",
   "metadata": {},
   "source": [
    "This report aims to determine the factors that are important to predict salary amounts and factors that distinguish job titles. Job postings from https://www.mycareersfuture.sg/ were scraped using Selenium and BeautifulSoup. These job postings included keywords such as ‘Data Scientist’, ‘Data Analyst’ and other data science / machine learning related jobs. This report was done on a dataset of 1,491 rows by 11 columns. An Exploratory Data Analysis (EDA) was done to clean and analyse the data for the purpose of this report to ensure that the analysis and results were as accurately as possible.\n",
    "\n",
    "Multiple models were ran on the dataset and the best model with the highest accuracy was selected. Key features that were used in the job postings were analysed from this model. Logistic Regression with CountVectorizer model scored the highest predicting salary classification with a score of 65% and average f1-score of 62%. Keywords such as Information Technology, Machine Learning and Communication Skills were among the most used words in these job postings.\n",
    "\n",
    "It was noticed there was an imbalance dataset to analyse factors that distinguishes a classification outcome for job title – Data Scientist. Random forest model with hyperparameter of class_weight=’balance’ was ran to address this issue. Additionally, the train set was upsampled for a accurate test for Logistic Regression. Logistic Regression with TfidfVectorizer model performed better with the upsampled training dataset compared to the rest of the models with a score and f1-score of 95%. False Negative and False Positive are more evenly spread out in this model.\n"
   ]
  },
  {
   "cell_type": "markdown",
   "metadata": {},
   "source": [
    "# Question 1"
   ]
  },
  {
   "cell_type": "markdown",
   "metadata": {},
   "source": [
    "The data that below was scraped from https://www.mycareersfuture.sg/ using <b>Selenium</b> and <b>BeautifulSoup</b>. Job posting searches include keywords such as 'Data Analyst', 'Data Scientist' and other data science / machine learning related roles."
   ]
  },
  {
   "cell_type": "code",
   "execution_count": 1,
   "metadata": {
    "ExecuteTime": {
     "end_time": "2018-07-27T01:12:55.846000Z",
     "start_time": "2018-07-27T01:12:52.127000Z"
    }
   },
   "outputs": [],
   "source": [
    "import pandas as pd\n",
    "import re\n",
    "import numpy as np\n",
    "import seaborn as sns\n",
    "import matplotlib.pyplot as plt\n",
    "%matplotlib inline"
   ]
  },
  {
   "cell_type": "code",
   "execution_count": 2,
   "metadata": {
    "ExecuteTime": {
     "end_time": "2018-07-27T01:12:55.860000Z",
     "start_time": "2018-07-27T01:12:55.854000Z"
    }
   },
   "outputs": [],
   "source": [
    "careers = './jobs_df_22jul.csv'"
   ]
  },
  {
   "cell_type": "code",
   "execution_count": 3,
   "metadata": {
    "ExecuteTime": {
     "end_time": "2018-07-27T01:12:55.979000Z",
     "start_time": "2018-07-27T01:12:55.868000Z"
    }
   },
   "outputs": [],
   "source": [
    "jobs = pd.read_csv(careers)"
   ]
  },
  {
   "cell_type": "markdown",
   "metadata": {},
   "source": [
    "## EDA"
   ]
  },
  {
   "cell_type": "code",
   "execution_count": 4,
   "metadata": {
    "ExecuteTime": {
     "end_time": "2018-07-27T01:12:56Z",
     "start_time": "2018-07-27T01:12:55.986000Z"
    }
   },
   "outputs": [],
   "source": [
    "# replacing all 'NONE' values to np.nan\n",
    "\n",
    "jobs.replace('NONE', np.nan, inplace=True)"
   ]
  },
  {
   "cell_type": "code",
   "execution_count": 5,
   "metadata": {
    "ExecuteTime": {
     "end_time": "2018-07-27T01:12:56.016000Z",
     "start_time": "2018-07-27T01:12:56.004000Z"
    }
   },
   "outputs": [
    {
     "data": {
      "text/plain": [
       "(1549, 10)"
      ]
     },
     "execution_count": 5,
     "metadata": {},
     "output_type": "execute_result"
    }
   ],
   "source": [
    "jobs.shape"
   ]
  },
  {
   "cell_type": "code",
   "execution_count": 6,
   "metadata": {
    "ExecuteTime": {
     "end_time": "2018-07-27T01:12:56.054000Z",
     "start_time": "2018-07-27T01:12:56.022000Z"
    },
    "scrolled": false
   },
   "outputs": [
    {
     "data": {
      "text/html": [
       "<div>\n",
       "<style scoped>\n",
       "    .dataframe tbody tr th:only-of-type {\n",
       "        vertical-align: middle;\n",
       "    }\n",
       "\n",
       "    .dataframe tbody tr th {\n",
       "        vertical-align: top;\n",
       "    }\n",
       "\n",
       "    .dataframe thead th {\n",
       "        text-align: right;\n",
       "    }\n",
       "</style>\n",
       "<table border=\"1\" class=\"dataframe\">\n",
       "  <thead>\n",
       "    <tr style=\"text-align: right;\">\n",
       "      <th></th>\n",
       "      <th>Unnamed: 0</th>\n",
       "      <th>Company</th>\n",
       "      <th>Title</th>\n",
       "      <th>Address</th>\n",
       "      <th>Emp_type</th>\n",
       "      <th>Seniority</th>\n",
       "      <th>Industry</th>\n",
       "      <th>Salary</th>\n",
       "      <th>Responsibility</th>\n",
       "      <th>Requirements</th>\n",
       "    </tr>\n",
       "  </thead>\n",
       "  <tbody>\n",
       "    <tr>\n",
       "      <th>0</th>\n",
       "      <td>0</td>\n",
       "      <td>NTT DATA SINGAPORE PTE. LTD.</td>\n",
       "      <td>Senior Application Developer</td>\n",
       "      <td>KEPPEL TOWERS, 10 HOE CHIANG ROAD 089315</td>\n",
       "      <td>Contract</td>\n",
       "      <td>Executive, Senior Executive</td>\n",
       "      <td>Information Technology</td>\n",
       "      <td>$8,000to$110,000</td>\n",
       "      <td>Roles &amp; Responsibilities  Creating complex, en...</td>\n",
       "      <td>Requirements A Bachelor’s degree in Computer S...</td>\n",
       "    </tr>\n",
       "    <tr>\n",
       "      <th>1</th>\n",
       "      <td>1</td>\n",
       "      <td>HP PPS ASIA PACIFIC PTE. LTD.</td>\n",
       "      <td>Business Analyst</td>\n",
       "      <td>1 DEPOT CLOSE 109841</td>\n",
       "      <td>Permanent, Full Time</td>\n",
       "      <td>Professional</td>\n",
       "      <td>Others</td>\n",
       "      <td>$8,400to$12,900</td>\n",
       "      <td>Roles &amp; ResponsibilitiesHP is the world’s lead...</td>\n",
       "      <td>RequirementsEducation and Experience Required:...</td>\n",
       "    </tr>\n",
       "  </tbody>\n",
       "</table>\n",
       "</div>"
      ],
      "text/plain": [
       "   Unnamed: 0                        Company                         Title  \\\n",
       "0           0   NTT DATA SINGAPORE PTE. LTD.  Senior Application Developer   \n",
       "1           1  HP PPS ASIA PACIFIC PTE. LTD.              Business Analyst   \n",
       "\n",
       "                                    Address              Emp_type  \\\n",
       "0  KEPPEL TOWERS, 10 HOE CHIANG ROAD 089315              Contract   \n",
       "1                      1 DEPOT CLOSE 109841  Permanent, Full Time   \n",
       "\n",
       "                     Seniority                Industry            Salary  \\\n",
       "0  Executive, Senior Executive  Information Technology  $8,000to$110,000   \n",
       "1                 Professional                  Others   $8,400to$12,900   \n",
       "\n",
       "                                      Responsibility  \\\n",
       "0  Roles & Responsibilities  Creating complex, en...   \n",
       "1  Roles & ResponsibilitiesHP is the world’s lead...   \n",
       "\n",
       "                                        Requirements  \n",
       "0  Requirements A Bachelor’s degree in Computer S...  \n",
       "1  RequirementsEducation and Experience Required:...  "
      ]
     },
     "execution_count": 6,
     "metadata": {},
     "output_type": "execute_result"
    }
   ],
   "source": [
    "jobs.head(2)"
   ]
  },
  {
   "cell_type": "code",
   "execution_count": 7,
   "metadata": {
    "ExecuteTime": {
     "end_time": "2018-07-27T01:12:56.092000Z",
     "start_time": "2018-07-27T01:12:56.062000Z"
    },
    "scrolled": true
   },
   "outputs": [
    {
     "data": {
      "text/html": [
       "<div>\n",
       "<style scoped>\n",
       "    .dataframe tbody tr th:only-of-type {\n",
       "        vertical-align: middle;\n",
       "    }\n",
       "\n",
       "    .dataframe tbody tr th {\n",
       "        vertical-align: top;\n",
       "    }\n",
       "\n",
       "    .dataframe thead th {\n",
       "        text-align: right;\n",
       "    }\n",
       "</style>\n",
       "<table border=\"1\" class=\"dataframe\">\n",
       "  <thead>\n",
       "    <tr style=\"text-align: right;\">\n",
       "      <th></th>\n",
       "      <th>Unnamed: 0</th>\n",
       "      <th>Company</th>\n",
       "      <th>Title</th>\n",
       "      <th>Address</th>\n",
       "      <th>Emp_type</th>\n",
       "      <th>Seniority</th>\n",
       "      <th>Industry</th>\n",
       "      <th>Salary</th>\n",
       "      <th>Responsibility</th>\n",
       "      <th>Requirements</th>\n",
       "    </tr>\n",
       "  </thead>\n",
       "  <tbody>\n",
       "    <tr>\n",
       "      <th>1530</th>\n",
       "      <td>1530</td>\n",
       "      <td>SYNGENTA ASIA PACIFIC PTE. LTD.</td>\n",
       "      <td>Regional Planner</td>\n",
       "      <td>KEPPEL BAY TOWER, 1 HARBOURFRONT AVENUE 098632</td>\n",
       "      <td>Full Time</td>\n",
       "      <td>Manager</td>\n",
       "      <td>Manufacturing</td>\n",
       "      <td>$65,000to$80,000</td>\n",
       "      <td>Roles &amp; ResponsibilitiesRegional Planner APAC ...</td>\n",
       "      <td>RequirementsWe are looking for:  At least 3-5 ...</td>\n",
       "    </tr>\n",
       "    <tr>\n",
       "      <th>287</th>\n",
       "      <td>287</td>\n",
       "      <td>OLIVER WYMAN PTE. LTD.</td>\n",
       "      <td>Senior Finance and Business Analyst</td>\n",
       "      <td>ASIA SQUARE TOWER 1, 8 MARINA VIEW 018960</td>\n",
       "      <td>Permanent</td>\n",
       "      <td>Professional</td>\n",
       "      <td>Banking and Finance</td>\n",
       "      <td>$6,000to$12,000</td>\n",
       "      <td>Roles &amp; ResponsibilitiesOliver Wyman is seekin...</td>\n",
       "      <td>RequirementsManagement Reporting and Analysis:...</td>\n",
       "    </tr>\n",
       "    <tr>\n",
       "      <th>137</th>\n",
       "      <td>137</td>\n",
       "      <td>PRAMERICA FINANCIAL ASIA HEADQUARTERS PTE. LTD.</td>\n",
       "      <td>Vice President of Marketing Operations (APAC)</td>\n",
       "      <td>NaN</td>\n",
       "      <td>Permanent</td>\n",
       "      <td>Senior Management, Middle Management</td>\n",
       "      <td>Advertising / Media , Banking and Finance, Ins...</td>\n",
       "      <td>NaN</td>\n",
       "      <td>Roles &amp; ResponsibilitiesPramerica Financial As...</td>\n",
       "      <td>RequirementsQualifications  10+ years of digit...</td>\n",
       "    </tr>\n",
       "  </tbody>\n",
       "</table>\n",
       "</div>"
      ],
      "text/plain": [
       "      Unnamed: 0                                          Company  \\\n",
       "1530        1530                  SYNGENTA ASIA PACIFIC PTE. LTD.   \n",
       "287          287                           OLIVER WYMAN PTE. LTD.   \n",
       "137          137  PRAMERICA FINANCIAL ASIA HEADQUARTERS PTE. LTD.   \n",
       "\n",
       "                                              Title  \\\n",
       "1530                               Regional Planner   \n",
       "287             Senior Finance and Business Analyst   \n",
       "137   Vice President of Marketing Operations (APAC)   \n",
       "\n",
       "                                             Address   Emp_type  \\\n",
       "1530  KEPPEL BAY TOWER, 1 HARBOURFRONT AVENUE 098632  Full Time   \n",
       "287        ASIA SQUARE TOWER 1, 8 MARINA VIEW 018960  Permanent   \n",
       "137                                              NaN  Permanent   \n",
       "\n",
       "                                 Seniority  \\\n",
       "1530                               Manager   \n",
       "287                           Professional   \n",
       "137   Senior Management, Middle Management   \n",
       "\n",
       "                                               Industry            Salary  \\\n",
       "1530                                      Manufacturing  $65,000to$80,000   \n",
       "287                                 Banking and Finance   $6,000to$12,000   \n",
       "137   Advertising / Media , Banking and Finance, Ins...               NaN   \n",
       "\n",
       "                                         Responsibility  \\\n",
       "1530  Roles & ResponsibilitiesRegional Planner APAC ...   \n",
       "287   Roles & ResponsibilitiesOliver Wyman is seekin...   \n",
       "137   Roles & ResponsibilitiesPramerica Financial As...   \n",
       "\n",
       "                                           Requirements  \n",
       "1530  RequirementsWe are looking for:  At least 3-5 ...  \n",
       "287   RequirementsManagement Reporting and Analysis:...  \n",
       "137   RequirementsQualifications  10+ years of digit...  "
      ]
     },
     "execution_count": 7,
     "metadata": {},
     "output_type": "execute_result"
    }
   ],
   "source": [
    "jobs.sample(3)"
   ]
  },
  {
   "cell_type": "code",
   "execution_count": 8,
   "metadata": {
    "ExecuteTime": {
     "end_time": "2018-07-27T01:12:56.123000Z",
     "start_time": "2018-07-27T01:12:56.098000Z"
    },
    "scrolled": true
   },
   "outputs": [
    {
     "name": "stdout",
     "output_type": "stream",
     "text": [
      "<class 'pandas.core.frame.DataFrame'>\n",
      "RangeIndex: 1549 entries, 0 to 1548\n",
      "Data columns (total 10 columns):\n",
      "Unnamed: 0        1549 non-null int64\n",
      "Company           1549 non-null object\n",
      "Title             1549 non-null object\n",
      "Address           1208 non-null object\n",
      "Emp_type          1549 non-null object\n",
      "Seniority         1513 non-null object\n",
      "Industry          1549 non-null object\n",
      "Salary            1395 non-null object\n",
      "Responsibility    1549 non-null object\n",
      "Requirements      1482 non-null object\n",
      "dtypes: int64(1), object(9)\n",
      "memory usage: 121.1+ KB\n"
     ]
    }
   ],
   "source": [
    "jobs.info()"
   ]
  },
  {
   "cell_type": "code",
   "execution_count": 9,
   "metadata": {
    "ExecuteTime": {
     "end_time": "2018-07-27T01:12:56.140000Z",
     "start_time": "2018-07-27T01:12:56.129000Z"
    }
   },
   "outputs": [],
   "source": [
    "# Address and Unnamed: 0 columns should not affect the analysis\n",
    "\n",
    "jobs.drop(['Address', 'Unnamed: 0'], axis=1, inplace=True)"
   ]
  },
  {
   "cell_type": "code",
   "execution_count": 10,
   "metadata": {
    "ExecuteTime": {
     "end_time": "2018-07-27T01:12:56.171000Z",
     "start_time": "2018-07-27T01:12:56.146000Z"
    },
    "scrolled": true
   },
   "outputs": [
    {
     "data": {
      "text/plain": [
       "Salary            154\n",
       "Requirements       67\n",
       "Seniority          36\n",
       "Responsibility      0\n",
       "Industry            0\n",
       "Emp_type            0\n",
       "Title               0\n",
       "Company             0\n",
       "dtype: int64"
      ]
     },
     "execution_count": 10,
     "metadata": {},
     "output_type": "execute_result"
    }
   ],
   "source": [
    "jobs.isnull().sum().sort_values(ascending=False)"
   ]
  },
  {
   "cell_type": "code",
   "execution_count": 11,
   "metadata": {
    "ExecuteTime": {
     "end_time": "2018-07-27T01:12:56.204000Z",
     "start_time": "2018-07-27T01:12:56.177000Z"
    },
    "scrolled": true
   },
   "outputs": [
    {
     "name": "stdout",
     "output_type": "stream",
     "text": [
      "Initial df shape:  (1549, 8)\n",
      "Duplicate shape:  (52, 8)\n",
      "No duplicates df shape:  (1497, 8)\n"
     ]
    }
   ],
   "source": [
    "duplicates = jobs.loc[jobs.duplicated(), :]\n",
    "print \"Initial df shape: \", jobs.shape\n",
    "print 'Duplicate shape: ', duplicates.shape\n",
    "jobs.drop(duplicates.index, inplace=True)\n",
    "print 'No duplicates df shape: ', jobs.shape"
   ]
  },
  {
   "cell_type": "code",
   "execution_count": 12,
   "metadata": {
    "ExecuteTime": {
     "end_time": "2018-07-27T01:12:56.223000Z",
     "start_time": "2018-07-27T01:12:56.212000Z"
    }
   },
   "outputs": [],
   "source": [
    "# removing NONE values\n",
    "jobs.dropna(how='all', inplace=True)"
   ]
  },
  {
   "cell_type": "code",
   "execution_count": 13,
   "metadata": {
    "ExecuteTime": {
     "end_time": "2018-07-27T01:12:56.241000Z",
     "start_time": "2018-07-27T01:12:56.229000Z"
    }
   },
   "outputs": [
    {
     "data": {
      "text/plain": [
       "(1497, 8)"
      ]
     },
     "execution_count": 13,
     "metadata": {},
     "output_type": "execute_result"
    }
   ],
   "source": [
    "jobs.shape"
   ]
  },
  {
   "cell_type": "code",
   "execution_count": 14,
   "metadata": {
    "ExecuteTime": {
     "end_time": "2018-07-27T01:12:56.257000Z",
     "start_time": "2018-07-27T01:12:56.248000Z"
    }
   },
   "outputs": [],
   "source": [
    "# renaming values in Seniority column\n",
    "\n",
    "jobs.Seniority = jobs.Seniority.apply(lambda x: str(x))\n",
    "# jobs['Seniority'] = ['Middle Management' if 'Manager' in x or 'Middle Management' in x else x for x in jobs.Seniority]\n",
    "# jobs['Seniority'] = ['Senior Management' if 'Senior Management' in x else x for x in jobs.Seniority]\n",
    "# jobs['Seniority'] = ['Junior Management' if 'Executive' in x or 'Senior Executive' in x or 'Fresh/entry level' in x else x for x in jobs.Seniority]\n",
    "# jobs['Seniority'] = ['Others' if 'Non-executive' in x or 'Not listed' in x else x for x in jobs.Seniority]"
   ]
  },
  {
   "cell_type": "code",
   "execution_count": 15,
   "metadata": {
    "ExecuteTime": {
     "end_time": "2018-07-27T01:12:56.274000Z",
     "start_time": "2018-07-27T01:12:56.262000Z"
    }
   },
   "outputs": [
    {
     "data": {
      "text/plain": [
       "'Roles & ResponsibilitiesBe part of the Consumer Insights and Analytics team (CIA) supporting our digital analytics effort for different business units. Key responsibilities include:  Delivering digital audience insights derived from our digital advertising stack, data management platform and other web analytics tools Delivering key metrics/benchmarks via our business intelligence platform Conducting custom analyses and studies to support business decision makers Integrating digital data from disparate sources, including partnering with Consumer Insights to communicate actionable findings for ongoing business requirements Designing and improving data collection approaches and analytical deliverables '"
      ]
     },
     "execution_count": 15,
     "metadata": {},
     "output_type": "execute_result"
    }
   ],
   "source": [
    "jobs.loc[41]['Responsibility']"
   ]
  },
  {
   "cell_type": "code",
   "execution_count": 16,
   "metadata": {
    "ExecuteTime": {
     "end_time": "2018-07-27T01:12:56.311000Z",
     "start_time": "2018-07-27T01:12:56.281000Z"
    }
   },
   "outputs": [],
   "source": [
    "# does not make sense to be permanent and contract at the same time.\n",
    "# re-arranging/standardizing some of the Emp_type: Contract, Part Time vs Part Time, Contract\n",
    "\n",
    "jobs['Emp_type'] = jobs['Emp_type'].apply(lambda x: 'Permanent' if x == 'Permanent, Contract' else x)\n",
    "\n",
    "# Temp == Contract\n",
    "jobs['Emp_type'] = jobs['Emp_type'].apply(lambda x: 'Contract, Full Time' if x == 'Temporary, Contract, Full Time' else x)\n",
    "\n",
    "jobs['Emp_type'] = jobs['Emp_type'].apply(lambda x: 'Contract, Part Time' if x == 'Part Time, Temporary' else x)\n",
    "jobs['Emp_type'] = jobs['Emp_type'].apply(lambda x: 'Contract' if x == 'Temporary, Contract' else x)\n",
    "jobs['Emp_type'] = jobs['Emp_type'].apply(lambda x: 'Contract' if x == 'Temporary' else x)\n",
    "jobs['Emp_type'] = jobs['Emp_type'].apply(lambda x: 'Contract, Part Time' if x == 'Part Time, Contract' else x)\n",
    "jobs['Emp_type'] = jobs['Emp_type'].apply(lambda x: 'Part Time' if x == 'Part Time, Flexi work' else x)\n",
    "jobs['Emp_type'] = jobs['Emp_type'].apply(lambda x: 'Part Time' if x == 'Flexi work' else x)\n",
    "\n",
    "\n",
    "jobs['Emp_type'] = jobs['Emp_type'].apply(lambda x: 'Contract, Full Time' if x == 'Temporary, Full Time' else x)\n",
    "jobs['Emp_type'] = jobs['Emp_type'].apply(lambda x: 'Permanent, Full Time' if x == 'Permanent' else x)\n",
    "\n",
    "\n",
    "# categorizing as others for Emp_type that are not making sense or cannot categorize correctly\n",
    "jobs['Emp_type'] = jobs['Emp_type'].apply(lambda x: 'Others' if x == 'Part Time, Temporary, Contract, Full Time, Flexi work'\n",
    "                                          or x == 'Part Time, Permanent, Temporary, Full Time'\n",
    "                                          or x == 'Permanent, Contract, Freelance, Full Time'\n",
    "                                          or x == 'Permanent, Contract, Freelance, Flexi work'\n",
    "                                          or x == 'Contract, Freelance, Full Time, Flexi work'\n",
    "                                          or x == 'Permanent, Contract, Full Time'\n",
    "                                          else x)"
   ]
  },
  {
   "cell_type": "code",
   "execution_count": 17,
   "metadata": {
    "ExecuteTime": {
     "end_time": "2018-07-27T01:12:56.334000Z",
     "start_time": "2018-07-27T01:12:56.317000Z"
    },
    "scrolled": true
   },
   "outputs": [
    {
     "data": {
      "text/plain": [
       "Permanent, Full Time                                                 620\n",
       "Full Time                                                            483\n",
       "Contract                                                             204\n",
       "Contract, Full Time                                                  153\n",
       "Others                                                                22\n",
       "Part Time                                                              9\n",
       "Contract, Part Time                                                    3\n",
       "Internship                                                             2\n",
       "Part Time, Permanent, Temporary, Contract, Flexi work, Internship      1\n",
       "Name: Emp_type, dtype: int64"
      ]
     },
     "execution_count": 17,
     "metadata": {},
     "output_type": "execute_result"
    }
   ],
   "source": [
    "jobs.Emp_type.value_counts()"
   ]
  },
  {
   "cell_type": "code",
   "execution_count": 18,
   "metadata": {
    "ExecuteTime": {
     "end_time": "2018-07-27T01:12:56.348000Z",
     "start_time": "2018-07-27T01:12:56.339000Z"
    }
   },
   "outputs": [],
   "source": [
    "# dropping Emp_type == Internship\n",
    "\n",
    "jobs.drop(jobs[jobs['Emp_type'] == 'Internship'].index, inplace=True)"
   ]
  },
  {
   "cell_type": "code",
   "execution_count": 19,
   "metadata": {
    "ExecuteTime": {
     "end_time": "2018-07-27T01:12:56.366000Z",
     "start_time": "2018-07-27T01:12:56.354000Z"
    },
    "scrolled": false
   },
   "outputs": [
    {
     "data": {
      "text/plain": [
       "'Roles & Responsibilities \\xc2\\xa0Creating complex, enterprise-transforming applications on diverse, high energy teams\\xc2\\xa0 Working with the latest tools and techniques\\xc2\\xa0 Hands-on coding, usually in a pair programming environment\\xc2\\xa0 Working in highly collaborative teams and building quality code\\xc2\\xa0 Knowledge in lots of different domains and client environments\\xc2\\xa0 Furnish the business domain deeply and working closely with business stakeholders\\xc2\\xa0 '"
      ]
     },
     "execution_count": 19,
     "metadata": {},
     "output_type": "execute_result"
    }
   ],
   "source": [
    "# checking Responsibility column before cleaning\n",
    "\n",
    "jobs.Responsibility[0]"
   ]
  },
  {
   "cell_type": "code",
   "execution_count": 20,
   "metadata": {
    "ExecuteTime": {
     "end_time": "2018-07-27T01:12:56.438000Z",
     "start_time": "2018-07-27T01:12:56.372000Z"
    }
   },
   "outputs": [
    {
     "data": {
      "text/plain": [
       "' &  Creating complex, enterprise-transforming applications on diverse, high energy teams Working with the latest tools and techniques Hands-on coding, usually in a pair programming environment Working in highly collaborative teams and building quality code Knowledge in lots of different domains and client environments Furnish the business domain deeply and working closely with business stakeholders '"
      ]
     },
     "execution_count": 20,
     "metadata": {},
     "output_type": "execute_result"
    }
   ],
   "source": [
    "# cleaning Responsibility col\n",
    "\n",
    "jobs.Responsibility = jobs['Responsibility'].apply(lambda x: x.replace('\\r', '').replace('\\n', ' ')\n",
    "                                                   .replace('roles', '').replace('responsibilities', '')\n",
    "                                                   .replace('role', '').replace('responsibility', '')\n",
    "                                                   .replace('Roles', '').replace('Responsibilities', '')\n",
    "                                                   .replace('Role', '').replace('Responsibility', '')\n",
    "                                                   .decode('utf8').encode('ascii', errors='ignore'))\n",
    "jobs.Responsibility[0]"
   ]
  },
  {
   "cell_type": "code",
   "execution_count": 21,
   "metadata": {
    "ExecuteTime": {
     "end_time": "2018-07-27T01:12:56.456000Z",
     "start_time": "2018-07-27T01:12:56.444000Z"
    }
   },
   "outputs": [
    {
     "data": {
      "text/plain": [
       "'RequirementsRequirements: \\xc2\\xb7\\xc2\\xa0\\xc2\\xa0 \\xc2\\xa0Strong design sense and communication skills \\xe2\\x80\\x93 able to articulate design concepts or ideas \\xc2\\xb7\\xc2\\xa0\\xc2\\xa0 \\xc2\\xa0Proficient in Adobe CS6, knowledge of web design and 3D software is a bonus\\xc2\\xa0 \\xc2\\xb7\\xc2\\xa0\\xc2\\xa0 \\xc2\\xa0Excellent in time management, organization and prioritization skills \\xc2\\xb7\\xc2\\xa0\\xc2\\xa0 \\xc2\\xa0Ability to multi-task in a fast paced environment whilst maintaining strict attention to details \\xc2\\xb7\\xc2\\xa0\\xc2\\xa0 \\xc2\\xa0Able to work independently \\xc2\\xb7\\xc2\\xa0\\xc2\\xa0 \\xc2\\xa0Excellent team player with the ability to manage stakeholders effectively \\xc2\\xb7\\xc2\\xa0\\xc2\\xa0 \\xc2\\xa0Knowledge in print production, on-site QC for press-checks and ability to prep FA \\xc2\\xb7\\xc2\\xa0\\xc2\\xa0 \\xc2\\xa0A bachelor\\xe2\\x80\\x99s Degree/ Diploma in Graphic Design, Visual Communications, or a related field is required \\xc2\\xb7\\xc2\\xa0\\xc2\\xa0 \\xc2\\xa0Knowledge on UI/UX\\xc2\\xa0 \\xc2\\xb7\\xc2\\xa0\\xc2\\xa0 \\xc2\\xa0A minimum of 4 years experience would be favourable'"
      ]
     },
     "execution_count": 21,
     "metadata": {},
     "output_type": "execute_result"
    }
   ],
   "source": [
    "# checking Requirements col before cleaning\n",
    "\n",
    "jobs.Requirements[33]"
   ]
  },
  {
   "cell_type": "code",
   "execution_count": 22,
   "metadata": {
    "ExecuteTime": {
     "end_time": "2018-07-27T01:12:56.497000Z",
     "start_time": "2018-07-27T01:12:56.462000Z"
    },
    "scrolled": true
   },
   "outputs": [
    {
     "data": {
      "text/plain": [
       "'RequirementsRequirements:   Minimum B.S. degree in Computer Science or a related technical field Excellent communication skills with the ability to identify and communicate data driven insights 2+ years of Python development and Unix/linux system experience 2+ years of SQL (Mysql, Mssql, Hive, etc)experience You must also possess at least 2 of the additional requirements as below 2+ years of working experience in software development/programming in one of Java, C/C++. OS environment: Linux/Unix 2+ years of working experience with distributed databases or distributed systems 2+ years of working experience with dimensional data modelling & schema design in Data Warehouses 2+ years of working experience working on BigData analytics pipelines (Hadoop, Hive, ETL, RDBMS-Hadoop data management tools like Sqoop)     '"
      ]
     },
     "execution_count": 22,
     "metadata": {},
     "output_type": "execute_result"
    }
   ],
   "source": [
    "# cleaning Requirements col\n",
    "\n",
    "jobs.Requirements = jobs['Requirements'].apply(lambda x: x.replace('\\r', '').replace('\\n', ' ')\n",
    "                                        .decode('utf8').encode('ascii', errors='ignore') if type(x) is str else x)\n",
    "jobs.Requirements[2]"
   ]
  },
  {
   "cell_type": "code",
   "execution_count": 23,
   "metadata": {
    "ExecuteTime": {
     "end_time": "2018-07-27T01:12:56.521000Z",
     "start_time": "2018-07-27T01:12:56.504000Z"
    }
   },
   "outputs": [],
   "source": [
    "# cleaning Salary col\n",
    "\n",
    "# jobs1 = jobs.copy()\n",
    "jobs.Salary.replace('NONE', np.nan, inplace=True)\n",
    "\n",
    "jobs.Salary = jobs['Salary'].apply(lambda x: x.replace('$', '').replace(',', '').split('to') if type(x) is str else x)"
   ]
  },
  {
   "cell_type": "markdown",
   "metadata": {},
   "source": [
    "\n",
    "\n",
    "The Salary column is filled up as an object with min and max salary. I will be splitting the min and max salary to 2 columns and taking the average of the 2 for each row. Rows that have null values will be grouped and on seniority and will be replaced with the median salary of the seniority category.\n",
    "\n",
    "Additionally, I will look at the min and max salary in my dataset to ensure there are no outliers. If there are, I will have to re-calculate the salary amount (perhaps it was quoted differently, compared to the rest. Monthly vs Yearly)."
   ]
  },
  {
   "cell_type": "code",
   "execution_count": 24,
   "metadata": {
    "ExecuteTime": {
     "end_time": "2018-07-27T01:12:56.928000Z",
     "start_time": "2018-07-27T01:12:56.526000Z"
    }
   },
   "outputs": [],
   "source": [
    "sal = jobs.Salary.apply(pd.Series).add_prefix('salary_')\n",
    "jobs = pd.concat([jobs, sal], axis=1)\n",
    "\n",
    "jobs.salary_0 = jobs.salary_0.apply(lambda x: float(x))\n",
    "jobs.salary_1 = jobs.salary_1.apply(lambda x: float(x))\n",
    "jobs['avg_sal'] = (jobs.salary_0 + jobs.salary_1) / 2\n",
    "jobs.head()\n",
    "\n",
    "jobs.drop(['Salary', 'salary_0', 'salary_1'], axis=1, inplace=True)"
   ]
  },
  {
   "cell_type": "code",
   "execution_count": 25,
   "metadata": {
    "ExecuteTime": {
     "end_time": "2018-07-27T01:12:56.944000Z",
     "start_time": "2018-07-27T01:12:56.934000Z"
    }
   },
   "outputs": [
    {
     "name": "stdout",
     "output_type": "stream",
     "text": [
      "Min Salary:  1.0\n",
      "Max Salary:  300000.0\n"
     ]
    }
   ],
   "source": [
    "print 'Min Salary: ', jobs.avg_sal.min()\n",
    "print 'Max Salary: ', jobs.avg_sal.max()\n",
    "\n",
    "# will need to remove the min salary and investigate why is max salary at $300,000"
   ]
  },
  {
   "cell_type": "code",
   "execution_count": 26,
   "metadata": {
    "ExecuteTime": {
     "end_time": "2018-07-27T01:12:56.980000Z",
     "start_time": "2018-07-27T01:12:56.952000Z"
    },
    "scrolled": true
   },
   "outputs": [
    {
     "data": {
      "text/html": [
       "<div>\n",
       "<style scoped>\n",
       "    .dataframe tbody tr th:only-of-type {\n",
       "        vertical-align: middle;\n",
       "    }\n",
       "\n",
       "    .dataframe tbody tr th {\n",
       "        vertical-align: top;\n",
       "    }\n",
       "\n",
       "    .dataframe thead th {\n",
       "        text-align: right;\n",
       "    }\n",
       "</style>\n",
       "<table border=\"1\" class=\"dataframe\">\n",
       "  <thead>\n",
       "    <tr style=\"text-align: right;\">\n",
       "      <th></th>\n",
       "      <th>Company</th>\n",
       "      <th>Title</th>\n",
       "      <th>Emp_type</th>\n",
       "      <th>Seniority</th>\n",
       "      <th>Industry</th>\n",
       "      <th>Responsibility</th>\n",
       "      <th>Requirements</th>\n",
       "      <th>avg_sal</th>\n",
       "    </tr>\n",
       "  </thead>\n",
       "  <tbody>\n",
       "    <tr>\n",
       "      <th>1029</th>\n",
       "      <td>SGTech</td>\n",
       "      <td>information technology</td>\n",
       "      <td>Part Time, Permanent, Temporary, Contract, Fle...</td>\n",
       "      <td>Manager, Fresh/entry level, Executive, Junior ...</td>\n",
       "      <td>Engineering, Information Technology, Others, S...</td>\n",
       "      <td>&amp; TalentGuru(www.talentguru.org) is a skills-...</td>\n",
       "      <td>RequirementsFor more details, visit talentguru...</td>\n",
       "      <td>1.0</td>\n",
       "    </tr>\n",
       "  </tbody>\n",
       "</table>\n",
       "</div>"
      ],
      "text/plain": [
       "     Company                   Title  \\\n",
       "1029  SGTech  information technology   \n",
       "\n",
       "                                               Emp_type  \\\n",
       "1029  Part Time, Permanent, Temporary, Contract, Fle...   \n",
       "\n",
       "                                              Seniority  \\\n",
       "1029  Manager, Fresh/entry level, Executive, Junior ...   \n",
       "\n",
       "                                               Industry  \\\n",
       "1029  Engineering, Information Technology, Others, S...   \n",
       "\n",
       "                                         Responsibility  \\\n",
       "1029   & TalentGuru(www.talentguru.org) is a skills-...   \n",
       "\n",
       "                                           Requirements  avg_sal  \n",
       "1029  RequirementsFor more details, visit talentguru...      1.0  "
      ]
     },
     "execution_count": 26,
     "metadata": {},
     "output_type": "execute_result"
    }
   ],
   "source": [
    "jobs[jobs['avg_sal'] == 1]"
   ]
  },
  {
   "cell_type": "code",
   "execution_count": 27,
   "metadata": {
    "ExecuteTime": {
     "end_time": "2018-07-27T01:12:56.992000Z",
     "start_time": "2018-07-27T01:12:56.988000Z"
    }
   },
   "outputs": [],
   "source": [
    "# jobs[jobs.Seniority == 'Manager, Fresh/entry level, Executive, Junior Executive']"
   ]
  },
  {
   "cell_type": "code",
   "execution_count": 28,
   "metadata": {
    "ExecuteTime": {
     "end_time": "2018-07-27T01:12:57.030000Z",
     "start_time": "2018-07-27T01:12:56.999000Z"
    }
   },
   "outputs": [
    {
     "data": {
      "text/html": [
       "<div>\n",
       "<style scoped>\n",
       "    .dataframe tbody tr th:only-of-type {\n",
       "        vertical-align: middle;\n",
       "    }\n",
       "\n",
       "    .dataframe tbody tr th {\n",
       "        vertical-align: top;\n",
       "    }\n",
       "\n",
       "    .dataframe thead th {\n",
       "        text-align: right;\n",
       "    }\n",
       "</style>\n",
       "<table border=\"1\" class=\"dataframe\">\n",
       "  <thead>\n",
       "    <tr style=\"text-align: right;\">\n",
       "      <th></th>\n",
       "      <th>Company</th>\n",
       "      <th>Title</th>\n",
       "      <th>Emp_type</th>\n",
       "      <th>Seniority</th>\n",
       "      <th>Industry</th>\n",
       "      <th>Responsibility</th>\n",
       "      <th>Requirements</th>\n",
       "      <th>avg_sal</th>\n",
       "    </tr>\n",
       "  </thead>\n",
       "  <tbody>\n",
       "    <tr>\n",
       "      <th>176</th>\n",
       "      <td>NATIONAL UNIVERSITY OF SINGAPORE</td>\n",
       "      <td>Data Recorder (National Adult Oral Health Survey)</td>\n",
       "      <td>Contract, Part Time</td>\n",
       "      <td>Non-executive</td>\n",
       "      <td>General Work</td>\n",
       "      <td>&amp; The Faculty of Dentistry, National Universi...</td>\n",
       "      <td>RequirementsThe Data Recorders shall  have com...</td>\n",
       "      <td>10.0</td>\n",
       "    </tr>\n",
       "    <tr>\n",
       "      <th>1029</th>\n",
       "      <td>SGTech</td>\n",
       "      <td>information technology</td>\n",
       "      <td>Part Time, Permanent, Temporary, Contract, Fle...</td>\n",
       "      <td>Manager, Fresh/entry level, Executive, Junior ...</td>\n",
       "      <td>Engineering, Information Technology, Others, S...</td>\n",
       "      <td>&amp; TalentGuru(www.talentguru.org) is a skills-...</td>\n",
       "      <td>RequirementsFor more details, visit talentguru...</td>\n",
       "      <td>1.0</td>\n",
       "    </tr>\n",
       "  </tbody>\n",
       "</table>\n",
       "</div>"
      ],
      "text/plain": [
       "                               Company  \\\n",
       "176   NATIONAL UNIVERSITY OF SINGAPORE   \n",
       "1029                            SGTech   \n",
       "\n",
       "                                                  Title  \\\n",
       "176   Data Recorder (National Adult Oral Health Survey)   \n",
       "1029                             information technology   \n",
       "\n",
       "                                               Emp_type  \\\n",
       "176                                 Contract, Part Time   \n",
       "1029  Part Time, Permanent, Temporary, Contract, Fle...   \n",
       "\n",
       "                                              Seniority  \\\n",
       "176                                       Non-executive   \n",
       "1029  Manager, Fresh/entry level, Executive, Junior ...   \n",
       "\n",
       "                                               Industry  \\\n",
       "176                                        General Work   \n",
       "1029  Engineering, Information Technology, Others, S...   \n",
       "\n",
       "                                         Responsibility  \\\n",
       "176    & The Faculty of Dentistry, National Universi...   \n",
       "1029   & TalentGuru(www.talentguru.org) is a skills-...   \n",
       "\n",
       "                                           Requirements  avg_sal  \n",
       "176   RequirementsThe Data Recorders shall  have com...     10.0  \n",
       "1029  RequirementsFor more details, visit talentguru...      1.0  "
      ]
     },
     "execution_count": 28,
     "metadata": {},
     "output_type": "execute_result"
    }
   ],
   "source": [
    "jobs[jobs['avg_sal'] < 1000]"
   ]
  },
  {
   "cell_type": "code",
   "execution_count": 29,
   "metadata": {
    "ExecuteTime": {
     "end_time": "2018-07-27T01:12:57.047000Z",
     "start_time": "2018-07-27T01:12:57.037000Z"
    }
   },
   "outputs": [],
   "source": [
    "# dropping salary outlier since it is the only job in Seniority - 'Manager, Fresh/entry level, Executive, Junior Executive'\n",
    "\n",
    "min_outlier = jobs[jobs['avg_sal'] < 1000]\n",
    "jobs.drop(min_outlier.index, inplace=True)"
   ]
  },
  {
   "cell_type": "code",
   "execution_count": 30,
   "metadata": {
    "ExecuteTime": {
     "end_time": "2018-07-27T01:12:57.082000Z",
     "start_time": "2018-07-27T01:12:57.055000Z"
    },
    "scrolled": true
   },
   "outputs": [
    {
     "name": "stdout",
     "output_type": "stream",
     "text": [
      "Initial df shape:  (1493, 8)\n",
      "Duplicate shape:  (1, 8)\n",
      "No duplicates df shape:  (1492, 8)\n"
     ]
    }
   ],
   "source": [
    "# checking for duplicates again\n",
    "\n",
    "duplicates1 = jobs.loc[jobs.duplicated(), :]\n",
    "print \"Initial df shape: \", jobs.shape\n",
    "print 'Duplicate shape: ', duplicates1.shape\n",
    "jobs.drop(duplicates1.index, inplace=True)\n",
    "print 'No duplicates df shape: ', jobs.shape"
   ]
  },
  {
   "cell_type": "code",
   "execution_count": 31,
   "metadata": {
    "ExecuteTime": {
     "end_time": "2018-07-27T01:12:57.098000Z",
     "start_time": "2018-07-27T01:12:57.089000Z"
    }
   },
   "outputs": [],
   "source": [
    "jobs[['Seniority', 'Requirements']] = jobs[['Seniority', 'Requirements']].fillna('Not listed', axis=1)"
   ]
  },
  {
   "cell_type": "code",
   "execution_count": 32,
   "metadata": {
    "ExecuteTime": {
     "end_time": "2018-07-27T01:12:57.148000Z",
     "start_time": "2018-07-27T01:12:57.105000Z"
    },
    "scrolled": true
   },
   "outputs": [
    {
     "data": {
      "text/html": [
       "<div>\n",
       "<style scoped>\n",
       "    .dataframe tbody tr th:only-of-type {\n",
       "        vertical-align: middle;\n",
       "    }\n",
       "\n",
       "    .dataframe tbody tr th {\n",
       "        vertical-align: top;\n",
       "    }\n",
       "\n",
       "    .dataframe thead th {\n",
       "        text-align: right;\n",
       "    }\n",
       "</style>\n",
       "<table border=\"1\" class=\"dataframe\">\n",
       "  <thead>\n",
       "    <tr style=\"text-align: right;\">\n",
       "      <th></th>\n",
       "      <th>Seniority</th>\n",
       "      <th>avg_sal_by_sen</th>\n",
       "    </tr>\n",
       "  </thead>\n",
       "  <tbody>\n",
       "    <tr>\n",
       "      <th>0</th>\n",
       "      <td>Executive</td>\n",
       "      <td>5500.00</td>\n",
       "    </tr>\n",
       "    <tr>\n",
       "      <th>1</th>\n",
       "      <td>Executive, Junior Executive</td>\n",
       "      <td>3400.00</td>\n",
       "    </tr>\n",
       "    <tr>\n",
       "      <th>2</th>\n",
       "      <td>Executive, Junior Executive, Senior Executive</td>\n",
       "      <td>4975.00</td>\n",
       "    </tr>\n",
       "    <tr>\n",
       "      <th>3</th>\n",
       "      <td>Executive, Non-executive</td>\n",
       "      <td>10000.00</td>\n",
       "    </tr>\n",
       "    <tr>\n",
       "      <th>4</th>\n",
       "      <td>Executive, Non-executive, Junior Executive</td>\n",
       "      <td>3930.50</td>\n",
       "    </tr>\n",
       "    <tr>\n",
       "      <th>5</th>\n",
       "      <td>Executive, Non-executive, Junior Executive, Se...</td>\n",
       "      <td>5350.00</td>\n",
       "    </tr>\n",
       "    <tr>\n",
       "      <th>6</th>\n",
       "      <td>Executive, Senior Executive</td>\n",
       "      <td>5500.00</td>\n",
       "    </tr>\n",
       "    <tr>\n",
       "      <th>7</th>\n",
       "      <td>Fresh/entry level</td>\n",
       "      <td>4000.00</td>\n",
       "    </tr>\n",
       "    <tr>\n",
       "      <th>8</th>\n",
       "      <td>Fresh/entry level, Executive</td>\n",
       "      <td>4000.00</td>\n",
       "    </tr>\n",
       "    <tr>\n",
       "      <th>9</th>\n",
       "      <td>Fresh/entry level, Executive, Non-executive</td>\n",
       "      <td>4750.00</td>\n",
       "    </tr>\n",
       "    <tr>\n",
       "      <th>10</th>\n",
       "      <td>Fresh/entry level, Junior Executive</td>\n",
       "      <td>3175.00</td>\n",
       "    </tr>\n",
       "    <tr>\n",
       "      <th>11</th>\n",
       "      <td>Fresh/entry level, Non-executive</td>\n",
       "      <td>2200.00</td>\n",
       "    </tr>\n",
       "    <tr>\n",
       "      <th>12</th>\n",
       "      <td>Fresh/entry level, Professional</td>\n",
       "      <td>6875.00</td>\n",
       "    </tr>\n",
       "    <tr>\n",
       "      <th>13</th>\n",
       "      <td>Fresh/entry level, Professional, Non-executive</td>\n",
       "      <td>6250.00</td>\n",
       "    </tr>\n",
       "    <tr>\n",
       "      <th>14</th>\n",
       "      <td>Junior Executive</td>\n",
       "      <td>3875.00</td>\n",
       "    </tr>\n",
       "    <tr>\n",
       "      <th>15</th>\n",
       "      <td>Junior Executive, Senior Executive</td>\n",
       "      <td>3000.00</td>\n",
       "    </tr>\n",
       "    <tr>\n",
       "      <th>16</th>\n",
       "      <td>Manager</td>\n",
       "      <td>8000.00</td>\n",
       "    </tr>\n",
       "    <tr>\n",
       "      <th>17</th>\n",
       "      <td>Manager, Executive</td>\n",
       "      <td>5025.00</td>\n",
       "    </tr>\n",
       "    <tr>\n",
       "      <th>18</th>\n",
       "      <td>Manager, Executive, Senior Executive</td>\n",
       "      <td>6050.00</td>\n",
       "    </tr>\n",
       "    <tr>\n",
       "      <th>19</th>\n",
       "      <td>Manager, Fresh/entry level, Executive</td>\n",
       "      <td>2400.00</td>\n",
       "    </tr>\n",
       "    <tr>\n",
       "      <th>20</th>\n",
       "      <td>Manager, Professional</td>\n",
       "      <td>9000.00</td>\n",
       "    </tr>\n",
       "    <tr>\n",
       "      <th>21</th>\n",
       "      <td>Manager, Professional, Executive</td>\n",
       "      <td>8750.00</td>\n",
       "    </tr>\n",
       "    <tr>\n",
       "      <th>22</th>\n",
       "      <td>Manager, Professional, Senior Executive</td>\n",
       "      <td>7900.00</td>\n",
       "    </tr>\n",
       "    <tr>\n",
       "      <th>23</th>\n",
       "      <td>Manager, Senior Executive</td>\n",
       "      <td>7250.00</td>\n",
       "    </tr>\n",
       "    <tr>\n",
       "      <th>24</th>\n",
       "      <td>Middle Management</td>\n",
       "      <td>8500.00</td>\n",
       "    </tr>\n",
       "    <tr>\n",
       "      <th>25</th>\n",
       "      <td>Middle Management, Junior Executive</td>\n",
       "      <td>8531.00</td>\n",
       "    </tr>\n",
       "    <tr>\n",
       "      <th>26</th>\n",
       "      <td>Middle Management, Manager</td>\n",
       "      <td>9750.00</td>\n",
       "    </tr>\n",
       "    <tr>\n",
       "      <th>27</th>\n",
       "      <td>Middle Management, Manager, Professional</td>\n",
       "      <td>9250.00</td>\n",
       "    </tr>\n",
       "    <tr>\n",
       "      <th>28</th>\n",
       "      <td>Middle Management, Manager, Senior Executive</td>\n",
       "      <td>6300.00</td>\n",
       "    </tr>\n",
       "    <tr>\n",
       "      <th>29</th>\n",
       "      <td>Middle Management, Professional</td>\n",
       "      <td>6000.00</td>\n",
       "    </tr>\n",
       "    <tr>\n",
       "      <th>30</th>\n",
       "      <td>Non-executive</td>\n",
       "      <td>5300.00</td>\n",
       "    </tr>\n",
       "    <tr>\n",
       "      <th>31</th>\n",
       "      <td>Non-executive, Junior Executive</td>\n",
       "      <td>2750.00</td>\n",
       "    </tr>\n",
       "    <tr>\n",
       "      <th>32</th>\n",
       "      <td>Professional</td>\n",
       "      <td>7000.00</td>\n",
       "    </tr>\n",
       "    <tr>\n",
       "      <th>33</th>\n",
       "      <td>Professional, Executive</td>\n",
       "      <td>4500.00</td>\n",
       "    </tr>\n",
       "    <tr>\n",
       "      <th>34</th>\n",
       "      <td>Professional, Executive, Junior Executive</td>\n",
       "      <td>4000.00</td>\n",
       "    </tr>\n",
       "    <tr>\n",
       "      <th>35</th>\n",
       "      <td>Professional, Executive, Senior Executive</td>\n",
       "      <td>6500.00</td>\n",
       "    </tr>\n",
       "    <tr>\n",
       "      <th>36</th>\n",
       "      <td>Professional, Senior Executive</td>\n",
       "      <td>6000.00</td>\n",
       "    </tr>\n",
       "    <tr>\n",
       "      <th>37</th>\n",
       "      <td>Senior Executive</td>\n",
       "      <td>7500.00</td>\n",
       "    </tr>\n",
       "    <tr>\n",
       "      <th>38</th>\n",
       "      <td>Senior Management</td>\n",
       "      <td>10150.00</td>\n",
       "    </tr>\n",
       "    <tr>\n",
       "      <th>39</th>\n",
       "      <td>Senior Management, Manager</td>\n",
       "      <td>8500.00</td>\n",
       "    </tr>\n",
       "    <tr>\n",
       "      <th>40</th>\n",
       "      <td>Senior Management, Manager, Executive, Senior ...</td>\n",
       "      <td>16500.00</td>\n",
       "    </tr>\n",
       "    <tr>\n",
       "      <th>41</th>\n",
       "      <td>Senior Management, Middle Management</td>\n",
       "      <td>13645.75</td>\n",
       "    </tr>\n",
       "    <tr>\n",
       "      <th>42</th>\n",
       "      <td>Senior Management, Middle Management, Manager</td>\n",
       "      <td>10208.50</td>\n",
       "    </tr>\n",
       "    <tr>\n",
       "      <th>43</th>\n",
       "      <td>Senior Management, Middle Management, Manager,...</td>\n",
       "      <td>7800.00</td>\n",
       "    </tr>\n",
       "    <tr>\n",
       "      <th>44</th>\n",
       "      <td>Senior Management, Middle Management, Manager,...</td>\n",
       "      <td>7500.00</td>\n",
       "    </tr>\n",
       "    <tr>\n",
       "      <th>45</th>\n",
       "      <td>Senior Management, Middle Management, Manager,...</td>\n",
       "      <td>8000.00</td>\n",
       "    </tr>\n",
       "    <tr>\n",
       "      <th>46</th>\n",
       "      <td>Senior Management, Middle Management, Manager,...</td>\n",
       "      <td>NaN</td>\n",
       "    </tr>\n",
       "    <tr>\n",
       "      <th>47</th>\n",
       "      <td>Senior Management, Middle Management, Professi...</td>\n",
       "      <td>12000.00</td>\n",
       "    </tr>\n",
       "    <tr>\n",
       "      <th>48</th>\n",
       "      <td>Senior Management, Professional</td>\n",
       "      <td>11000.00</td>\n",
       "    </tr>\n",
       "    <tr>\n",
       "      <th>49</th>\n",
       "      <td>nan</td>\n",
       "      <td>4875.00</td>\n",
       "    </tr>\n",
       "  </tbody>\n",
       "</table>\n",
       "</div>"
      ],
      "text/plain": [
       "                                            Seniority  avg_sal_by_sen\n",
       "0                                           Executive         5500.00\n",
       "1                         Executive, Junior Executive         3400.00\n",
       "2       Executive, Junior Executive, Senior Executive         4975.00\n",
       "3                            Executive, Non-executive        10000.00\n",
       "4          Executive, Non-executive, Junior Executive         3930.50\n",
       "5   Executive, Non-executive, Junior Executive, Se...         5350.00\n",
       "6                         Executive, Senior Executive         5500.00\n",
       "7                                   Fresh/entry level         4000.00\n",
       "8                        Fresh/entry level, Executive         4000.00\n",
       "9         Fresh/entry level, Executive, Non-executive         4750.00\n",
       "10                Fresh/entry level, Junior Executive         3175.00\n",
       "11                   Fresh/entry level, Non-executive         2200.00\n",
       "12                    Fresh/entry level, Professional         6875.00\n",
       "13     Fresh/entry level, Professional, Non-executive         6250.00\n",
       "14                                   Junior Executive         3875.00\n",
       "15                 Junior Executive, Senior Executive         3000.00\n",
       "16                                            Manager         8000.00\n",
       "17                                 Manager, Executive         5025.00\n",
       "18               Manager, Executive, Senior Executive         6050.00\n",
       "19              Manager, Fresh/entry level, Executive         2400.00\n",
       "20                              Manager, Professional         9000.00\n",
       "21                   Manager, Professional, Executive         8750.00\n",
       "22            Manager, Professional, Senior Executive         7900.00\n",
       "23                          Manager, Senior Executive         7250.00\n",
       "24                                  Middle Management         8500.00\n",
       "25                Middle Management, Junior Executive         8531.00\n",
       "26                         Middle Management, Manager         9750.00\n",
       "27           Middle Management, Manager, Professional         9250.00\n",
       "28       Middle Management, Manager, Senior Executive         6300.00\n",
       "29                    Middle Management, Professional         6000.00\n",
       "30                                      Non-executive         5300.00\n",
       "31                    Non-executive, Junior Executive         2750.00\n",
       "32                                       Professional         7000.00\n",
       "33                            Professional, Executive         4500.00\n",
       "34          Professional, Executive, Junior Executive         4000.00\n",
       "35          Professional, Executive, Senior Executive         6500.00\n",
       "36                     Professional, Senior Executive         6000.00\n",
       "37                                   Senior Executive         7500.00\n",
       "38                                  Senior Management        10150.00\n",
       "39                         Senior Management, Manager         8500.00\n",
       "40  Senior Management, Manager, Executive, Senior ...        16500.00\n",
       "41               Senior Management, Middle Management        13645.75\n",
       "42      Senior Management, Middle Management, Manager        10208.50\n",
       "43  Senior Management, Middle Management, Manager,...         7800.00\n",
       "44  Senior Management, Middle Management, Manager,...         7500.00\n",
       "45  Senior Management, Middle Management, Manager,...         8000.00\n",
       "46  Senior Management, Middle Management, Manager,...             NaN\n",
       "47  Senior Management, Middle Management, Professi...        12000.00\n",
       "48                    Senior Management, Professional        11000.00\n",
       "49                                                nan         4875.00"
      ]
     },
     "execution_count": 32,
     "metadata": {},
     "output_type": "execute_result"
    }
   ],
   "source": [
    "# getting median salary for all seniority groups\n",
    "\n",
    "seniority_median_sal = jobs.groupby('Seniority')['avg_sal'].median()\n",
    "seniority_median_sal_df = seniority_median_sal.to_frame().reset_index()\n",
    "seniority_median_sal_df.columns = ['Seniority', 'avg_sal_by_sen']\n",
    "seniority_median_sal_df.sort_values('Seniority', ascending=True)"
   ]
  },
  {
   "cell_type": "code",
   "execution_count": 33,
   "metadata": {
    "ExecuteTime": {
     "end_time": "2018-07-27T01:12:57.163000Z",
     "start_time": "2018-07-27T01:12:57.154000Z"
    }
   },
   "outputs": [],
   "source": [
    "jobs.reset_index(inplace=True)"
   ]
  },
  {
   "cell_type": "code",
   "execution_count": 34,
   "metadata": {
    "ExecuteTime": {
     "end_time": "2018-07-27T01:12:57.189000Z",
     "start_time": "2018-07-27T01:12:57.169000Z"
    }
   },
   "outputs": [],
   "source": [
    "# fill NAs for avg_sal column in jobs DF based on Seniority col. NAs would be replaced by mean salary from seniority groups Df\n",
    "\n",
    "temp_df = jobs.set_index('Seniority').avg_sal.fillna(seniority_median_sal_df.set_index('Seniority').avg_sal_by_sen).reset_index()\n",
    "temp_df.columns = ['Seniority_1', 'Avg_sal']\n",
    "jobs = pd.concat([jobs, temp_df], axis=1)\n",
    "jobs.drop(['Seniority_1', 'avg_sal', 'index'], axis=1, inplace=True)"
   ]
  },
  {
   "cell_type": "code",
   "execution_count": 35,
   "metadata": {
    "ExecuteTime": {
     "end_time": "2018-07-27T01:12:57.210000Z",
     "start_time": "2018-07-27T01:12:57.196000Z"
    },
    "scrolled": true
   },
   "outputs": [
    {
     "name": "stdout",
     "output_type": "stream",
     "text": [
      "<class 'pandas.core.frame.DataFrame'>\n",
      "RangeIndex: 1492 entries, 0 to 1491\n",
      "Data columns (total 8 columns):\n",
      "Company           1492 non-null object\n",
      "Title             1492 non-null object\n",
      "Emp_type          1492 non-null object\n",
      "Seniority         1492 non-null object\n",
      "Industry          1492 non-null object\n",
      "Responsibility    1492 non-null object\n",
      "Requirements      1492 non-null object\n",
      "Avg_sal           1491 non-null float64\n",
      "dtypes: float64(1), object(7)\n",
      "memory usage: 93.3+ KB\n"
     ]
    }
   ],
   "source": [
    "# check again for null values\n",
    "\n",
    "jobs.info()"
   ]
  },
  {
   "cell_type": "code",
   "execution_count": 36,
   "metadata": {
    "ExecuteTime": {
     "end_time": "2018-07-27T01:12:57.243000Z",
     "start_time": "2018-07-27T01:12:57.220000Z"
    },
    "scrolled": false
   },
   "outputs": [
    {
     "data": {
      "text/html": [
       "<div>\n",
       "<style scoped>\n",
       "    .dataframe tbody tr th:only-of-type {\n",
       "        vertical-align: middle;\n",
       "    }\n",
       "\n",
       "    .dataframe tbody tr th {\n",
       "        vertical-align: top;\n",
       "    }\n",
       "\n",
       "    .dataframe thead th {\n",
       "        text-align: right;\n",
       "    }\n",
       "</style>\n",
       "<table border=\"1\" class=\"dataframe\">\n",
       "  <thead>\n",
       "    <tr style=\"text-align: right;\">\n",
       "      <th></th>\n",
       "      <th>Company</th>\n",
       "      <th>Title</th>\n",
       "      <th>Emp_type</th>\n",
       "      <th>Seniority</th>\n",
       "      <th>Industry</th>\n",
       "      <th>Responsibility</th>\n",
       "      <th>Requirements</th>\n",
       "      <th>Avg_sal</th>\n",
       "    </tr>\n",
       "  </thead>\n",
       "  <tbody>\n",
       "    <tr>\n",
       "      <th>527</th>\n",
       "      <td>SINGAPORE TECHNOLOGIES ENGINEERING LTD</td>\n",
       "      <td>Data Scientist</td>\n",
       "      <td>Permanent, Full Time</td>\n",
       "      <td>Senior Management, Middle Management, Manager,...</td>\n",
       "      <td>Sciences / Laboratory / R&amp;D</td>\n",
       "      <td>&amp; Job Description: - Work in Strategic Techno...</td>\n",
       "      <td>RequirementsRequirements: - Prefer a Master's ...</td>\n",
       "      <td>NaN</td>\n",
       "    </tr>\n",
       "  </tbody>\n",
       "</table>\n",
       "</div>"
      ],
      "text/plain": [
       "                                    Company           Title  \\\n",
       "527  SINGAPORE TECHNOLOGIES ENGINEERING LTD  Data Scientist   \n",
       "\n",
       "                 Emp_type                                          Seniority  \\\n",
       "527  Permanent, Full Time  Senior Management, Middle Management, Manager,...   \n",
       "\n",
       "                        Industry  \\\n",
       "527  Sciences / Laboratory / R&D   \n",
       "\n",
       "                                        Responsibility  \\\n",
       "527   & Job Description: - Work in Strategic Techno...   \n",
       "\n",
       "                                          Requirements  Avg_sal  \n",
       "527  RequirementsRequirements: - Prefer a Master's ...      NaN  "
      ]
     },
     "execution_count": 36,
     "metadata": {},
     "output_type": "execute_result"
    }
   ],
   "source": [
    "jobs[jobs['Avg_sal'].isnull()]"
   ]
  },
  {
   "cell_type": "code",
   "execution_count": 37,
   "metadata": {
    "ExecuteTime": {
     "end_time": "2018-07-27T01:12:57.260000Z",
     "start_time": "2018-07-27T01:12:57.250000Z"
    }
   },
   "outputs": [],
   "source": [
    "# dropping row 513. No similar seniority or industry and emp_type having avg_sal\n",
    "\n",
    "jobs.drop(527, inplace=True)"
   ]
  },
  {
   "cell_type": "code",
   "execution_count": 38,
   "metadata": {
    "ExecuteTime": {
     "end_time": "2018-07-27T01:12:57.279000Z",
     "start_time": "2018-07-27T01:12:57.267000Z"
    },
    "scrolled": true
   },
   "outputs": [
    {
     "data": {
      "text/plain": [
       "(1491, 8)"
      ]
     },
     "execution_count": 38,
     "metadata": {},
     "output_type": "execute_result"
    }
   ],
   "source": [
    "jobs.shape"
   ]
  },
  {
   "cell_type": "code",
   "execution_count": 39,
   "metadata": {
    "ExecuteTime": {
     "end_time": "2018-07-27T01:12:57.844000Z",
     "start_time": "2018-07-27T01:12:57.285000Z"
    }
   },
   "outputs": [
    {
     "name": "stdout",
     "output_type": "stream",
     "text": [
      "Average Salary:  9222.70238095\n",
      "Median Salary:  6500.0\n",
      "Salary Std Dev:  17396.3178339\n"
     ]
    }
   ],
   "source": [
    "import scipy.stats as stats\n",
    "\n",
    "print 'Average Salary: ', jobs.Avg_sal.mean()\n",
    "print 'Median Salary: ', jobs.Avg_sal.median()\n",
    "print 'Salary Std Dev: ', jobs.Avg_sal.std()\n",
    "\n",
    "jobs['Avg_sal_percentile'] = [stats.percentileofscore(jobs['Avg_sal'], num) for num in jobs['Avg_sal']]"
   ]
  },
  {
   "cell_type": "code",
   "execution_count": 40,
   "metadata": {
    "ExecuteTime": {
     "end_time": "2018-07-27T01:12:57.859000Z",
     "start_time": "2018-07-27T01:12:57.850000Z"
    }
   },
   "outputs": [],
   "source": [
    "sal_std = jobs.Avg_sal.std()\n",
    "sal_median = jobs.Avg_sal.median()\n",
    "upper_limit = sal_median + sal_std\n",
    "lower_limit = sal_median - sal_std"
   ]
  },
  {
   "cell_type": "code",
   "execution_count": 41,
   "metadata": {
    "ExecuteTime": {
     "end_time": "2018-07-27T01:12:57.977000Z",
     "start_time": "2018-07-27T01:12:57.865000Z"
    },
    "scrolled": true
   },
   "outputs": [
    {
     "data": {
      "text/html": [
       "<div>\n",
       "<style scoped>\n",
       "    .dataframe tbody tr th:only-of-type {\n",
       "        vertical-align: middle;\n",
       "    }\n",
       "\n",
       "    .dataframe tbody tr th {\n",
       "        vertical-align: top;\n",
       "    }\n",
       "\n",
       "    .dataframe thead th {\n",
       "        text-align: right;\n",
       "    }\n",
       "</style>\n",
       "<table border=\"1\" class=\"dataframe\">\n",
       "  <thead>\n",
       "    <tr style=\"text-align: right;\">\n",
       "      <th></th>\n",
       "      <th>Company</th>\n",
       "      <th>Title</th>\n",
       "      <th>Emp_type</th>\n",
       "      <th>Seniority</th>\n",
       "      <th>Industry</th>\n",
       "      <th>Responsibility</th>\n",
       "      <th>Requirements</th>\n",
       "      <th>Avg_sal</th>\n",
       "      <th>Avg_sal_percentile</th>\n",
       "    </tr>\n",
       "  </thead>\n",
       "  <tbody>\n",
       "    <tr>\n",
       "      <th>1414</th>\n",
       "      <td>INTERSOFTKK (SINGAPORE) PTE. LTD.</td>\n",
       "      <td>Business Analyst</td>\n",
       "      <td>Part Time</td>\n",
       "      <td>Senior Executive</td>\n",
       "      <td>Information Technology</td>\n",
       "      <td>&amp;  Description Application Developer (Backend...</td>\n",
       "      <td>RequirementsTechnical Skills Required Technica...</td>\n",
       "      <td>32000.0</td>\n",
       "      <td>97.920858</td>\n",
       "    </tr>\n",
       "    <tr>\n",
       "      <th>1401</th>\n",
       "      <td>NTT DATA SINGAPORE PTE. LTD.</td>\n",
       "      <td>Full Stack Developer</td>\n",
       "      <td>Contract</td>\n",
       "      <td>Professional, Executive, Senior Executive</td>\n",
       "      <td>Information Technology</td>\n",
       "      <td>&amp;  Work closely with scrum master and the res...</td>\n",
       "      <td>Requirements Bachelor Degree with min 3 years ...</td>\n",
       "      <td>42500.0</td>\n",
       "      <td>97.987928</td>\n",
       "    </tr>\n",
       "    <tr>\n",
       "      <th>1215</th>\n",
       "      <td>OBSERVATIONAL AND PRAGMATIC RESEARCH INSTITUTE...</td>\n",
       "      <td>Research Project Manager</td>\n",
       "      <td>Permanent, Full Time</td>\n",
       "      <td>Manager</td>\n",
       "      <td>Healthcare / Pharmaceutical</td>\n",
       "      <td>&amp; Our team, based in the UK and Singapore, ev...</td>\n",
       "      <td>RequirementsEssential skills &amp; experience:  Pr...</td>\n",
       "      <td>54500.0</td>\n",
       "      <td>98.054997</td>\n",
       "    </tr>\n",
       "    <tr>\n",
       "      <th>1250</th>\n",
       "      <td>EPAM SYSTEMS PTE. LTD.</td>\n",
       "      <td>Senior Business Analyst</td>\n",
       "      <td>Permanent, Full Time</td>\n",
       "      <td>Senior Executive</td>\n",
       "      <td>Information Technology</td>\n",
       "      <td>&amp;    Key in driving and supporting migration ...</td>\n",
       "      <td>Requirements Degree (and above) in Information...</td>\n",
       "      <td>58500.0</td>\n",
       "      <td>98.122066</td>\n",
       "    </tr>\n",
       "    <tr>\n",
       "      <th>0</th>\n",
       "      <td>NTT DATA SINGAPORE PTE. LTD.</td>\n",
       "      <td>Senior Application Developer</td>\n",
       "      <td>Contract</td>\n",
       "      <td>Executive, Senior Executive</td>\n",
       "      <td>Information Technology</td>\n",
       "      <td>&amp;  Creating complex, enterprise-transforming ...</td>\n",
       "      <td>Requirements A Bachelors degree in Computer Sc...</td>\n",
       "      <td>59000.0</td>\n",
       "      <td>98.189135</td>\n",
       "    </tr>\n",
       "    <tr>\n",
       "      <th>580</th>\n",
       "      <td>VISA WORLDWIDE PTE. LIMITED</td>\n",
       "      <td>Analyst, Visa Consulting and Analytics</td>\n",
       "      <td>Permanent, Full Time</td>\n",
       "      <td>Fresh/entry level</td>\n",
       "      <td>Consulting , Others</td>\n",
       "      <td>&amp; Are you skilled at turning hard numbers int...</td>\n",
       "      <td>RequirementsQualifications We are looking for ...</td>\n",
       "      <td>65000.0</td>\n",
       "      <td>98.256204</td>\n",
       "    </tr>\n",
       "    <tr>\n",
       "      <th>1313</th>\n",
       "      <td>ROBERT WALTERS (SINGAPORE) PTE LTD</td>\n",
       "      <td>Data Steward</td>\n",
       "      <td>Permanent, Full Time</td>\n",
       "      <td>Senior Executive</td>\n",
       "      <td>Information Technology</td>\n",
       "      <td>&amp; A global buyside firm has a job opportunity...</td>\n",
       "      <td>RequirementsTo succeed in the Data Steward job...</td>\n",
       "      <td>70000.0</td>\n",
       "      <td>98.356808</td>\n",
       "    </tr>\n",
       "    <tr>\n",
       "      <th>483</th>\n",
       "      <td>UBS AG</td>\n",
       "      <td>Database Analyst</td>\n",
       "      <td>Full Time</td>\n",
       "      <td>Executive</td>\n",
       "      <td>Banking and Finance</td>\n",
       "      <td>&amp; Are you curious? Do you love data? Are you ...</td>\n",
       "      <td>RequirementsYou have - hands on data preparati...</td>\n",
       "      <td>70000.0</td>\n",
       "      <td>98.356808</td>\n",
       "    </tr>\n",
       "    <tr>\n",
       "      <th>1474</th>\n",
       "      <td>SYNGENTA ASIA PACIFIC PTE. LTD.</td>\n",
       "      <td>Regional Planner</td>\n",
       "      <td>Full Time</td>\n",
       "      <td>Manager</td>\n",
       "      <td>Manufacturing</td>\n",
       "      <td>&amp; Regional Planner APAC Singapore About Synge...</td>\n",
       "      <td>RequirementsWe are looking for:  At least 3-5 ...</td>\n",
       "      <td>72500.0</td>\n",
       "      <td>98.457411</td>\n",
       "    </tr>\n",
       "    <tr>\n",
       "      <th>1354</th>\n",
       "      <td>ILLUMINA SINGAPORE PTE. LTD.</td>\n",
       "      <td>SAP Senior Business Solution Analyst, Logistic...</td>\n",
       "      <td>Full Time</td>\n",
       "      <td>Senior Executive</td>\n",
       "      <td>Others</td>\n",
       "      <td>&amp; This  functions as a Senior Analyst and is ...</td>\n",
       "      <td>RequirementsPreferred Experience:  Experience ...</td>\n",
       "      <td>75000.0</td>\n",
       "      <td>98.558015</td>\n",
       "    </tr>\n",
       "    <tr>\n",
       "      <th>244</th>\n",
       "      <td>ROBERT WALTERS (SINGAPORE) PTE LTD</td>\n",
       "      <td>Regional Business Development Manager</td>\n",
       "      <td>Permanent, Full Time</td>\n",
       "      <td>Manager</td>\n",
       "      <td>Sales / Retail</td>\n",
       "      <td>&amp; A newly-created Regional Business Developme...</td>\n",
       "      <td>RequirementsTo succeed in this Regional Busine...</td>\n",
       "      <td>75000.0</td>\n",
       "      <td>98.558015</td>\n",
       "    </tr>\n",
       "    <tr>\n",
       "      <th>555</th>\n",
       "      <td>ENGINE BIOSCIENCES PTE. LTD.</td>\n",
       "      <td>Bioinformatics Specialist</td>\n",
       "      <td>Permanent, Full Time</td>\n",
       "      <td>Professional</td>\n",
       "      <td>Healthcare / Pharmaceutical</td>\n",
       "      <td>&amp; Engine Biosciences is a venture-backed biot...</td>\n",
       "      <td>Requirements Ph.D. in Bioinformatics / Statist...</td>\n",
       "      <td>80000.0</td>\n",
       "      <td>98.692153</td>\n",
       "    </tr>\n",
       "    <tr>\n",
       "      <th>412</th>\n",
       "      <td>EAMES CONSULTING GROUP (SINGAPORE) PTE. LTD.</td>\n",
       "      <td>Senior Business Analyst</td>\n",
       "      <td>Permanent, Full Time</td>\n",
       "      <td>Professional</td>\n",
       "      <td>Information Technology, Insurance</td>\n",
       "      <td>&amp; To identify business requirements, document...</td>\n",
       "      <td>RequirementsSkills Required:  Good understandi...</td>\n",
       "      <td>80000.0</td>\n",
       "      <td>98.692153</td>\n",
       "    </tr>\n",
       "    <tr>\n",
       "      <th>578</th>\n",
       "      <td>ENTITY SOLUTIONS (SINGAPORE) PTE. LTD.</td>\n",
       "      <td>data base developer</td>\n",
       "      <td>Full Time</td>\n",
       "      <td>Senior Management</td>\n",
       "      <td>General Management</td>\n",
       "      <td>&amp;  Conceptualize and develop the back end of ...</td>\n",
       "      <td>RequirementsIT, Blockchain</td>\n",
       "      <td>95000.0</td>\n",
       "      <td>98.792757</td>\n",
       "    </tr>\n",
       "    <tr>\n",
       "      <th>88</th>\n",
       "      <td>Company Undisclosed</td>\n",
       "      <td>Senior Business Analyst</td>\n",
       "      <td>Permanent, Full Time</td>\n",
       "      <td>Professional</td>\n",
       "      <td>Insurance</td>\n",
       "      <td>&amp; Main Purpose Reporting to the Lead Analyst ...</td>\n",
       "      <td>RequirementsKnowledge &amp; Skills  Degree in busi...</td>\n",
       "      <td>100000.0</td>\n",
       "      <td>98.926895</td>\n",
       "    </tr>\n",
       "    <tr>\n",
       "      <th>740</th>\n",
       "      <td>UBS AG</td>\n",
       "      <td>IT Software Engineer</td>\n",
       "      <td>Permanent, Full Time</td>\n",
       "      <td>Senior Executive</td>\n",
       "      <td>Banking and Finance</td>\n",
       "      <td>&amp; Are you an experienced mainframe engineer w...</td>\n",
       "      <td>RequirementsYou have:  long-standing experienc...</td>\n",
       "      <td>100000.0</td>\n",
       "      <td>98.926895</td>\n",
       "    </tr>\n",
       "    <tr>\n",
       "      <th>1219</th>\n",
       "      <td>OAK CONSULTING PTE. LTD.</td>\n",
       "      <td>Product Sales Specialist</td>\n",
       "      <td>Permanent, Full Time</td>\n",
       "      <td>Senior Executive</td>\n",
       "      <td>Consulting , Customer Service, Information Tec...</td>\n",
       "      <td>&amp; What you'll be doing As a Sales Professiona...</td>\n",
       "      <td>RequirementsWho you are  Experienced.Considera...</td>\n",
       "      <td>100000.0</td>\n",
       "      <td>98.926895</td>\n",
       "    </tr>\n",
       "    <tr>\n",
       "      <th>926</th>\n",
       "      <td>KERRY CONSULTING PTE. LTD.</td>\n",
       "      <td>APAC Market Risk Manager – Commodities Trading</td>\n",
       "      <td>Permanent, Full Time</td>\n",
       "      <td>Manager</td>\n",
       "      <td>Engineering</td>\n",
       "      <td>&amp;  Leading integrated agriculture MNC  Region...</td>\n",
       "      <td>Requirements The successful candidate will be ...</td>\n",
       "      <td>105000.0</td>\n",
       "      <td>99.061033</td>\n",
       "    </tr>\n",
       "    <tr>\n",
       "      <th>10</th>\n",
       "      <td>ESSENCE GLOBAL MEDIA SINGAPORE PTE. LTD.</td>\n",
       "      <td>Analytics Director</td>\n",
       "      <td>Permanent, Full Time</td>\n",
       "      <td>Senior Management</td>\n",
       "      <td>Advertising / Media</td>\n",
       "      <td>&amp; About Essence Essence, part of GroupM, is a...</td>\n",
       "      <td>RequirementsA bit about yourself:   Degree fro...</td>\n",
       "      <td>110000.0</td>\n",
       "      <td>99.128102</td>\n",
       "    </tr>\n",
       "    <tr>\n",
       "      <th>639</th>\n",
       "      <td>LENOVO ENTERPRISE SOLUTIONS (SINGAPORE) PTE. LTD.</td>\n",
       "      <td>senior maketing manager</td>\n",
       "      <td>Full Time</td>\n",
       "      <td>Middle Management, Manager</td>\n",
       "      <td>Marketing / Public Relations</td>\n",
       "      <td>&amp; Job Scope   As an ASEAN Marketing leader, y...</td>\n",
       "      <td>RequirementsCandidate Profile Requirements:  D...</td>\n",
       "      <td>112500.0</td>\n",
       "      <td>99.195171</td>\n",
       "    </tr>\n",
       "    <tr>\n",
       "      <th>1253</th>\n",
       "      <td>ENGINE BIOSCIENCES PTE. LTD.</td>\n",
       "      <td>Senior Bioinformatics Specialist</td>\n",
       "      <td>Permanent, Full Time</td>\n",
       "      <td>Professional</td>\n",
       "      <td>Healthcare / Pharmaceutical</td>\n",
       "      <td>&amp; Engine Biosciences is a venture-backed biot...</td>\n",
       "      <td>Requirements Ph.D. in Bioinformatics / Statist...</td>\n",
       "      <td>115000.0</td>\n",
       "      <td>99.262240</td>\n",
       "    </tr>\n",
       "    <tr>\n",
       "      <th>645</th>\n",
       "      <td>AUTODESK ASIA PTE. LTD.</td>\n",
       "      <td>Contact Center Business support Analyst_18WD27168</td>\n",
       "      <td>Permanent, Full Time</td>\n",
       "      <td>Professional</td>\n",
       "      <td>Information Technology</td>\n",
       "      <td>&amp; The Contact Center Business Analyst will he...</td>\n",
       "      <td>Requirements 5  8 years of experience in CRM s...</td>\n",
       "      <td>117000.0</td>\n",
       "      <td>99.329309</td>\n",
       "    </tr>\n",
       "    <tr>\n",
       "      <th>305</th>\n",
       "      <td>UBS AG</td>\n",
       "      <td>IT Software Engineer Unix / Linux</td>\n",
       "      <td>Permanent, Full Time</td>\n",
       "      <td>Executive</td>\n",
       "      <td>Banking and Finance</td>\n",
       "      <td>&amp; Do you possess all-round development skills...</td>\n",
       "      <td>RequirementsYou have:  experience designing an...</td>\n",
       "      <td>127500.0</td>\n",
       "      <td>99.396378</td>\n",
       "    </tr>\n",
       "    <tr>\n",
       "      <th>724</th>\n",
       "      <td>AMBITION GROUP SINGAPORE PTE. LTD.</td>\n",
       "      <td>Senior Digital Marketing Manager</td>\n",
       "      <td>Permanent, Full Time</td>\n",
       "      <td>Manager</td>\n",
       "      <td>Marketing / Public Relations</td>\n",
       "      <td>&amp; This  will be having the overall ownership,...</td>\n",
       "      <td>Requirements Minimum 8 years of experiencein e...</td>\n",
       "      <td>130000.0</td>\n",
       "      <td>99.463447</td>\n",
       "    </tr>\n",
       "    <tr>\n",
       "      <th>257</th>\n",
       "      <td>FAIR ISAAC (ASPAC) PTE. LTD.</td>\n",
       "      <td>Solution Consulting – Lead Consultant</td>\n",
       "      <td>Permanent, Full Time</td>\n",
       "      <td>Middle Management</td>\n",
       "      <td>Consulting , Banking and Finance, Information ...</td>\n",
       "      <td>&amp; Job title  Solution Consulting  Lead Consul...</td>\n",
       "      <td>Requirements A minimum of five years Business ...</td>\n",
       "      <td>132000.0</td>\n",
       "      <td>99.530516</td>\n",
       "    </tr>\n",
       "    <tr>\n",
       "      <th>1423</th>\n",
       "      <td>ROBERT WALTERS (SINGAPORE) PTE LTD</td>\n",
       "      <td>Business Analyst</td>\n",
       "      <td>Contract</td>\n",
       "      <td>Senior Management</td>\n",
       "      <td>Banking and Finance</td>\n",
       "      <td>&amp; A Business Analyst job based in Singapore h...</td>\n",
       "      <td>RequirementsTo succeed in this Business Analys...</td>\n",
       "      <td>135000.0</td>\n",
       "      <td>99.597586</td>\n",
       "    </tr>\n",
       "    <tr>\n",
       "      <th>189</th>\n",
       "      <td>INTELLECT DESIGN ARENA PTE. LTD.</td>\n",
       "      <td>Subject-Matter Expert - Trade and Supply Chain...</td>\n",
       "      <td>Permanent, Full Time</td>\n",
       "      <td>Middle Management</td>\n",
       "      <td>Information Technology</td>\n",
       "      <td>&amp;  Demonstrate how product functionality can ...</td>\n",
       "      <td>Requirements Should have minimum 18+years of e...</td>\n",
       "      <td>155000.0</td>\n",
       "      <td>99.664655</td>\n",
       "    </tr>\n",
       "    <tr>\n",
       "      <th>1294</th>\n",
       "      <td>STANDARD CHARTERED BANK</td>\n",
       "      <td>Senior Manager, Advanced Analytics, ERM</td>\n",
       "      <td>Full Time</td>\n",
       "      <td>Manager</td>\n",
       "      <td>Banking and Finance</td>\n",
       "      <td>&amp; Leading the way in International Banking. W...</td>\n",
       "      <td>RequirementsQualifications: Training, licenses...</td>\n",
       "      <td>160000.0</td>\n",
       "      <td>99.798793</td>\n",
       "    </tr>\n",
       "    <tr>\n",
       "      <th>514</th>\n",
       "      <td>ESSENCE GLOBAL MEDIA SINGAPORE PTE. LTD.</td>\n",
       "      <td>Senior Media Planning Director</td>\n",
       "      <td>Permanent, Full Time</td>\n",
       "      <td>Senior Management</td>\n",
       "      <td>Advertising / Media</td>\n",
       "      <td>&amp; About Essence Essence, part of GroupM, is a...</td>\n",
       "      <td>RequirementsA bit about yourself:   At least 7...</td>\n",
       "      <td>160000.0</td>\n",
       "      <td>99.798793</td>\n",
       "    </tr>\n",
       "    <tr>\n",
       "      <th>236</th>\n",
       "      <td>ENGINE BIOSCIENCES PTE. LTD.</td>\n",
       "      <td>Bioinformatics Manager</td>\n",
       "      <td>Full Time</td>\n",
       "      <td>Manager</td>\n",
       "      <td>Healthcare / Pharmaceutical, Information Techn...</td>\n",
       "      <td>&amp; Engine Biosciences is a venture-backed biot...</td>\n",
       "      <td>RequirementsMinimum Requirements  Ph.D. in Bio...</td>\n",
       "      <td>160000.0</td>\n",
       "      <td>99.798793</td>\n",
       "    </tr>\n",
       "    <tr>\n",
       "      <th>248</th>\n",
       "      <td>AMAZON WEB SERVICES SINGAPORE PRIVATE LIMITED</td>\n",
       "      <td>Sr. Data Architect, Data Warehousing &amp; MPP</td>\n",
       "      <td>Permanent, Full Time</td>\n",
       "      <td>Professional</td>\n",
       "      <td>Information Technology</td>\n",
       "      <td>&amp; At Amazon Web Services (AWS), were hiring h...</td>\n",
       "      <td>RequirementsBasic Qualifications  BA/BS degree...</td>\n",
       "      <td>275000.0</td>\n",
       "      <td>99.932931</td>\n",
       "    </tr>\n",
       "    <tr>\n",
       "      <th>237</th>\n",
       "      <td>DATASPARK PTE. LTD.</td>\n",
       "      <td>Director, Data Science</td>\n",
       "      <td>Permanent, Full Time</td>\n",
       "      <td>Middle Management</td>\n",
       "      <td>Information Technology</td>\n",
       "      <td>&amp;  The Director of Data Science will be a key...</td>\n",
       "      <td>RequirementsQualifications  7+ years experienc...</td>\n",
       "      <td>300000.0</td>\n",
       "      <td>100.000000</td>\n",
       "    </tr>\n",
       "  </tbody>\n",
       "</table>\n",
       "</div>"
      ],
      "text/plain": [
       "                                                Company  \\\n",
       "1414                  INTERSOFTKK (SINGAPORE) PTE. LTD.   \n",
       "1401                       NTT DATA SINGAPORE PTE. LTD.   \n",
       "1215  OBSERVATIONAL AND PRAGMATIC RESEARCH INSTITUTE...   \n",
       "1250                             EPAM SYSTEMS PTE. LTD.   \n",
       "0                          NTT DATA SINGAPORE PTE. LTD.   \n",
       "580                         VISA WORLDWIDE PTE. LIMITED   \n",
       "1313                 ROBERT WALTERS (SINGAPORE) PTE LTD   \n",
       "483                                              UBS AG   \n",
       "1474                    SYNGENTA ASIA PACIFIC PTE. LTD.   \n",
       "1354                       ILLUMINA SINGAPORE PTE. LTD.   \n",
       "244                  ROBERT WALTERS (SINGAPORE) PTE LTD   \n",
       "555                        ENGINE BIOSCIENCES PTE. LTD.   \n",
       "412        EAMES CONSULTING GROUP (SINGAPORE) PTE. LTD.   \n",
       "578              ENTITY SOLUTIONS (SINGAPORE) PTE. LTD.   \n",
       "88                                  Company Undisclosed   \n",
       "740                                              UBS AG   \n",
       "1219                           OAK CONSULTING PTE. LTD.   \n",
       "926                          KERRY CONSULTING PTE. LTD.   \n",
       "10             ESSENCE GLOBAL MEDIA SINGAPORE PTE. LTD.   \n",
       "639   LENOVO ENTERPRISE SOLUTIONS (SINGAPORE) PTE. LTD.   \n",
       "1253                       ENGINE BIOSCIENCES PTE. LTD.   \n",
       "645                             AUTODESK ASIA PTE. LTD.   \n",
       "305                                              UBS AG   \n",
       "724                  AMBITION GROUP SINGAPORE PTE. LTD.   \n",
       "257                        FAIR ISAAC (ASPAC) PTE. LTD.   \n",
       "1423                 ROBERT WALTERS (SINGAPORE) PTE LTD   \n",
       "189                    INTELLECT DESIGN ARENA PTE. LTD.   \n",
       "1294                            STANDARD CHARTERED BANK   \n",
       "514            ESSENCE GLOBAL MEDIA SINGAPORE PTE. LTD.   \n",
       "236                        ENGINE BIOSCIENCES PTE. LTD.   \n",
       "248       AMAZON WEB SERVICES SINGAPORE PRIVATE LIMITED   \n",
       "237                                 DATASPARK PTE. LTD.   \n",
       "\n",
       "                                                  Title              Emp_type  \\\n",
       "1414                                   Business Analyst             Part Time   \n",
       "1401                               Full Stack Developer              Contract   \n",
       "1215                           Research Project Manager  Permanent, Full Time   \n",
       "1250                            Senior Business Analyst  Permanent, Full Time   \n",
       "0                          Senior Application Developer              Contract   \n",
       "580              Analyst, Visa Consulting and Analytics  Permanent, Full Time   \n",
       "1313                                       Data Steward  Permanent, Full Time   \n",
       "483                                    Database Analyst             Full Time   \n",
       "1474                                   Regional Planner             Full Time   \n",
       "1354  SAP Senior Business Solution Analyst, Logistic...             Full Time   \n",
       "244               Regional Business Development Manager  Permanent, Full Time   \n",
       "555                           Bioinformatics Specialist  Permanent, Full Time   \n",
       "412                             Senior Business Analyst  Permanent, Full Time   \n",
       "578                                 data base developer             Full Time   \n",
       "88                              Senior Business Analyst  Permanent, Full Time   \n",
       "740                                IT Software Engineer  Permanent, Full Time   \n",
       "1219                           Product Sales Specialist  Permanent, Full Time   \n",
       "926      APAC Market Risk Manager – Commodities Trading  Permanent, Full Time   \n",
       "10                                   Analytics Director  Permanent, Full Time   \n",
       "639                             senior maketing manager             Full Time   \n",
       "1253                   Senior Bioinformatics Specialist  Permanent, Full Time   \n",
       "645   Contact Center Business support Analyst_18WD27168  Permanent, Full Time   \n",
       "305                   IT Software Engineer Unix / Linux  Permanent, Full Time   \n",
       "724                    Senior Digital Marketing Manager  Permanent, Full Time   \n",
       "257               Solution Consulting – Lead Consultant  Permanent, Full Time   \n",
       "1423                                   Business Analyst              Contract   \n",
       "189   Subject-Matter Expert - Trade and Supply Chain...  Permanent, Full Time   \n",
       "1294            Senior Manager, Advanced Analytics, ERM             Full Time   \n",
       "514                      Senior Media Planning Director  Permanent, Full Time   \n",
       "236                              Bioinformatics Manager             Full Time   \n",
       "248          Sr. Data Architect, Data Warehousing & MPP  Permanent, Full Time   \n",
       "237                              Director, Data Science  Permanent, Full Time   \n",
       "\n",
       "                                      Seniority  \\\n",
       "1414                           Senior Executive   \n",
       "1401  Professional, Executive, Senior Executive   \n",
       "1215                                    Manager   \n",
       "1250                           Senior Executive   \n",
       "0                   Executive, Senior Executive   \n",
       "580                           Fresh/entry level   \n",
       "1313                           Senior Executive   \n",
       "483                                   Executive   \n",
       "1474                                    Manager   \n",
       "1354                           Senior Executive   \n",
       "244                                     Manager   \n",
       "555                                Professional   \n",
       "412                                Professional   \n",
       "578                           Senior Management   \n",
       "88                                 Professional   \n",
       "740                            Senior Executive   \n",
       "1219                           Senior Executive   \n",
       "926                                     Manager   \n",
       "10                            Senior Management   \n",
       "639                  Middle Management, Manager   \n",
       "1253                               Professional   \n",
       "645                                Professional   \n",
       "305                                   Executive   \n",
       "724                                     Manager   \n",
       "257                           Middle Management   \n",
       "1423                          Senior Management   \n",
       "189                           Middle Management   \n",
       "1294                                    Manager   \n",
       "514                           Senior Management   \n",
       "236                                     Manager   \n",
       "248                                Professional   \n",
       "237                           Middle Management   \n",
       "\n",
       "                                               Industry  \\\n",
       "1414                             Information Technology   \n",
       "1401                             Information Technology   \n",
       "1215                        Healthcare / Pharmaceutical   \n",
       "1250                             Information Technology   \n",
       "0                                Information Technology   \n",
       "580                                 Consulting , Others   \n",
       "1313                             Information Technology   \n",
       "483                                 Banking and Finance   \n",
       "1474                                      Manufacturing   \n",
       "1354                                             Others   \n",
       "244                                     Sales / Retail    \n",
       "555                         Healthcare / Pharmaceutical   \n",
       "412                   Information Technology, Insurance   \n",
       "578                                  General Management   \n",
       "88                                            Insurance   \n",
       "740                                 Banking and Finance   \n",
       "1219  Consulting , Customer Service, Information Tec...   \n",
       "926                                         Engineering   \n",
       "10                                 Advertising / Media    \n",
       "639                       Marketing / Public Relations    \n",
       "1253                        Healthcare / Pharmaceutical   \n",
       "645                              Information Technology   \n",
       "305                                 Banking and Finance   \n",
       "724                       Marketing / Public Relations    \n",
       "257   Consulting , Banking and Finance, Information ...   \n",
       "1423                                Banking and Finance   \n",
       "189                              Information Technology   \n",
       "1294                                Banking and Finance   \n",
       "514                                Advertising / Media    \n",
       "236   Healthcare / Pharmaceutical, Information Techn...   \n",
       "248                              Information Technology   \n",
       "237                              Information Technology   \n",
       "\n",
       "                                         Responsibility  \\\n",
       "1414   &  Description Application Developer (Backend...   \n",
       "1401   &  Work closely with scrum master and the res...   \n",
       "1215   & Our team, based in the UK and Singapore, ev...   \n",
       "1250   &    Key in driving and supporting migration ...   \n",
       "0      &  Creating complex, enterprise-transforming ...   \n",
       "580    & Are you skilled at turning hard numbers int...   \n",
       "1313   & A global buyside firm has a job opportunity...   \n",
       "483    & Are you curious? Do you love data? Are you ...   \n",
       "1474   & Regional Planner APAC Singapore About Synge...   \n",
       "1354   & This  functions as a Senior Analyst and is ...   \n",
       "244    & A newly-created Regional Business Developme...   \n",
       "555    & Engine Biosciences is a venture-backed biot...   \n",
       "412    & To identify business requirements, document...   \n",
       "578    &  Conceptualize and develop the back end of ...   \n",
       "88     & Main Purpose Reporting to the Lead Analyst ...   \n",
       "740    & Are you an experienced mainframe engineer w...   \n",
       "1219   & What you'll be doing As a Sales Professiona...   \n",
       "926    &  Leading integrated agriculture MNC  Region...   \n",
       "10     & About Essence Essence, part of GroupM, is a...   \n",
       "639    & Job Scope   As an ASEAN Marketing leader, y...   \n",
       "1253   & Engine Biosciences is a venture-backed biot...   \n",
       "645    & The Contact Center Business Analyst will he...   \n",
       "305    & Do you possess all-round development skills...   \n",
       "724    & This  will be having the overall ownership,...   \n",
       "257    & Job title  Solution Consulting  Lead Consul...   \n",
       "1423   & A Business Analyst job based in Singapore h...   \n",
       "189    &  Demonstrate how product functionality can ...   \n",
       "1294   & Leading the way in International Banking. W...   \n",
       "514    & About Essence Essence, part of GroupM, is a...   \n",
       "236    & Engine Biosciences is a venture-backed biot...   \n",
       "248    & At Amazon Web Services (AWS), were hiring h...   \n",
       "237    &  The Director of Data Science will be a key...   \n",
       "\n",
       "                                           Requirements   Avg_sal  \\\n",
       "1414  RequirementsTechnical Skills Required Technica...   32000.0   \n",
       "1401  Requirements Bachelor Degree with min 3 years ...   42500.0   \n",
       "1215  RequirementsEssential skills & experience:  Pr...   54500.0   \n",
       "1250  Requirements Degree (and above) in Information...   58500.0   \n",
       "0     Requirements A Bachelors degree in Computer Sc...   59000.0   \n",
       "580   RequirementsQualifications We are looking for ...   65000.0   \n",
       "1313  RequirementsTo succeed in the Data Steward job...   70000.0   \n",
       "483   RequirementsYou have - hands on data preparati...   70000.0   \n",
       "1474  RequirementsWe are looking for:  At least 3-5 ...   72500.0   \n",
       "1354  RequirementsPreferred Experience:  Experience ...   75000.0   \n",
       "244   RequirementsTo succeed in this Regional Busine...   75000.0   \n",
       "555   Requirements Ph.D. in Bioinformatics / Statist...   80000.0   \n",
       "412   RequirementsSkills Required:  Good understandi...   80000.0   \n",
       "578                          RequirementsIT, Blockchain   95000.0   \n",
       "88    RequirementsKnowledge & Skills  Degree in busi...  100000.0   \n",
       "740   RequirementsYou have:  long-standing experienc...  100000.0   \n",
       "1219  RequirementsWho you are  Experienced.Considera...  100000.0   \n",
       "926   Requirements The successful candidate will be ...  105000.0   \n",
       "10    RequirementsA bit about yourself:   Degree fro...  110000.0   \n",
       "639   RequirementsCandidate Profile Requirements:  D...  112500.0   \n",
       "1253  Requirements Ph.D. in Bioinformatics / Statist...  115000.0   \n",
       "645   Requirements 5  8 years of experience in CRM s...  117000.0   \n",
       "305   RequirementsYou have:  experience designing an...  127500.0   \n",
       "724   Requirements Minimum 8 years of experiencein e...  130000.0   \n",
       "257   Requirements A minimum of five years Business ...  132000.0   \n",
       "1423  RequirementsTo succeed in this Business Analys...  135000.0   \n",
       "189   Requirements Should have minimum 18+years of e...  155000.0   \n",
       "1294  RequirementsQualifications: Training, licenses...  160000.0   \n",
       "514   RequirementsA bit about yourself:   At least 7...  160000.0   \n",
       "236   RequirementsMinimum Requirements  Ph.D. in Bio...  160000.0   \n",
       "248   RequirementsBasic Qualifications  BA/BS degree...  275000.0   \n",
       "237   RequirementsQualifications  7+ years experienc...  300000.0   \n",
       "\n",
       "      Avg_sal_percentile  \n",
       "1414           97.920858  \n",
       "1401           97.987928  \n",
       "1215           98.054997  \n",
       "1250           98.122066  \n",
       "0              98.189135  \n",
       "580            98.256204  \n",
       "1313           98.356808  \n",
       "483            98.356808  \n",
       "1474           98.457411  \n",
       "1354           98.558015  \n",
       "244            98.558015  \n",
       "555            98.692153  \n",
       "412            98.692153  \n",
       "578            98.792757  \n",
       "88             98.926895  \n",
       "740            98.926895  \n",
       "1219           98.926895  \n",
       "926            99.061033  \n",
       "10             99.128102  \n",
       "639            99.195171  \n",
       "1253           99.262240  \n",
       "645            99.329309  \n",
       "305            99.396378  \n",
       "724            99.463447  \n",
       "257            99.530516  \n",
       "1423           99.597586  \n",
       "189            99.664655  \n",
       "1294           99.798793  \n",
       "514            99.798793  \n",
       "236            99.798793  \n",
       "248            99.932931  \n",
       "237           100.000000  "
      ]
     },
     "execution_count": 41,
     "metadata": {},
     "output_type": "execute_result"
    }
   ],
   "source": [
    "# these salaries could be quoted on per annum instead of per month. They will have to be converted to per month salaries.\n",
    "\n",
    "outliers = jobs[(jobs.Avg_sal >  upper_limit) | (jobs.Avg_sal < lower_limit)]\n",
    "outliers.sort_values('Avg_sal', ascending=True)"
   ]
  },
  {
   "cell_type": "code",
   "execution_count": 42,
   "metadata": {
    "ExecuteTime": {
     "end_time": "2018-07-27T01:12:57.994000Z",
     "start_time": "2018-07-27T01:12:57.984000Z"
    }
   },
   "outputs": [
    {
     "name": "stdout",
     "output_type": "stream",
     "text": [
      "Outliers shape:  (32, 9)\n"
     ]
    }
   ],
   "source": [
    "print 'Outliers shape: ', outliers.shape"
   ]
  },
  {
   "cell_type": "code",
   "execution_count": 43,
   "metadata": {
    "ExecuteTime": {
     "end_time": "2018-07-27T01:12:58.092000Z",
     "start_time": "2018-07-27T01:12:58.001000Z"
    }
   },
   "outputs": [
    {
     "name": "stderr",
     "output_type": "stream",
     "text": [
      "C:\\Users\\Arsyad\\Anaconda2\\lib\\site-packages\\ipykernel_launcher.py:4: SettingWithCopyWarning: \n",
      "A value is trying to be set on a copy of a slice from a DataFrame.\n",
      "Try using .loc[row_indexer,col_indexer] = value instead\n",
      "\n",
      "See the caveats in the documentation: http://pandas.pydata.org/pandas-docs/stable/indexing.html#indexing-view-versus-copy\n",
      "  after removing the cwd from sys.path.\n"
     ]
    }
   ],
   "source": [
    "jobs.drop(outliers.index, inplace=True)\n",
    "\n",
    "#  Avg_sal / 12 to standardize with the rest at monthly salary\n",
    "outliers['Avg_sal'] = outliers['Avg_sal'].apply(lambda x: x / 12)"
   ]
  },
  {
   "cell_type": "code",
   "execution_count": 44,
   "metadata": {
    "ExecuteTime": {
     "end_time": "2018-07-27T01:12:58.244000Z",
     "start_time": "2018-07-27T01:12:58.100000Z"
    }
   },
   "outputs": [
    {
     "data": {
      "text/html": [
       "<div>\n",
       "<style scoped>\n",
       "    .dataframe tbody tr th:only-of-type {\n",
       "        vertical-align: middle;\n",
       "    }\n",
       "\n",
       "    .dataframe tbody tr th {\n",
       "        vertical-align: top;\n",
       "    }\n",
       "\n",
       "    .dataframe thead th {\n",
       "        text-align: right;\n",
       "    }\n",
       "</style>\n",
       "<table border=\"1\" class=\"dataframe\">\n",
       "  <thead>\n",
       "    <tr style=\"text-align: right;\">\n",
       "      <th></th>\n",
       "      <th>Company</th>\n",
       "      <th>Title</th>\n",
       "      <th>Emp_type</th>\n",
       "      <th>Seniority</th>\n",
       "      <th>Industry</th>\n",
       "      <th>Responsibility</th>\n",
       "      <th>Requirements</th>\n",
       "      <th>Avg_sal</th>\n",
       "      <th>Avg_sal_percentile</th>\n",
       "    </tr>\n",
       "  </thead>\n",
       "  <tbody>\n",
       "    <tr>\n",
       "      <th>237</th>\n",
       "      <td>DATASPARK PTE. LTD.</td>\n",
       "      <td>Director, Data Science</td>\n",
       "      <td>Permanent, Full Time</td>\n",
       "      <td>Middle Management</td>\n",
       "      <td>Information Technology</td>\n",
       "      <td>&amp;  The Director of Data Science will be a key...</td>\n",
       "      <td>RequirementsQualifications  7+ years experienc...</td>\n",
       "      <td>25000.000000</td>\n",
       "      <td>100.000000</td>\n",
       "    </tr>\n",
       "    <tr>\n",
       "      <th>248</th>\n",
       "      <td>AMAZON WEB SERVICES SINGAPORE PRIVATE LIMITED</td>\n",
       "      <td>Sr. Data Architect, Data Warehousing &amp; MPP</td>\n",
       "      <td>Permanent, Full Time</td>\n",
       "      <td>Professional</td>\n",
       "      <td>Information Technology</td>\n",
       "      <td>&amp; At Amazon Web Services (AWS), were hiring h...</td>\n",
       "      <td>RequirementsBasic Qualifications  BA/BS degree...</td>\n",
       "      <td>22916.666667</td>\n",
       "      <td>99.932931</td>\n",
       "    </tr>\n",
       "    <tr>\n",
       "      <th>514</th>\n",
       "      <td>ESSENCE GLOBAL MEDIA SINGAPORE PTE. LTD.</td>\n",
       "      <td>Senior Media Planning Director</td>\n",
       "      <td>Permanent, Full Time</td>\n",
       "      <td>Senior Management</td>\n",
       "      <td>Advertising / Media</td>\n",
       "      <td>&amp; About Essence Essence, part of GroupM, is a...</td>\n",
       "      <td>RequirementsA bit about yourself:   At least 7...</td>\n",
       "      <td>13333.333333</td>\n",
       "      <td>99.798793</td>\n",
       "    </tr>\n",
       "    <tr>\n",
       "      <th>1294</th>\n",
       "      <td>STANDARD CHARTERED BANK</td>\n",
       "      <td>Senior Manager, Advanced Analytics, ERM</td>\n",
       "      <td>Full Time</td>\n",
       "      <td>Manager</td>\n",
       "      <td>Banking and Finance</td>\n",
       "      <td>&amp; Leading the way in International Banking. W...</td>\n",
       "      <td>RequirementsQualifications: Training, licenses...</td>\n",
       "      <td>13333.333333</td>\n",
       "      <td>99.798793</td>\n",
       "    </tr>\n",
       "    <tr>\n",
       "      <th>236</th>\n",
       "      <td>ENGINE BIOSCIENCES PTE. LTD.</td>\n",
       "      <td>Bioinformatics Manager</td>\n",
       "      <td>Full Time</td>\n",
       "      <td>Manager</td>\n",
       "      <td>Healthcare / Pharmaceutical, Information Techn...</td>\n",
       "      <td>&amp; Engine Biosciences is a venture-backed biot...</td>\n",
       "      <td>RequirementsMinimum Requirements  Ph.D. in Bio...</td>\n",
       "      <td>13333.333333</td>\n",
       "      <td>99.798793</td>\n",
       "    </tr>\n",
       "    <tr>\n",
       "      <th>189</th>\n",
       "      <td>INTELLECT DESIGN ARENA PTE. LTD.</td>\n",
       "      <td>Subject-Matter Expert - Trade and Supply Chain...</td>\n",
       "      <td>Permanent, Full Time</td>\n",
       "      <td>Middle Management</td>\n",
       "      <td>Information Technology</td>\n",
       "      <td>&amp;  Demonstrate how product functionality can ...</td>\n",
       "      <td>Requirements Should have minimum 18+years of e...</td>\n",
       "      <td>12916.666667</td>\n",
       "      <td>99.664655</td>\n",
       "    </tr>\n",
       "    <tr>\n",
       "      <th>1423</th>\n",
       "      <td>ROBERT WALTERS (SINGAPORE) PTE LTD</td>\n",
       "      <td>Business Analyst</td>\n",
       "      <td>Contract</td>\n",
       "      <td>Senior Management</td>\n",
       "      <td>Banking and Finance</td>\n",
       "      <td>&amp; A Business Analyst job based in Singapore h...</td>\n",
       "      <td>RequirementsTo succeed in this Business Analys...</td>\n",
       "      <td>11250.000000</td>\n",
       "      <td>99.597586</td>\n",
       "    </tr>\n",
       "    <tr>\n",
       "      <th>257</th>\n",
       "      <td>FAIR ISAAC (ASPAC) PTE. LTD.</td>\n",
       "      <td>Solution Consulting – Lead Consultant</td>\n",
       "      <td>Permanent, Full Time</td>\n",
       "      <td>Middle Management</td>\n",
       "      <td>Consulting , Banking and Finance, Information ...</td>\n",
       "      <td>&amp; Job title  Solution Consulting  Lead Consul...</td>\n",
       "      <td>Requirements A minimum of five years Business ...</td>\n",
       "      <td>11000.000000</td>\n",
       "      <td>99.530516</td>\n",
       "    </tr>\n",
       "    <tr>\n",
       "      <th>724</th>\n",
       "      <td>AMBITION GROUP SINGAPORE PTE. LTD.</td>\n",
       "      <td>Senior Digital Marketing Manager</td>\n",
       "      <td>Permanent, Full Time</td>\n",
       "      <td>Manager</td>\n",
       "      <td>Marketing / Public Relations</td>\n",
       "      <td>&amp; This  will be having the overall ownership,...</td>\n",
       "      <td>Requirements Minimum 8 years of experiencein e...</td>\n",
       "      <td>10833.333333</td>\n",
       "      <td>99.463447</td>\n",
       "    </tr>\n",
       "    <tr>\n",
       "      <th>305</th>\n",
       "      <td>UBS AG</td>\n",
       "      <td>IT Software Engineer Unix / Linux</td>\n",
       "      <td>Permanent, Full Time</td>\n",
       "      <td>Executive</td>\n",
       "      <td>Banking and Finance</td>\n",
       "      <td>&amp; Do you possess all-round development skills...</td>\n",
       "      <td>RequirementsYou have:  experience designing an...</td>\n",
       "      <td>10625.000000</td>\n",
       "      <td>99.396378</td>\n",
       "    </tr>\n",
       "    <tr>\n",
       "      <th>645</th>\n",
       "      <td>AUTODESK ASIA PTE. LTD.</td>\n",
       "      <td>Contact Center Business support Analyst_18WD27168</td>\n",
       "      <td>Permanent, Full Time</td>\n",
       "      <td>Professional</td>\n",
       "      <td>Information Technology</td>\n",
       "      <td>&amp; The Contact Center Business Analyst will he...</td>\n",
       "      <td>Requirements 5  8 years of experience in CRM s...</td>\n",
       "      <td>9750.000000</td>\n",
       "      <td>99.329309</td>\n",
       "    </tr>\n",
       "    <tr>\n",
       "      <th>1253</th>\n",
       "      <td>ENGINE BIOSCIENCES PTE. LTD.</td>\n",
       "      <td>Senior Bioinformatics Specialist</td>\n",
       "      <td>Permanent, Full Time</td>\n",
       "      <td>Professional</td>\n",
       "      <td>Healthcare / Pharmaceutical</td>\n",
       "      <td>&amp; Engine Biosciences is a venture-backed biot...</td>\n",
       "      <td>Requirements Ph.D. in Bioinformatics / Statist...</td>\n",
       "      <td>9583.333333</td>\n",
       "      <td>99.262240</td>\n",
       "    </tr>\n",
       "    <tr>\n",
       "      <th>639</th>\n",
       "      <td>LENOVO ENTERPRISE SOLUTIONS (SINGAPORE) PTE. LTD.</td>\n",
       "      <td>senior maketing manager</td>\n",
       "      <td>Full Time</td>\n",
       "      <td>Middle Management, Manager</td>\n",
       "      <td>Marketing / Public Relations</td>\n",
       "      <td>&amp; Job Scope   As an ASEAN Marketing leader, y...</td>\n",
       "      <td>RequirementsCandidate Profile Requirements:  D...</td>\n",
       "      <td>9375.000000</td>\n",
       "      <td>99.195171</td>\n",
       "    </tr>\n",
       "    <tr>\n",
       "      <th>10</th>\n",
       "      <td>ESSENCE GLOBAL MEDIA SINGAPORE PTE. LTD.</td>\n",
       "      <td>Analytics Director</td>\n",
       "      <td>Permanent, Full Time</td>\n",
       "      <td>Senior Management</td>\n",
       "      <td>Advertising / Media</td>\n",
       "      <td>&amp; About Essence Essence, part of GroupM, is a...</td>\n",
       "      <td>RequirementsA bit about yourself:   Degree fro...</td>\n",
       "      <td>9166.666667</td>\n",
       "      <td>99.128102</td>\n",
       "    </tr>\n",
       "    <tr>\n",
       "      <th>926</th>\n",
       "      <td>KERRY CONSULTING PTE. LTD.</td>\n",
       "      <td>APAC Market Risk Manager – Commodities Trading</td>\n",
       "      <td>Permanent, Full Time</td>\n",
       "      <td>Manager</td>\n",
       "      <td>Engineering</td>\n",
       "      <td>&amp;  Leading integrated agriculture MNC  Region...</td>\n",
       "      <td>Requirements The successful candidate will be ...</td>\n",
       "      <td>8750.000000</td>\n",
       "      <td>99.061033</td>\n",
       "    </tr>\n",
       "    <tr>\n",
       "      <th>740</th>\n",
       "      <td>UBS AG</td>\n",
       "      <td>IT Software Engineer</td>\n",
       "      <td>Permanent, Full Time</td>\n",
       "      <td>Senior Executive</td>\n",
       "      <td>Banking and Finance</td>\n",
       "      <td>&amp; Are you an experienced mainframe engineer w...</td>\n",
       "      <td>RequirementsYou have:  long-standing experienc...</td>\n",
       "      <td>8333.333333</td>\n",
       "      <td>98.926895</td>\n",
       "    </tr>\n",
       "    <tr>\n",
       "      <th>1219</th>\n",
       "      <td>OAK CONSULTING PTE. LTD.</td>\n",
       "      <td>Product Sales Specialist</td>\n",
       "      <td>Permanent, Full Time</td>\n",
       "      <td>Senior Executive</td>\n",
       "      <td>Consulting , Customer Service, Information Tec...</td>\n",
       "      <td>&amp; What you'll be doing As a Sales Professiona...</td>\n",
       "      <td>RequirementsWho you are  Experienced.Considera...</td>\n",
       "      <td>8333.333333</td>\n",
       "      <td>98.926895</td>\n",
       "    </tr>\n",
       "    <tr>\n",
       "      <th>88</th>\n",
       "      <td>Company Undisclosed</td>\n",
       "      <td>Senior Business Analyst</td>\n",
       "      <td>Permanent, Full Time</td>\n",
       "      <td>Professional</td>\n",
       "      <td>Insurance</td>\n",
       "      <td>&amp; Main Purpose Reporting to the Lead Analyst ...</td>\n",
       "      <td>RequirementsKnowledge &amp; Skills  Degree in busi...</td>\n",
       "      <td>8333.333333</td>\n",
       "      <td>98.926895</td>\n",
       "    </tr>\n",
       "    <tr>\n",
       "      <th>578</th>\n",
       "      <td>ENTITY SOLUTIONS (SINGAPORE) PTE. LTD.</td>\n",
       "      <td>data base developer</td>\n",
       "      <td>Full Time</td>\n",
       "      <td>Senior Management</td>\n",
       "      <td>General Management</td>\n",
       "      <td>&amp;  Conceptualize and develop the back end of ...</td>\n",
       "      <td>RequirementsIT, Blockchain</td>\n",
       "      <td>7916.666667</td>\n",
       "      <td>98.792757</td>\n",
       "    </tr>\n",
       "    <tr>\n",
       "      <th>555</th>\n",
       "      <td>ENGINE BIOSCIENCES PTE. LTD.</td>\n",
       "      <td>Bioinformatics Specialist</td>\n",
       "      <td>Permanent, Full Time</td>\n",
       "      <td>Professional</td>\n",
       "      <td>Healthcare / Pharmaceutical</td>\n",
       "      <td>&amp; Engine Biosciences is a venture-backed biot...</td>\n",
       "      <td>Requirements Ph.D. in Bioinformatics / Statist...</td>\n",
       "      <td>6666.666667</td>\n",
       "      <td>98.692153</td>\n",
       "    </tr>\n",
       "    <tr>\n",
       "      <th>412</th>\n",
       "      <td>EAMES CONSULTING GROUP (SINGAPORE) PTE. LTD.</td>\n",
       "      <td>Senior Business Analyst</td>\n",
       "      <td>Permanent, Full Time</td>\n",
       "      <td>Professional</td>\n",
       "      <td>Information Technology, Insurance</td>\n",
       "      <td>&amp; To identify business requirements, document...</td>\n",
       "      <td>RequirementsSkills Required:  Good understandi...</td>\n",
       "      <td>6666.666667</td>\n",
       "      <td>98.692153</td>\n",
       "    </tr>\n",
       "    <tr>\n",
       "      <th>244</th>\n",
       "      <td>ROBERT WALTERS (SINGAPORE) PTE LTD</td>\n",
       "      <td>Regional Business Development Manager</td>\n",
       "      <td>Permanent, Full Time</td>\n",
       "      <td>Manager</td>\n",
       "      <td>Sales / Retail</td>\n",
       "      <td>&amp; A newly-created Regional Business Developme...</td>\n",
       "      <td>RequirementsTo succeed in this Regional Busine...</td>\n",
       "      <td>6250.000000</td>\n",
       "      <td>98.558015</td>\n",
       "    </tr>\n",
       "    <tr>\n",
       "      <th>1354</th>\n",
       "      <td>ILLUMINA SINGAPORE PTE. LTD.</td>\n",
       "      <td>SAP Senior Business Solution Analyst, Logistic...</td>\n",
       "      <td>Full Time</td>\n",
       "      <td>Senior Executive</td>\n",
       "      <td>Others</td>\n",
       "      <td>&amp; This  functions as a Senior Analyst and is ...</td>\n",
       "      <td>RequirementsPreferred Experience:  Experience ...</td>\n",
       "      <td>6250.000000</td>\n",
       "      <td>98.558015</td>\n",
       "    </tr>\n",
       "    <tr>\n",
       "      <th>1474</th>\n",
       "      <td>SYNGENTA ASIA PACIFIC PTE. LTD.</td>\n",
       "      <td>Regional Planner</td>\n",
       "      <td>Full Time</td>\n",
       "      <td>Manager</td>\n",
       "      <td>Manufacturing</td>\n",
       "      <td>&amp; Regional Planner APAC Singapore About Synge...</td>\n",
       "      <td>RequirementsWe are looking for:  At least 3-5 ...</td>\n",
       "      <td>6041.666667</td>\n",
       "      <td>98.457411</td>\n",
       "    </tr>\n",
       "    <tr>\n",
       "      <th>483</th>\n",
       "      <td>UBS AG</td>\n",
       "      <td>Database Analyst</td>\n",
       "      <td>Full Time</td>\n",
       "      <td>Executive</td>\n",
       "      <td>Banking and Finance</td>\n",
       "      <td>&amp; Are you curious? Do you love data? Are you ...</td>\n",
       "      <td>RequirementsYou have - hands on data preparati...</td>\n",
       "      <td>5833.333333</td>\n",
       "      <td>98.356808</td>\n",
       "    </tr>\n",
       "    <tr>\n",
       "      <th>1313</th>\n",
       "      <td>ROBERT WALTERS (SINGAPORE) PTE LTD</td>\n",
       "      <td>Data Steward</td>\n",
       "      <td>Permanent, Full Time</td>\n",
       "      <td>Senior Executive</td>\n",
       "      <td>Information Technology</td>\n",
       "      <td>&amp; A global buyside firm has a job opportunity...</td>\n",
       "      <td>RequirementsTo succeed in the Data Steward job...</td>\n",
       "      <td>5833.333333</td>\n",
       "      <td>98.356808</td>\n",
       "    </tr>\n",
       "    <tr>\n",
       "      <th>580</th>\n",
       "      <td>VISA WORLDWIDE PTE. LIMITED</td>\n",
       "      <td>Analyst, Visa Consulting and Analytics</td>\n",
       "      <td>Permanent, Full Time</td>\n",
       "      <td>Fresh/entry level</td>\n",
       "      <td>Consulting , Others</td>\n",
       "      <td>&amp; Are you skilled at turning hard numbers int...</td>\n",
       "      <td>RequirementsQualifications We are looking for ...</td>\n",
       "      <td>5416.666667</td>\n",
       "      <td>98.256204</td>\n",
       "    </tr>\n",
       "    <tr>\n",
       "      <th>0</th>\n",
       "      <td>NTT DATA SINGAPORE PTE. LTD.</td>\n",
       "      <td>Senior Application Developer</td>\n",
       "      <td>Contract</td>\n",
       "      <td>Executive, Senior Executive</td>\n",
       "      <td>Information Technology</td>\n",
       "      <td>&amp;  Creating complex, enterprise-transforming ...</td>\n",
       "      <td>Requirements A Bachelors degree in Computer Sc...</td>\n",
       "      <td>4916.666667</td>\n",
       "      <td>98.189135</td>\n",
       "    </tr>\n",
       "    <tr>\n",
       "      <th>1250</th>\n",
       "      <td>EPAM SYSTEMS PTE. LTD.</td>\n",
       "      <td>Senior Business Analyst</td>\n",
       "      <td>Permanent, Full Time</td>\n",
       "      <td>Senior Executive</td>\n",
       "      <td>Information Technology</td>\n",
       "      <td>&amp;    Key in driving and supporting migration ...</td>\n",
       "      <td>Requirements Degree (and above) in Information...</td>\n",
       "      <td>4875.000000</td>\n",
       "      <td>98.122066</td>\n",
       "    </tr>\n",
       "    <tr>\n",
       "      <th>1215</th>\n",
       "      <td>OBSERVATIONAL AND PRAGMATIC RESEARCH INSTITUTE...</td>\n",
       "      <td>Research Project Manager</td>\n",
       "      <td>Permanent, Full Time</td>\n",
       "      <td>Manager</td>\n",
       "      <td>Healthcare / Pharmaceutical</td>\n",
       "      <td>&amp; Our team, based in the UK and Singapore, ev...</td>\n",
       "      <td>RequirementsEssential skills &amp; experience:  Pr...</td>\n",
       "      <td>4541.666667</td>\n",
       "      <td>98.054997</td>\n",
       "    </tr>\n",
       "    <tr>\n",
       "      <th>...</th>\n",
       "      <td>...</td>\n",
       "      <td>...</td>\n",
       "      <td>...</td>\n",
       "      <td>...</td>\n",
       "      <td>...</td>\n",
       "      <td>...</td>\n",
       "      <td>...</td>\n",
       "      <td>...</td>\n",
       "      <td>...</td>\n",
       "    </tr>\n",
       "    <tr>\n",
       "      <th>385</th>\n",
       "      <td>DECKS PTE. LTD.</td>\n",
       "      <td>Human Resource &amp; Administrative Officer</td>\n",
       "      <td>Permanent, Full Time</td>\n",
       "      <td>Executive</td>\n",
       "      <td>Human Resources</td>\n",
       "      <td>&amp; The Human Resource Executive (Performance a...</td>\n",
       "      <td>Requirements ~ Analyse employee demographics a...</td>\n",
       "      <td>2500.000000</td>\n",
       "      <td>1.911469</td>\n",
       "    </tr>\n",
       "    <tr>\n",
       "      <th>1089</th>\n",
       "      <td>ACTIVE INTELLIGENCE PTE. LTD.</td>\n",
       "      <td>Language Specialist - Mandarin</td>\n",
       "      <td>Part Time</td>\n",
       "      <td>Executive</td>\n",
       "      <td>Banking and Finance</td>\n",
       "      <td>&amp; What You will do:  Create and improvise dat...</td>\n",
       "      <td>RequirementsWhat we are looking for:  Fluency ...</td>\n",
       "      <td>2500.000000</td>\n",
       "      <td>1.911469</td>\n",
       "    </tr>\n",
       "    <tr>\n",
       "      <th>522</th>\n",
       "      <td>THE HIMALAYA DRUG COMPANY PTE. LTD.</td>\n",
       "      <td>Marketing Assistant</td>\n",
       "      <td>Contract</td>\n",
       "      <td>Junior Executive</td>\n",
       "      <td>Marketing / Public Relations</td>\n",
       "      <td>&amp;  Undertake daily administrative tasks to en...</td>\n",
       "      <td>Requirements Position is for 4 - 5 months to c...</td>\n",
       "      <td>2500.000000</td>\n",
       "      <td>1.911469</td>\n",
       "    </tr>\n",
       "    <tr>\n",
       "      <th>251</th>\n",
       "      <td>Company Undisclosed</td>\n",
       "      <td>Robotics Engineer</td>\n",
       "      <td>Permanent, Full Time</td>\n",
       "      <td>Professional</td>\n",
       "      <td>Engineering, Information Technology</td>\n",
       "      <td>&amp; Crown Robotics is seeking a Robotics / auto...</td>\n",
       "      <td>RequirementsThe responsibilities include but n...</td>\n",
       "      <td>2500.000000</td>\n",
       "      <td>1.911469</td>\n",
       "    </tr>\n",
       "    <tr>\n",
       "      <th>1353</th>\n",
       "      <td>AIK CHIN HIN MACHINERY CO</td>\n",
       "      <td>HR Executive</td>\n",
       "      <td>Full Time</td>\n",
       "      <td>Executive</td>\n",
       "      <td>Human Resources</td>\n",
       "      <td>&amp; The Human Resource Executive (Performance a...</td>\n",
       "      <td>Requirements ~ Develop frequently asked questi...</td>\n",
       "      <td>2500.000000</td>\n",
       "      <td>1.911469</td>\n",
       "    </tr>\n",
       "    <tr>\n",
       "      <th>1060</th>\n",
       "      <td>IX TECHNOLOGY PTE. LTD.</td>\n",
       "      <td>Data Centre FM Technician</td>\n",
       "      <td>Permanent, Full Time</td>\n",
       "      <td>Executive</td>\n",
       "      <td>Building and Construction</td>\n",
       "      <td>&amp;  Adhering to the Employers processes and pr...</td>\n",
       "      <td>Requirements Sound knowledge of data centre eq...</td>\n",
       "      <td>2400.000000</td>\n",
       "      <td>1.576123</td>\n",
       "    </tr>\n",
       "    <tr>\n",
       "      <th>1470</th>\n",
       "      <td>THE SUPREME HR ADVISORY PTE. LTD.</td>\n",
       "      <td>IT Account Manager (ITSM / Cyber Security / Cl...</td>\n",
       "      <td>Permanent, Full Time</td>\n",
       "      <td>Executive</td>\n",
       "      <td>Information Technology</td>\n",
       "      <td>&amp;  Attractive salary packages  Company Bonuse...</td>\n",
       "      <td>Requirements Attractive salary packages  Compa...</td>\n",
       "      <td>2400.000000</td>\n",
       "      <td>1.576123</td>\n",
       "    </tr>\n",
       "    <tr>\n",
       "      <th>1242</th>\n",
       "      <td>RPAT PTE. LTD.</td>\n",
       "      <td>Human Resource Executive</td>\n",
       "      <td>Others</td>\n",
       "      <td>Manager, Fresh/entry level, Executive</td>\n",
       "      <td>Human Resources , Information Technology</td>\n",
       "      <td>&amp; The Human Resource Executive (Performance a...</td>\n",
       "      <td>Requirements ~ Analyse employee demographics a...</td>\n",
       "      <td>2400.000000</td>\n",
       "      <td>1.576123</td>\n",
       "    </tr>\n",
       "    <tr>\n",
       "      <th>430</th>\n",
       "      <td>UL INTERNATIONAL-SINGAPORE PRIVATE LIMITED</td>\n",
       "      <td>Credit Control Assistant</td>\n",
       "      <td>Contract</td>\n",
       "      <td>Non-executive</td>\n",
       "      <td>Accounting / Auditing / Taxation</td>\n",
       "      <td>&amp; UL helps companies demonstrate safety, conf...</td>\n",
       "      <td>RequirementsSuccessful candidate should ideall...</td>\n",
       "      <td>2400.000000</td>\n",
       "      <td>1.576123</td>\n",
       "    </tr>\n",
       "    <tr>\n",
       "      <th>1307</th>\n",
       "      <td>ACTIVATE INTERACTIVE PTE LTD</td>\n",
       "      <td>Research Intern(Data science &amp; Analytics)</td>\n",
       "      <td>Full Time</td>\n",
       "      <td>Manager</td>\n",
       "      <td>Sciences / Laboratory / R&amp;D</td>\n",
       "      <td>&amp; Activate Interactive is a fast growing tech...</td>\n",
       "      <td>RequirementsRoles and responsibilities   Gathe...</td>\n",
       "      <td>2300.000000</td>\n",
       "      <td>1.408451</td>\n",
       "    </tr>\n",
       "    <tr>\n",
       "      <th>398</th>\n",
       "      <td>TOSS-EX PTE. LTD.</td>\n",
       "      <td>HR Fresher</td>\n",
       "      <td>Permanent, Full Time</td>\n",
       "      <td>Fresh/entry level</td>\n",
       "      <td>Human Resources</td>\n",
       "      <td>&amp; The Human Resource Executive (Performance a...</td>\n",
       "      <td>Requirements ~ Analyse employee demographics a...</td>\n",
       "      <td>2250.000000</td>\n",
       "      <td>1.173709</td>\n",
       "    </tr>\n",
       "    <tr>\n",
       "      <th>268</th>\n",
       "      <td>PAL-LINK CONSTRUCTION PTE. LTD.</td>\n",
       "      <td>Admin / HR Executive</td>\n",
       "      <td>Full Time</td>\n",
       "      <td>Junior Executive</td>\n",
       "      <td>Building and Construction</td>\n",
       "      <td>&amp; The Human Resource Executive (Performance a...</td>\n",
       "      <td>Requirements ~ Develop frequently asked questi...</td>\n",
       "      <td>2250.000000</td>\n",
       "      <td>1.173709</td>\n",
       "    </tr>\n",
       "    <tr>\n",
       "      <th>131</th>\n",
       "      <td>SBM MARINE &amp; ENGINEERING PTE. LTD.</td>\n",
       "      <td>hr executive</td>\n",
       "      <td>Full Time</td>\n",
       "      <td>Executive</td>\n",
       "      <td>Human Resources</td>\n",
       "      <td>&amp; The Human Resource Executive (Performance a...</td>\n",
       "      <td>Requirements ~ Analyse employee demographics a...</td>\n",
       "      <td>2250.000000</td>\n",
       "      <td>1.173709</td>\n",
       "    </tr>\n",
       "    <tr>\n",
       "      <th>321</th>\n",
       "      <td>DENYO UNITED MACHINERY PTE. LTD.</td>\n",
       "      <td>Digital Marketing Executive</td>\n",
       "      <td>Permanent, Full Time</td>\n",
       "      <td>Junior Executive</td>\n",
       "      <td>Marketing / Public Relations</td>\n",
       "      <td>&amp;  Create EDM and marketing content regularly...</td>\n",
       "      <td>Requirements Minimum diploma holder in Marketi...</td>\n",
       "      <td>2250.000000</td>\n",
       "      <td>1.173709</td>\n",
       "    </tr>\n",
       "    <tr>\n",
       "      <th>1412</th>\n",
       "      <td>ACTIVE INTELLIGENCE PTE. LTD.</td>\n",
       "      <td>Language Specialist - Thai</td>\n",
       "      <td>Full Time</td>\n",
       "      <td>Executive</td>\n",
       "      <td>Banking and Finance</td>\n",
       "      <td>&amp; What You will do:  Create and improvise dat...</td>\n",
       "      <td>RequirementsWhat we are looking for:  Fluency ...</td>\n",
       "      <td>2250.000000</td>\n",
       "      <td>1.173709</td>\n",
       "    </tr>\n",
       "    <tr>\n",
       "      <th>630</th>\n",
       "      <td>SBM MANPOWER CONSULTANCY PTE. LTD.</td>\n",
       "      <td>hr executive</td>\n",
       "      <td>Full Time</td>\n",
       "      <td>Executive</td>\n",
       "      <td>Human Resources</td>\n",
       "      <td>&amp; The Human Resource Executive (Performance a...</td>\n",
       "      <td>Requirements ~ Analyse employee demographics a...</td>\n",
       "      <td>2250.000000</td>\n",
       "      <td>1.173709</td>\n",
       "    </tr>\n",
       "    <tr>\n",
       "      <th>593</th>\n",
       "      <td>LOADED LOGISTICS PTE. LTD.</td>\n",
       "      <td>Data Entry Clerk</td>\n",
       "      <td>Full Time</td>\n",
       "      <td>Fresh/entry level, Non-executive</td>\n",
       "      <td>Logistics / Supply Chain</td>\n",
       "      <td>&amp;  Perform general admin duties including Dat...</td>\n",
       "      <td>Requirements Minimum Diploma or equivalent. No...</td>\n",
       "      <td>2200.000000</td>\n",
       "      <td>0.905433</td>\n",
       "    </tr>\n",
       "    <tr>\n",
       "      <th>429</th>\n",
       "      <td>ARC MARINE PTE. LTD.</td>\n",
       "      <td>Accounts Data Entry</td>\n",
       "      <td>Permanent, Full Time</td>\n",
       "      <td>Junior Executive</td>\n",
       "      <td>Accounting / Auditing / Taxation</td>\n",
       "      <td>&amp;  Responsible for administrative task of the...</td>\n",
       "      <td>Requirements Min relevant Diploma or Certifica...</td>\n",
       "      <td>2200.000000</td>\n",
       "      <td>0.905433</td>\n",
       "    </tr>\n",
       "    <tr>\n",
       "      <th>730</th>\n",
       "      <td>QUALITY HOTEL MARLOW</td>\n",
       "      <td>PERSONAL DATA PROTECTION OFFICER</td>\n",
       "      <td>Full Time</td>\n",
       "      <td>Junior Executive</td>\n",
       "      <td>Admin / Secretarial</td>\n",
       "      <td>&amp; Job   Write and update detailed guides on d...</td>\n",
       "      <td>Requirements Experience in data protection and...</td>\n",
       "      <td>2100.000000</td>\n",
       "      <td>0.804829</td>\n",
       "    </tr>\n",
       "    <tr>\n",
       "      <th>1218</th>\n",
       "      <td>GIFT TIME PTE. LTD.</td>\n",
       "      <td>Programmer (Data Team Supervisor)</td>\n",
       "      <td>Full Time</td>\n",
       "      <td>Fresh/entry level</td>\n",
       "      <td>Information Technology</td>\n",
       "      <td>&amp; Main   Maintain and adding features to Web ...</td>\n",
       "      <td>RequirementsRequirements  Diploma/Degree in IT...</td>\n",
       "      <td>2050.000000</td>\n",
       "      <td>0.737760</td>\n",
       "    </tr>\n",
       "    <tr>\n",
       "      <th>1485</th>\n",
       "      <td>BGC GROUP PTE. LTD.</td>\n",
       "      <td>Data Entry Officer  /  Public Surveyor</td>\n",
       "      <td>Contract, Full Time</td>\n",
       "      <td>Fresh/entry level, Non-executive</td>\n",
       "      <td>Others, Public / Civil Service</td>\n",
       "      <td>&amp; BGC Group is hiring 50 full-time data entry...</td>\n",
       "      <td>RequirementsRequirements  Only Singaporeans ne...</td>\n",
       "      <td>1900.000000</td>\n",
       "      <td>0.670691</td>\n",
       "    </tr>\n",
       "    <tr>\n",
       "      <th>1098</th>\n",
       "      <td>TRADERSPERMITS</td>\n",
       "      <td>Data Entry Clerk - Changi</td>\n",
       "      <td>Full Time</td>\n",
       "      <td>Fresh/entry level</td>\n",
       "      <td>Admin / Secretarial</td>\n",
       "      <td>&amp; Data Entry Clerk, to work in the Changi Air...</td>\n",
       "      <td>RequirementsBasic Computer Skills (Word, Excel...</td>\n",
       "      <td>1850.000000</td>\n",
       "      <td>0.603622</td>\n",
       "    </tr>\n",
       "    <tr>\n",
       "      <th>940</th>\n",
       "      <td>HNWI PRIVATE LIMITED</td>\n",
       "      <td>Data Entry (3 Months Part Time Contract, Flexi...</td>\n",
       "      <td>Part Time</td>\n",
       "      <td>Executive</td>\n",
       "      <td>Admin / Secretarial</td>\n",
       "      <td>&amp;  Applythis jobvia this formonly:https://goo...</td>\n",
       "      <td>Requirements Job Application Process If yousha...</td>\n",
       "      <td>1800.500000</td>\n",
       "      <td>0.536553</td>\n",
       "    </tr>\n",
       "    <tr>\n",
       "      <th>1072</th>\n",
       "      <td>AMT PTE. LTD.</td>\n",
       "      <td>Data Entry Clerk</td>\n",
       "      <td>Contract</td>\n",
       "      <td>Non-executive</td>\n",
       "      <td>Admin / Secretarial</td>\n",
       "      <td>&amp; - Perform Routine data entry and clerical t...</td>\n",
       "      <td>RequirementsCompetence - O Level holder with r...</td>\n",
       "      <td>1700.000000</td>\n",
       "      <td>0.469484</td>\n",
       "    </tr>\n",
       "    <tr>\n",
       "      <th>333</th>\n",
       "      <td>PL BIZ CONSULTING PTE. LTD.</td>\n",
       "      <td>Admin cum data entry</td>\n",
       "      <td>Permanent, Full Time</td>\n",
       "      <td>Executive</td>\n",
       "      <td>Admin / Secretarial</td>\n",
       "      <td>&amp; PL Biz Consulting Pte Ltd, an expanding pro...</td>\n",
       "      <td>RequirementsRequirements:   Min. O level 2-3 y...</td>\n",
       "      <td>1650.000000</td>\n",
       "      <td>0.402414</td>\n",
       "    </tr>\n",
       "    <tr>\n",
       "      <th>1203</th>\n",
       "      <td>CYC COMPANY PTE. LTD.</td>\n",
       "      <td>Data Entry Clerk</td>\n",
       "      <td>Part Time</td>\n",
       "      <td>Fresh/entry level</td>\n",
       "      <td>Admin / Secretarial</td>\n",
       "      <td>&amp; Data entry into system.</td>\n",
       "      <td>RequirementsAble to enter data accurately and ...</td>\n",
       "      <td>1600.000000</td>\n",
       "      <td>0.335345</td>\n",
       "    </tr>\n",
       "    <tr>\n",
       "      <th>745</th>\n",
       "      <td>FRANKLIN OFFSHORE INTERNATIONAL PTE. LTD.</td>\n",
       "      <td>Data Entry Clerk</td>\n",
       "      <td>Contract</td>\n",
       "      <td>Fresh/entry level</td>\n",
       "      <td>Admin / Secretarial</td>\n",
       "      <td>&amp; - Assist Finance Manager on the day to day ...</td>\n",
       "      <td>Requirements-GCE 'O' Level and above - Microso...</td>\n",
       "      <td>1550.000000</td>\n",
       "      <td>0.268276</td>\n",
       "    </tr>\n",
       "    <tr>\n",
       "      <th>858</th>\n",
       "      <td>EAMES CONSULTING GROUP (SINGAPORE) PTE. LTD.</td>\n",
       "      <td>Data Entry Clerk</td>\n",
       "      <td>Contract</td>\n",
       "      <td>Non-executive</td>\n",
       "      <td>Admin / Secretarial</td>\n",
       "      <td>&amp; Maintains database by entering new and upda...</td>\n",
       "      <td>RequirementsData Entry Clerk Job Duties:  Prep...</td>\n",
       "      <td>1400.000000</td>\n",
       "      <td>0.201207</td>\n",
       "    </tr>\n",
       "    <tr>\n",
       "      <th>1077</th>\n",
       "      <td>ACUMED HOLDINGS PTE. LTD.</td>\n",
       "      <td>Data Entry Clerk</td>\n",
       "      <td>Others</td>\n",
       "      <td>Fresh/entry level, Non-executive</td>\n",
       "      <td>Accounting / Auditing / Taxation, Admin / Secr...</td>\n",
       "      <td>&amp; We are looking for Contract-based Data Entr...</td>\n",
       "      <td>RequirementsRequirements: - Candidate must pos...</td>\n",
       "      <td>1300.000000</td>\n",
       "      <td>0.134138</td>\n",
       "    </tr>\n",
       "    <tr>\n",
       "      <th>1251</th>\n",
       "      <td>SOIL INVESTIGATION PTE. LIMITED</td>\n",
       "      <td>Data Processor [Part-Time]</td>\n",
       "      <td>Part Time</td>\n",
       "      <td>Fresh/entry level</td>\n",
       "      <td>Building and Construction</td>\n",
       "      <td>&amp; To gather and process data To compile data ...</td>\n",
       "      <td>RequirementsKnowledge in Microsoft Excel and B...</td>\n",
       "      <td>1000.000000</td>\n",
       "      <td>0.067069</td>\n",
       "    </tr>\n",
       "  </tbody>\n",
       "</table>\n",
       "<p>1491 rows × 9 columns</p>\n",
       "</div>"
      ],
      "text/plain": [
       "                                                Company  \\\n",
       "237                                 DATASPARK PTE. LTD.   \n",
       "248       AMAZON WEB SERVICES SINGAPORE PRIVATE LIMITED   \n",
       "514            ESSENCE GLOBAL MEDIA SINGAPORE PTE. LTD.   \n",
       "1294                            STANDARD CHARTERED BANK   \n",
       "236                        ENGINE BIOSCIENCES PTE. LTD.   \n",
       "189                    INTELLECT DESIGN ARENA PTE. LTD.   \n",
       "1423                 ROBERT WALTERS (SINGAPORE) PTE LTD   \n",
       "257                        FAIR ISAAC (ASPAC) PTE. LTD.   \n",
       "724                  AMBITION GROUP SINGAPORE PTE. LTD.   \n",
       "305                                              UBS AG   \n",
       "645                             AUTODESK ASIA PTE. LTD.   \n",
       "1253                       ENGINE BIOSCIENCES PTE. LTD.   \n",
       "639   LENOVO ENTERPRISE SOLUTIONS (SINGAPORE) PTE. LTD.   \n",
       "10             ESSENCE GLOBAL MEDIA SINGAPORE PTE. LTD.   \n",
       "926                          KERRY CONSULTING PTE. LTD.   \n",
       "740                                              UBS AG   \n",
       "1219                           OAK CONSULTING PTE. LTD.   \n",
       "88                                  Company Undisclosed   \n",
       "578              ENTITY SOLUTIONS (SINGAPORE) PTE. LTD.   \n",
       "555                        ENGINE BIOSCIENCES PTE. LTD.   \n",
       "412        EAMES CONSULTING GROUP (SINGAPORE) PTE. LTD.   \n",
       "244                  ROBERT WALTERS (SINGAPORE) PTE LTD   \n",
       "1354                       ILLUMINA SINGAPORE PTE. LTD.   \n",
       "1474                    SYNGENTA ASIA PACIFIC PTE. LTD.   \n",
       "483                                              UBS AG   \n",
       "1313                 ROBERT WALTERS (SINGAPORE) PTE LTD   \n",
       "580                         VISA WORLDWIDE PTE. LIMITED   \n",
       "0                          NTT DATA SINGAPORE PTE. LTD.   \n",
       "1250                             EPAM SYSTEMS PTE. LTD.   \n",
       "1215  OBSERVATIONAL AND PRAGMATIC RESEARCH INSTITUTE...   \n",
       "...                                                 ...   \n",
       "385                                     DECKS PTE. LTD.   \n",
       "1089                      ACTIVE INTELLIGENCE PTE. LTD.   \n",
       "522                 THE HIMALAYA DRUG COMPANY PTE. LTD.   \n",
       "251                                 Company Undisclosed   \n",
       "1353                          AIK CHIN HIN MACHINERY CO   \n",
       "1060                            IX TECHNOLOGY PTE. LTD.   \n",
       "1470                  THE SUPREME HR ADVISORY PTE. LTD.   \n",
       "1242                                     RPAT PTE. LTD.   \n",
       "430          UL INTERNATIONAL-SINGAPORE PRIVATE LIMITED   \n",
       "1307                       ACTIVATE INTERACTIVE PTE LTD   \n",
       "398                                   TOSS-EX PTE. LTD.   \n",
       "268                     PAL-LINK CONSTRUCTION PTE. LTD.   \n",
       "131                  SBM MARINE & ENGINEERING PTE. LTD.   \n",
       "321                    DENYO UNITED MACHINERY PTE. LTD.   \n",
       "1412                      ACTIVE INTELLIGENCE PTE. LTD.   \n",
       "630                  SBM MANPOWER CONSULTANCY PTE. LTD.   \n",
       "593                          LOADED LOGISTICS PTE. LTD.   \n",
       "429                                ARC MARINE PTE. LTD.   \n",
       "730                                QUALITY HOTEL MARLOW   \n",
       "1218                                GIFT TIME PTE. LTD.   \n",
       "1485                                BGC GROUP PTE. LTD.   \n",
       "1098                                     TRADERSPERMITS   \n",
       "940                                HNWI PRIVATE LIMITED   \n",
       "1072                                      AMT PTE. LTD.   \n",
       "333                         PL BIZ CONSULTING PTE. LTD.   \n",
       "1203                              CYC COMPANY PTE. LTD.   \n",
       "745           FRANKLIN OFFSHORE INTERNATIONAL PTE. LTD.   \n",
       "858        EAMES CONSULTING GROUP (SINGAPORE) PTE. LTD.   \n",
       "1077                          ACUMED HOLDINGS PTE. LTD.   \n",
       "1251                    SOIL INVESTIGATION PTE. LIMITED   \n",
       "\n",
       "                                                  Title              Emp_type  \\\n",
       "237                              Director, Data Science  Permanent, Full Time   \n",
       "248          Sr. Data Architect, Data Warehousing & MPP  Permanent, Full Time   \n",
       "514                      Senior Media Planning Director  Permanent, Full Time   \n",
       "1294            Senior Manager, Advanced Analytics, ERM             Full Time   \n",
       "236                              Bioinformatics Manager             Full Time   \n",
       "189   Subject-Matter Expert - Trade and Supply Chain...  Permanent, Full Time   \n",
       "1423                                   Business Analyst              Contract   \n",
       "257               Solution Consulting – Lead Consultant  Permanent, Full Time   \n",
       "724                    Senior Digital Marketing Manager  Permanent, Full Time   \n",
       "305                   IT Software Engineer Unix / Linux  Permanent, Full Time   \n",
       "645   Contact Center Business support Analyst_18WD27168  Permanent, Full Time   \n",
       "1253                   Senior Bioinformatics Specialist  Permanent, Full Time   \n",
       "639                             senior maketing manager             Full Time   \n",
       "10                                   Analytics Director  Permanent, Full Time   \n",
       "926      APAC Market Risk Manager – Commodities Trading  Permanent, Full Time   \n",
       "740                                IT Software Engineer  Permanent, Full Time   \n",
       "1219                           Product Sales Specialist  Permanent, Full Time   \n",
       "88                              Senior Business Analyst  Permanent, Full Time   \n",
       "578                                 data base developer             Full Time   \n",
       "555                           Bioinformatics Specialist  Permanent, Full Time   \n",
       "412                             Senior Business Analyst  Permanent, Full Time   \n",
       "244               Regional Business Development Manager  Permanent, Full Time   \n",
       "1354  SAP Senior Business Solution Analyst, Logistic...             Full Time   \n",
       "1474                                   Regional Planner             Full Time   \n",
       "483                                    Database Analyst             Full Time   \n",
       "1313                                       Data Steward  Permanent, Full Time   \n",
       "580              Analyst, Visa Consulting and Analytics  Permanent, Full Time   \n",
       "0                          Senior Application Developer              Contract   \n",
       "1250                            Senior Business Analyst  Permanent, Full Time   \n",
       "1215                           Research Project Manager  Permanent, Full Time   \n",
       "...                                                 ...                   ...   \n",
       "385             Human Resource & Administrative Officer  Permanent, Full Time   \n",
       "1089                     Language Specialist - Mandarin             Part Time   \n",
       "522                                 Marketing Assistant              Contract   \n",
       "251                                   Robotics Engineer  Permanent, Full Time   \n",
       "1353                                       HR Executive             Full Time   \n",
       "1060                          Data Centre FM Technician  Permanent, Full Time   \n",
       "1470  IT Account Manager (ITSM / Cyber Security / Cl...  Permanent, Full Time   \n",
       "1242                           Human Resource Executive                Others   \n",
       "430                            Credit Control Assistant              Contract   \n",
       "1307          Research Intern(Data science & Analytics)             Full Time   \n",
       "398                                          HR Fresher  Permanent, Full Time   \n",
       "268                                Admin / HR Executive             Full Time   \n",
       "131                                        hr executive             Full Time   \n",
       "321                         Digital Marketing Executive  Permanent, Full Time   \n",
       "1412                         Language Specialist - Thai             Full Time   \n",
       "630                                        hr executive             Full Time   \n",
       "593                                    Data Entry Clerk             Full Time   \n",
       "429                                 Accounts Data Entry  Permanent, Full Time   \n",
       "730                    PERSONAL DATA PROTECTION OFFICER             Full Time   \n",
       "1218                  Programmer (Data Team Supervisor)             Full Time   \n",
       "1485             Data Entry Officer  /  Public Surveyor   Contract, Full Time   \n",
       "1098                          Data Entry Clerk - Changi             Full Time   \n",
       "940   Data Entry (3 Months Part Time Contract, Flexi...             Part Time   \n",
       "1072                                   Data Entry Clerk              Contract   \n",
       "333                                Admin cum data entry  Permanent, Full Time   \n",
       "1203                                   Data Entry Clerk             Part Time   \n",
       "745                                    Data Entry Clerk              Contract   \n",
       "858                                    Data Entry Clerk              Contract   \n",
       "1077                                   Data Entry Clerk                Others   \n",
       "1251                         Data Processor [Part-Time]             Part Time   \n",
       "\n",
       "                                  Seniority  \\\n",
       "237                       Middle Management   \n",
       "248                            Professional   \n",
       "514                       Senior Management   \n",
       "1294                                Manager   \n",
       "236                                 Manager   \n",
       "189                       Middle Management   \n",
       "1423                      Senior Management   \n",
       "257                       Middle Management   \n",
       "724                                 Manager   \n",
       "305                               Executive   \n",
       "645                            Professional   \n",
       "1253                           Professional   \n",
       "639              Middle Management, Manager   \n",
       "10                        Senior Management   \n",
       "926                                 Manager   \n",
       "740                        Senior Executive   \n",
       "1219                       Senior Executive   \n",
       "88                             Professional   \n",
       "578                       Senior Management   \n",
       "555                            Professional   \n",
       "412                            Professional   \n",
       "244                                 Manager   \n",
       "1354                       Senior Executive   \n",
       "1474                                Manager   \n",
       "483                               Executive   \n",
       "1313                       Senior Executive   \n",
       "580                       Fresh/entry level   \n",
       "0               Executive, Senior Executive   \n",
       "1250                       Senior Executive   \n",
       "1215                                Manager   \n",
       "...                                     ...   \n",
       "385                               Executive   \n",
       "1089                              Executive   \n",
       "522                        Junior Executive   \n",
       "251                            Professional   \n",
       "1353                              Executive   \n",
       "1060                              Executive   \n",
       "1470                              Executive   \n",
       "1242  Manager, Fresh/entry level, Executive   \n",
       "430                           Non-executive   \n",
       "1307                                Manager   \n",
       "398                       Fresh/entry level   \n",
       "268                        Junior Executive   \n",
       "131                               Executive   \n",
       "321                        Junior Executive   \n",
       "1412                              Executive   \n",
       "630                               Executive   \n",
       "593        Fresh/entry level, Non-executive   \n",
       "429                        Junior Executive   \n",
       "730                        Junior Executive   \n",
       "1218                      Fresh/entry level   \n",
       "1485       Fresh/entry level, Non-executive   \n",
       "1098                      Fresh/entry level   \n",
       "940                               Executive   \n",
       "1072                          Non-executive   \n",
       "333                               Executive   \n",
       "1203                      Fresh/entry level   \n",
       "745                       Fresh/entry level   \n",
       "858                           Non-executive   \n",
       "1077       Fresh/entry level, Non-executive   \n",
       "1251                      Fresh/entry level   \n",
       "\n",
       "                                               Industry  \\\n",
       "237                              Information Technology   \n",
       "248                              Information Technology   \n",
       "514                                Advertising / Media    \n",
       "1294                                Banking and Finance   \n",
       "236   Healthcare / Pharmaceutical, Information Techn...   \n",
       "189                              Information Technology   \n",
       "1423                                Banking and Finance   \n",
       "257   Consulting , Banking and Finance, Information ...   \n",
       "724                       Marketing / Public Relations    \n",
       "305                                 Banking and Finance   \n",
       "645                              Information Technology   \n",
       "1253                        Healthcare / Pharmaceutical   \n",
       "639                       Marketing / Public Relations    \n",
       "10                                 Advertising / Media    \n",
       "926                                         Engineering   \n",
       "740                                 Banking and Finance   \n",
       "1219  Consulting , Customer Service, Information Tec...   \n",
       "88                                            Insurance   \n",
       "578                                  General Management   \n",
       "555                         Healthcare / Pharmaceutical   \n",
       "412                   Information Technology, Insurance   \n",
       "244                                     Sales / Retail    \n",
       "1354                                             Others   \n",
       "1474                                      Manufacturing   \n",
       "483                                 Banking and Finance   \n",
       "1313                             Information Technology   \n",
       "580                                 Consulting , Others   \n",
       "0                                Information Technology   \n",
       "1250                             Information Technology   \n",
       "1215                        Healthcare / Pharmaceutical   \n",
       "...                                                 ...   \n",
       "385                                    Human Resources    \n",
       "1089                                Banking and Finance   \n",
       "522                       Marketing / Public Relations    \n",
       "251                 Engineering, Information Technology   \n",
       "1353                                   Human Resources    \n",
       "1060                          Building and Construction   \n",
       "1470                             Information Technology   \n",
       "1242           Human Resources , Information Technology   \n",
       "430                    Accounting / Auditing / Taxation   \n",
       "1307                        Sciences / Laboratory / R&D   \n",
       "398                                    Human Resources    \n",
       "268                           Building and Construction   \n",
       "131                                    Human Resources    \n",
       "321                       Marketing / Public Relations    \n",
       "1412                                Banking and Finance   \n",
       "630                                    Human Resources    \n",
       "593                            Logistics / Supply Chain   \n",
       "429                    Accounting / Auditing / Taxation   \n",
       "730                                 Admin / Secretarial   \n",
       "1218                             Information Technology   \n",
       "1485                     Others, Public / Civil Service   \n",
       "1098                                Admin / Secretarial   \n",
       "940                                 Admin / Secretarial   \n",
       "1072                                Admin / Secretarial   \n",
       "333                                 Admin / Secretarial   \n",
       "1203                                Admin / Secretarial   \n",
       "745                                 Admin / Secretarial   \n",
       "858                                 Admin / Secretarial   \n",
       "1077  Accounting / Auditing / Taxation, Admin / Secr...   \n",
       "1251                          Building and Construction   \n",
       "\n",
       "                                         Responsibility  \\\n",
       "237    &  The Director of Data Science will be a key...   \n",
       "248    & At Amazon Web Services (AWS), were hiring h...   \n",
       "514    & About Essence Essence, part of GroupM, is a...   \n",
       "1294   & Leading the way in International Banking. W...   \n",
       "236    & Engine Biosciences is a venture-backed biot...   \n",
       "189    &  Demonstrate how product functionality can ...   \n",
       "1423   & A Business Analyst job based in Singapore h...   \n",
       "257    & Job title  Solution Consulting  Lead Consul...   \n",
       "724    & This  will be having the overall ownership,...   \n",
       "305    & Do you possess all-round development skills...   \n",
       "645    & The Contact Center Business Analyst will he...   \n",
       "1253   & Engine Biosciences is a venture-backed biot...   \n",
       "639    & Job Scope   As an ASEAN Marketing leader, y...   \n",
       "10     & About Essence Essence, part of GroupM, is a...   \n",
       "926    &  Leading integrated agriculture MNC  Region...   \n",
       "740    & Are you an experienced mainframe engineer w...   \n",
       "1219   & What you'll be doing As a Sales Professiona...   \n",
       "88     & Main Purpose Reporting to the Lead Analyst ...   \n",
       "578    &  Conceptualize and develop the back end of ...   \n",
       "555    & Engine Biosciences is a venture-backed biot...   \n",
       "412    & To identify business requirements, document...   \n",
       "244    & A newly-created Regional Business Developme...   \n",
       "1354   & This  functions as a Senior Analyst and is ...   \n",
       "1474   & Regional Planner APAC Singapore About Synge...   \n",
       "483    & Are you curious? Do you love data? Are you ...   \n",
       "1313   & A global buyside firm has a job opportunity...   \n",
       "580    & Are you skilled at turning hard numbers int...   \n",
       "0      &  Creating complex, enterprise-transforming ...   \n",
       "1250   &    Key in driving and supporting migration ...   \n",
       "1215   & Our team, based in the UK and Singapore, ev...   \n",
       "...                                                 ...   \n",
       "385    & The Human Resource Executive (Performance a...   \n",
       "1089   & What You will do:  Create and improvise dat...   \n",
       "522    &  Undertake daily administrative tasks to en...   \n",
       "251    & Crown Robotics is seeking a Robotics / auto...   \n",
       "1353   & The Human Resource Executive (Performance a...   \n",
       "1060   &  Adhering to the Employers processes and pr...   \n",
       "1470   &  Attractive salary packages  Company Bonuse...   \n",
       "1242   & The Human Resource Executive (Performance a...   \n",
       "430    & UL helps companies demonstrate safety, conf...   \n",
       "1307   & Activate Interactive is a fast growing tech...   \n",
       "398    & The Human Resource Executive (Performance a...   \n",
       "268    & The Human Resource Executive (Performance a...   \n",
       "131    & The Human Resource Executive (Performance a...   \n",
       "321    &  Create EDM and marketing content regularly...   \n",
       "1412   & What You will do:  Create and improvise dat...   \n",
       "630    & The Human Resource Executive (Performance a...   \n",
       "593    &  Perform general admin duties including Dat...   \n",
       "429    &  Responsible for administrative task of the...   \n",
       "730    & Job   Write and update detailed guides on d...   \n",
       "1218   & Main   Maintain and adding features to Web ...   \n",
       "1485   & BGC Group is hiring 50 full-time data entry...   \n",
       "1098   & Data Entry Clerk, to work in the Changi Air...   \n",
       "940    &  Applythis jobvia this formonly:https://goo...   \n",
       "1072   & - Perform Routine data entry and clerical t...   \n",
       "333    & PL Biz Consulting Pte Ltd, an expanding pro...   \n",
       "1203                          & Data entry into system.   \n",
       "745    & - Assist Finance Manager on the day to day ...   \n",
       "858    & Maintains database by entering new and upda...   \n",
       "1077   & We are looking for Contract-based Data Entr...   \n",
       "1251   & To gather and process data To compile data ...   \n",
       "\n",
       "                                           Requirements       Avg_sal  \\\n",
       "237   RequirementsQualifications  7+ years experienc...  25000.000000   \n",
       "248   RequirementsBasic Qualifications  BA/BS degree...  22916.666667   \n",
       "514   RequirementsA bit about yourself:   At least 7...  13333.333333   \n",
       "1294  RequirementsQualifications: Training, licenses...  13333.333333   \n",
       "236   RequirementsMinimum Requirements  Ph.D. in Bio...  13333.333333   \n",
       "189   Requirements Should have minimum 18+years of e...  12916.666667   \n",
       "1423  RequirementsTo succeed in this Business Analys...  11250.000000   \n",
       "257   Requirements A minimum of five years Business ...  11000.000000   \n",
       "724   Requirements Minimum 8 years of experiencein e...  10833.333333   \n",
       "305   RequirementsYou have:  experience designing an...  10625.000000   \n",
       "645   Requirements 5  8 years of experience in CRM s...   9750.000000   \n",
       "1253  Requirements Ph.D. in Bioinformatics / Statist...   9583.333333   \n",
       "639   RequirementsCandidate Profile Requirements:  D...   9375.000000   \n",
       "10    RequirementsA bit about yourself:   Degree fro...   9166.666667   \n",
       "926   Requirements The successful candidate will be ...   8750.000000   \n",
       "740   RequirementsYou have:  long-standing experienc...   8333.333333   \n",
       "1219  RequirementsWho you are  Experienced.Considera...   8333.333333   \n",
       "88    RequirementsKnowledge & Skills  Degree in busi...   8333.333333   \n",
       "578                          RequirementsIT, Blockchain   7916.666667   \n",
       "555   Requirements Ph.D. in Bioinformatics / Statist...   6666.666667   \n",
       "412   RequirementsSkills Required:  Good understandi...   6666.666667   \n",
       "244   RequirementsTo succeed in this Regional Busine...   6250.000000   \n",
       "1354  RequirementsPreferred Experience:  Experience ...   6250.000000   \n",
       "1474  RequirementsWe are looking for:  At least 3-5 ...   6041.666667   \n",
       "483   RequirementsYou have - hands on data preparati...   5833.333333   \n",
       "1313  RequirementsTo succeed in the Data Steward job...   5833.333333   \n",
       "580   RequirementsQualifications We are looking for ...   5416.666667   \n",
       "0     Requirements A Bachelors degree in Computer Sc...   4916.666667   \n",
       "1250  Requirements Degree (and above) in Information...   4875.000000   \n",
       "1215  RequirementsEssential skills & experience:  Pr...   4541.666667   \n",
       "...                                                 ...           ...   \n",
       "385   Requirements ~ Analyse employee demographics a...   2500.000000   \n",
       "1089  RequirementsWhat we are looking for:  Fluency ...   2500.000000   \n",
       "522   Requirements Position is for 4 - 5 months to c...   2500.000000   \n",
       "251   RequirementsThe responsibilities include but n...   2500.000000   \n",
       "1353  Requirements ~ Develop frequently asked questi...   2500.000000   \n",
       "1060  Requirements Sound knowledge of data centre eq...   2400.000000   \n",
       "1470  Requirements Attractive salary packages  Compa...   2400.000000   \n",
       "1242  Requirements ~ Analyse employee demographics a...   2400.000000   \n",
       "430   RequirementsSuccessful candidate should ideall...   2400.000000   \n",
       "1307  RequirementsRoles and responsibilities   Gathe...   2300.000000   \n",
       "398   Requirements ~ Analyse employee demographics a...   2250.000000   \n",
       "268   Requirements ~ Develop frequently asked questi...   2250.000000   \n",
       "131   Requirements ~ Analyse employee demographics a...   2250.000000   \n",
       "321   Requirements Minimum diploma holder in Marketi...   2250.000000   \n",
       "1412  RequirementsWhat we are looking for:  Fluency ...   2250.000000   \n",
       "630   Requirements ~ Analyse employee demographics a...   2250.000000   \n",
       "593   Requirements Minimum Diploma or equivalent. No...   2200.000000   \n",
       "429   Requirements Min relevant Diploma or Certifica...   2200.000000   \n",
       "730   Requirements Experience in data protection and...   2100.000000   \n",
       "1218  RequirementsRequirements  Diploma/Degree in IT...   2050.000000   \n",
       "1485  RequirementsRequirements  Only Singaporeans ne...   1900.000000   \n",
       "1098  RequirementsBasic Computer Skills (Word, Excel...   1850.000000   \n",
       "940   Requirements Job Application Process If yousha...   1800.500000   \n",
       "1072  RequirementsCompetence - O Level holder with r...   1700.000000   \n",
       "333   RequirementsRequirements:   Min. O level 2-3 y...   1650.000000   \n",
       "1203  RequirementsAble to enter data accurately and ...   1600.000000   \n",
       "745   Requirements-GCE 'O' Level and above - Microso...   1550.000000   \n",
       "858   RequirementsData Entry Clerk Job Duties:  Prep...   1400.000000   \n",
       "1077  RequirementsRequirements: - Candidate must pos...   1300.000000   \n",
       "1251  RequirementsKnowledge in Microsoft Excel and B...   1000.000000   \n",
       "\n",
       "      Avg_sal_percentile  \n",
       "237           100.000000  \n",
       "248            99.932931  \n",
       "514            99.798793  \n",
       "1294           99.798793  \n",
       "236            99.798793  \n",
       "189            99.664655  \n",
       "1423           99.597586  \n",
       "257            99.530516  \n",
       "724            99.463447  \n",
       "305            99.396378  \n",
       "645            99.329309  \n",
       "1253           99.262240  \n",
       "639            99.195171  \n",
       "10             99.128102  \n",
       "926            99.061033  \n",
       "740            98.926895  \n",
       "1219           98.926895  \n",
       "88             98.926895  \n",
       "578            98.792757  \n",
       "555            98.692153  \n",
       "412            98.692153  \n",
       "244            98.558015  \n",
       "1354           98.558015  \n",
       "1474           98.457411  \n",
       "483            98.356808  \n",
       "1313           98.356808  \n",
       "580            98.256204  \n",
       "0              98.189135  \n",
       "1250           98.122066  \n",
       "1215           98.054997  \n",
       "...                  ...  \n",
       "385             1.911469  \n",
       "1089            1.911469  \n",
       "522             1.911469  \n",
       "251             1.911469  \n",
       "1353            1.911469  \n",
       "1060            1.576123  \n",
       "1470            1.576123  \n",
       "1242            1.576123  \n",
       "430             1.576123  \n",
       "1307            1.408451  \n",
       "398             1.173709  \n",
       "268             1.173709  \n",
       "131             1.173709  \n",
       "321             1.173709  \n",
       "1412            1.173709  \n",
       "630             1.173709  \n",
       "593             0.905433  \n",
       "429             0.905433  \n",
       "730             0.804829  \n",
       "1218            0.737760  \n",
       "1485            0.670691  \n",
       "1098            0.603622  \n",
       "940             0.536553  \n",
       "1072            0.469484  \n",
       "333             0.402414  \n",
       "1203            0.335345  \n",
       "745             0.268276  \n",
       "858             0.201207  \n",
       "1077            0.134138  \n",
       "1251            0.067069  \n",
       "\n",
       "[1491 rows x 9 columns]"
      ]
     },
     "execution_count": 44,
     "metadata": {},
     "output_type": "execute_result"
    }
   ],
   "source": [
    "# checking for top salaries in jobs.Avg_sal to ensure there are no outliers in the col\n",
    "\n",
    "jobs = pd.concat([jobs,outliers])\n",
    "jobs.sort_values('Avg_sal_percentile', ascending=False)"
   ]
  },
  {
   "cell_type": "markdown",
   "metadata": {},
   "source": [
    "https://blog.moneysmart.sg/career/average-salary-singapore/\n",
    "\n",
    "###### Based on the website above, data scientist salary stats are as below:\n",
    "\n",
    "25th-percentile = $5,505   / 3,803 (average of all in the list)\n",
    "\n",
    "Median = $6,279   / 4,711 (average of all in the list)\n",
    "\n",
    "75th-percentile = $7,836  / 5,708 (average of all in the list)\n",
    "\n",
    "###### For the salary categorization below, I will base it on the data scientist stats above.\n",
    "\n",
    "Very low salary: x <= 5,505\n",
    "\n",
    "Low salary: 5,505 < x <= 6,279\n",
    "\n",
    "High salary: 6,279 < x <= 7,836\n",
    "\n",
    "Very high salary: x > 7,836"
   ]
  },
  {
   "cell_type": "code",
   "execution_count": 45,
   "metadata": {
    "ExecuteTime": {
     "end_time": "2018-07-27T01:12:58.262000Z",
     "start_time": "2018-07-27T01:12:58.250000Z"
    }
   },
   "outputs": [],
   "source": [
    "# splitting based on percentile to 4 salary categories - very low salary, low salary, high salary, very high salary\n",
    "\n",
    "# current y\n",
    "jobs['sal_cat'] = jobs.Avg_sal.apply(lambda x: 'very low salary' if x <= 5505  else ('low salary' if 5505 < x <= 6279 else ('high salary' if 6279 < x <= 7836 else 'very high salary')))"
   ]
  },
  {
   "cell_type": "code",
   "execution_count": 46,
   "metadata": {
    "ExecuteTime": {
     "end_time": "2018-07-27T01:12:58.288000Z",
     "start_time": "2018-07-27T01:12:58.268000Z"
    }
   },
   "outputs": [
    {
     "data": {
      "text/plain": [
       "very low salary     35.881958\n",
       "very high salary    32.796781\n",
       "high salary         20.791415\n",
       "low salary          10.529846\n",
       "Name: sal_cat, dtype: float64"
      ]
     },
     "execution_count": 46,
     "metadata": {},
     "output_type": "execute_result"
    }
   ],
   "source": [
    "jobs.sal_cat.value_counts()/len(jobs)*100"
   ]
  },
  {
   "cell_type": "code",
   "execution_count": 47,
   "metadata": {
    "ExecuteTime": {
     "end_time": "2018-07-27T01:12:58.670000Z",
     "start_time": "2018-07-27T01:12:58.295000Z"
    }
   },
   "outputs": [
    {
     "data": {
      "text/plain": [
       "[Text(0.5,0,u'Monthly Salary')]"
      ]
     },
     "execution_count": 47,
     "metadata": {},
     "output_type": "execute_result"
    },
    {
     "data": {
      "image/png": "[encoded data removed]",
      "text/plain": [
       "<matplotlib.figure.Figure at 0xd3ee5f8>"
      ]
     },
     "metadata": {},
     "output_type": "display_data"
    }
   ],
   "source": [
    "plt.figure(figsize=(10,5))\n",
    "jobs['Avg_sal'].plot(kind='hist', bins=20, title='Distribution plot of Salary').set(xlabel='Monthly Salary')"
   ]
  },
  {
   "cell_type": "code",
   "execution_count": 48,
   "metadata": {
    "ExecuteTime": {
     "end_time": "2018-07-27T01:12:58.911000Z",
     "start_time": "2018-07-27T01:12:58.677000Z"
    }
   },
   "outputs": [
    {
     "data": {
      "text/plain": [
       "(array([0, 1, 2, 3, 4, 5, 6]), <a list of 7 Text xticklabel objects>)"
      ]
     },
     "execution_count": 48,
     "metadata": {},
     "output_type": "execute_result"
    },
    {
     "data": {
      "image/png": "[encoded data removed]",
      "text/plain": [
       "<matplotlib.figure.Figure at 0xd3ee908>"
      ]
     },
     "metadata": {},
     "output_type": "display_data"
    }
   ],
   "source": [
    "plt.figure(figsize=(10,6))\n",
    "jobs.Emp_type.value_counts().plot(kind='bar', title='Employment Type Plot').set(xlabel='Emp_type', ylabel='Counts')\n",
    "plt.xticks(rotation=30)"
   ]
  },
  {
   "cell_type": "code",
   "execution_count": 49,
   "metadata": {
    "ExecuteTime": {
     "end_time": "2018-07-27T01:12:58.941000Z",
     "start_time": "2018-07-27T01:12:58.918000Z"
    }
   },
   "outputs": [],
   "source": [
    "jobs['all_info']= jobs['Company'] + ' ' + jobs.Title + ' ' + jobs.Emp_type + ' ' \\\n",
    "    + jobs.Seniority + ' ' + jobs.Industry + ' ' + jobs.Responsibility + ' ' + jobs.Requirements"
   ]
  },
  {
   "cell_type": "code",
   "execution_count": 50,
   "metadata": {
    "ExecuteTime": {
     "end_time": "2018-07-27T01:12:58.959000Z",
     "start_time": "2018-07-27T01:12:58.947000Z"
    }
   },
   "outputs": [],
   "source": [
    "jobs.reset_index(inplace=True)\n",
    "jobs.drop('index', axis=1, inplace=True)"
   ]
  },
  {
   "cell_type": "code",
   "execution_count": 51,
   "metadata": {
    "ExecuteTime": {
     "end_time": "2018-07-27T01:13:00.961000Z",
     "start_time": "2018-07-27T01:12:58.966000Z"
    }
   },
   "outputs": [],
   "source": [
    "from nltk.corpus import stopwords\n",
    "from sklearn.feature_extraction import stop_words\n",
    "\n",
    "stopwords_sk = stop_words.ENGLISH_STOP_WORDS  #from sklearn\n",
    "# stopwords_nltk = stopwords.words('english')  #from nltk"
   ]
  },
  {
   "cell_type": "code",
   "execution_count": 52,
   "metadata": {
    "ExecuteTime": {
     "end_time": "2018-07-27T01:13:00.976000Z",
     "start_time": "2018-07-27T01:13:00.968000Z"
    }
   },
   "outputs": [],
   "source": [
    "additional_words = ['Roles', 'Responsibilities', 'Requirements', 'RequirementsRequirements', 'Qualifications', 'Roles & ResponsibilitiesRole'\n",
    "                   'Roles & ResponsibilitiesResponsibilities']\n",
    "stopwords_sk = stopwords_sk.union(additional_words)"
   ]
  },
  {
   "cell_type": "code",
   "execution_count": 53,
   "metadata": {
    "ExecuteTime": {
     "end_time": "2018-07-27T01:13:00.991000Z",
     "start_time": "2018-07-27T01:13:00.983000Z"
    }
   },
   "outputs": [],
   "source": [
    "X = jobs.all_info\n",
    "\n",
    "y = jobs['sal_cat']"
   ]
  },
  {
   "cell_type": "markdown",
   "metadata": {},
   "source": [
    "## Getting the scores"
   ]
  },
  {
   "cell_type": "code",
   "execution_count": 54,
   "metadata": {
    "ExecuteTime": {
     "end_time": "2018-07-27T01:13:01.415000Z",
     "start_time": "2018-07-27T01:13:00.995000Z"
    }
   },
   "outputs": [
    {
     "name": "stderr",
     "output_type": "stream",
     "text": [
      "C:\\Users\\Arsyad\\Anaconda2\\lib\\site-packages\\sklearn\\cross_validation.py:41: DeprecationWarning: This module was deprecated in version 0.18 in favor of the model_selection module into which all the refactored classes and functions are moved. Also note that the interface of the new CV iterators are different from that of this module. This module will be removed in 0.20.\n",
      "  \"This module will be removed in 0.20.\", DeprecationWarning)\n"
     ]
    }
   ],
   "source": [
    "from sklearn.cross_validation import train_test_split\n",
    "from sklearn.linear_model import LogisticRegression\n",
    "from sklearn.pipeline import Pipeline, make_pipeline\n",
    "from sklearn import model_selection\n",
    "from sklearn.feature_extraction.text import CountVectorizer, TfidfVectorizer\n",
    "from sklearn.ensemble import RandomForestClassifier\n",
    "from sklearn.tree import DecisionTreeClassifier\n",
    "from sklearn.model_selection import GridSearchCV\n",
    "from sklearn.neighbors import KNeighborsClassifier\n",
    "from sklearn.cluster import KMeans, k_means\n",
    "from nltk.stem import PorterStemmer, WordNetLemmatizer\n",
    "from sklearn.metrics import confusion_matrix, classification_report\n",
    "from sklearn.base import TransformerMixin\n",
    "from sklearn.svm import SVC\n",
    "import string"
   ]
  },
  {
   "cell_type": "code",
   "execution_count": 55,
   "metadata": {
    "ExecuteTime": {
     "end_time": "2018-07-27T01:13:01.431000Z",
     "start_time": "2018-07-27T01:13:01.421000Z"
    }
   },
   "outputs": [
    {
     "name": "stdout",
     "output_type": "stream",
     "text": [
      "(1192L,)\n",
      "(299L,)\n",
      "(1192L,)\n",
      "(299L,)\n"
     ]
    }
   ],
   "source": [
    "X_train, X_test, y_train, y_test = train_test_split(X, y, test_size=0.2, random_state=42)\n",
    "\n",
    "print X_train.shape\n",
    "print X_test.shape\n",
    "print y_train.shape\n",
    "print y_test.shape"
   ]
  },
  {
   "cell_type": "code",
   "execution_count": 56,
   "metadata": {
    "ExecuteTime": {
     "end_time": "2018-07-27T01:13:01.461000Z",
     "start_time": "2018-07-27T01:13:01.439000Z"
    }
   },
   "outputs": [],
   "source": [
    "X_train = X_train.reset_index()\n",
    "X_train.drop('index', axis=1, inplace=True)\n",
    "\n",
    "y_train = y_train.reset_index()\n",
    "y_train.drop('index', axis=1, inplace=True)\n",
    "y_train = y_train.T.squeeze()"
   ]
  },
  {
   "cell_type": "code",
   "execution_count": 57,
   "metadata": {
    "ExecuteTime": {
     "end_time": "2018-07-27T01:13:01.488000Z",
     "start_time": "2018-07-27T01:13:01.471000Z"
    }
   },
   "outputs": [],
   "source": [
    "X_test = X_test.reset_index()\n",
    "X_test.drop('index', axis=1, inplace=True)\n",
    "# X_test = X_test.T.squeeze()\n",
    "\n",
    "y_test = y_test.reset_index()\n",
    "y_test.drop('index', axis=1, inplace=True)\n",
    "y_test = y_test.T.squeeze()"
   ]
  },
  {
   "cell_type": "code",
   "execution_count": 58,
   "metadata": {
    "ExecuteTime": {
     "end_time": "2018-07-27T01:13:01.505000Z",
     "start_time": "2018-07-27T01:13:01.495000Z"
    }
   },
   "outputs": [
    {
     "name": "stdout",
     "output_type": "stream",
     "text": [
      "1192\n",
      "1192\n"
     ]
    }
   ],
   "source": [
    "print len(y_train)\n",
    "print len(X_train)"
   ]
  },
  {
   "cell_type": "code",
   "execution_count": 59,
   "metadata": {
    "ExecuteTime": {
     "end_time": "2018-07-27T01:13:13.493000Z",
     "start_time": "2018-07-27T01:13:01.512000Z"
    }
   },
   "outputs": [],
   "source": [
    "# lemmatizing X_train\n",
    "\n",
    "lemma = WordNetLemmatizer()\n",
    "stemmer = PorterStemmer()\n",
    "\n",
    "X_train_temp = []\n",
    "for i in range (0,len(X_train)):\n",
    "    col = re.sub('[^a-zA-Z]', ' ', X_train['all_info'][i])\n",
    "    col = col.lower()\n",
    "    col = col.split()\n",
    "    col = [lemma.lemmatize(word) for word in col if not word in set(stopwords_sk)]\n",
    "    col = ' '.join(col)\n",
    "    X_train_temp.append(col)\n",
    "\n",
    "X_train = X_train_temp"
   ]
  },
  {
   "cell_type": "code",
   "execution_count": 60,
   "metadata": {
    "ExecuteTime": {
     "end_time": "2018-07-27T01:13:14.886000Z",
     "start_time": "2018-07-27T01:13:13.499000Z"
    }
   },
   "outputs": [],
   "source": [
    "X_test_temp = []\n",
    "for i in range (0,len(X_test)):\n",
    "    col = re.sub('[^a-zA-Z]', ' ', X_test['all_info'][i])\n",
    "    col = col.lower()\n",
    "    col = col.split()\n",
    "    col = [lemma.lemmatize(word) for word in col if not word in set(stopwords_sk)]\n",
    "    col = ' '.join(col)\n",
    "    X_test_temp.append(col)\n",
    "\n",
    "X_test = X_test_temp"
   ]
  },
  {
   "cell_type": "code",
   "execution_count": 61,
   "metadata": {
    "ExecuteTime": {
     "end_time": "2018-07-27T01:13:14.939000Z",
     "start_time": "2018-07-27T01:13:14.920000Z"
    }
   },
   "outputs": [
    {
     "data": {
      "text/plain": [
       "very high salary    34.060403\n",
       "very low salary     33.976510\n",
       "high salary         21.057047\n",
       "low salary          10.906040\n",
       "Name: sal_cat, dtype: float64"
      ]
     },
     "execution_count": 61,
     "metadata": {},
     "output_type": "execute_result"
    }
   ],
   "source": [
    "# checking for imbalance dataset\n",
    "y_train.value_counts() / len(y_train) * 100"
   ]
  },
  {
   "cell_type": "markdown",
   "metadata": {},
   "source": [
    "### KNN (base line model)"
   ]
  },
  {
   "cell_type": "code",
   "execution_count": 62,
   "metadata": {
    "ExecuteTime": {
     "end_time": "2018-07-27T01:13:15.323000Z",
     "start_time": "2018-07-27T01:13:14.944000Z"
    }
   },
   "outputs": [
    {
     "name": "stdout",
     "output_type": "stream",
     "text": [
      "Score: 0.428093645485\n"
     ]
    }
   ],
   "source": [
    "pipe_knntf = Pipeline([('tfidf', TfidfVectorizer()), \n",
    "                 ('knn', KNeighborsClassifier())])\n",
    "\n",
    "pipe_knntf.fit(X_train, y_train)\n",
    "\n",
    "print 'Score: {}' .format(pipe_knntf.score(X_test, y_test))"
   ]
  },
  {
   "cell_type": "code",
   "execution_count": null,
   "metadata": {
    "ExecuteTime": {
     "start_time": "2018-07-27T01:12:52.434Z"
    }
   },
   "outputs": [
    {
     "name": "stdout",
     "output_type": "stream",
     "text": [
      "Score: 0.438127090301\n"
     ]
    }
   ],
   "source": [
    "pipe_knncv = Pipeline([('cvec', CountVectorizer()), \n",
    "                 ('knn', KNeighborsClassifier())])\n",
    "\n",
    "pipe_knncv.fit(X_train, y_train)\n",
    "\n",
    "print 'Score: {}' .format(pipe_knncv.score(X_test, y_test))"
   ]
  },
  {
   "cell_type": "markdown",
   "metadata": {},
   "source": [
    "### LogisticRegression"
   ]
  },
  {
   "cell_type": "markdown",
   "metadata": {
    "ExecuteTime": {
     "end_time": "2018-07-23T14:36:38.285000Z",
     "start_time": "2018-07-23T14:36:38.275000Z"
    }
   },
   "source": [
    "#### Logistic Regression GridSearch for TfidfVectorizer"
   ]
  },
  {
   "cell_type": "markdown",
   "metadata": {
    "heading_collapsed": true
   },
   "source": [
    "##### Logistic Regression GridSearch for TfidfVectorizer fit"
   ]
  },
  {
   "cell_type": "code",
   "execution_count": null,
   "metadata": {
    "ExecuteTime": {
     "start_time": "2018-07-27T01:12:52.445Z"
    },
    "hidden": true,
    "scrolled": true
   },
   "outputs": [
    {
     "name": "stdout",
     "output_type": "stream",
     "text": [
      "Fitting 5 folds for each of 48 candidates, totalling 240 fits\n"
     ]
    },
    {
     "name": "stderr",
     "output_type": "stream",
     "text": [
      "[Parallel(n_jobs=-1)]: Done  25 tasks      | elapsed:   24.5s\n"
     ]
    }
   ],
   "source": [
    "pipe_lrtf = Pipeline([('tfidf', TfidfVectorizer(stop_words=stopwords_sk)), \n",
    "                 ('lr', LogisticRegression())])\n",
    "\n",
    "param_grid_lrtf = {'tfidf__min_df': [1, 2, 3],\n",
    "              'tfidf__ngram_range': [(1,2), (2,3)],   # data; data scientist; senior data scientist\n",
    "              'lr__C': [0.01, 0.1, 1, 10],\n",
    "              'lr__penalty': ['l1', 'l2']\n",
    "             }\n",
    "\n",
    "grid_lrtf = GridSearchCV(pipe_lrtf, param_grid_lrtf, verbose=2, cv=5, n_jobs=-1)\n",
    "\n",
    "grid_lrtf.fit(X_train, y_train)\n",
    "\n",
    "scaler = grid_lrtf.best_estimator_.named_steps['tfidf']\n",
    "classifer = grid_lrtf.best_estimator_.named_steps['lr']"
   ]
  },
  {
   "cell_type": "markdown",
   "metadata": {},
   "source": [
    "##### Logistic Regression GridSearch for TfidfVectorizer score"
   ]
  },
  {
   "cell_type": "code",
   "execution_count": null,
   "metadata": {
    "ExecuteTime": {
     "start_time": "2018-07-27T01:12:52.451Z"
    },
    "scrolled": true
   },
   "outputs": [],
   "source": [
    "print 'Score: {}' .format(grid_lrtf.score(X_test, y_test)), '\\n\\n'\n",
    "\n",
    "print 'Best parameters: ', grid_lrtf.best_params_, '\\n'\n",
    "\n",
    "model_gridsearch_lrtf = grid_lrtf.best_estimator_\n",
    "print 'Best estimators score: ', model_gridsearch_lrtf.score(X_test, y_test), '\\n'\n",
    "\n",
    "grid_predictions_lrtf = grid_lrtf.predict(X_test)\n",
    "\n",
    "print 'Confusion matrix: \\n', confusion_matrix(y_test, grid_predictions_lrtf), '\\n'\n",
    "print 'Classification report: \\n', classification_report(y_test, grid_predictions_lrtf)"
   ]
  },
  {
   "cell_type": "markdown",
   "metadata": {
    "heading_collapsed": true
   },
   "source": [
    "##### Features"
   ]
  },
  {
   "cell_type": "code",
   "execution_count": null,
   "metadata": {
    "ExecuteTime": {
     "start_time": "2018-07-27T01:12:52.457Z"
    },
    "hidden": true
   },
   "outputs": [],
   "source": [
    "X_train_df = pd.DataFrame(scaler.transform(X_train).todense(),\n",
    "                   columns=scaler.get_feature_names())\n",
    "\n",
    "word_count = X_train_df.sum(axis=0)\n",
    "\n",
    "word_count.sort_values(ascending=False).head()\n",
    "\n",
    "word_count_df = pd.DataFrame({'word':word_count.index,\n",
    "                             'word_count': word_count.values})\n",
    "\n",
    "word_count_df.sort_values('word_count').tail(5)  # for train set"
   ]
  },
  {
   "cell_type": "code",
   "execution_count": null,
   "metadata": {
    "ExecuteTime": {
     "start_time": "2018-07-27T01:12:52.462Z"
    },
    "hidden": true
   },
   "outputs": [],
   "source": [
    "word_count_df.sort_values('word_count').head()  # for train set"
   ]
  },
  {
   "cell_type": "code",
   "execution_count": null,
   "metadata": {
    "ExecuteTime": {
     "start_time": "2018-07-27T01:12:52.467Z"
    },
    "hidden": true
   },
   "outputs": [],
   "source": [
    "X_test_df = pd.DataFrame(scaler.transform(X_test).todense(),\n",
    "                      columns=scaler.get_feature_names())\n",
    "\n",
    "word_count = X_test_df.sum(axis=0)\n",
    "\n",
    "word_count.sort_values(ascending=False).head()\n",
    "\n",
    "word_count_df = pd.DataFrame({'word':word_count.index,\n",
    "                             'word_count': word_count.values})\n",
    "\n",
    "word_count_df.sort_values('word_count', ascending=False).head()"
   ]
  },
  {
   "cell_type": "code",
   "execution_count": null,
   "metadata": {
    "ExecuteTime": {
     "start_time": "2018-07-27T01:12:52.473Z"
    },
    "hidden": true
   },
   "outputs": [],
   "source": [
    "word_count_df.sort_values('word_count', ascending=False).tail()"
   ]
  },
  {
   "cell_type": "markdown",
   "metadata": {},
   "source": [
    "#### Logistic Regression GridSearch for CountVectorizer"
   ]
  },
  {
   "cell_type": "markdown",
   "metadata": {},
   "source": [
    "##### Logistic Regression GridSearch for CountVectorizer fit"
   ]
  },
  {
   "cell_type": "code",
   "execution_count": null,
   "metadata": {
    "ExecuteTime": {
     "start_time": "2018-07-27T01:12:52.482Z"
    },
    "scrolled": true
   },
   "outputs": [],
   "source": [
    "pipe_lrcv = Pipeline([('cvec', CountVectorizer(stop_words=stopwords_sk)), \n",
    "                 ('lr', LogisticRegression())])\n",
    "\n",
    "param_grid_lrcv = {'cvec__min_df': [1, 2, 3],\n",
    "              'cvec__ngram_range': [(1,2), (2,3)],   # data scientist; senior data scientist\n",
    "              'lr__C': [0.01, 0.1, 1, 10],\n",
    "              'lr__penalty': ['l1', 'l2']\n",
    "             }\n",
    "\n",
    "grid_lrcv = GridSearchCV(pipe_lrcv, param_grid_lrcv, verbose=1, cv=5, n_jobs=-1)\n",
    "\n",
    "grid_lrcv.fit(X_train, y_train)\n",
    "\n",
    "scaler = grid_lrcv.best_estimator_.named_steps['cvec']\n",
    "classifer = grid_lrcv.best_estimator_.named_steps['lr']"
   ]
  },
  {
   "cell_type": "markdown",
   "metadata": {},
   "source": [
    "##### Logistic Regression GridSearch for CountVectorizer score"
   ]
  },
  {
   "cell_type": "code",
   "execution_count": null,
   "metadata": {
    "ExecuteTime": {
     "start_time": "2018-07-27T01:12:52.491Z"
    }
   },
   "outputs": [],
   "source": [
    "print 'Score: {}' .format(grid_lrcv.score(X_test, y_test)), '\\n\\n'\n",
    "\n",
    "print 'Best parameters: ', grid_lrcv.best_params_, '\\n'\n",
    "\n",
    "model_gridsearch_lrcv = grid_lrcv.best_estimator_\n",
    "print 'Best estimators score: ', model_gridsearch_lrcv.score(X_test, y_test), '\\n\\n'\n",
    "\n",
    "grid_predictions_lrcv = grid_lrcv.predict(X_test)\n",
    "\n",
    "print 'Confusion matrix: \\n', confusion_matrix(y_test, grid_predictions_lrcv), '\\n'\n",
    "print 'Classification report: \\n', classification_report(y_test, grid_predictions_lrcv)"
   ]
  },
  {
   "cell_type": "markdown",
   "metadata": {},
   "source": [
    "##### Features"
   ]
  },
  {
   "cell_type": "code",
   "execution_count": null,
   "metadata": {
    "ExecuteTime": {
     "start_time": "2018-07-27T01:12:52.500Z"
    }
   },
   "outputs": [],
   "source": [
    "# to get features out\n",
    "X_train_df = pd.DataFrame(scaler.transform(X_train).todense(),\n",
    "                   columns=scaler.get_feature_names())\n",
    "\n",
    "word_count = X_train_df.sum(axis=0)\n",
    "\n",
    "word_count.sort_values(ascending=False).head()\n",
    "\n",
    "word_count_df = pd.DataFrame({'word':word_count.index,\n",
    "                             'word_count': word_count.values})\n",
    "\n",
    "word_count_df.sort_values('word_count').tail(10)  # for train set"
   ]
  },
  {
   "cell_type": "code",
   "execution_count": null,
   "metadata": {
    "ExecuteTime": {
     "start_time": "2018-07-27T01:12:52.505Z"
    }
   },
   "outputs": [],
   "source": [
    "word_count_df.sort_values('word_count').head(10)  # for train set"
   ]
  },
  {
   "cell_type": "code",
   "execution_count": null,
   "metadata": {
    "ExecuteTime": {
     "start_time": "2018-07-27T01:12:52.511Z"
    }
   },
   "outputs": [],
   "source": [
    "# Converting out vectorized test data to a dataframe\n",
    "# Using the CVEC which we fit earlier\n",
    "\n",
    "X_test_df = pd.DataFrame(scaler.transform(X_test).todense(),\n",
    "                      columns=scaler.get_feature_names())\n",
    "\n",
    "word_count = X_test_df.sum(axis=0)\n",
    "\n",
    "word_count.sort_values(ascending=False).head()\n",
    "\n",
    "word_count_df = pd.DataFrame({'word':word_count.index,\n",
    "                             'word_count': word_count.values})\n",
    "\n",
    "word_count_df.sort_values('word_count', ascending=False).head(10) # test set"
   ]
  },
  {
   "cell_type": "code",
   "execution_count": null,
   "metadata": {
    "ExecuteTime": {
     "start_time": "2018-07-27T01:12:52.516Z"
    }
   },
   "outputs": [],
   "source": [
    "word_count_df.sort_values('word_count', ascending=False).tail(10)  # test set"
   ]
  },
  {
   "cell_type": "code",
   "execution_count": null,
   "metadata": {},
   "outputs": [],
   "source": []
  },
  {
   "cell_type": "markdown",
   "metadata": {},
   "source": [
    "### Random Forest"
   ]
  },
  {
   "cell_type": "markdown",
   "metadata": {
    "heading_collapsed": true
   },
   "source": [
    "#### Random Forest GridSearch for CountVectorizer"
   ]
  },
  {
   "cell_type": "markdown",
   "metadata": {
    "heading_collapsed": true,
    "hidden": true
   },
   "source": [
    "##### RF GridSearch for CountVectorizer fit"
   ]
  },
  {
   "cell_type": "code",
   "execution_count": null,
   "metadata": {
    "ExecuteTime": {
     "start_time": "2018-07-27T01:12:52.527Z"
    },
    "hidden": true,
    "scrolled": false
   },
   "outputs": [],
   "source": [
    "pipe_rfcv = Pipeline([('cvec', CountVectorizer(stop_words=stopwords_sk)), \n",
    "                 ('rfc', RandomForestClassifier(class_weight=\"balanced\"))]) # class_weight=\"balanced\"\n",
    "\n",
    "param_grid_rfcv = {'cvec__min_df': [1, 2, 3],\n",
    "              'cvec__ngram_range': [(1,2), (2,3)],   # data scientist; senior data scientist\n",
    "              'rfc__n_estimators': [1, 5, 10],\n",
    "              'rfc__criterion': ['entropy', 'gini']\n",
    "             }\n",
    "\n",
    "grid_rfcv = GridSearchCV(pipe_rfcv, param_grid_rfcv, verbose=1, cv=5, n_jobs=-1)\n",
    "\n",
    "grid_rfcv.fit(X_train, y_train)\n",
    "\n",
    "scaler = grid_rfcv.best_estimator_.named_steps['cvec']   #extracting the features out\n",
    "classifer = grid_rfcv.best_estimator_.named_steps['rfc']"
   ]
  },
  {
   "cell_type": "markdown",
   "metadata": {
    "heading_collapsed": true,
    "hidden": true
   },
   "source": [
    "##### RF GridSearch for CountVectorizer score"
   ]
  },
  {
   "cell_type": "code",
   "execution_count": null,
   "metadata": {
    "ExecuteTime": {
     "start_time": "2018-07-27T01:12:52.534Z"
    },
    "hidden": true
   },
   "outputs": [],
   "source": [
    "print 'Score: {}' .format(grid_rfcv.score(X_test, y_test)), '\\n\\n'\n",
    "\n",
    "print 'Best parameters: ', grid_rfcv.best_params_, '\\n'\n",
    "\n",
    "model_gridsearch_rfcv = grid_rfcv.best_estimator_\n",
    "print 'Best estimators score: ', model_gridsearch_rfcv.score(X_test, y_test), '\\n\\n'\n",
    "\n",
    "grid_predictions_rfcv = grid_rfcv.predict(X_test)\n",
    "\n",
    "print 'Confusion matrix: \\n', confusion_matrix(y_test, grid_predictions_rfcv), '\\n'\n",
    "print 'Classification report: \\n', classification_report(y_test, grid_predictions_rfcv)"
   ]
  },
  {
   "cell_type": "markdown",
   "metadata": {
    "heading_collapsed": true,
    "hidden": true
   },
   "source": [
    "##### Features"
   ]
  },
  {
   "cell_type": "code",
   "execution_count": null,
   "metadata": {
    "ExecuteTime": {
     "start_time": "2018-07-27T01:12:52.541Z"
    },
    "hidden": true
   },
   "outputs": [],
   "source": [
    "# to get features out\n",
    "X_train_df = pd.DataFrame(scaler.transform(X_train).todense(),\n",
    "                   columns=scaler.get_feature_names())\n",
    "\n",
    "word_count = X_train_df.sum(axis=0)\n",
    "\n",
    "word_count.sort_values(ascending=False).head()\n",
    "\n",
    "word_count_df = pd.DataFrame({'word':word_count.index,\n",
    "                             'word_count': word_count.values})\n",
    "\n",
    "word_count_df.sort_values('word_count').tail(5)  # for train set"
   ]
  },
  {
   "cell_type": "code",
   "execution_count": null,
   "metadata": {
    "ExecuteTime": {
     "start_time": "2018-07-27T01:12:52.546Z"
    },
    "hidden": true
   },
   "outputs": [],
   "source": [
    "word_count_df.sort_values('word_count').head()  # for train set"
   ]
  },
  {
   "cell_type": "code",
   "execution_count": null,
   "metadata": {
    "ExecuteTime": {
     "start_time": "2018-07-27T01:12:52.552Z"
    },
    "hidden": true
   },
   "outputs": [],
   "source": [
    "# Converting out vectorized test data to a dataframe\n",
    "# Using the CVEC which we fit earlier\n",
    "\n",
    "X_test_df = pd.DataFrame(scaler.transform(X_test).todense(),\n",
    "                      columns=scaler.get_feature_names())\n",
    "\n",
    "word_count = X_test_df.sum(axis=0)\n",
    "\n",
    "word_count.sort_values(ascending=False).head()\n",
    "\n",
    "word_count_df = pd.DataFrame({'word':word_count.index,\n",
    "                             'word_count': word_count.values})\n",
    "\n",
    "word_count_df.sort_values('word_count', ascending=False).head() # test set"
   ]
  },
  {
   "cell_type": "code",
   "execution_count": null,
   "metadata": {
    "ExecuteTime": {
     "start_time": "2018-07-27T01:12:52.556Z"
    },
    "hidden": true
   },
   "outputs": [],
   "source": [
    "word_count_df.sort_values('word_count', ascending=False).tail()  # test set"
   ]
  },
  {
   "cell_type": "markdown",
   "metadata": {
    "heading_collapsed": true
   },
   "source": [
    "#### Random Forest GridSearch for CountVectorizer"
   ]
  },
  {
   "cell_type": "markdown",
   "metadata": {
    "hidden": true
   },
   "source": [
    "##### RF GridSearch for TFidfVectorizer fit"
   ]
  },
  {
   "cell_type": "code",
   "execution_count": null,
   "metadata": {
    "ExecuteTime": {
     "start_time": "2018-07-27T01:12:52.564Z"
    },
    "hidden": true
   },
   "outputs": [],
   "source": [
    "pipe_rftf = Pipeline([('tfidf', TfidfVectorizer(stop_words=stopwords_sk)), \n",
    "                 ('rfc', RandomForestClassifier(class_weight=\"balanced\"))])  # class_weight=\"balanced\"\n",
    "\n",
    "param_grid_rftf = {'tfidf__min_df': [1, 2, 3],\n",
    "              'tfidf__ngram_range': [(1,2), (2,3)],   # data scientist; senior data scientist\n",
    "              'rfc__n_estimators': [1, 5, 10],\n",
    "              'rfc__criterion': ['entropy', 'gini']\n",
    "             }\n",
    "\n",
    "grid_rftf = GridSearchCV(pipe_rftf, param_grid_rftf, verbose=1, cv=5, n_jobs=-1)\n",
    "\n",
    "grid_rftf.fit(X_train, y_train)\n",
    "\n",
    "scaler = grid_rftf.best_estimator_.named_steps['tfidf']   #extracting the features out\n",
    "classifer = grid_rftf.best_estimator_.named_steps['rfc']"
   ]
  },
  {
   "cell_type": "markdown",
   "metadata": {
    "hidden": true
   },
   "source": [
    "##### RF GridSearch for TFidfVectorizer score"
   ]
  },
  {
   "cell_type": "code",
   "execution_count": null,
   "metadata": {
    "ExecuteTime": {
     "start_time": "2018-07-27T01:12:52.571Z"
    },
    "hidden": true
   },
   "outputs": [],
   "source": [
    "print 'Score: {}' .format(grid_rftf.score(X_test, y_test)), '\\n\\n'\n",
    "\n",
    "print 'Best parameters: ', grid_rftf.best_params_, '\\n'\n",
    "\n",
    "model_gridsearch_rftf = grid_rftf.best_estimator_\n",
    "print 'Best estimators score: ', model_gridsearch_rftf.score(X_test, y_test), '\\n\\n'\n",
    "\n",
    "grid_predictions_rftf = grid_rftf.predict(X_test)\n",
    "\n",
    "print 'Confusion matrix: \\n', confusion_matrix(y_test, grid_predictions_rftf), '\\n'\n",
    "print 'Classification report: \\n', classification_report(y_test, grid_predictions_rftf)"
   ]
  },
  {
   "cell_type": "markdown",
   "metadata": {
    "heading_collapsed": true,
    "hidden": true
   },
   "source": [
    "##### Features"
   ]
  },
  {
   "cell_type": "code",
   "execution_count": null,
   "metadata": {
    "ExecuteTime": {
     "start_time": "2018-07-27T01:12:52.578Z"
    },
    "hidden": true
   },
   "outputs": [],
   "source": [
    "# to get features out\n",
    "X_train_df = pd.DataFrame(scaler.transform(X_train).todense(),\n",
    "                   columns=scaler.get_feature_names())\n",
    "\n",
    "word_count = X_train_df.sum(axis=0)\n",
    "\n",
    "word_count.sort_values(ascending=False).head()\n",
    "\n",
    "word_count_df = pd.DataFrame({'word':word_count.index,\n",
    "                             'word_count': word_count.values})\n",
    "\n",
    "word_count_df.sort_values('word_count').tail(5)  # for train set"
   ]
  },
  {
   "cell_type": "code",
   "execution_count": null,
   "metadata": {
    "ExecuteTime": {
     "start_time": "2018-07-27T01:12:52.582Z"
    },
    "hidden": true
   },
   "outputs": [],
   "source": [
    "word_count_df.sort_values('word_count').head()  # for train set"
   ]
  },
  {
   "cell_type": "code",
   "execution_count": null,
   "metadata": {
    "ExecuteTime": {
     "start_time": "2018-07-27T01:12:52.588Z"
    },
    "hidden": true
   },
   "outputs": [],
   "source": [
    "# Converting out vectorized test data to a dataframe\n",
    "# Using the CVEC which we fit earlier\n",
    "\n",
    "X_test_df = pd.DataFrame(scaler.transform(X_test).todense(),\n",
    "                      columns=scaler.get_feature_names())\n",
    "\n",
    "word_count = X_test_df.sum(axis=0)\n",
    "\n",
    "word_count.sort_values(ascending=False).head()\n",
    "\n",
    "word_count_df = pd.DataFrame({'word':word_count.index,\n",
    "                             'word_count': word_count.values})\n",
    "\n",
    "word_count_df.sort_values('word_count', ascending=False).head() # test set"
   ]
  },
  {
   "cell_type": "code",
   "execution_count": null,
   "metadata": {
    "ExecuteTime": {
     "start_time": "2018-07-27T01:12:52.593Z"
    },
    "hidden": true
   },
   "outputs": [],
   "source": [
    "word_count_df.sort_values('word_count', ascending=False).tail()  # test set"
   ]
  },
  {
   "cell_type": "code",
   "execution_count": null,
   "metadata": {
    "ExecuteTime": {
     "start_time": "2018-07-27T01:12:52.597Z"
    },
    "hidden": true
   },
   "outputs": [],
   "source": [
    "pipe5 = Pipeline([('tfidf', TfidfVectorizer()), \n",
    "                 ('cart', DecisionTreeClassifier(criterion='entropy'))])\n",
    "\n",
    "pipe5.fit(X_train, y_train)\n",
    "\n",
    "print 'Score: {}' .format(pipe5.score(X_test, y_test))"
   ]
  },
  {
   "cell_type": "markdown",
   "metadata": {
    "heading_collapsed": true
   },
   "source": [
    "### XGBoosting"
   ]
  },
  {
   "cell_type": "code",
   "execution_count": null,
   "metadata": {
    "ExecuteTime": {
     "start_time": "2018-07-27T01:12:52.604Z"
    },
    "hidden": true
   },
   "outputs": [],
   "source": [
    "from sklearn.ensemble import GradientBoostingClassifier, AdaBoostClassifier\n",
    "from xgboost import XGBClassifier"
   ]
  },
  {
   "cell_type": "markdown",
   "metadata": {
    "heading_collapsed": true,
    "hidden": true
   },
   "source": [
    "#### XGBoost with CountVectorizer"
   ]
  },
  {
   "cell_type": "code",
   "execution_count": null,
   "metadata": {
    "ExecuteTime": {
     "start_time": "2018-07-27T01:12:52.610Z"
    },
    "hidden": true
   },
   "outputs": [],
   "source": [
    "params = {\n",
    "       'min_child_weight': [1, 5, 10],\n",
    "       'gamma': [0.5, 1, 1.5, 2, 5],\n",
    "       'subsample': [0.6, 0.8, 1.0],\n",
    "       'colsample_bytree': [0.6, 0.8, 1.0],\n",
    "       'max_depth': [3, 4, 5]\n",
    "       }\n",
    "\n",
    "pipe_xgbcv = Pipeline([('cvec', CountVectorizer(stop_words=stopwords_sk, min_df=1, ngram_range=(2,3))), \n",
    "                 ('xgb', XGBClassifier(learning_rate=0.02, n_estimators=600, objective='binary:logistic',\n",
    "                   silent=True, nthread=1))])\n",
    "\n",
    "pipe_xgbcv.fit(X_train,y_train)\n",
    "\n",
    "scaler = pipe_xgbcv.named_steps['cvec']   #extracting the features out\n",
    "classifer = pipe_xgbcv.named_steps['xgb']"
   ]
  },
  {
   "cell_type": "code",
   "execution_count": null,
   "metadata": {
    "ExecuteTime": {
     "start_time": "2018-07-27T01:12:52.615Z"
    },
    "hidden": true
   },
   "outputs": [],
   "source": [
    "print 'Score: {}' .format(pipe_xgbcv.score(X_test, y_test)), '\\n\\n'\n",
    "\n",
    "print 'Best parameters: ', pipe_xgbcv.named_steps, '\\n'\n",
    "\n",
    "# model_gridsearch_xgbcv = pipe_xgbcv.best_estimator_\n",
    "print 'Best estimators score: ', pipe_xgbcv.score(X_test, y_test), '\\n\\n'\n",
    "\n",
    "grid_predictions_xgbcv = pipe_xgbcv.predict(X_test)\n",
    "\n",
    "print 'Confusion matrix: \\n', confusion_matrix(y_test, grid_predictions_xgbcv), '\\n'\n",
    "print 'Classification report: \\n', classification_report(y_test, grid_predictions_xgbcv)"
   ]
  },
  {
   "cell_type": "markdown",
   "metadata": {},
   "source": [
    "# Question 2"
   ]
  },
  {
   "cell_type": "markdown",
   "metadata": {},
   "source": [
    "## Preparing dataset for Q2"
   ]
  },
  {
   "cell_type": "code",
   "execution_count": null,
   "metadata": {
    "ExecuteTime": {
     "start_time": "2018-07-27T01:12:52.622Z"
    }
   },
   "outputs": [],
   "source": [
    "jobs1 = jobs.copy()"
   ]
  },
  {
   "cell_type": "code",
   "execution_count": null,
   "metadata": {
    "ExecuteTime": {
     "start_time": "2018-07-27T01:12:52.627Z"
    }
   },
   "outputs": [],
   "source": [
    "# if data_scientist == 1, else == 0\n",
    "\n",
    "jobs1['data_scientist'] = jobs1.Title.apply(lambda x: 1 if 'data scientist' in x.lower() or 'data science' in x.lower() or 'scientist' in x.lower() or 'science' in x.lower() else 0)\n",
    "# df['cat_Scientist'] = df['Title'].str.contains('scientist|science')*1"
   ]
  },
  {
   "cell_type": "code",
   "execution_count": null,
   "metadata": {
    "ExecuteTime": {
     "start_time": "2018-07-27T01:12:52.632Z"
    }
   },
   "outputs": [],
   "source": [
    "jobs1.data_scientist.value_counts()\n",
    "\n",
    "# there is class imbalance, but we can use random forest with class_weight=\"balanced\""
   ]
  },
  {
   "cell_type": "code",
   "execution_count": null,
   "metadata": {
    "ExecuteTime": {
     "start_time": "2018-07-27T01:12:52.636Z"
    }
   },
   "outputs": [],
   "source": [
    "# from sklearn.utils import resample\n",
    "\n",
    "# # Separate majority and minority classes\n",
    "# df_majority = jobs1[jobs1.data_scientist == 0]\n",
    "# df_minority = jobs1[jobs1.data_scientist == 1]\n",
    " \n",
    "# # Upsample minority class\n",
    "# df_minority_upsampled = resample(df_minority, \n",
    "#                                  replace=True,     # sample with replacement\n",
    "#                                  n_samples=1092,    # to match majority class\n",
    "#                                  random_state=123) # reproducible results\n",
    " \n",
    "# # Combine majority class with upsampled minority class\n",
    "# jobs1_upsampled = pd.concat([df_majority, df_minority_upsampled])\n",
    " \n",
    "# # Display new class counts\n",
    "# jobs1_upsampled.data_scientist.value_counts()"
   ]
  },
  {
   "cell_type": "code",
   "execution_count": null,
   "metadata": {
    "ExecuteTime": {
     "start_time": "2018-07-27T01:12:52.641Z"
    }
   },
   "outputs": [],
   "source": [
    "jobs1['all_info_q2']= jobs1['Company'] + ' ' + jobs1.Emp_type + ' ' \\\n",
    "    + jobs1.Seniority + ' ' + jobs1.Industry + ' ' + jobs1.Responsibility + ' ' + jobs1.Requirements"
   ]
  },
  {
   "cell_type": "code",
   "execution_count": null,
   "metadata": {
    "ExecuteTime": {
     "start_time": "2018-07-27T01:12:52.646Z"
    }
   },
   "outputs": [],
   "source": [
    "jobs1.reset_index(inplace=True)\n",
    "jobs1.drop('index', axis=1, inplace=True)\n",
    "\n",
    "X_q2 = jobs1.all_info_q2\n",
    "y_q2 = jobs1['data_scientist']\n",
    "\n",
    "X_train_q2, X_test_q2, y_train_q2, y_test_q2 = train_test_split(X_q2, y_q2, test_size=0.2, random_state=42)\n",
    "\n",
    "# check the shape of train and test set\n",
    "print X_train_q2.shape\n",
    "print X_test_q2.shape\n",
    "print y_train_q2.shape\n",
    "print y_test_q2.shape\n",
    "\n",
    "# resetting index to lemmatize train set\n",
    "X_train_q2 = X_train_q2.reset_index()\n",
    "X_train_q2.drop('index', axis=1, inplace=True)\n",
    "\n",
    "y_train_q2 = y_train_q2.reset_index()\n",
    "y_train_q2.drop('index', axis=1, inplace=True)\n",
    "y_train_q2 = y_train_q2.T.squeeze()\n",
    "\n",
    "\n",
    "# resetting index to lemmatize test set\n",
    "X_test_q2 = X_test_q2.reset_index()\n",
    "X_test_q2.drop('index', axis=1, inplace=True)\n",
    "# X_test_q2 = X_test_q2.T.squeeze()\n",
    "\n",
    "y_test_q2 = y_test_q2.reset_index()\n",
    "y_test_q2.drop('index', axis=1, inplace=True)\n",
    "y_test_q2 = y_test_q2.T.squeeze()"
   ]
  },
  {
   "cell_type": "code",
   "execution_count": null,
   "metadata": {
    "ExecuteTime": {
     "start_time": "2018-07-27T01:12:52.651Z"
    }
   },
   "outputs": [],
   "source": [
    "# to lemmatize my X_train_q2\n",
    "\n",
    "X_train_temp_q2 = []\n",
    "for i in range (0,len(X_train_q2)):\n",
    "    col = re.sub('[^a-zA-Z]', ' ', X_train_q2['all_info_q2'][i])\n",
    "    col = col.lower()\n",
    "    col = col.split()\n",
    "    col = [lemma.lemmatize(word) for word in col if not word in set(stopwords_sk)]\n",
    "    col = ' '.join(col)\n",
    "    X_train_temp_q2.append(col)\n",
    "\n",
    "X_train_q2 = X_train_temp_q2"
   ]
  },
  {
   "cell_type": "code",
   "execution_count": null,
   "metadata": {
    "ExecuteTime": {
     "start_time": "2018-07-27T01:12:52.655Z"
    }
   },
   "outputs": [],
   "source": [
    "# lemmatize X_test_q2\n",
    "\n",
    "X_test_temp_q2 = []\n",
    "for i in range (0,len(X_test_q2)):\n",
    "    col = re.sub('[^a-zA-Z]', ' ', X_test_q2['all_info_q2'][i])\n",
    "    col = col.lower()\n",
    "    col = col.split()\n",
    "    col = [lemma.lemmatize(word) for word in col if not word in set(stopwords_sk)]\n",
    "    col = ' '.join(col)\n",
    "    X_test_temp_q2.append(col)\n",
    "\n",
    "X_test_q2 = X_test_temp_q2"
   ]
  },
  {
   "cell_type": "code",
   "execution_count": null,
   "metadata": {
    "ExecuteTime": {
     "start_time": "2018-07-27T01:12:52.661Z"
    }
   },
   "outputs": [],
   "source": [
    "temp_x_train_df = pd.DataFrame({'all_info_q2':X_train_q2})\n",
    "temp_y_train_df = pd.DataFrame({'data_scientist':y_train_q2})\n",
    "temp_df = pd.concat([temp_x_train_df, temp_y_train_df], axis=1)"
   ]
  },
  {
   "cell_type": "code",
   "execution_count": null,
   "metadata": {
    "ExecuteTime": {
     "start_time": "2018-07-27T01:12:52.666Z"
    }
   },
   "outputs": [],
   "source": [
    "temp_df.data_scientist.value_counts()"
   ]
  },
  {
   "cell_type": "code",
   "execution_count": null,
   "metadata": {
    "ExecuteTime": {
     "start_time": "2018-07-27T01:12:52.672Z"
    }
   },
   "outputs": [],
   "source": [
    "from sklearn.utils import resample\n",
    "\n",
    "# Separate majority and minority classes\n",
    "df_majority = temp_df[temp_df.data_scientist == 0]\n",
    "df_minority = temp_df[temp_df.data_scientist == 1]\n",
    " \n",
    "# Upsample minority class\n",
    "df_minority_upsampled = resample(df_minority, \n",
    "                                 replace=True,     # sample with replacement\n",
    "                                 n_samples=1092,    # to match majority class\n",
    "                                 random_state=123) # reproducible results\n",
    " \n",
    "# Combine majority class with upsampled minority class\n",
    "jobs1_upsampled = pd.concat([df_majority, df_minority_upsampled])\n",
    " \n",
    "# Display new class counts\n",
    "jobs1_upsampled.data_scientist.value_counts()"
   ]
  },
  {
   "cell_type": "code",
   "execution_count": null,
   "metadata": {
    "ExecuteTime": {
     "start_time": "2018-07-27T01:12:52.677Z"
    }
   },
   "outputs": [],
   "source": [
    "X_train_q2_up = jobs1_upsampled['all_info_q2']\n",
    "y_train_q2_up = jobs1_upsampled.data_scientist"
   ]
  },
  {
   "cell_type": "markdown",
   "metadata": {},
   "source": [
    "## Getting the scores"
   ]
  },
  {
   "cell_type": "markdown",
   "metadata": {
    "ExecuteTime": {
     "end_time": "2018-07-26T22:45:36.722000Z",
     "start_time": "2018-07-26T22:45:36.715000Z"
    },
    "heading_collapsed": true
   },
   "source": [
    "### AUC plot function"
   ]
  },
  {
   "cell_type": "code",
   "execution_count": null,
   "metadata": {
    "ExecuteTime": {
     "start_time": "2018-07-27T01:12:52.687Z"
    },
    "hidden": true
   },
   "outputs": [],
   "source": [
    "#write function to get model performance\n",
    "def model_performance(model, X_train_q2, y_train_q2, X_test_q2, y_test_q2):\n",
    "    model.fit(X_train_q2, y_train_q2)\n",
    "    Y_pp = pd.DataFrame(model.predict_proba(X_test_q2), columns=['class_0_pp','class_1_pp'])\n",
    "    #roc, auc for model for common performance measurement\n",
    "    \n",
    "    from sklearn.metrics import roc_curve, auc\n",
    "    \n",
    "    # For class 1, find the area under the curve.\n",
    "    fpr, tpr, _ = roc_curve(y_test_q2, Y_pp.class_1_pp)\n",
    "    roc_auc = auc(fpr, tpr)\n",
    "    \n",
    "    # Plot of a ROC curve.\n",
    "    plt.figure(figsize=[4,4])\n",
    "    plt.plot(fpr, tpr, label='ROC curve (area = %0.2f)' % roc_auc, linewidth=4)\n",
    "    plt.plot([0, 1], [0, 1], 'k--', linewidth=4)\n",
    "    plt.xlim([-0.05, 1.0])\n",
    "    plt.ylim([-0.05, 1.05])\n",
    "    plt.xlabel('False Positive Rate', fontsize=18)\n",
    "    plt.ylabel('True Positive Rate', fontsize=18)\n",
    "    plt.title('Receiver operating characteristic for 1', fontsize=18)\n",
    "    plt.legend(loc=\"lower right\")\n",
    "    plt.show()\n",
    "    print 'auc:',roc_auc\n",
    "    \n",
    "    from sklearn.metrics import confusion_matrix\n",
    "    from sklearn.metrics import classification_report\n",
    "    from sklearn import metrics\n",
    "    \n",
    "    #fit and predict\n",
    "    class_fit = model.fit(X_train_q2, y_train_q2)\n",
    "    class_pred = model.predict(X_test_q2)\n",
    "    \n",
    "    #confusion matrix and f1-score\n",
    "    conmat = np.array(confusion_matrix(y_test_q2, class_pred))\n",
    "    confusion = pd.DataFrame(conmat, index=[0,1], columns=['predicted_0','predicted_1'])\n",
    "    f1_score = metrics.f1_score(y_test_q2, class_pred, average='weighted')\n",
    "    precision_score = metrics.precision_score(y_test_q2, class_pred, average='weighted')\n",
    "    print ''\n",
    "    print 'Confusion Table:'\n",
    "    print (confusion)\n",
    "    print ''\n",
    "    print 'Classification Report:'\n",
    "    print (classification_report(y_test_q2, class_pred))\n",
    "    print 'f1:',f1_score\n",
    "    print 'precision:',precision_score\n",
    "    return roc_auc, f1_score, precision_score"
   ]
  },
  {
   "cell_type": "markdown",
   "metadata": {},
   "source": [
    "### Random Forest"
   ]
  },
  {
   "cell_type": "markdown",
   "metadata": {},
   "source": [
    "#### RF GridSearch for CountVectorizer"
   ]
  },
  {
   "cell_type": "code",
   "execution_count": null,
   "metadata": {
    "ExecuteTime": {
     "start_time": "2018-07-27T01:12:52.699Z"
    }
   },
   "outputs": [],
   "source": [
    "pipe_rfcv_q2 = Pipeline([('cvec', CountVectorizer(stop_words=stopwords_sk)), \n",
    "                 ('rfc', RandomForestClassifier(class_weight=\"balanced\"))])\n",
    "\n",
    "param_grid_rfcv_q2 = {'cvec__min_df': [1, 2, 3],\n",
    "              'cvec__ngram_range': [(1,2), (2,3)],   # data scientist; senior data scientist\n",
    "              'rfc__n_estimators': [1, 5, 10],\n",
    "              'rfc__criterion': ['entropy', 'gini']\n",
    "             }\n",
    "\n",
    "grid_rfcv_q2 = GridSearchCV(pipe_rfcv_q2, param_grid_rfcv_q2, verbose=1, cv=5, n_jobs=-1)\n",
    "\n",
    "grid_rfcv_q2.fit(X_train_q2, y_train_q2)"
   ]
  },
  {
   "cell_type": "code",
   "execution_count": null,
   "metadata": {
    "ExecuteTime": {
     "start_time": "2018-07-27T01:12:52.705Z"
    }
   },
   "outputs": [],
   "source": [
    "scaler = grid_rfcv_q2.best_estimator_.named_steps['cvec']   #extracting the features out\n",
    "classifer = grid_rfcv_q2.best_estimator_.named_steps['rfc']"
   ]
  },
  {
   "cell_type": "markdown",
   "metadata": {},
   "source": [
    "##### RF GridSearch for CountVectorizer score"
   ]
  },
  {
   "cell_type": "code",
   "execution_count": null,
   "metadata": {
    "ExecuteTime": {
     "start_time": "2018-07-27T01:12:52.713Z"
    }
   },
   "outputs": [],
   "source": [
    "print 'Best parameters: ', grid_rfcv_q2.best_params_, '\\n'\n",
    "\n",
    "model_gridsearch_rfcv_q2 = grid_rfcv_q2.best_estimator_\n",
    "print 'Best estimators score: ', model_gridsearch_rfcv_q2.score(X_test_q2, y_test_q2), '\\n\\n'\n",
    "\n",
    "grid_predictions_rfcv_q2 = grid_rfcv_q2.predict(X_test_q2)\n",
    "\n",
    "print 'Confusion matrix: \\n', confusion_matrix(y_test_q2, grid_predictions_rfcv_q2), '\\n'\n",
    "print 'Classification report: \\n', classification_report(y_test_q2, grid_predictions_rfcv_q2)"
   ]
  },
  {
   "cell_type": "markdown",
   "metadata": {},
   "source": [
    "##### Features"
   ]
  },
  {
   "cell_type": "code",
   "execution_count": null,
   "metadata": {
    "ExecuteTime": {
     "start_time": "2018-07-27T01:12:52.720Z"
    }
   },
   "outputs": [],
   "source": [
    "X_train_df = pd.DataFrame(scaler.transform(X_train_q2).todense(),\n",
    "                   columns=scaler.get_feature_names())\n",
    "\n",
    "word_count = X_train_df.sum(axis=0)\n",
    "\n",
    "word_count.sort_values(ascending=False).head()\n",
    "\n",
    "word_count_df = pd.DataFrame({'word':word_count.index,\n",
    "                             'word_count': word_count.values})\n",
    "\n",
    "word_count_df.sort_values('word_count').tail(5)  # for train set"
   ]
  },
  {
   "cell_type": "code",
   "execution_count": null,
   "metadata": {
    "ExecuteTime": {
     "start_time": "2018-07-27T01:12:52.725Z"
    }
   },
   "outputs": [],
   "source": [
    "word_count_df.sort_values('word_count').head()  # for train set"
   ]
  },
  {
   "cell_type": "code",
   "execution_count": null,
   "metadata": {
    "ExecuteTime": {
     "start_time": "2018-07-27T01:12:52.730Z"
    }
   },
   "outputs": [],
   "source": [
    "# Converting out vectorized test data to a dataframe\n",
    "# Using the CVEC which we fit earlier\n",
    "\n",
    "X_test_df = pd.DataFrame(scaler.transform(X_test_q2).todense(),\n",
    "                      columns=scaler.get_feature_names())\n",
    "\n",
    "word_count = X_test_df.sum(axis=0)\n",
    "\n",
    "word_count.sort_values(ascending=False).head()\n",
    "\n",
    "word_count_df = pd.DataFrame({'word':word_count.index,\n",
    "                             'word_count': word_count.values})\n",
    "\n",
    "word_count_df.sort_values('word_count', ascending=False).head() # test set"
   ]
  },
  {
   "cell_type": "code",
   "execution_count": null,
   "metadata": {
    "ExecuteTime": {
     "start_time": "2018-07-27T01:12:52.735Z"
    },
    "scrolled": false
   },
   "outputs": [],
   "source": [
    "word_count_df.sort_values('word_count', ascending=False).tail()  # test set"
   ]
  },
  {
   "cell_type": "markdown",
   "metadata": {
    "heading_collapsed": true
   },
   "source": [
    "##### Plotting AUC"
   ]
  },
  {
   "cell_type": "code",
   "execution_count": null,
   "metadata": {
    "ExecuteTime": {
     "start_time": "2018-07-27T01:12:52.743Z"
    },
    "hidden": true,
    "scrolled": true
   },
   "outputs": [],
   "source": [
    "model_performance(grid_rfcv_q2, X_train_q2, y_train_q2, X_test_q2, y_test_q2)"
   ]
  },
  {
   "cell_type": "markdown",
   "metadata": {},
   "source": [
    "#### RF GridSearch with TfidfVectorizer"
   ]
  },
  {
   "cell_type": "code",
   "execution_count": null,
   "metadata": {
    "ExecuteTime": {
     "start_time": "2018-07-27T01:12:52.750Z"
    },
    "scrolled": false
   },
   "outputs": [],
   "source": [
    "pipe_rftf_q2 = Pipeline([('tfidf', TfidfVectorizer(stop_words=stopwords_sk)), \n",
    "                 ('rfc', RandomForestClassifier(class_weight=\"balanced\"))])\n",
    "\n",
    "param_grid_rftf_q2 = {'tfidf__min_df': [1, 2, 3],\n",
    "              'tfidf__ngram_range': [(1,2), (2,3)],   # data scientist; senior data scientist\n",
    "              'rfc__n_estimators': [1, 5, 10],\n",
    "              'rfc__criterion': ['entropy', 'gini']\n",
    "             }\n",
    "\n",
    "grid_rftf_q2 = GridSearchCV(pipe_rftf_q2, param_grid_rftf_q2, verbose=1, cv=5, n_jobs=-1)\n",
    "\n",
    "grid_rftf_q2.fit(X_train_q2, y_train_q2)"
   ]
  },
  {
   "cell_type": "code",
   "execution_count": null,
   "metadata": {
    "ExecuteTime": {
     "start_time": "2018-07-27T01:12:52.755Z"
    }
   },
   "outputs": [],
   "source": [
    "scaler = grid_rftf_q2.best_estimator_.named_steps['tfidf']   #extracting the features out\n",
    "classifer = grid_rftf_q2.best_estimator_.named_steps['rfc']"
   ]
  },
  {
   "cell_type": "markdown",
   "metadata": {},
   "source": [
    "##### RF GridSearch for CountVectorizer score"
   ]
  },
  {
   "cell_type": "code",
   "execution_count": null,
   "metadata": {
    "ExecuteTime": {
     "start_time": "2018-07-27T01:12:52.761Z"
    },
    "scrolled": true
   },
   "outputs": [],
   "source": [
    "print 'Best parameters: ', grid_rftf_q2.best_params_, '\\n'\n",
    "\n",
    "model_gridsearch_rftf_q2 = grid_rftf_q2.best_estimator_\n",
    "print 'Best estimators score: ', model_gridsearch_rftf_q2.score(X_test_q2, y_test_q2), '\\n\\n'\n",
    "\n",
    "grid_predictions_rftf_q2 = grid_rftf_q2.predict(X_test_q2)\n",
    "\n",
    "print 'Confusion matrix: \\n', confusion_matrix(y_test_q2, grid_predictions_rftf_q2), '\\n'\n",
    "print 'Classification report: \\n', classification_report(y_test_q2, grid_predictions_rftf_q2)"
   ]
  },
  {
   "cell_type": "markdown",
   "metadata": {
    "heading_collapsed": true
   },
   "source": [
    "##### Features"
   ]
  },
  {
   "cell_type": "code",
   "execution_count": null,
   "metadata": {
    "ExecuteTime": {
     "start_time": "2018-07-27T01:12:52.768Z"
    },
    "hidden": true
   },
   "outputs": [],
   "source": [
    "X_train_df = pd.DataFrame(scaler.transform(X_train_q2).todense(),\n",
    "                   columns=scaler.get_feature_names())\n",
    "\n",
    "word_count = X_train_df.sum(axis=0)\n",
    "\n",
    "word_count.sort_values(ascending=False).head()\n",
    "\n",
    "word_count_df = pd.DataFrame({'word':word_count.index,\n",
    "                             'word_count': word_count.values})\n",
    "\n",
    "word_count_df.sort_values('word_count').tail(5)  # for train set"
   ]
  },
  {
   "cell_type": "code",
   "execution_count": null,
   "metadata": {
    "ExecuteTime": {
     "start_time": "2018-07-27T01:12:52.774Z"
    },
    "hidden": true
   },
   "outputs": [],
   "source": [
    "word_count_df.sort_values('word_count').head()  # for train set"
   ]
  },
  {
   "cell_type": "code",
   "execution_count": null,
   "metadata": {
    "ExecuteTime": {
     "start_time": "2018-07-27T01:12:52.780Z"
    },
    "hidden": true
   },
   "outputs": [],
   "source": [
    "# Converting out vectorized test data to a dataframe\n",
    "# Using the CVEC which we fit earlier\n",
    "\n",
    "X_test_df = pd.DataFrame(scaler.transform(X_test_q2).todense(),\n",
    "                      columns=scaler.get_feature_names())\n",
    "\n",
    "word_count = X_test_df.sum(axis=0)\n",
    "\n",
    "word_count.sort_values(ascending=False).head()\n",
    "\n",
    "word_count_df = pd.DataFrame({'word':word_count.index,\n",
    "                             'word_count': word_count.values})\n",
    "\n",
    "word_count_df.sort_values('word_count', ascending=False).head() # test set"
   ]
  },
  {
   "cell_type": "code",
   "execution_count": null,
   "metadata": {
    "ExecuteTime": {
     "start_time": "2018-07-27T01:12:52.785Z"
    },
    "hidden": true
   },
   "outputs": [],
   "source": [
    "word_count_df.sort_values('word_count', ascending=False).tail()  # test set"
   ]
  },
  {
   "cell_type": "markdown",
   "metadata": {
    "heading_collapsed": true
   },
   "source": [
    "##### Plot"
   ]
  },
  {
   "cell_type": "code",
   "execution_count": null,
   "metadata": {
    "ExecuteTime": {
     "start_time": "2018-07-27T01:12:52.792Z"
    },
    "hidden": true,
    "scrolled": true
   },
   "outputs": [],
   "source": [
    "model_performance(grid_rftf_q2, X_train_q2, y_train_q2, X_test_q2, y_test_q2)"
   ]
  },
  {
   "cell_type": "markdown",
   "metadata": {},
   "source": [
    "### Logistic Regression"
   ]
  },
  {
   "cell_type": "markdown",
   "metadata": {},
   "source": [
    "#### Logistic Regression with TfidfVectorizer"
   ]
  },
  {
   "cell_type": "code",
   "execution_count": null,
   "metadata": {
    "ExecuteTime": {
     "start_time": "2018-07-27T01:12:52.800Z"
    }
   },
   "outputs": [],
   "source": [
    "pipe_lrtf_q2 = Pipeline([('tfidf', TfidfVectorizer(stop_words=stopwords_sk)), \n",
    "                 ('lr', LogisticRegression())])\n",
    "\n",
    "param_grid_lrtf_q2 = {'tfidf__min_df': [1, 2, 3],\n",
    "              'tfidf__ngram_range': [(1,2), (2,3)],   # data; data scientist; senior data scientist\n",
    "              'lr__C': [0.01, 0.1, 1, 10],\n",
    "              'lr__penalty': ['l1', 'l2']\n",
    "             }\n",
    "\n",
    "grid_lrtf_q2 = GridSearchCV(pipe_lrtf_q2, param_grid_lrtf_q2, verbose=2, cv=5, n_jobs=-1)\n",
    "\n",
    "grid_lrtf_q2.fit(X_train_q2_up, y_train_q2_up)\n",
    "\n",
    "scaler = grid_lrtf_q2.best_estimator_.named_steps['tfidf']\n",
    "classifer = grid_lrtf_q2.best_estimator_.named_steps['lr']"
   ]
  },
  {
   "cell_type": "markdown",
   "metadata": {},
   "source": [
    "##### RF GridSearch for TfidfVectorizer score"
   ]
  },
  {
   "cell_type": "code",
   "execution_count": null,
   "metadata": {
    "ExecuteTime": {
     "start_time": "2018-07-27T01:12:52.806Z"
    }
   },
   "outputs": [],
   "source": [
    "print 'Score: {}' .format(grid_lrtf_q2.score(X_test_q2, y_test_q2)), '\\n\\n'\n",
    "\n",
    "print 'Best parameters: ', grid_lrtf_q2.best_params_, '\\n'\n",
    "\n",
    "model_gridsearch_lrtf_q2 = grid_lrtf_q2.best_estimator_\n",
    "print 'Best estimators score: ', model_gridsearch_lrtf_q2.score(X_test_q2, y_test_q2), '\\n'\n",
    "\n",
    "grid_predictions_lrtf_q2 = grid_lrtf_q2.predict(X_test_q2)\n",
    "\n",
    "print 'Confusion matrix: \\n', confusion_matrix(y_test_q2, grid_predictions_lrtf_q2), '\\n'\n",
    "print 'Classification report: \\n', classification_report(y_test_q2, grid_predictions_lrtf_q2)"
   ]
  },
  {
   "cell_type": "markdown",
   "metadata": {},
   "source": [
    "##### Features"
   ]
  },
  {
   "cell_type": "code",
   "execution_count": null,
   "metadata": {
    "ExecuteTime": {
     "start_time": "2018-07-27T01:12:52.812Z"
    }
   },
   "outputs": [],
   "source": [
    "# to get features out\n",
    "X_train_df = pd.DataFrame(scaler.transform(X_train_q2).todense(),\n",
    "                   columns=scaler.get_feature_names())\n",
    "\n",
    "word_count = X_train_df.sum(axis=0)\n",
    "\n",
    "word_count.sort_values(ascending=False).head()\n",
    "\n",
    "word_count_df = pd.DataFrame({'word':word_count.index,\n",
    "                             'word_count': word_count.values})\n",
    "\n",
    "word_count_df.sort_values('word_count').tail(5)  # for train set"
   ]
  },
  {
   "cell_type": "code",
   "execution_count": null,
   "metadata": {
    "ExecuteTime": {
     "start_time": "2018-07-27T01:12:52.817Z"
    }
   },
   "outputs": [],
   "source": [
    "word_count_df.sort_values('word_count').head()  # for train set"
   ]
  },
  {
   "cell_type": "code",
   "execution_count": null,
   "metadata": {
    "ExecuteTime": {
     "start_time": "2018-07-27T01:12:52.823Z"
    }
   },
   "outputs": [],
   "source": [
    "# Converting out vectorized test data to a dataframe\n",
    "# Using the CVEC which we fit earlier\n",
    "\n",
    "X_test_df = pd.DataFrame(scaler.transform(X_test_q2).todense(),\n",
    "                      columns=scaler.get_feature_names())\n",
    "\n",
    "word_count = X_test_df.sum(axis=0)\n",
    "\n",
    "word_count.sort_values(ascending=False).head()\n",
    "\n",
    "word_count_df = pd.DataFrame({'word':word_count.index,\n",
    "                             'word_count': word_count.values})\n",
    "\n",
    "word_count_df.sort_values('word_count', ascending=False).head() # test set"
   ]
  },
  {
   "cell_type": "code",
   "execution_count": null,
   "metadata": {
    "ExecuteTime": {
     "start_time": "2018-07-27T01:12:52.829Z"
    }
   },
   "outputs": [],
   "source": [
    "word_count_df.sort_values('word_count', ascending=False).tail()  # test set"
   ]
  },
  {
   "cell_type": "markdown",
   "metadata": {},
   "source": [
    "#### RF GridSearch with CountVectorizer"
   ]
  },
  {
   "cell_type": "code",
   "execution_count": null,
   "metadata": {
    "ExecuteTime": {
     "start_time": "2018-07-27T01:12:52.836Z"
    }
   },
   "outputs": [],
   "source": [
    "pipe_lrcv_q2 = Pipeline([('cvec', CountVectorizer(stop_words=stopwords_sk)), \n",
    "                 ('lr', LogisticRegression())])\n",
    "\n",
    "param_grid_lrcv_q2 = {'cvec__min_df': [1, 2, 3],\n",
    "              'cvec__ngram_range': [(1,2), (2,3)],   # data scientist; senior data scientist\n",
    "              'lr__C': [0.01, 0.1, 1, 10],\n",
    "              'lr__penalty': ['l1', 'l2']\n",
    "             }\n",
    "\n",
    "grid_lrcv_q2 = GridSearchCV(pipe_lrcv_q2, param_grid_lrcv_q2, verbose=1, cv=5, n_jobs=-1)\n",
    "\n",
    "grid_lrcv_q2.fit(X_train_q2_up, y_train_q2_up)\n",
    "\n",
    "scaler = grid_lrcv_q2.best_estimator_.named_steps['cvec']\n",
    "classifer = grid_lrcv_q2.best_estimator_.named_steps['lr']"
   ]
  },
  {
   "cell_type": "markdown",
   "metadata": {},
   "source": [
    "##### RF GridSearch for CountVectorizer score"
   ]
  },
  {
   "cell_type": "code",
   "execution_count": null,
   "metadata": {
    "ExecuteTime": {
     "start_time": "2018-07-27T01:12:52.844Z"
    }
   },
   "outputs": [],
   "source": [
    "print 'Score: {}' .format(grid_lrcv_q2.score(X_test_q2, y_test_q2)), '\\n\\n'\n",
    "\n",
    "print 'Best parameters: ', grid_lrcv_q2.best_params_, '\\n'\n",
    "\n",
    "model_gridsearch_lrcv_q2 = grid_lrcv_q2.best_estimator_\n",
    "print 'Best estimators score: ', model_gridsearch_lrcv_q2.score(X_test_q2, y_test_q2), '\\n'\n",
    "\n",
    "grid_predictions_lrcv_q2 = grid_lrcv_q2.predict(X_test_q2)\n",
    "\n",
    "print 'Confusion matrix: \\n', confusion_matrix(y_test_q2, grid_predictions_lrcv_q2), '\\n'\n",
    "print 'Classification report: \\n', classification_report(y_test_q2, grid_predictions_lrcv_q2)"
   ]
  },
  {
   "cell_type": "markdown",
   "metadata": {
    "ExecuteTime": {
     "end_time": "2018-07-27T00:21:54.577000Z",
     "start_time": "2018-07-27T00:21:54.563000Z"
    }
   },
   "source": [
    "##### Features"
   ]
  },
  {
   "cell_type": "code",
   "execution_count": null,
   "metadata": {
    "ExecuteTime": {
     "start_time": "2018-07-27T01:12:52.850Z"
    }
   },
   "outputs": [],
   "source": [
    "# to get features out\n",
    "X_train_df = pd.DataFrame(scaler.transform(X_train_q2).todense(),\n",
    "                   columns=scaler.get_feature_names())\n",
    "\n",
    "word_count = X_train_df.sum(axis=0)\n",
    "\n",
    "word_count.sort_values(ascending=False).head()\n",
    "\n",
    "word_count_df = pd.DataFrame({'word':word_count.index,\n",
    "                             'word_count': word_count.values})\n",
    "\n",
    "word_count_df.sort_values('word_count').tail(5)  # for train set"
   ]
  },
  {
   "cell_type": "code",
   "execution_count": null,
   "metadata": {
    "ExecuteTime": {
     "start_time": "2018-07-27T01:12:52.856Z"
    }
   },
   "outputs": [],
   "source": [
    "word_count_df.sort_values('word_count').head()  # for train set"
   ]
  },
  {
   "cell_type": "code",
   "execution_count": null,
   "metadata": {
    "ExecuteTime": {
     "start_time": "2018-07-27T01:12:52.862Z"
    }
   },
   "outputs": [],
   "source": [
    "# Converting out vectorized test data to a dataframe\n",
    "# Using the CVEC which we fit earlier\n",
    "\n",
    "X_test_df = pd.DataFrame(scaler.transform(X_test_q2).todense(),\n",
    "                      columns=scaler.get_feature_names())\n",
    "\n",
    "word_count = X_test_df.sum(axis=0)\n",
    "\n",
    "word_count.sort_values(ascending=False).head()\n",
    "\n",
    "word_count_df = pd.DataFrame({'word':word_count.index,\n",
    "                             'word_count': word_count.values})\n",
    "\n",
    "word_count_df.sort_values('word_count', ascending=False).head() # test set"
   ]
  },
  {
   "cell_type": "code",
   "execution_count": null,
   "metadata": {
    "ExecuteTime": {
     "start_time": "2018-07-27T01:12:52.867Z"
    }
   },
   "outputs": [],
   "source": [
    "word_count_df.sort_values('word_count', ascending=False).tail()  # test set"
   ]
  },
  {
   "cell_type": "code",
   "execution_count": null,
   "metadata": {},
   "outputs": [],
   "source": []
  }
 ],
 "metadata": {
  "kernelspec": {
   "display_name": "Python 2",
   "language": "python",
   "name": "python2"
  },
  "language_info": {
   "codemirror_mode": {
    "name": "ipython",
    "version": 2
   },
   "file_extension": ".py",
   "mimetype": "text/x-python",
   "name": "python",
   "nbconvert_exporter": "python",
   "pygments_lexer": "ipython2",
   "version": "2.7.14"
  },
  "toc": {
   "base_numbering": 1,
   "nav_menu": {},
   "number_sections": true,
   "sideBar": true,
   "skip_h1_title": false,
   "title_cell": "Table of Contents",
   "title_sidebar": "Contents",
   "toc_cell": false,
   "toc_position": {
    "height": "calc(100% - 180px)",
    "left": "10px",
    "top": "150px",
    "width": "193px"
   },
   "toc_section_display": true,
   "toc_window_display": true
  }
 },
 "nbformat": 4,
 "nbformat_minor": 2
}
