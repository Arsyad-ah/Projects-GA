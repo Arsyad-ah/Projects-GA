{
 "cells": [
  {
   "cell_type": "markdown",
   "metadata": {},
   "source": [
    "# ![](https://ga-dash.s3.amazonaws.com/production/assets/logo-9f88ae6c9c3871690e33280fcf557f33.png) Project 4: Web Scraping Job Postings\n",
    "\n",
    "## Business Case Overview\n",
    "\n",
    "You're working as a data scientist for a contracting firm that's rapidly expanding. Now that they have their most valuable employee (you!), they need to leverage data to win more contracts. Your firm offers technology and scientific solutions and wants to be competitive in the hiring market. Your principal has two main objectives:\n",
    "\n",
    "   1. Determine the industry factors that are most important in predicting the salary amounts for these data.\n",
    "   2. Determine the factors that distinguish job categories and titles from each other. For example, can required skills accurately predict job title?\n",
    "\n",
    "To limit the scope, your principal has suggested that you *focus on data-related job postings*, e.g. data scientist, data analyst, research scientist, business intelligence, and any others you might think of. You may also want to decrease the scope by *limiting your search to a single region.*\n",
    "\n",
    "Hint: Aggregators like [Indeed.com](https://www.indeed.com) regularly pool job postings from a variety of markets and industries. \n",
    "\n",
    "**Goal:** Scrape your own data from a job aggregation tool like Indeed.com in order to collect the data to best answer these two questions.\n",
    "\n",
    "---\n",
    "\n",
    "## Directions\n",
    "\n",
    "In this project you will be leveraging a variety of skills. The first will be to use the web-scraping and/or API techniques you've learned to collect data on data jobs from Indeed.com or another aggregator. Once you have collected and cleaned the data, you will use it to answer the two questions described above.\n",
    "\n",
    "### QUESTION 1: Factors that impact salary\n",
    "\n",
    "To predict salary you will be building either a classification or regression model, using features like the location, title, and summary of the job. If framing this as a regression problem, you will be estimating the listed salary amounts. You may instead choose to frame this as a classification problem, in which case you will create labels from these salaries (high vs. low salary, for example) according to thresholds (such as median salary).\n",
    "\n",
    "You have learned a variety of new skills and models that may be useful for this problem:\n",
    "- NLP\n",
    "- Unsupervised learning and dimensionality reduction techniques (PCA, clustering)\n",
    "- Ensemble methods and decision tree models\n",
    "- SVM models\n",
    "\n",
    "Whatever you decide to use, the most important thing is to justify your choices and interpret your results. *Communication of your process is key.* Note that most listings **DO NOT** come with salary information. You'll need to able to extrapolate or predict the expected salaries for these listings.\n",
    "\n",
    "### QUESTION 2: Factors that distinguish job category\n",
    "\n",
    "Using the job postings you scraped for part 1 (or potentially new job postings from a second round of scraping), identify features in the data related to job postings that can distinguish job titles from each other. There are a variety of interesting ways you can frame the target variable, for example:\n",
    "- What components of a job posting distinguish data scientists from other data jobs?\n",
    "- What features are important for distinguishing junior vs. senior positions?\n",
    "- Do the requirements for titles vary significantly with industry (e.g. healthcare vs. government)?\n",
    "\n",
    "You may end up making multiple classification models to tackle different questions. Be sure to clearly explain your hypotheses and framing, any feature engineering, and what your target variables are. The type of classification model you choose is up to you. Be sure to interpret your results and evaluate your models' performance.\n",
    "\n",
    "\n",
    "### BONUS PROBLEM\n",
    "\n",
    "Your boss would rather tell a client incorrectly that they would get a lower salary job than tell a client incorrectly that they would get a high salary job. Adjust one of your models to ease his mind, and explain what it is doing and any tradeoffs. Plot the ROC curve.\n",
    "\n",
    "---\n",
    "\n",
    "## Requirements\n",
    "\n",
    "1. Scrape and prepare your own data.\n",
    "\n",
    "2. **Create and compare at least two models for each section**. One of the two models should be a decision tree or ensemble model. The other can be a classifier or regression of your choosing (e.g. Ridge, logistic regression, KNN, SVM, etc).\n",
    "   - Section 1: Job Salary Trends\n",
    "   - Section 2: Job Category Factors\n",
    "\n",
    "3. Prepare a polished Jupyter Notebook with your analysis for a peer audience of data scientists. \n",
    "   - Make sure to clearly describe and label each section.\n",
    "   - Comment on your code so that others could, in theory, replicate your work.\n",
    "\n",
    "4. A brief writeup in an executive summary, written for a non-technical audience.\n",
    "   - Writeups should be at least 500-1000 words, defining any technical terms, explaining your approach, as well as any risks and limitations.\n",
    "\n",
    "#### BONUS\n",
    "\n",
    "5. Answer the salary discussion by using your model to explain the tradeoffs between detecting high vs low salary positions.\n",
    "\n",
    "6. Convert your executive summary into a public blog post of at least 500 words, in which you document your approach in a tutorial for other aspiring data scientists. Link to this in your notebook.\n",
    "\n",
    "---\n",
    "\n",
    "## Suggestions for Getting Started\n",
    "\n",
    "1. Collect data from [Indeed.com](www.indeed.com) (or another aggregator) on data-related jobs to use in predicting salary trends for your analysis.\n",
    "  - Select and parse data from *at least 1000 postings* for jobs, potentially from multiple location searches.\n",
    "2. Find out what factors most directly impact salaries (e.g. title, location, department, etc).\n",
    "  - Test, validate, and describe your models. What factors predict salary category? How do your models perform?\n",
    "3. Discover which features have the greatest importance when determining a low vs. high paying job.\n",
    "  - Your Boss is interested in what overall features hold the greatest significance.\n",
    "  - HR is interested in which SKILLS and KEY WORDS hold the greatest significance.   \n",
    "4. Author an executive summary that details the highlights of your analysis for a non-technical audience.\n",
    "5. If tackling the bonus question, try framing the salary problem as a classification problem detecting low vs. high salary positions.\n",
    "\n",
    "---\n",
    "\n",
    "## Useful Resources\n",
    "\n",
    "- Scraping is one of the most fun, useful and interesting skills out there. Don’t lose out by copying someone else's code!\n",
    "- [Here is some advice on how to write for a non-technical audience](http://programmers.stackexchange.com/questions/11523/explaining-technical-things-to-non-technical-people)\n",
    "- [Documentation for BeautifulSoup can be found here](http://www.crummy.com/software/BeautifulSoup/).\n",
    "\n",
    "---\n",
    "\n",
    "### Project Feedback + Evaluation\n",
    "\n",
    "For all projects, students will be evaluated on a simple 3 point scale (0, 1, or 2). Instructors will use this rubric when scoring student performance on each of the core project **requirements:** \n",
    "\n",
    "Score | Expectations\n",
    "----- | ------------\n",
    "**0** | _Does not meet expectations. Try again._\n",
    "**1** | _Meets expectations. Good job._\n",
    "**2** | _Surpasses expectations. Brilliant!_\n",
    "\n",
    "[For more information on how we grade our DSI projects, see our project grading walkthrough.](https://git.generalassemb.ly/dsi-projects/readme/blob/master/README.md)\n"
   ]
  },
  {
   "cell_type": "markdown",
   "metadata": {},
   "source": [
    "# Question 1"
   ]
  },
  {
   "cell_type": "markdown",
   "metadata": {},
   "source": [
    "The data that below was scraped from https://www.mycareersfuture.sg/ using <b>Selenium</b> and <b>BeautifulSoup</b>. Job posting searches include keywords such as 'Data Analyst', 'Data Scientist' and other data science / machine learning related roles."
   ]
  },
  {
   "cell_type": "code",
   "execution_count": 1,
   "metadata": {
    "ExecuteTime": {
     "end_time": "2018-08-31T16:31:07.348369Z",
     "start_time": "2018-08-31T16:31:04.362403Z"
    }
   },
   "outputs": [],
   "source": [
    "import pandas as pd\n",
    "import re\n",
    "import numpy as np\n",
    "import seaborn as sns\n",
    "import matplotlib.pyplot as plt\n",
    "%matplotlib inline"
   ]
  },
  {
   "cell_type": "code",
   "execution_count": 2,
   "metadata": {
    "ExecuteTime": {
     "end_time": "2018-08-31T16:31:07.358040Z",
     "start_time": "2018-08-31T16:31:07.350399Z"
    }
   },
   "outputs": [],
   "source": [
    "careers = './jobs_df_22jul.csv'"
   ]
  },
  {
   "cell_type": "code",
   "execution_count": 3,
   "metadata": {
    "ExecuteTime": {
     "end_time": "2018-08-31T16:31:07.488821Z",
     "start_time": "2018-08-31T16:31:07.361500Z"
    }
   },
   "outputs": [],
   "source": [
    "jobs = pd.read_csv(careers)"
   ]
  },
  {
   "cell_type": "markdown",
   "metadata": {},
   "source": [
    "## EDA"
   ]
  },
  {
   "cell_type": "code",
   "execution_count": 4,
   "metadata": {
    "ExecuteTime": {
     "end_time": "2018-08-31T16:31:07.499599Z",
     "start_time": "2018-08-31T16:31:07.490733Z"
    }
   },
   "outputs": [],
   "source": [
    "# replacing all 'NONE' values to np.nan\n",
    "\n",
    "jobs.replace('NONE', np.nan, inplace=True)"
   ]
  },
  {
   "cell_type": "code",
   "execution_count": 5,
   "metadata": {
    "ExecuteTime": {
     "end_time": "2018-08-31T16:31:07.690594Z",
     "start_time": "2018-08-31T16:31:07.680545Z"
    }
   },
   "outputs": [
    {
     "data": {
      "text/plain": [
       "(1549, 10)"
      ]
     },
     "execution_count": 5,
     "metadata": {},
     "output_type": "execute_result"
    }
   ],
   "source": [
    "jobs.shape"
   ]
  },
  {
   "cell_type": "code",
   "execution_count": 6,
   "metadata": {
    "ExecuteTime": {
     "end_time": "2018-08-31T16:31:08.268751Z",
     "start_time": "2018-08-31T16:31:08.215721Z"
    },
    "scrolled": false
   },
   "outputs": [
    {
     "data": {
      "text/html": [
       "<div>\n",
       "<style scoped>\n",
       "    .dataframe tbody tr th:only-of-type {\n",
       "        vertical-align: middle;\n",
       "    }\n",
       "\n",
       "    .dataframe tbody tr th {\n",
       "        vertical-align: top;\n",
       "    }\n",
       "\n",
       "    .dataframe thead th {\n",
       "        text-align: right;\n",
       "    }\n",
       "</style>\n",
       "<table border=\"1\" class=\"dataframe\">\n",
       "  <thead>\n",
       "    <tr style=\"text-align: right;\">\n",
       "      <th></th>\n",
       "      <th>Unnamed: 0</th>\n",
       "      <th>Company</th>\n",
       "      <th>Title</th>\n",
       "      <th>Address</th>\n",
       "      <th>Emp_type</th>\n",
       "      <th>Seniority</th>\n",
       "      <th>Industry</th>\n",
       "      <th>Salary</th>\n",
       "      <th>Responsibility</th>\n",
       "      <th>Requirements</th>\n",
       "    </tr>\n",
       "  </thead>\n",
       "  <tbody>\n",
       "    <tr>\n",
       "      <th>0</th>\n",
       "      <td>0</td>\n",
       "      <td>NTT DATA SINGAPORE PTE. LTD.</td>\n",
       "      <td>Senior Application Developer</td>\n",
       "      <td>KEPPEL TOWERS, 10 HOE CHIANG ROAD 089315</td>\n",
       "      <td>Contract</td>\n",
       "      <td>Executive, Senior Executive</td>\n",
       "      <td>Information Technology</td>\n",
       "      <td>$8,000to$110,000</td>\n",
       "      <td>Roles &amp; Responsibilities  Creating complex, en...</td>\n",
       "      <td>Requirements A Bachelor’s degree in Computer S...</td>\n",
       "    </tr>\n",
       "    <tr>\n",
       "      <th>1</th>\n",
       "      <td>1</td>\n",
       "      <td>HP PPS ASIA PACIFIC PTE. LTD.</td>\n",
       "      <td>Business Analyst</td>\n",
       "      <td>1 DEPOT CLOSE 109841</td>\n",
       "      <td>Permanent, Full Time</td>\n",
       "      <td>Professional</td>\n",
       "      <td>Others</td>\n",
       "      <td>$8,400to$12,900</td>\n",
       "      <td>Roles &amp; ResponsibilitiesHP is the world’s lead...</td>\n",
       "      <td>RequirementsEducation and Experience Required:...</td>\n",
       "    </tr>\n",
       "  </tbody>\n",
       "</table>\n",
       "</div>"
      ],
      "text/plain": [
       "   Unnamed: 0                        Company                         Title  \\\n",
       "0           0   NTT DATA SINGAPORE PTE. LTD.  Senior Application Developer   \n",
       "1           1  HP PPS ASIA PACIFIC PTE. LTD.              Business Analyst   \n",
       "\n",
       "                                    Address              Emp_type  \\\n",
       "0  KEPPEL TOWERS, 10 HOE CHIANG ROAD 089315              Contract   \n",
       "1                      1 DEPOT CLOSE 109841  Permanent, Full Time   \n",
       "\n",
       "                     Seniority                Industry            Salary  \\\n",
       "0  Executive, Senior Executive  Information Technology  $8,000to$110,000   \n",
       "1                 Professional                  Others   $8,400to$12,900   \n",
       "\n",
       "                                      Responsibility  \\\n",
       "0  Roles & Responsibilities  Creating complex, en...   \n",
       "1  Roles & ResponsibilitiesHP is the world’s lead...   \n",
       "\n",
       "                                        Requirements  \n",
       "0  Requirements A Bachelor’s degree in Computer S...  \n",
       "1  RequirementsEducation and Experience Required:...  "
      ]
     },
     "execution_count": 6,
     "metadata": {},
     "output_type": "execute_result"
    }
   ],
   "source": [
    "jobs.head(2)"
   ]
  },
  {
   "cell_type": "code",
   "execution_count": 7,
   "metadata": {
    "ExecuteTime": {
     "end_time": "2018-08-31T16:31:08.671297Z",
     "start_time": "2018-08-31T16:31:08.640463Z"
    },
    "scrolled": true
   },
   "outputs": [
    {
     "name": "stdout",
     "output_type": "stream",
     "text": [
      "<class 'pandas.core.frame.DataFrame'>\n",
      "RangeIndex: 1549 entries, 0 to 1548\n",
      "Data columns (total 10 columns):\n",
      "Unnamed: 0        1549 non-null int64\n",
      "Company           1549 non-null object\n",
      "Title             1549 non-null object\n",
      "Address           1208 non-null object\n",
      "Emp_type          1549 non-null object\n",
      "Seniority         1513 non-null object\n",
      "Industry          1549 non-null object\n",
      "Salary            1395 non-null object\n",
      "Responsibility    1549 non-null object\n",
      "Requirements      1482 non-null object\n",
      "dtypes: int64(1), object(9)\n",
      "memory usage: 121.1+ KB\n"
     ]
    }
   ],
   "source": [
    "jobs.info()"
   ]
  },
  {
   "cell_type": "code",
   "execution_count": 8,
   "metadata": {
    "ExecuteTime": {
     "end_time": "2018-08-31T16:31:08.923754Z",
     "start_time": "2018-08-31T16:31:08.915875Z"
    }
   },
   "outputs": [],
   "source": [
    "# Address and Unnamed: 0 columns should not affect the analysis\n",
    "\n",
    "jobs.drop(['Address', 'Unnamed: 0'], axis=1, inplace=True)"
   ]
  },
  {
   "cell_type": "code",
   "execution_count": 9,
   "metadata": {
    "ExecuteTime": {
     "end_time": "2018-08-31T16:31:09.336209Z",
     "start_time": "2018-08-31T16:31:09.318615Z"
    },
    "scrolled": true
   },
   "outputs": [
    {
     "data": {
      "text/plain": [
       "Salary            154\n",
       "Requirements       67\n",
       "Seniority          36\n",
       "Responsibility      0\n",
       "Industry            0\n",
       "Emp_type            0\n",
       "Title               0\n",
       "Company             0\n",
       "dtype: int64"
      ]
     },
     "execution_count": 9,
     "metadata": {},
     "output_type": "execute_result"
    }
   ],
   "source": [
    "jobs.isnull().sum().sort_values(ascending=False)"
   ]
  },
  {
   "cell_type": "code",
   "execution_count": 12,
   "metadata": {
    "ExecuteTime": {
     "end_time": "2018-08-31T16:31:29.789417Z",
     "start_time": "2018-08-31T16:31:29.734229Z"
    },
    "scrolled": true
   },
   "outputs": [
    {
     "name": "stdout",
     "output_type": "stream",
     "text": [
      "Initial df shape:  (1549, 8)\n",
      "Duplicate shape:  (52, 8)\n",
      "No duplicates df shape:  (1497, 8)\n"
     ]
    }
   ],
   "source": [
    "duplicates = jobs.loc[jobs.duplicated(), :]\n",
    "print (\"Initial df shape: \", jobs.shape)\n",
    "print ('Duplicate shape: ', duplicates.shape)\n",
    "jobs.drop(duplicates.index, inplace=True)\n",
    "print ('No duplicates df shape: ', jobs.shape)"
   ]
  },
  {
   "cell_type": "code",
   "execution_count": 13,
   "metadata": {
    "ExecuteTime": {
     "end_time": "2018-08-31T16:31:32.473910Z",
     "start_time": "2018-08-31T16:31:32.465688Z"
    }
   },
   "outputs": [],
   "source": [
    "# removing NONE values\n",
    "jobs.dropna(how='all', inplace=True)"
   ]
  },
  {
   "cell_type": "code",
   "execution_count": 14,
   "metadata": {
    "ExecuteTime": {
     "end_time": "2018-08-31T16:31:33.401771Z",
     "start_time": "2018-08-31T16:31:33.389978Z"
    }
   },
   "outputs": [
    {
     "data": {
      "text/plain": [
       "(1497, 8)"
      ]
     },
     "execution_count": 14,
     "metadata": {},
     "output_type": "execute_result"
    }
   ],
   "source": [
    "jobs.shape"
   ]
  },
  {
   "cell_type": "code",
   "execution_count": 15,
   "metadata": {
    "ExecuteTime": {
     "end_time": "2018-08-31T16:31:34.523404Z",
     "start_time": "2018-08-31T16:31:34.510867Z"
    }
   },
   "outputs": [],
   "source": [
    "# renaming values in Seniority column\n",
    "\n",
    "jobs.Seniority = jobs.Seniority.apply(lambda x: str(x))"
   ]
  },
  {
   "cell_type": "code",
   "execution_count": 16,
   "metadata": {
    "ExecuteTime": {
     "end_time": "2018-08-31T16:31:35.963894Z",
     "start_time": "2018-08-31T16:31:35.951847Z"
    }
   },
   "outputs": [
    {
     "data": {
      "text/plain": [
       "'Roles & ResponsibilitiesBe part of the Consumer Insights and Analytics team (CIA) supporting our digital analytics effort for different business units. Key responsibilities include:  Delivering digital audience insights derived from our digital advertising stack, data management platform and other web analytics tools Delivering key metrics/benchmarks via our business intelligence platform Conducting custom analyses and studies to support business decision makers Integrating digital data from disparate sources, including partnering with Consumer Insights to communicate actionable findings for ongoing business requirements Designing and improving data collection approaches and analytical deliverables '"
      ]
     },
     "execution_count": 16,
     "metadata": {},
     "output_type": "execute_result"
    }
   ],
   "source": [
    "jobs.loc[41]['Responsibility']"
   ]
  },
  {
   "cell_type": "code",
   "execution_count": 17,
   "metadata": {
    "ExecuteTime": {
     "end_time": "2018-08-31T16:31:38.234772Z",
     "start_time": "2018-08-31T16:31:38.202854Z"
    }
   },
   "outputs": [],
   "source": [
    "# does not make sense to be permanent and contract at the same time.\n",
    "# re-arranging/standardizing some of the Emp_type: Contract, Part Time vs Part Time, Contract\n",
    "\n",
    "jobs['Emp_type'] = jobs['Emp_type'].apply(lambda x: 'Permanent' if x == 'Permanent, Contract' else x)\n",
    "\n",
    "# Temp == Contract\n",
    "jobs['Emp_type'] = jobs['Emp_type'].apply(lambda x: 'Contract, Full Time' if x == 'Temporary, Contract, Full Time' else x)\n",
    "\n",
    "jobs['Emp_type'] = jobs['Emp_type'].apply(lambda x: 'Contract, Part Time' if x == 'Part Time, Temporary' else x)\n",
    "jobs['Emp_type'] = jobs['Emp_type'].apply(lambda x: 'Contract' if x == 'Temporary, Contract' else x)\n",
    "jobs['Emp_type'] = jobs['Emp_type'].apply(lambda x: 'Contract' if x == 'Temporary' else x)\n",
    "jobs['Emp_type'] = jobs['Emp_type'].apply(lambda x: 'Contract, Part Time' if x == 'Part Time, Contract' else x)\n",
    "jobs['Emp_type'] = jobs['Emp_type'].apply(lambda x: 'Part Time' if x == 'Part Time, Flexi work' else x)\n",
    "jobs['Emp_type'] = jobs['Emp_type'].apply(lambda x: 'Part Time' if x == 'Flexi work' else x)\n",
    "\n",
    "\n",
    "jobs['Emp_type'] = jobs['Emp_type'].apply(lambda x: 'Contract, Full Time' if x == 'Temporary, Full Time' else x)\n",
    "jobs['Emp_type'] = jobs['Emp_type'].apply(lambda x: 'Permanent, Full Time' if x == 'Permanent' else x)\n",
    "\n",
    "\n",
    "# categorizing as others for Emp_type that are not making sense or cannot categorize correctly\n",
    "jobs['Emp_type'] = jobs['Emp_type'].apply(lambda x: 'Others' if x == 'Part Time, Temporary, Contract, Full Time, Flexi work'\n",
    "                                          or x == 'Part Time, Permanent, Temporary, Full Time'\n",
    "                                          or x == 'Permanent, Contract, Freelance, Full Time'\n",
    "                                          or x == 'Permanent, Contract, Freelance, Flexi work'\n",
    "                                          or x == 'Contract, Freelance, Full Time, Flexi work'\n",
    "                                          or x == 'Permanent, Contract, Full Time'\n",
    "                                          else x)"
   ]
  },
  {
   "cell_type": "code",
   "execution_count": 18,
   "metadata": {
    "ExecuteTime": {
     "end_time": "2018-08-31T16:31:40.107864Z",
     "start_time": "2018-08-31T16:31:40.093240Z"
    },
    "scrolled": true
   },
   "outputs": [
    {
     "data": {
      "text/plain": [
       "Permanent, Full Time                                                 620\n",
       "Full Time                                                            483\n",
       "Contract                                                             204\n",
       "Contract, Full Time                                                  153\n",
       "Others                                                                22\n",
       "Part Time                                                              9\n",
       "Contract, Part Time                                                    3\n",
       "Internship                                                             2\n",
       "Part Time, Permanent, Temporary, Contract, Flexi work, Internship      1\n",
       "Name: Emp_type, dtype: int64"
      ]
     },
     "execution_count": 18,
     "metadata": {},
     "output_type": "execute_result"
    }
   ],
   "source": [
    "jobs.Emp_type.value_counts()"
   ]
  },
  {
   "cell_type": "code",
   "execution_count": 19,
   "metadata": {
    "ExecuteTime": {
     "end_time": "2018-08-31T16:31:53.085100Z",
     "start_time": "2018-08-31T16:31:53.072329Z"
    }
   },
   "outputs": [],
   "source": [
    "# dropping Emp_type == Internship. We will not include internship in our analysis and modelling.\n",
    "\n",
    "jobs.drop(jobs[jobs['Emp_type'] == 'Internship'].index, inplace=True)"
   ]
  },
  {
   "cell_type": "code",
   "execution_count": 20,
   "metadata": {
    "ExecuteTime": {
     "end_time": "2018-08-31T16:31:54.121098Z",
     "start_time": "2018-08-31T16:31:54.109059Z"
    },
    "scrolled": false
   },
   "outputs": [
    {
     "data": {
      "text/plain": [
       "'Roles & Responsibilities \\xa0Creating complex, enterprise-transforming applications on diverse, high energy teams\\xa0 Working with the latest tools and techniques\\xa0 Hands-on coding, usually in a pair programming environment\\xa0 Working in highly collaborative teams and building quality code\\xa0 Knowledge in lots of different domains and client environments\\xa0 Furnish the business domain deeply and working closely with business stakeholders\\xa0 '"
      ]
     },
     "execution_count": 20,
     "metadata": {},
     "output_type": "execute_result"
    }
   ],
   "source": [
    "# checking Responsibility column before cleaning\n",
    "\n",
    "jobs.Responsibility[0]"
   ]
  },
  {
   "cell_type": "code",
   "execution_count": 22,
   "metadata": {
    "ExecuteTime": {
     "end_time": "2018-08-31T16:32:38.740921Z",
     "start_time": "2018-08-31T16:32:38.676987Z"
    }
   },
   "outputs": [
    {
     "data": {
      "text/plain": [
       "b' &  Creating complex, enterprise-transforming applications on diverse, high energy teams Working with the latest tools and techniques Hands-on coding, usually in a pair programming environment Working in highly collaborative teams and building quality code Knowledge in lots of different domains and client environments Furnish the business domain deeply and working closely with business stakeholders '"
      ]
     },
     "execution_count": 22,
     "metadata": {},
     "output_type": "execute_result"
    }
   ],
   "source": [
    "# cleaning Responsibility column\n",
    "\n",
    "jobs.Responsibility = jobs['Responsibility'].apply(lambda x: x.replace('\\r', '').replace('\\n', ' ')\n",
    "                                                   .replace('roles', '').replace('responsibilities', '')\n",
    "                                                   .replace('role', '').replace('responsibility', '')\n",
    "                                                   .replace('Roles', '').replace('Responsibilities', '')\n",
    "                                                   .replace('Role', '').replace('Responsibility', '')\n",
    "                                                   .encode('ascii', errors='ignore'))\n",
    "jobs.Responsibility[0]"
   ]
  },
  {
   "cell_type": "code",
   "execution_count": 23,
   "metadata": {
    "ExecuteTime": {
     "end_time": "2018-08-31T16:32:40.900519Z",
     "start_time": "2018-08-31T16:32:40.888961Z"
    }
   },
   "outputs": [
    {
     "data": {
      "text/plain": [
       "'RequirementsRequirements: ·\\xa0\\xa0 \\xa0Strong design sense and communication skills – able to articulate design concepts or ideas ·\\xa0\\xa0 \\xa0Proficient in Adobe CS6, knowledge of web design and 3D software is a bonus\\xa0 ·\\xa0\\xa0 \\xa0Excellent in time management, organization and prioritization skills ·\\xa0\\xa0 \\xa0Ability to multi-task in a fast paced environment whilst maintaining strict attention to details ·\\xa0\\xa0 \\xa0Able to work independently ·\\xa0\\xa0 \\xa0Excellent team player with the ability to manage stakeholders effectively ·\\xa0\\xa0 \\xa0Knowledge in print production, on-site QC for press-checks and ability to prep FA ·\\xa0\\xa0 \\xa0A bachelor’s Degree/ Diploma in Graphic Design, Visual Communications, or a related field is required ·\\xa0\\xa0 \\xa0Knowledge on UI/UX\\xa0 ·\\xa0\\xa0 \\xa0A minimum of 4 years experience would be favourable'"
      ]
     },
     "execution_count": 23,
     "metadata": {},
     "output_type": "execute_result"
    }
   ],
   "source": [
    "# checking Requirements column before cleaning\n",
    "\n",
    "jobs.Requirements[33]"
   ]
  },
  {
   "cell_type": "code",
   "execution_count": 24,
   "metadata": {
    "ExecuteTime": {
     "end_time": "2018-08-31T16:32:47.016950Z",
     "start_time": "2018-08-31T16:32:46.986752Z"
    },
    "scrolled": true
   },
   "outputs": [
    {
     "data": {
      "text/plain": [
       "b'RequirementsRequirements:   Minimum B.S. degree in Computer Science or a related technical field Excellent communication skills with the ability to identify and communicate data driven insights 2+ years of Python development and Unix/linux system experience 2+ years of SQL (Mysql, Mssql, Hive, etc)experience You must also possess at least 2 of the additional requirements as below 2+ years of working experience in software development/programming in one of Java, C/C++. OS environment: Linux/Unix 2+ years of working experience with distributed databases or distributed systems 2+ years of working experience with dimensional data modelling & schema design in Data Warehouses 2+ years of working experience working on BigData analytics pipelines (Hadoop, Hive, ETL, RDBMS-Hadoop data management tools like Sqoop)     '"
      ]
     },
     "execution_count": 24,
     "metadata": {},
     "output_type": "execute_result"
    }
   ],
   "source": [
    "# cleaning Requirements column\n",
    "\n",
    "jobs.Requirements = jobs['Requirements'].apply(lambda x: x.replace('\\r', '').replace('\\n', ' ')\n",
    "                                        .encode('ascii', errors='ignore') if type(x) is str else x)\n",
    "jobs.Requirements[2]"
   ]
  },
  {
   "cell_type": "code",
   "execution_count": 61,
   "metadata": {
    "ExecuteTime": {
     "end_time": "2018-08-31T16:44:11.170521Z",
     "start_time": "2018-08-31T16:44:11.160050Z"
    }
   },
   "outputs": [
    {
     "data": {
      "text/plain": [
       "Index(['Company', 'Title', 'Emp_type', 'Seniority', 'Industry',\n",
       "       'Responsibility', 'Requirements', 'Avg_sal', 'Avg_sal_percentile',\n",
       "       'sal_cat'],\n",
       "      dtype='object')"
      ]
     },
     "execution_count": 61,
     "metadata": {},
     "output_type": "execute_result"
    }
   ],
   "source": [
    "jobs.columns"
   ]
  },
  {
   "cell_type": "code",
   "execution_count": 64,
   "metadata": {
    "ExecuteTime": {
     "end_time": "2018-08-31T16:45:07.721553Z",
     "start_time": "2018-08-31T16:45:07.709570Z"
    }
   },
   "outputs": [],
   "source": [
    "jobs.Title = jobs['Title'].apply(lambda x: x.replace('\\r', '').replace('\\n', ' ')\n",
    "                                        .encode('ascii', errors='ignore') if type(x) is str else x)"
   ]
  },
  {
   "cell_type": "code",
   "execution_count": 25,
   "metadata": {
    "ExecuteTime": {
     "end_time": "2018-08-31T16:32:48.659697Z",
     "start_time": "2018-08-31T16:32:48.644755Z"
    }
   },
   "outputs": [],
   "source": [
    "# cleaning Salary column\n",
    "\n",
    "jobs.Salary.replace('NONE', np.nan, inplace=True)\n",
    "\n",
    "jobs.Salary = jobs['Salary'].apply(lambda x: x.replace('$', '').replace(',', '').split('to') if type(x) is str else x)"
   ]
  },
  {
   "cell_type": "markdown",
   "metadata": {},
   "source": [
    "\n",
    "\n",
    "The Salary column is filled up as an object with min and max salary. I will be splitting the min and max salary to 2 columns and taking the average of the 2 for each row. Rows that have null values will be grouped and on seniority and will be replaced with the median salary of the seniority category.\n",
    "\n",
    "Additionally, I will look at the min and max salary in my dataset to ensure there are no outliers. If there are, I will have to re-calculate the salary amount (perhaps it was quoted differently, compared to the rest. Monthly vs Yearly)."
   ]
  },
  {
   "cell_type": "code",
   "execution_count": 26,
   "metadata": {
    "ExecuteTime": {
     "end_time": "2018-08-31T16:32:51.317030Z",
     "start_time": "2018-08-31T16:32:50.879249Z"
    }
   },
   "outputs": [],
   "source": [
    "sal = jobs.Salary.apply(pd.Series).add_prefix('salary_')\n",
    "jobs = pd.concat([jobs, sal], axis=1)\n",
    "\n",
    "jobs.salary_0 = jobs.salary_0.apply(lambda x: float(x))\n",
    "jobs.salary_1 = jobs.salary_1.apply(lambda x: float(x))\n",
    "jobs['avg_sal'] = (jobs.salary_0 + jobs.salary_1) / 2\n",
    "jobs.head()\n",
    "\n",
    "jobs.drop(['Salary', 'salary_0', 'salary_1'], axis=1, inplace=True)"
   ]
  },
  {
   "cell_type": "code",
   "execution_count": 28,
   "metadata": {
    "ExecuteTime": {
     "end_time": "2018-08-31T16:33:02.892624Z",
     "start_time": "2018-08-31T16:33:02.878078Z"
    }
   },
   "outputs": [
    {
     "name": "stdout",
     "output_type": "stream",
     "text": [
      "Min Salary:  1.0\n",
      "Max Salary:  300000.0\n"
     ]
    }
   ],
   "source": [
    "print ('Min Salary: ', jobs.avg_sal.min())\n",
    "print ('Max Salary: ', jobs.avg_sal.max())\n",
    "\n",
    "# will need to remove the min salary and investigate why is max salary at $300,000"
   ]
  },
  {
   "cell_type": "code",
   "execution_count": 29,
   "metadata": {
    "ExecuteTime": {
     "end_time": "2018-08-31T16:33:04.958802Z",
     "start_time": "2018-08-31T16:33:04.931430Z"
    },
    "scrolled": true
   },
   "outputs": [
    {
     "data": {
      "text/html": [
       "<div>\n",
       "<style scoped>\n",
       "    .dataframe tbody tr th:only-of-type {\n",
       "        vertical-align: middle;\n",
       "    }\n",
       "\n",
       "    .dataframe tbody tr th {\n",
       "        vertical-align: top;\n",
       "    }\n",
       "\n",
       "    .dataframe thead th {\n",
       "        text-align: right;\n",
       "    }\n",
       "</style>\n",
       "<table border=\"1\" class=\"dataframe\">\n",
       "  <thead>\n",
       "    <tr style=\"text-align: right;\">\n",
       "      <th></th>\n",
       "      <th>Company</th>\n",
       "      <th>Title</th>\n",
       "      <th>Emp_type</th>\n",
       "      <th>Seniority</th>\n",
       "      <th>Industry</th>\n",
       "      <th>Responsibility</th>\n",
       "      <th>Requirements</th>\n",
       "      <th>avg_sal</th>\n",
       "    </tr>\n",
       "  </thead>\n",
       "  <tbody>\n",
       "    <tr>\n",
       "      <th>1029</th>\n",
       "      <td>SGTech</td>\n",
       "      <td>information technology</td>\n",
       "      <td>Part Time, Permanent, Temporary, Contract, Fle...</td>\n",
       "      <td>Manager, Fresh/entry level, Executive, Junior ...</td>\n",
       "      <td>Engineering, Information Technology, Others, S...</td>\n",
       "      <td>b' &amp; TalentGuru(www.talentguru.org) is a skill...</td>\n",
       "      <td>b'RequirementsFor more details, visit talentgu...</td>\n",
       "      <td>1.0</td>\n",
       "    </tr>\n",
       "  </tbody>\n",
       "</table>\n",
       "</div>"
      ],
      "text/plain": [
       "     Company                   Title  \\\n",
       "1029  SGTech  information technology   \n",
       "\n",
       "                                               Emp_type  \\\n",
       "1029  Part Time, Permanent, Temporary, Contract, Fle...   \n",
       "\n",
       "                                              Seniority  \\\n",
       "1029  Manager, Fresh/entry level, Executive, Junior ...   \n",
       "\n",
       "                                               Industry  \\\n",
       "1029  Engineering, Information Technology, Others, S...   \n",
       "\n",
       "                                         Responsibility  \\\n",
       "1029  b' & TalentGuru(www.talentguru.org) is a skill...   \n",
       "\n",
       "                                           Requirements  avg_sal  \n",
       "1029  b'RequirementsFor more details, visit talentgu...      1.0  "
      ]
     },
     "execution_count": 29,
     "metadata": {},
     "output_type": "execute_result"
    }
   ],
   "source": [
    "jobs[jobs['avg_sal'] == 1]"
   ]
  },
  {
   "cell_type": "code",
   "execution_count": 30,
   "metadata": {
    "ExecuteTime": {
     "end_time": "2018-08-31T16:33:06.376686Z",
     "start_time": "2018-08-31T16:33:06.351056Z"
    }
   },
   "outputs": [
    {
     "data": {
      "text/html": [
       "<div>\n",
       "<style scoped>\n",
       "    .dataframe tbody tr th:only-of-type {\n",
       "        vertical-align: middle;\n",
       "    }\n",
       "\n",
       "    .dataframe tbody tr th {\n",
       "        vertical-align: top;\n",
       "    }\n",
       "\n",
       "    .dataframe thead th {\n",
       "        text-align: right;\n",
       "    }\n",
       "</style>\n",
       "<table border=\"1\" class=\"dataframe\">\n",
       "  <thead>\n",
       "    <tr style=\"text-align: right;\">\n",
       "      <th></th>\n",
       "      <th>Company</th>\n",
       "      <th>Title</th>\n",
       "      <th>Emp_type</th>\n",
       "      <th>Seniority</th>\n",
       "      <th>Industry</th>\n",
       "      <th>Responsibility</th>\n",
       "      <th>Requirements</th>\n",
       "      <th>avg_sal</th>\n",
       "    </tr>\n",
       "  </thead>\n",
       "  <tbody>\n",
       "    <tr>\n",
       "      <th>176</th>\n",
       "      <td>NATIONAL UNIVERSITY OF SINGAPORE</td>\n",
       "      <td>Data Recorder (National Adult Oral Health Survey)</td>\n",
       "      <td>Contract, Part Time</td>\n",
       "      <td>Non-executive</td>\n",
       "      <td>General Work</td>\n",
       "      <td>b' &amp; The Faculty of Dentistry, National Univer...</td>\n",
       "      <td>b'RequirementsThe Data Recorders shall  have c...</td>\n",
       "      <td>10.0</td>\n",
       "    </tr>\n",
       "    <tr>\n",
       "      <th>1029</th>\n",
       "      <td>SGTech</td>\n",
       "      <td>information technology</td>\n",
       "      <td>Part Time, Permanent, Temporary, Contract, Fle...</td>\n",
       "      <td>Manager, Fresh/entry level, Executive, Junior ...</td>\n",
       "      <td>Engineering, Information Technology, Others, S...</td>\n",
       "      <td>b' &amp; TalentGuru(www.talentguru.org) is a skill...</td>\n",
       "      <td>b'RequirementsFor more details, visit talentgu...</td>\n",
       "      <td>1.0</td>\n",
       "    </tr>\n",
       "  </tbody>\n",
       "</table>\n",
       "</div>"
      ],
      "text/plain": [
       "                               Company  \\\n",
       "176   NATIONAL UNIVERSITY OF SINGAPORE   \n",
       "1029                            SGTech   \n",
       "\n",
       "                                                  Title  \\\n",
       "176   Data Recorder (National Adult Oral Health Survey)   \n",
       "1029                             information technology   \n",
       "\n",
       "                                               Emp_type  \\\n",
       "176                                 Contract, Part Time   \n",
       "1029  Part Time, Permanent, Temporary, Contract, Fle...   \n",
       "\n",
       "                                              Seniority  \\\n",
       "176                                       Non-executive   \n",
       "1029  Manager, Fresh/entry level, Executive, Junior ...   \n",
       "\n",
       "                                               Industry  \\\n",
       "176                                        General Work   \n",
       "1029  Engineering, Information Technology, Others, S...   \n",
       "\n",
       "                                         Responsibility  \\\n",
       "176   b' & The Faculty of Dentistry, National Univer...   \n",
       "1029  b' & TalentGuru(www.talentguru.org) is a skill...   \n",
       "\n",
       "                                           Requirements  avg_sal  \n",
       "176   b'RequirementsThe Data Recorders shall  have c...     10.0  \n",
       "1029  b'RequirementsFor more details, visit talentgu...      1.0  "
      ]
     },
     "execution_count": 30,
     "metadata": {},
     "output_type": "execute_result"
    }
   ],
   "source": [
    "jobs[jobs['avg_sal'] < 1000]"
   ]
  },
  {
   "cell_type": "code",
   "execution_count": 31,
   "metadata": {
    "ExecuteTime": {
     "end_time": "2018-08-31T16:33:07.632907Z",
     "start_time": "2018-08-31T16:33:07.621427Z"
    }
   },
   "outputs": [],
   "source": [
    "# dropping salary outlier since it is the only job in Seniority - 'Manager, Fresh/entry level, Executive, Junior Executive'\n",
    "\n",
    "min_outlier = jobs[jobs['avg_sal'] < 1000]\n",
    "jobs.drop(min_outlier.index, inplace=True)"
   ]
  },
  {
   "cell_type": "code",
   "execution_count": 32,
   "metadata": {
    "ExecuteTime": {
     "end_time": "2018-08-31T16:33:23.705495Z",
     "start_time": "2018-08-31T16:33:23.678203Z"
    },
    "scrolled": true
   },
   "outputs": [
    {
     "name": "stdout",
     "output_type": "stream",
     "text": [
      "Initial df shape:  (1493, 8)\n",
      "Duplicate shape:  (1, 8)\n",
      "No duplicates df shape:  (1492, 8)\n"
     ]
    }
   ],
   "source": [
    "# checking for duplicates again\n",
    "\n",
    "duplicates1 = jobs.loc[jobs.duplicated(), :]\n",
    "print (\"Initial df shape: \", jobs.shape)\n",
    "print ('Duplicate shape: ', duplicates1.shape)\n",
    "jobs.drop(duplicates1.index, inplace=True)\n",
    "print ('No duplicates df shape: ', jobs.shape)"
   ]
  },
  {
   "cell_type": "code",
   "execution_count": 33,
   "metadata": {
    "ExecuteTime": {
     "end_time": "2018-08-31T16:33:25.621111Z",
     "start_time": "2018-08-31T16:33:25.612897Z"
    }
   },
   "outputs": [],
   "source": [
    "jobs[['Seniority', 'Requirements']] = jobs[['Seniority', 'Requirements']].fillna('Not listed', axis=1)"
   ]
  },
  {
   "cell_type": "code",
   "execution_count": 34,
   "metadata": {
    "ExecuteTime": {
     "end_time": "2018-08-31T16:33:26.763569Z",
     "start_time": "2018-08-31T16:33:26.721471Z"
    },
    "scrolled": true
   },
   "outputs": [
    {
     "data": {
      "text/html": [
       "<div>\n",
       "<style scoped>\n",
       "    .dataframe tbody tr th:only-of-type {\n",
       "        vertical-align: middle;\n",
       "    }\n",
       "\n",
       "    .dataframe tbody tr th {\n",
       "        vertical-align: top;\n",
       "    }\n",
       "\n",
       "    .dataframe thead th {\n",
       "        text-align: right;\n",
       "    }\n",
       "</style>\n",
       "<table border=\"1\" class=\"dataframe\">\n",
       "  <thead>\n",
       "    <tr style=\"text-align: right;\">\n",
       "      <th></th>\n",
       "      <th>Seniority</th>\n",
       "      <th>avg_sal_by_sen</th>\n",
       "    </tr>\n",
       "  </thead>\n",
       "  <tbody>\n",
       "    <tr>\n",
       "      <th>0</th>\n",
       "      <td>Executive</td>\n",
       "      <td>5500.00</td>\n",
       "    </tr>\n",
       "    <tr>\n",
       "      <th>1</th>\n",
       "      <td>Executive, Junior Executive</td>\n",
       "      <td>3400.00</td>\n",
       "    </tr>\n",
       "    <tr>\n",
       "      <th>2</th>\n",
       "      <td>Executive, Junior Executive, Senior Executive</td>\n",
       "      <td>4975.00</td>\n",
       "    </tr>\n",
       "    <tr>\n",
       "      <th>3</th>\n",
       "      <td>Executive, Non-executive</td>\n",
       "      <td>10000.00</td>\n",
       "    </tr>\n",
       "    <tr>\n",
       "      <th>4</th>\n",
       "      <td>Executive, Non-executive, Junior Executive</td>\n",
       "      <td>3930.50</td>\n",
       "    </tr>\n",
       "    <tr>\n",
       "      <th>5</th>\n",
       "      <td>Executive, Non-executive, Junior Executive, Se...</td>\n",
       "      <td>5350.00</td>\n",
       "    </tr>\n",
       "    <tr>\n",
       "      <th>6</th>\n",
       "      <td>Executive, Senior Executive</td>\n",
       "      <td>5500.00</td>\n",
       "    </tr>\n",
       "    <tr>\n",
       "      <th>7</th>\n",
       "      <td>Fresh/entry level</td>\n",
       "      <td>4000.00</td>\n",
       "    </tr>\n",
       "    <tr>\n",
       "      <th>8</th>\n",
       "      <td>Fresh/entry level, Executive</td>\n",
       "      <td>4000.00</td>\n",
       "    </tr>\n",
       "    <tr>\n",
       "      <th>9</th>\n",
       "      <td>Fresh/entry level, Executive, Non-executive</td>\n",
       "      <td>4750.00</td>\n",
       "    </tr>\n",
       "    <tr>\n",
       "      <th>10</th>\n",
       "      <td>Fresh/entry level, Junior Executive</td>\n",
       "      <td>3175.00</td>\n",
       "    </tr>\n",
       "    <tr>\n",
       "      <th>11</th>\n",
       "      <td>Fresh/entry level, Non-executive</td>\n",
       "      <td>2200.00</td>\n",
       "    </tr>\n",
       "    <tr>\n",
       "      <th>12</th>\n",
       "      <td>Fresh/entry level, Professional</td>\n",
       "      <td>6875.00</td>\n",
       "    </tr>\n",
       "    <tr>\n",
       "      <th>13</th>\n",
       "      <td>Fresh/entry level, Professional, Non-executive</td>\n",
       "      <td>6250.00</td>\n",
       "    </tr>\n",
       "    <tr>\n",
       "      <th>14</th>\n",
       "      <td>Junior Executive</td>\n",
       "      <td>3875.00</td>\n",
       "    </tr>\n",
       "    <tr>\n",
       "      <th>15</th>\n",
       "      <td>Junior Executive, Senior Executive</td>\n",
       "      <td>3000.00</td>\n",
       "    </tr>\n",
       "    <tr>\n",
       "      <th>16</th>\n",
       "      <td>Manager</td>\n",
       "      <td>8000.00</td>\n",
       "    </tr>\n",
       "    <tr>\n",
       "      <th>17</th>\n",
       "      <td>Manager, Executive</td>\n",
       "      <td>5025.00</td>\n",
       "    </tr>\n",
       "    <tr>\n",
       "      <th>18</th>\n",
       "      <td>Manager, Executive, Senior Executive</td>\n",
       "      <td>6050.00</td>\n",
       "    </tr>\n",
       "    <tr>\n",
       "      <th>19</th>\n",
       "      <td>Manager, Fresh/entry level, Executive</td>\n",
       "      <td>2400.00</td>\n",
       "    </tr>\n",
       "    <tr>\n",
       "      <th>20</th>\n",
       "      <td>Manager, Professional</td>\n",
       "      <td>9000.00</td>\n",
       "    </tr>\n",
       "    <tr>\n",
       "      <th>21</th>\n",
       "      <td>Manager, Professional, Executive</td>\n",
       "      <td>8750.00</td>\n",
       "    </tr>\n",
       "    <tr>\n",
       "      <th>22</th>\n",
       "      <td>Manager, Professional, Senior Executive</td>\n",
       "      <td>7900.00</td>\n",
       "    </tr>\n",
       "    <tr>\n",
       "      <th>23</th>\n",
       "      <td>Manager, Senior Executive</td>\n",
       "      <td>7250.00</td>\n",
       "    </tr>\n",
       "    <tr>\n",
       "      <th>24</th>\n",
       "      <td>Middle Management</td>\n",
       "      <td>8500.00</td>\n",
       "    </tr>\n",
       "    <tr>\n",
       "      <th>25</th>\n",
       "      <td>Middle Management, Junior Executive</td>\n",
       "      <td>8531.00</td>\n",
       "    </tr>\n",
       "    <tr>\n",
       "      <th>26</th>\n",
       "      <td>Middle Management, Manager</td>\n",
       "      <td>9750.00</td>\n",
       "    </tr>\n",
       "    <tr>\n",
       "      <th>27</th>\n",
       "      <td>Middle Management, Manager, Professional</td>\n",
       "      <td>9250.00</td>\n",
       "    </tr>\n",
       "    <tr>\n",
       "      <th>28</th>\n",
       "      <td>Middle Management, Manager, Senior Executive</td>\n",
       "      <td>6300.00</td>\n",
       "    </tr>\n",
       "    <tr>\n",
       "      <th>29</th>\n",
       "      <td>Middle Management, Professional</td>\n",
       "      <td>6000.00</td>\n",
       "    </tr>\n",
       "    <tr>\n",
       "      <th>30</th>\n",
       "      <td>Non-executive</td>\n",
       "      <td>5300.00</td>\n",
       "    </tr>\n",
       "    <tr>\n",
       "      <th>31</th>\n",
       "      <td>Non-executive, Junior Executive</td>\n",
       "      <td>2750.00</td>\n",
       "    </tr>\n",
       "    <tr>\n",
       "      <th>32</th>\n",
       "      <td>Professional</td>\n",
       "      <td>7000.00</td>\n",
       "    </tr>\n",
       "    <tr>\n",
       "      <th>33</th>\n",
       "      <td>Professional, Executive</td>\n",
       "      <td>4500.00</td>\n",
       "    </tr>\n",
       "    <tr>\n",
       "      <th>34</th>\n",
       "      <td>Professional, Executive, Junior Executive</td>\n",
       "      <td>4000.00</td>\n",
       "    </tr>\n",
       "    <tr>\n",
       "      <th>35</th>\n",
       "      <td>Professional, Executive, Senior Executive</td>\n",
       "      <td>6500.00</td>\n",
       "    </tr>\n",
       "    <tr>\n",
       "      <th>36</th>\n",
       "      <td>Professional, Senior Executive</td>\n",
       "      <td>6000.00</td>\n",
       "    </tr>\n",
       "    <tr>\n",
       "      <th>37</th>\n",
       "      <td>Senior Executive</td>\n",
       "      <td>7500.00</td>\n",
       "    </tr>\n",
       "    <tr>\n",
       "      <th>38</th>\n",
       "      <td>Senior Management</td>\n",
       "      <td>10150.00</td>\n",
       "    </tr>\n",
       "    <tr>\n",
       "      <th>39</th>\n",
       "      <td>Senior Management, Manager</td>\n",
       "      <td>8500.00</td>\n",
       "    </tr>\n",
       "    <tr>\n",
       "      <th>40</th>\n",
       "      <td>Senior Management, Manager, Executive, Senior ...</td>\n",
       "      <td>16500.00</td>\n",
       "    </tr>\n",
       "    <tr>\n",
       "      <th>41</th>\n",
       "      <td>Senior Management, Middle Management</td>\n",
       "      <td>13645.75</td>\n",
       "    </tr>\n",
       "    <tr>\n",
       "      <th>42</th>\n",
       "      <td>Senior Management, Middle Management, Manager</td>\n",
       "      <td>10208.50</td>\n",
       "    </tr>\n",
       "    <tr>\n",
       "      <th>43</th>\n",
       "      <td>Senior Management, Middle Management, Manager,...</td>\n",
       "      <td>7800.00</td>\n",
       "    </tr>\n",
       "    <tr>\n",
       "      <th>44</th>\n",
       "      <td>Senior Management, Middle Management, Manager,...</td>\n",
       "      <td>7500.00</td>\n",
       "    </tr>\n",
       "    <tr>\n",
       "      <th>45</th>\n",
       "      <td>Senior Management, Middle Management, Manager,...</td>\n",
       "      <td>8000.00</td>\n",
       "    </tr>\n",
       "    <tr>\n",
       "      <th>46</th>\n",
       "      <td>Senior Management, Middle Management, Manager,...</td>\n",
       "      <td>NaN</td>\n",
       "    </tr>\n",
       "    <tr>\n",
       "      <th>47</th>\n",
       "      <td>Senior Management, Middle Management, Professi...</td>\n",
       "      <td>12000.00</td>\n",
       "    </tr>\n",
       "    <tr>\n",
       "      <th>48</th>\n",
       "      <td>Senior Management, Professional</td>\n",
       "      <td>11000.00</td>\n",
       "    </tr>\n",
       "    <tr>\n",
       "      <th>49</th>\n",
       "      <td>nan</td>\n",
       "      <td>4875.00</td>\n",
       "    </tr>\n",
       "  </tbody>\n",
       "</table>\n",
       "</div>"
      ],
      "text/plain": [
       "                                            Seniority  avg_sal_by_sen\n",
       "0                                           Executive         5500.00\n",
       "1                         Executive, Junior Executive         3400.00\n",
       "2       Executive, Junior Executive, Senior Executive         4975.00\n",
       "3                            Executive, Non-executive        10000.00\n",
       "4          Executive, Non-executive, Junior Executive         3930.50\n",
       "5   Executive, Non-executive, Junior Executive, Se...         5350.00\n",
       "6                         Executive, Senior Executive         5500.00\n",
       "7                                   Fresh/entry level         4000.00\n",
       "8                        Fresh/entry level, Executive         4000.00\n",
       "9         Fresh/entry level, Executive, Non-executive         4750.00\n",
       "10                Fresh/entry level, Junior Executive         3175.00\n",
       "11                   Fresh/entry level, Non-executive         2200.00\n",
       "12                    Fresh/entry level, Professional         6875.00\n",
       "13     Fresh/entry level, Professional, Non-executive         6250.00\n",
       "14                                   Junior Executive         3875.00\n",
       "15                 Junior Executive, Senior Executive         3000.00\n",
       "16                                            Manager         8000.00\n",
       "17                                 Manager, Executive         5025.00\n",
       "18               Manager, Executive, Senior Executive         6050.00\n",
       "19              Manager, Fresh/entry level, Executive         2400.00\n",
       "20                              Manager, Professional         9000.00\n",
       "21                   Manager, Professional, Executive         8750.00\n",
       "22            Manager, Professional, Senior Executive         7900.00\n",
       "23                          Manager, Senior Executive         7250.00\n",
       "24                                  Middle Management         8500.00\n",
       "25                Middle Management, Junior Executive         8531.00\n",
       "26                         Middle Management, Manager         9750.00\n",
       "27           Middle Management, Manager, Professional         9250.00\n",
       "28       Middle Management, Manager, Senior Executive         6300.00\n",
       "29                    Middle Management, Professional         6000.00\n",
       "30                                      Non-executive         5300.00\n",
       "31                    Non-executive, Junior Executive         2750.00\n",
       "32                                       Professional         7000.00\n",
       "33                            Professional, Executive         4500.00\n",
       "34          Professional, Executive, Junior Executive         4000.00\n",
       "35          Professional, Executive, Senior Executive         6500.00\n",
       "36                     Professional, Senior Executive         6000.00\n",
       "37                                   Senior Executive         7500.00\n",
       "38                                  Senior Management        10150.00\n",
       "39                         Senior Management, Manager         8500.00\n",
       "40  Senior Management, Manager, Executive, Senior ...        16500.00\n",
       "41               Senior Management, Middle Management        13645.75\n",
       "42      Senior Management, Middle Management, Manager        10208.50\n",
       "43  Senior Management, Middle Management, Manager,...         7800.00\n",
       "44  Senior Management, Middle Management, Manager,...         7500.00\n",
       "45  Senior Management, Middle Management, Manager,...         8000.00\n",
       "46  Senior Management, Middle Management, Manager,...             NaN\n",
       "47  Senior Management, Middle Management, Professi...        12000.00\n",
       "48                    Senior Management, Professional        11000.00\n",
       "49                                                nan         4875.00"
      ]
     },
     "execution_count": 34,
     "metadata": {},
     "output_type": "execute_result"
    }
   ],
   "source": [
    "# getting median salary for all seniority groups\n",
    "\n",
    "seniority_median_sal = jobs.groupby('Seniority')['avg_sal'].median()\n",
    "seniority_median_sal_df = seniority_median_sal.to_frame().reset_index()\n",
    "seniority_median_sal_df.columns = ['Seniority', 'avg_sal_by_sen']\n",
    "seniority_median_sal_df.sort_values('Seniority', ascending=True)"
   ]
  },
  {
   "cell_type": "code",
   "execution_count": 35,
   "metadata": {
    "ExecuteTime": {
     "end_time": "2018-08-31T16:33:28.195017Z",
     "start_time": "2018-08-31T16:33:28.186336Z"
    }
   },
   "outputs": [],
   "source": [
    "jobs.reset_index(inplace=True)"
   ]
  },
  {
   "cell_type": "code",
   "execution_count": 36,
   "metadata": {
    "ExecuteTime": {
     "end_time": "2018-08-31T16:33:29.289204Z",
     "start_time": "2018-08-31T16:33:29.267437Z"
    }
   },
   "outputs": [],
   "source": [
    "# fill NAs for avg_sal column in jobs DF based on Seniority col. NAs would be replaced by mean salary from seniority groups Df\n",
    "\n",
    "temp_df = jobs.set_index('Seniority').avg_sal.fillna(seniority_median_sal_df.set_index('Seniority').avg_sal_by_sen).reset_index()\n",
    "temp_df.columns = ['Seniority_1', 'Avg_sal']\n",
    "jobs = pd.concat([jobs, temp_df], axis=1)\n",
    "jobs.drop(['Seniority_1', 'avg_sal', 'index'], axis=1, inplace=True)"
   ]
  },
  {
   "cell_type": "code",
   "execution_count": 37,
   "metadata": {
    "ExecuteTime": {
     "end_time": "2018-08-31T16:33:30.145728Z",
     "start_time": "2018-08-31T16:33:30.122603Z"
    },
    "scrolled": true
   },
   "outputs": [
    {
     "name": "stdout",
     "output_type": "stream",
     "text": [
      "<class 'pandas.core.frame.DataFrame'>\n",
      "RangeIndex: 1492 entries, 0 to 1491\n",
      "Data columns (total 8 columns):\n",
      "Company           1492 non-null object\n",
      "Title             1492 non-null object\n",
      "Emp_type          1492 non-null object\n",
      "Seniority         1492 non-null object\n",
      "Industry          1492 non-null object\n",
      "Responsibility    1492 non-null object\n",
      "Requirements      1492 non-null object\n",
      "Avg_sal           1491 non-null float64\n",
      "dtypes: float64(1), object(7)\n",
      "memory usage: 93.3+ KB\n"
     ]
    }
   ],
   "source": [
    "# check again for null values\n",
    "\n",
    "jobs.info()"
   ]
  },
  {
   "cell_type": "code",
   "execution_count": 38,
   "metadata": {
    "ExecuteTime": {
     "end_time": "2018-08-31T16:33:31.210996Z",
     "start_time": "2018-08-31T16:33:31.185766Z"
    },
    "scrolled": false
   },
   "outputs": [
    {
     "data": {
      "text/html": [
       "<div>\n",
       "<style scoped>\n",
       "    .dataframe tbody tr th:only-of-type {\n",
       "        vertical-align: middle;\n",
       "    }\n",
       "\n",
       "    .dataframe tbody tr th {\n",
       "        vertical-align: top;\n",
       "    }\n",
       "\n",
       "    .dataframe thead th {\n",
       "        text-align: right;\n",
       "    }\n",
       "</style>\n",
       "<table border=\"1\" class=\"dataframe\">\n",
       "  <thead>\n",
       "    <tr style=\"text-align: right;\">\n",
       "      <th></th>\n",
       "      <th>Company</th>\n",
       "      <th>Title</th>\n",
       "      <th>Emp_type</th>\n",
       "      <th>Seniority</th>\n",
       "      <th>Industry</th>\n",
       "      <th>Responsibility</th>\n",
       "      <th>Requirements</th>\n",
       "      <th>Avg_sal</th>\n",
       "    </tr>\n",
       "  </thead>\n",
       "  <tbody>\n",
       "    <tr>\n",
       "      <th>527</th>\n",
       "      <td>SINGAPORE TECHNOLOGIES ENGINEERING LTD</td>\n",
       "      <td>Data Scientist</td>\n",
       "      <td>Permanent, Full Time</td>\n",
       "      <td>Senior Management, Middle Management, Manager,...</td>\n",
       "      <td>Sciences / Laboratory / R&amp;D</td>\n",
       "      <td>b' &amp; Job Description: - Work in Strategic Tech...</td>\n",
       "      <td>b\"RequirementsRequirements: - Prefer a Master'...</td>\n",
       "      <td>NaN</td>\n",
       "    </tr>\n",
       "  </tbody>\n",
       "</table>\n",
       "</div>"
      ],
      "text/plain": [
       "                                    Company           Title  \\\n",
       "527  SINGAPORE TECHNOLOGIES ENGINEERING LTD  Data Scientist   \n",
       "\n",
       "                 Emp_type                                          Seniority  \\\n",
       "527  Permanent, Full Time  Senior Management, Middle Management, Manager,...   \n",
       "\n",
       "                        Industry  \\\n",
       "527  Sciences / Laboratory / R&D   \n",
       "\n",
       "                                        Responsibility  \\\n",
       "527  b' & Job Description: - Work in Strategic Tech...   \n",
       "\n",
       "                                          Requirements  Avg_sal  \n",
       "527  b\"RequirementsRequirements: - Prefer a Master'...      NaN  "
      ]
     },
     "execution_count": 38,
     "metadata": {},
     "output_type": "execute_result"
    }
   ],
   "source": [
    "jobs[jobs['Avg_sal'].isnull()]"
   ]
  },
  {
   "cell_type": "code",
   "execution_count": 39,
   "metadata": {
    "ExecuteTime": {
     "end_time": "2018-08-31T16:33:32.381299Z",
     "start_time": "2018-08-31T16:33:32.368154Z"
    }
   },
   "outputs": [],
   "source": [
    "# dropping row 513. No similar seniority or industry and emp_type having avg_sal\n",
    "\n",
    "jobs.drop(527, inplace=True)"
   ]
  },
  {
   "cell_type": "code",
   "execution_count": 40,
   "metadata": {
    "ExecuteTime": {
     "end_time": "2018-08-31T16:33:33.168654Z",
     "start_time": "2018-08-31T16:33:33.157702Z"
    },
    "scrolled": true
   },
   "outputs": [
    {
     "data": {
      "text/plain": [
       "(1491, 8)"
      ]
     },
     "execution_count": 40,
     "metadata": {},
     "output_type": "execute_result"
    }
   ],
   "source": [
    "jobs.shape"
   ]
  },
  {
   "cell_type": "code",
   "execution_count": 42,
   "metadata": {
    "ExecuteTime": {
     "end_time": "2018-08-31T16:33:50.578331Z",
     "start_time": "2018-08-31T16:33:50.504036Z"
    }
   },
   "outputs": [
    {
     "name": "stdout",
     "output_type": "stream",
     "text": [
      "Average Salary:  9222.702380952382\n",
      "Median Salary:  6500.0\n",
      "Salary Std Dev:  17396.317833859954\n"
     ]
    }
   ],
   "source": [
    "import scipy.stats as stats\n",
    "\n",
    "print ('Average Salary: ', jobs.Avg_sal.mean())\n",
    "print ('Median Salary: ', jobs.Avg_sal.median())\n",
    "print ('Salary Std Dev: ', jobs.Avg_sal.std())\n",
    "\n",
    "jobs['Avg_sal_percentile'] = [stats.percentileofscore(jobs['Avg_sal'], num) for num in jobs['Avg_sal']]"
   ]
  },
  {
   "cell_type": "code",
   "execution_count": 43,
   "metadata": {
    "ExecuteTime": {
     "end_time": "2018-08-31T16:33:52.082320Z",
     "start_time": "2018-08-31T16:33:52.073945Z"
    }
   },
   "outputs": [],
   "source": [
    "sal_std = jobs.Avg_sal.std()\n",
    "sal_median = jobs.Avg_sal.median()\n",
    "upper_limit = sal_median + sal_std\n",
    "lower_limit = sal_median - sal_std"
   ]
  },
  {
   "cell_type": "code",
   "execution_count": 44,
   "metadata": {
    "ExecuteTime": {
     "end_time": "2018-08-31T16:33:53.145951Z",
     "start_time": "2018-08-31T16:33:53.094269Z"
    },
    "scrolled": true
   },
   "outputs": [
    {
     "data": {
      "text/html": [
       "<div>\n",
       "<style scoped>\n",
       "    .dataframe tbody tr th:only-of-type {\n",
       "        vertical-align: middle;\n",
       "    }\n",
       "\n",
       "    .dataframe tbody tr th {\n",
       "        vertical-align: top;\n",
       "    }\n",
       "\n",
       "    .dataframe thead th {\n",
       "        text-align: right;\n",
       "    }\n",
       "</style>\n",
       "<table border=\"1\" class=\"dataframe\">\n",
       "  <thead>\n",
       "    <tr style=\"text-align: right;\">\n",
       "      <th></th>\n",
       "      <th>Company</th>\n",
       "      <th>Title</th>\n",
       "      <th>Emp_type</th>\n",
       "      <th>Seniority</th>\n",
       "      <th>Industry</th>\n",
       "      <th>Responsibility</th>\n",
       "      <th>Requirements</th>\n",
       "      <th>Avg_sal</th>\n",
       "      <th>Avg_sal_percentile</th>\n",
       "    </tr>\n",
       "  </thead>\n",
       "  <tbody>\n",
       "    <tr>\n",
       "      <th>1414</th>\n",
       "      <td>INTERSOFTKK (SINGAPORE) PTE. LTD.</td>\n",
       "      <td>Business Analyst</td>\n",
       "      <td>Part Time</td>\n",
       "      <td>Senior Executive</td>\n",
       "      <td>Information Technology</td>\n",
       "      <td>b' &amp;  Description Application Developer (Backe...</td>\n",
       "      <td>b'RequirementsTechnical Skills Required Techni...</td>\n",
       "      <td>32000.0</td>\n",
       "      <td>97.920858</td>\n",
       "    </tr>\n",
       "    <tr>\n",
       "      <th>1401</th>\n",
       "      <td>NTT DATA SINGAPORE PTE. LTD.</td>\n",
       "      <td>Full Stack Developer</td>\n",
       "      <td>Contract</td>\n",
       "      <td>Professional, Executive, Senior Executive</td>\n",
       "      <td>Information Technology</td>\n",
       "      <td>b' &amp;  Work closely with scrum master and the r...</td>\n",
       "      <td>b'Requirements Bachelor Degree with min 3 year...</td>\n",
       "      <td>42500.0</td>\n",
       "      <td>97.987928</td>\n",
       "    </tr>\n",
       "    <tr>\n",
       "      <th>1215</th>\n",
       "      <td>OBSERVATIONAL AND PRAGMATIC RESEARCH INSTITUTE...</td>\n",
       "      <td>Research Project Manager</td>\n",
       "      <td>Permanent, Full Time</td>\n",
       "      <td>Manager</td>\n",
       "      <td>Healthcare / Pharmaceutical</td>\n",
       "      <td>b' &amp; Our team, based in the UK and Singapore, ...</td>\n",
       "      <td>b'RequirementsEssential skills &amp; experience:  ...</td>\n",
       "      <td>54500.0</td>\n",
       "      <td>98.054997</td>\n",
       "    </tr>\n",
       "    <tr>\n",
       "      <th>1250</th>\n",
       "      <td>EPAM SYSTEMS PTE. LTD.</td>\n",
       "      <td>Senior Business Analyst</td>\n",
       "      <td>Permanent, Full Time</td>\n",
       "      <td>Senior Executive</td>\n",
       "      <td>Information Technology</td>\n",
       "      <td>b' &amp;    Key in driving and supporting migratio...</td>\n",
       "      <td>b'Requirements Degree (and above) in Informati...</td>\n",
       "      <td>58500.0</td>\n",
       "      <td>98.122066</td>\n",
       "    </tr>\n",
       "    <tr>\n",
       "      <th>0</th>\n",
       "      <td>NTT DATA SINGAPORE PTE. LTD.</td>\n",
       "      <td>Senior Application Developer</td>\n",
       "      <td>Contract</td>\n",
       "      <td>Executive, Senior Executive</td>\n",
       "      <td>Information Technology</td>\n",
       "      <td>b' &amp;  Creating complex, enterprise-transformin...</td>\n",
       "      <td>b'Requirements A Bachelors degree in Computer ...</td>\n",
       "      <td>59000.0</td>\n",
       "      <td>98.189135</td>\n",
       "    </tr>\n",
       "    <tr>\n",
       "      <th>580</th>\n",
       "      <td>VISA WORLDWIDE PTE. LIMITED</td>\n",
       "      <td>Analyst, Visa Consulting and Analytics</td>\n",
       "      <td>Permanent, Full Time</td>\n",
       "      <td>Fresh/entry level</td>\n",
       "      <td>Consulting , Others</td>\n",
       "      <td>b\" &amp; Are you skilled at turning hard numbers i...</td>\n",
       "      <td>b\"RequirementsQualifications We are looking fo...</td>\n",
       "      <td>65000.0</td>\n",
       "      <td>98.256204</td>\n",
       "    </tr>\n",
       "    <tr>\n",
       "      <th>1313</th>\n",
       "      <td>ROBERT WALTERS (SINGAPORE) PTE LTD</td>\n",
       "      <td>Data Steward</td>\n",
       "      <td>Permanent, Full Time</td>\n",
       "      <td>Senior Executive</td>\n",
       "      <td>Information Technology</td>\n",
       "      <td>b' &amp; A global buyside firm has a job opportuni...</td>\n",
       "      <td>b\"RequirementsTo succeed in the Data Steward j...</td>\n",
       "      <td>70000.0</td>\n",
       "      <td>98.356808</td>\n",
       "    </tr>\n",
       "    <tr>\n",
       "      <th>483</th>\n",
       "      <td>UBS AG</td>\n",
       "      <td>Database Analyst</td>\n",
       "      <td>Full Time</td>\n",
       "      <td>Executive</td>\n",
       "      <td>Banking and Finance</td>\n",
       "      <td>b\" &amp; Are you curious? Do you love data? Are yo...</td>\n",
       "      <td>b'RequirementsYou have - hands on data prepara...</td>\n",
       "      <td>70000.0</td>\n",
       "      <td>98.356808</td>\n",
       "    </tr>\n",
       "    <tr>\n",
       "      <th>1474</th>\n",
       "      <td>SYNGENTA ASIA PACIFIC PTE. LTD.</td>\n",
       "      <td>Regional Planner</td>\n",
       "      <td>Full Time</td>\n",
       "      <td>Manager</td>\n",
       "      <td>Manufacturing</td>\n",
       "      <td>b' &amp; Regional Planner APAC Singapore About Syn...</td>\n",
       "      <td>b'RequirementsWe are looking for:  At least 3-...</td>\n",
       "      <td>72500.0</td>\n",
       "      <td>98.457411</td>\n",
       "    </tr>\n",
       "    <tr>\n",
       "      <th>1354</th>\n",
       "      <td>ILLUMINA SINGAPORE PTE. LTD.</td>\n",
       "      <td>SAP Senior Business Solution Analyst, Logistic...</td>\n",
       "      <td>Full Time</td>\n",
       "      <td>Senior Executive</td>\n",
       "      <td>Others</td>\n",
       "      <td>b' &amp; This  functions as a Senior Analyst and i...</td>\n",
       "      <td>b'RequirementsPreferred Experience:  Experienc...</td>\n",
       "      <td>75000.0</td>\n",
       "      <td>98.558015</td>\n",
       "    </tr>\n",
       "    <tr>\n",
       "      <th>244</th>\n",
       "      <td>ROBERT WALTERS (SINGAPORE) PTE LTD</td>\n",
       "      <td>Regional Business Development Manager</td>\n",
       "      <td>Permanent, Full Time</td>\n",
       "      <td>Manager</td>\n",
       "      <td>Sales / Retail</td>\n",
       "      <td>b' &amp; A newly-created Regional Business Develop...</td>\n",
       "      <td>b\"RequirementsTo succeed in this Regional Busi...</td>\n",
       "      <td>75000.0</td>\n",
       "      <td>98.558015</td>\n",
       "    </tr>\n",
       "    <tr>\n",
       "      <th>555</th>\n",
       "      <td>ENGINE BIOSCIENCES PTE. LTD.</td>\n",
       "      <td>Bioinformatics Specialist</td>\n",
       "      <td>Permanent, Full Time</td>\n",
       "      <td>Professional</td>\n",
       "      <td>Healthcare / Pharmaceutical</td>\n",
       "      <td>b' &amp; Engine Biosciences is a venture-backed bi...</td>\n",
       "      <td>b'Requirements Ph.D. in Bioinformatics / Stati...</td>\n",
       "      <td>80000.0</td>\n",
       "      <td>98.692153</td>\n",
       "    </tr>\n",
       "    <tr>\n",
       "      <th>412</th>\n",
       "      <td>EAMES CONSULTING GROUP (SINGAPORE) PTE. LTD.</td>\n",
       "      <td>Senior Business Analyst</td>\n",
       "      <td>Permanent, Full Time</td>\n",
       "      <td>Professional</td>\n",
       "      <td>Information Technology, Insurance</td>\n",
       "      <td>b' &amp; To identify business requirements, docume...</td>\n",
       "      <td>b'RequirementsSkills Required:  Good understan...</td>\n",
       "      <td>80000.0</td>\n",
       "      <td>98.692153</td>\n",
       "    </tr>\n",
       "    <tr>\n",
       "      <th>578</th>\n",
       "      <td>ENTITY SOLUTIONS (SINGAPORE) PTE. LTD.</td>\n",
       "      <td>data base developer</td>\n",
       "      <td>Full Time</td>\n",
       "      <td>Senior Management</td>\n",
       "      <td>General Management</td>\n",
       "      <td>b\" &amp;  Conceptualize and develop the back end o...</td>\n",
       "      <td>b'RequirementsIT, Blockchain'</td>\n",
       "      <td>95000.0</td>\n",
       "      <td>98.792757</td>\n",
       "    </tr>\n",
       "    <tr>\n",
       "      <th>88</th>\n",
       "      <td>Company Undisclosed</td>\n",
       "      <td>Senior Business Analyst</td>\n",
       "      <td>Permanent, Full Time</td>\n",
       "      <td>Professional</td>\n",
       "      <td>Insurance</td>\n",
       "      <td>b' &amp; Main Purpose Reporting to the Lead Analys...</td>\n",
       "      <td>b'RequirementsKnowledge &amp; Skills  Degree in bu...</td>\n",
       "      <td>100000.0</td>\n",
       "      <td>98.926895</td>\n",
       "    </tr>\n",
       "    <tr>\n",
       "      <th>740</th>\n",
       "      <td>UBS AG</td>\n",
       "      <td>IT Software Engineer</td>\n",
       "      <td>Permanent, Full Time</td>\n",
       "      <td>Senior Executive</td>\n",
       "      <td>Banking and Finance</td>\n",
       "      <td>b' &amp; Are you an experienced mainframe engineer...</td>\n",
       "      <td>b'RequirementsYou have:  long-standing experie...</td>\n",
       "      <td>100000.0</td>\n",
       "      <td>98.926895</td>\n",
       "    </tr>\n",
       "    <tr>\n",
       "      <th>1219</th>\n",
       "      <td>OAK CONSULTING PTE. LTD.</td>\n",
       "      <td>Product Sales Specialist</td>\n",
       "      <td>Permanent, Full Time</td>\n",
       "      <td>Senior Executive</td>\n",
       "      <td>Consulting , Customer Service, Information Tec...</td>\n",
       "      <td>b\" &amp; What you'll be doing As a Sales Professio...</td>\n",
       "      <td>b'RequirementsWho you are  Experienced.Conside...</td>\n",
       "      <td>100000.0</td>\n",
       "      <td>98.926895</td>\n",
       "    </tr>\n",
       "    <tr>\n",
       "      <th>926</th>\n",
       "      <td>KERRY CONSULTING PTE. LTD.</td>\n",
       "      <td>APAC Market Risk Manager – Commodities Trading</td>\n",
       "      <td>Permanent, Full Time</td>\n",
       "      <td>Manager</td>\n",
       "      <td>Engineering</td>\n",
       "      <td>b' &amp;  Leading integrated agriculture MNC  Regi...</td>\n",
       "      <td>b'Requirements The successful candidate will b...</td>\n",
       "      <td>105000.0</td>\n",
       "      <td>99.061033</td>\n",
       "    </tr>\n",
       "    <tr>\n",
       "      <th>10</th>\n",
       "      <td>ESSENCE GLOBAL MEDIA SINGAPORE PTE. LTD.</td>\n",
       "      <td>Analytics Director</td>\n",
       "      <td>Permanent, Full Time</td>\n",
       "      <td>Senior Management</td>\n",
       "      <td>Advertising / Media</td>\n",
       "      <td>b' &amp; About Essence Essence, part of GroupM, is...</td>\n",
       "      <td>b'RequirementsA bit about yourself:   Degree f...</td>\n",
       "      <td>110000.0</td>\n",
       "      <td>99.128102</td>\n",
       "    </tr>\n",
       "    <tr>\n",
       "      <th>639</th>\n",
       "      <td>LENOVO ENTERPRISE SOLUTIONS (SINGAPORE) PTE. LTD.</td>\n",
       "      <td>senior maketing manager</td>\n",
       "      <td>Full Time</td>\n",
       "      <td>Middle Management, Manager</td>\n",
       "      <td>Marketing / Public Relations</td>\n",
       "      <td>b' &amp; Job Scope   As an ASEAN Marketing leader,...</td>\n",
       "      <td>b'RequirementsCandidate Profile Requirements: ...</td>\n",
       "      <td>112500.0</td>\n",
       "      <td>99.195171</td>\n",
       "    </tr>\n",
       "    <tr>\n",
       "      <th>1253</th>\n",
       "      <td>ENGINE BIOSCIENCES PTE. LTD.</td>\n",
       "      <td>Senior Bioinformatics Specialist</td>\n",
       "      <td>Permanent, Full Time</td>\n",
       "      <td>Professional</td>\n",
       "      <td>Healthcare / Pharmaceutical</td>\n",
       "      <td>b' &amp; Engine Biosciences is a venture-backed bi...</td>\n",
       "      <td>b'Requirements Ph.D. in Bioinformatics / Stati...</td>\n",
       "      <td>115000.0</td>\n",
       "      <td>99.262240</td>\n",
       "    </tr>\n",
       "    <tr>\n",
       "      <th>645</th>\n",
       "      <td>AUTODESK ASIA PTE. LTD.</td>\n",
       "      <td>Contact Center Business support Analyst_18WD27168</td>\n",
       "      <td>Permanent, Full Time</td>\n",
       "      <td>Professional</td>\n",
       "      <td>Information Technology</td>\n",
       "      <td>b' &amp; The Contact Center Business Analyst will ...</td>\n",
       "      <td>b'Requirements 5  8 years of experience in CRM...</td>\n",
       "      <td>117000.0</td>\n",
       "      <td>99.329309</td>\n",
       "    </tr>\n",
       "    <tr>\n",
       "      <th>305</th>\n",
       "      <td>UBS AG</td>\n",
       "      <td>IT Software Engineer Unix / Linux</td>\n",
       "      <td>Permanent, Full Time</td>\n",
       "      <td>Executive</td>\n",
       "      <td>Banking and Finance</td>\n",
       "      <td>b' &amp; Do you possess all-round development skil...</td>\n",
       "      <td>b'RequirementsYou have:  experience designing ...</td>\n",
       "      <td>127500.0</td>\n",
       "      <td>99.396378</td>\n",
       "    </tr>\n",
       "    <tr>\n",
       "      <th>724</th>\n",
       "      <td>AMBITION GROUP SINGAPORE PTE. LTD.</td>\n",
       "      <td>Senior Digital Marketing Manager</td>\n",
       "      <td>Permanent, Full Time</td>\n",
       "      <td>Manager</td>\n",
       "      <td>Marketing / Public Relations</td>\n",
       "      <td>b' &amp; This  will be having the overall ownershi...</td>\n",
       "      <td>b'Requirements Minimum 8 years of experiencein...</td>\n",
       "      <td>130000.0</td>\n",
       "      <td>99.463447</td>\n",
       "    </tr>\n",
       "    <tr>\n",
       "      <th>257</th>\n",
       "      <td>FAIR ISAAC (ASPAC) PTE. LTD.</td>\n",
       "      <td>Solution Consulting – Lead Consultant</td>\n",
       "      <td>Permanent, Full Time</td>\n",
       "      <td>Middle Management</td>\n",
       "      <td>Consulting , Banking and Finance, Information ...</td>\n",
       "      <td>b' &amp; Job title  Solution Consulting  Lead Cons...</td>\n",
       "      <td>b'Requirements A minimum of five years Busines...</td>\n",
       "      <td>132000.0</td>\n",
       "      <td>99.530516</td>\n",
       "    </tr>\n",
       "    <tr>\n",
       "      <th>1423</th>\n",
       "      <td>ROBERT WALTERS (SINGAPORE) PTE LTD</td>\n",
       "      <td>Business Analyst</td>\n",
       "      <td>Contract</td>\n",
       "      <td>Senior Management</td>\n",
       "      <td>Banking and Finance</td>\n",
       "      <td>b' &amp; A Business Analyst job based in Singapore...</td>\n",
       "      <td>b\"RequirementsTo succeed in this Business Anal...</td>\n",
       "      <td>135000.0</td>\n",
       "      <td>99.597586</td>\n",
       "    </tr>\n",
       "    <tr>\n",
       "      <th>189</th>\n",
       "      <td>INTELLECT DESIGN ARENA PTE. LTD.</td>\n",
       "      <td>Subject-Matter Expert - Trade and Supply Chain...</td>\n",
       "      <td>Permanent, Full Time</td>\n",
       "      <td>Middle Management</td>\n",
       "      <td>Information Technology</td>\n",
       "      <td>b' &amp;  Demonstrate how product functionality ca...</td>\n",
       "      <td>b'Requirements Should have minimum 18+years of...</td>\n",
       "      <td>155000.0</td>\n",
       "      <td>99.664655</td>\n",
       "    </tr>\n",
       "    <tr>\n",
       "      <th>1294</th>\n",
       "      <td>STANDARD CHARTERED BANK</td>\n",
       "      <td>Senior Manager, Advanced Analytics, ERM</td>\n",
       "      <td>Full Time</td>\n",
       "      <td>Manager</td>\n",
       "      <td>Banking and Finance</td>\n",
       "      <td>b' &amp; Leading the way in International Banking....</td>\n",
       "      <td>b'RequirementsQualifications: Training, licens...</td>\n",
       "      <td>160000.0</td>\n",
       "      <td>99.798793</td>\n",
       "    </tr>\n",
       "    <tr>\n",
       "      <th>514</th>\n",
       "      <td>ESSENCE GLOBAL MEDIA SINGAPORE PTE. LTD.</td>\n",
       "      <td>Senior Media Planning Director</td>\n",
       "      <td>Permanent, Full Time</td>\n",
       "      <td>Senior Management</td>\n",
       "      <td>Advertising / Media</td>\n",
       "      <td>b' &amp; About Essence Essence, part of GroupM, is...</td>\n",
       "      <td>b'RequirementsA bit about yourself:   At least...</td>\n",
       "      <td>160000.0</td>\n",
       "      <td>99.798793</td>\n",
       "    </tr>\n",
       "    <tr>\n",
       "      <th>236</th>\n",
       "      <td>ENGINE BIOSCIENCES PTE. LTD.</td>\n",
       "      <td>Bioinformatics Manager</td>\n",
       "      <td>Full Time</td>\n",
       "      <td>Manager</td>\n",
       "      <td>Healthcare / Pharmaceutical, Information Techn...</td>\n",
       "      <td>b' &amp; Engine Biosciences is a venture-backed bi...</td>\n",
       "      <td>b'RequirementsMinimum Requirements  Ph.D. in B...</td>\n",
       "      <td>160000.0</td>\n",
       "      <td>99.798793</td>\n",
       "    </tr>\n",
       "    <tr>\n",
       "      <th>248</th>\n",
       "      <td>AMAZON WEB SERVICES SINGAPORE PRIVATE LIMITED</td>\n",
       "      <td>Sr. Data Architect, Data Warehousing &amp; MPP</td>\n",
       "      <td>Permanent, Full Time</td>\n",
       "      <td>Professional</td>\n",
       "      <td>Information Technology</td>\n",
       "      <td>b' &amp; At Amazon Web Services (AWS), were hiring...</td>\n",
       "      <td>b'RequirementsBasic Qualifications  BA/BS degr...</td>\n",
       "      <td>275000.0</td>\n",
       "      <td>99.932931</td>\n",
       "    </tr>\n",
       "    <tr>\n",
       "      <th>237</th>\n",
       "      <td>DATASPARK PTE. LTD.</td>\n",
       "      <td>Director, Data Science</td>\n",
       "      <td>Permanent, Full Time</td>\n",
       "      <td>Middle Management</td>\n",
       "      <td>Information Technology</td>\n",
       "      <td>b' &amp;  The Director of Data Science will be a k...</td>\n",
       "      <td>b'RequirementsQualifications  7+ years experie...</td>\n",
       "      <td>300000.0</td>\n",
       "      <td>100.000000</td>\n",
       "    </tr>\n",
       "  </tbody>\n",
       "</table>\n",
       "</div>"
      ],
      "text/plain": [
       "                                                Company  \\\n",
       "1414                  INTERSOFTKK (SINGAPORE) PTE. LTD.   \n",
       "1401                       NTT DATA SINGAPORE PTE. LTD.   \n",
       "1215  OBSERVATIONAL AND PRAGMATIC RESEARCH INSTITUTE...   \n",
       "1250                             EPAM SYSTEMS PTE. LTD.   \n",
       "0                          NTT DATA SINGAPORE PTE. LTD.   \n",
       "580                         VISA WORLDWIDE PTE. LIMITED   \n",
       "1313                 ROBERT WALTERS (SINGAPORE) PTE LTD   \n",
       "483                                              UBS AG   \n",
       "1474                    SYNGENTA ASIA PACIFIC PTE. LTD.   \n",
       "1354                       ILLUMINA SINGAPORE PTE. LTD.   \n",
       "244                  ROBERT WALTERS (SINGAPORE) PTE LTD   \n",
       "555                        ENGINE BIOSCIENCES PTE. LTD.   \n",
       "412        EAMES CONSULTING GROUP (SINGAPORE) PTE. LTD.   \n",
       "578              ENTITY SOLUTIONS (SINGAPORE) PTE. LTD.   \n",
       "88                                  Company Undisclosed   \n",
       "740                                              UBS AG   \n",
       "1219                           OAK CONSULTING PTE. LTD.   \n",
       "926                          KERRY CONSULTING PTE. LTD.   \n",
       "10             ESSENCE GLOBAL MEDIA SINGAPORE PTE. LTD.   \n",
       "639   LENOVO ENTERPRISE SOLUTIONS (SINGAPORE) PTE. LTD.   \n",
       "1253                       ENGINE BIOSCIENCES PTE. LTD.   \n",
       "645                             AUTODESK ASIA PTE. LTD.   \n",
       "305                                              UBS AG   \n",
       "724                  AMBITION GROUP SINGAPORE PTE. LTD.   \n",
       "257                        FAIR ISAAC (ASPAC) PTE. LTD.   \n",
       "1423                 ROBERT WALTERS (SINGAPORE) PTE LTD   \n",
       "189                    INTELLECT DESIGN ARENA PTE. LTD.   \n",
       "1294                            STANDARD CHARTERED BANK   \n",
       "514            ESSENCE GLOBAL MEDIA SINGAPORE PTE. LTD.   \n",
       "236                        ENGINE BIOSCIENCES PTE. LTD.   \n",
       "248       AMAZON WEB SERVICES SINGAPORE PRIVATE LIMITED   \n",
       "237                                 DATASPARK PTE. LTD.   \n",
       "\n",
       "                                                  Title              Emp_type  \\\n",
       "1414                                   Business Analyst             Part Time   \n",
       "1401                               Full Stack Developer              Contract   \n",
       "1215                           Research Project Manager  Permanent, Full Time   \n",
       "1250                            Senior Business Analyst  Permanent, Full Time   \n",
       "0                          Senior Application Developer              Contract   \n",
       "580              Analyst, Visa Consulting and Analytics  Permanent, Full Time   \n",
       "1313                                       Data Steward  Permanent, Full Time   \n",
       "483                                    Database Analyst             Full Time   \n",
       "1474                                   Regional Planner             Full Time   \n",
       "1354  SAP Senior Business Solution Analyst, Logistic...             Full Time   \n",
       "244               Regional Business Development Manager  Permanent, Full Time   \n",
       "555                           Bioinformatics Specialist  Permanent, Full Time   \n",
       "412                             Senior Business Analyst  Permanent, Full Time   \n",
       "578                                 data base developer             Full Time   \n",
       "88                              Senior Business Analyst  Permanent, Full Time   \n",
       "740                                IT Software Engineer  Permanent, Full Time   \n",
       "1219                           Product Sales Specialist  Permanent, Full Time   \n",
       "926      APAC Market Risk Manager – Commodities Trading  Permanent, Full Time   \n",
       "10                                   Analytics Director  Permanent, Full Time   \n",
       "639                             senior maketing manager             Full Time   \n",
       "1253                   Senior Bioinformatics Specialist  Permanent, Full Time   \n",
       "645   Contact Center Business support Analyst_18WD27168  Permanent, Full Time   \n",
       "305                   IT Software Engineer Unix / Linux  Permanent, Full Time   \n",
       "724                    Senior Digital Marketing Manager  Permanent, Full Time   \n",
       "257               Solution Consulting – Lead Consultant  Permanent, Full Time   \n",
       "1423                                   Business Analyst              Contract   \n",
       "189   Subject-Matter Expert - Trade and Supply Chain...  Permanent, Full Time   \n",
       "1294            Senior Manager, Advanced Analytics, ERM             Full Time   \n",
       "514                      Senior Media Planning Director  Permanent, Full Time   \n",
       "236                              Bioinformatics Manager             Full Time   \n",
       "248          Sr. Data Architect, Data Warehousing & MPP  Permanent, Full Time   \n",
       "237                              Director, Data Science  Permanent, Full Time   \n",
       "\n",
       "                                      Seniority  \\\n",
       "1414                           Senior Executive   \n",
       "1401  Professional, Executive, Senior Executive   \n",
       "1215                                    Manager   \n",
       "1250                           Senior Executive   \n",
       "0                   Executive, Senior Executive   \n",
       "580                           Fresh/entry level   \n",
       "1313                           Senior Executive   \n",
       "483                                   Executive   \n",
       "1474                                    Manager   \n",
       "1354                           Senior Executive   \n",
       "244                                     Manager   \n",
       "555                                Professional   \n",
       "412                                Professional   \n",
       "578                           Senior Management   \n",
       "88                                 Professional   \n",
       "740                            Senior Executive   \n",
       "1219                           Senior Executive   \n",
       "926                                     Manager   \n",
       "10                            Senior Management   \n",
       "639                  Middle Management, Manager   \n",
       "1253                               Professional   \n",
       "645                                Professional   \n",
       "305                                   Executive   \n",
       "724                                     Manager   \n",
       "257                           Middle Management   \n",
       "1423                          Senior Management   \n",
       "189                           Middle Management   \n",
       "1294                                    Manager   \n",
       "514                           Senior Management   \n",
       "236                                     Manager   \n",
       "248                                Professional   \n",
       "237                           Middle Management   \n",
       "\n",
       "                                               Industry  \\\n",
       "1414                             Information Technology   \n",
       "1401                             Information Technology   \n",
       "1215                        Healthcare / Pharmaceutical   \n",
       "1250                             Information Technology   \n",
       "0                                Information Technology   \n",
       "580                                 Consulting , Others   \n",
       "1313                             Information Technology   \n",
       "483                                 Banking and Finance   \n",
       "1474                                      Manufacturing   \n",
       "1354                                             Others   \n",
       "244                                     Sales / Retail    \n",
       "555                         Healthcare / Pharmaceutical   \n",
       "412                   Information Technology, Insurance   \n",
       "578                                  General Management   \n",
       "88                                            Insurance   \n",
       "740                                 Banking and Finance   \n",
       "1219  Consulting , Customer Service, Information Tec...   \n",
       "926                                         Engineering   \n",
       "10                                 Advertising / Media    \n",
       "639                       Marketing / Public Relations    \n",
       "1253                        Healthcare / Pharmaceutical   \n",
       "645                              Information Technology   \n",
       "305                                 Banking and Finance   \n",
       "724                       Marketing / Public Relations    \n",
       "257   Consulting , Banking and Finance, Information ...   \n",
       "1423                                Banking and Finance   \n",
       "189                              Information Technology   \n",
       "1294                                Banking and Finance   \n",
       "514                                Advertising / Media    \n",
       "236   Healthcare / Pharmaceutical, Information Techn...   \n",
       "248                              Information Technology   \n",
       "237                              Information Technology   \n",
       "\n",
       "                                         Responsibility  \\\n",
       "1414  b' &  Description Application Developer (Backe...   \n",
       "1401  b' &  Work closely with scrum master and the r...   \n",
       "1215  b' & Our team, based in the UK and Singapore, ...   \n",
       "1250  b' &    Key in driving and supporting migratio...   \n",
       "0     b' &  Creating complex, enterprise-transformin...   \n",
       "580   b\" & Are you skilled at turning hard numbers i...   \n",
       "1313  b' & A global buyside firm has a job opportuni...   \n",
       "483   b\" & Are you curious? Do you love data? Are yo...   \n",
       "1474  b' & Regional Planner APAC Singapore About Syn...   \n",
       "1354  b' & This  functions as a Senior Analyst and i...   \n",
       "244   b' & A newly-created Regional Business Develop...   \n",
       "555   b' & Engine Biosciences is a venture-backed bi...   \n",
       "412   b' & To identify business requirements, docume...   \n",
       "578   b\" &  Conceptualize and develop the back end o...   \n",
       "88    b' & Main Purpose Reporting to the Lead Analys...   \n",
       "740   b' & Are you an experienced mainframe engineer...   \n",
       "1219  b\" & What you'll be doing As a Sales Professio...   \n",
       "926   b' &  Leading integrated agriculture MNC  Regi...   \n",
       "10    b' & About Essence Essence, part of GroupM, is...   \n",
       "639   b' & Job Scope   As an ASEAN Marketing leader,...   \n",
       "1253  b' & Engine Biosciences is a venture-backed bi...   \n",
       "645   b' & The Contact Center Business Analyst will ...   \n",
       "305   b' & Do you possess all-round development skil...   \n",
       "724   b' & This  will be having the overall ownershi...   \n",
       "257   b' & Job title  Solution Consulting  Lead Cons...   \n",
       "1423  b' & A Business Analyst job based in Singapore...   \n",
       "189   b' &  Demonstrate how product functionality ca...   \n",
       "1294  b' & Leading the way in International Banking....   \n",
       "514   b' & About Essence Essence, part of GroupM, is...   \n",
       "236   b' & Engine Biosciences is a venture-backed bi...   \n",
       "248   b' & At Amazon Web Services (AWS), were hiring...   \n",
       "237   b' &  The Director of Data Science will be a k...   \n",
       "\n",
       "                                           Requirements   Avg_sal  \\\n",
       "1414  b'RequirementsTechnical Skills Required Techni...   32000.0   \n",
       "1401  b'Requirements Bachelor Degree with min 3 year...   42500.0   \n",
       "1215  b'RequirementsEssential skills & experience:  ...   54500.0   \n",
       "1250  b'Requirements Degree (and above) in Informati...   58500.0   \n",
       "0     b'Requirements A Bachelors degree in Computer ...   59000.0   \n",
       "580   b\"RequirementsQualifications We are looking fo...   65000.0   \n",
       "1313  b\"RequirementsTo succeed in the Data Steward j...   70000.0   \n",
       "483   b'RequirementsYou have - hands on data prepara...   70000.0   \n",
       "1474  b'RequirementsWe are looking for:  At least 3-...   72500.0   \n",
       "1354  b'RequirementsPreferred Experience:  Experienc...   75000.0   \n",
       "244   b\"RequirementsTo succeed in this Regional Busi...   75000.0   \n",
       "555   b'Requirements Ph.D. in Bioinformatics / Stati...   80000.0   \n",
       "412   b'RequirementsSkills Required:  Good understan...   80000.0   \n",
       "578                       b'RequirementsIT, Blockchain'   95000.0   \n",
       "88    b'RequirementsKnowledge & Skills  Degree in bu...  100000.0   \n",
       "740   b'RequirementsYou have:  long-standing experie...  100000.0   \n",
       "1219  b'RequirementsWho you are  Experienced.Conside...  100000.0   \n",
       "926   b'Requirements The successful candidate will b...  105000.0   \n",
       "10    b'RequirementsA bit about yourself:   Degree f...  110000.0   \n",
       "639   b'RequirementsCandidate Profile Requirements: ...  112500.0   \n",
       "1253  b'Requirements Ph.D. in Bioinformatics / Stati...  115000.0   \n",
       "645   b'Requirements 5  8 years of experience in CRM...  117000.0   \n",
       "305   b'RequirementsYou have:  experience designing ...  127500.0   \n",
       "724   b'Requirements Minimum 8 years of experiencein...  130000.0   \n",
       "257   b'Requirements A minimum of five years Busines...  132000.0   \n",
       "1423  b\"RequirementsTo succeed in this Business Anal...  135000.0   \n",
       "189   b'Requirements Should have minimum 18+years of...  155000.0   \n",
       "1294  b'RequirementsQualifications: Training, licens...  160000.0   \n",
       "514   b'RequirementsA bit about yourself:   At least...  160000.0   \n",
       "236   b'RequirementsMinimum Requirements  Ph.D. in B...  160000.0   \n",
       "248   b'RequirementsBasic Qualifications  BA/BS degr...  275000.0   \n",
       "237   b'RequirementsQualifications  7+ years experie...  300000.0   \n",
       "\n",
       "      Avg_sal_percentile  \n",
       "1414           97.920858  \n",
       "1401           97.987928  \n",
       "1215           98.054997  \n",
       "1250           98.122066  \n",
       "0              98.189135  \n",
       "580            98.256204  \n",
       "1313           98.356808  \n",
       "483            98.356808  \n",
       "1474           98.457411  \n",
       "1354           98.558015  \n",
       "244            98.558015  \n",
       "555            98.692153  \n",
       "412            98.692153  \n",
       "578            98.792757  \n",
       "88             98.926895  \n",
       "740            98.926895  \n",
       "1219           98.926895  \n",
       "926            99.061033  \n",
       "10             99.128102  \n",
       "639            99.195171  \n",
       "1253           99.262240  \n",
       "645            99.329309  \n",
       "305            99.396378  \n",
       "724            99.463447  \n",
       "257            99.530516  \n",
       "1423           99.597586  \n",
       "189            99.664655  \n",
       "1294           99.798793  \n",
       "514            99.798793  \n",
       "236            99.798793  \n",
       "248            99.932931  \n",
       "237           100.000000  "
      ]
     },
     "execution_count": 44,
     "metadata": {},
     "output_type": "execute_result"
    }
   ],
   "source": [
    "# these salaries could be quoted on per annum instead of per month. They will have to be converted to per month salaries.\n",
    "\n",
    "outliers = jobs[(jobs.Avg_sal >  upper_limit) | (jobs.Avg_sal < lower_limit)]\n",
    "outliers.sort_values('Avg_sal', ascending=True)"
   ]
  },
  {
   "cell_type": "code",
   "execution_count": 46,
   "metadata": {
    "ExecuteTime": {
     "end_time": "2018-08-31T16:34:00.688407Z",
     "start_time": "2018-08-31T16:34:00.679925Z"
    }
   },
   "outputs": [
    {
     "name": "stdout",
     "output_type": "stream",
     "text": [
      "Outliers shape:  (32, 9)\n"
     ]
    }
   ],
   "source": [
    "print ('Outliers shape: ', outliers.shape)"
   ]
  },
  {
   "cell_type": "code",
   "execution_count": 47,
   "metadata": {
    "ExecuteTime": {
     "end_time": "2018-08-31T16:34:01.871916Z",
     "start_time": "2018-08-31T16:34:01.801267Z"
    }
   },
   "outputs": [
    {
     "name": "stderr",
     "output_type": "stream",
     "text": [
      "C:\\Users\\Arsyad\\Anaconda2\\envs\\Python_3\\lib\\site-packages\\ipykernel\\__main__.py:4: SettingWithCopyWarning: \n",
      "A value is trying to be set on a copy of a slice from a DataFrame.\n",
      "Try using .loc[row_indexer,col_indexer] = value instead\n",
      "\n",
      "See the caveats in the documentation: http://pandas.pydata.org/pandas-docs/stable/indexing.html#indexing-view-versus-copy\n"
     ]
    }
   ],
   "source": [
    "jobs.drop(outliers.index, inplace=True)\n",
    "\n",
    "#  Avg_sal / 12 to standardize with the rest at monthly salary\n",
    "outliers['Avg_sal'] = outliers['Avg_sal'].apply(lambda x: x / 12)"
   ]
  },
  {
   "cell_type": "code",
   "execution_count": 48,
   "metadata": {
    "ExecuteTime": {
     "end_time": "2018-08-31T16:34:03.240534Z",
     "start_time": "2018-08-31T16:34:03.163177Z"
    }
   },
   "outputs": [
    {
     "data": {
      "text/html": [
       "<div>\n",
       "<style scoped>\n",
       "    .dataframe tbody tr th:only-of-type {\n",
       "        vertical-align: middle;\n",
       "    }\n",
       "\n",
       "    .dataframe tbody tr th {\n",
       "        vertical-align: top;\n",
       "    }\n",
       "\n",
       "    .dataframe thead th {\n",
       "        text-align: right;\n",
       "    }\n",
       "</style>\n",
       "<table border=\"1\" class=\"dataframe\">\n",
       "  <thead>\n",
       "    <tr style=\"text-align: right;\">\n",
       "      <th></th>\n",
       "      <th>Company</th>\n",
       "      <th>Title</th>\n",
       "      <th>Emp_type</th>\n",
       "      <th>Seniority</th>\n",
       "      <th>Industry</th>\n",
       "      <th>Responsibility</th>\n",
       "      <th>Requirements</th>\n",
       "      <th>Avg_sal</th>\n",
       "      <th>Avg_sal_percentile</th>\n",
       "    </tr>\n",
       "  </thead>\n",
       "  <tbody>\n",
       "    <tr>\n",
       "      <th>237</th>\n",
       "      <td>DATASPARK PTE. LTD.</td>\n",
       "      <td>Director, Data Science</td>\n",
       "      <td>Permanent, Full Time</td>\n",
       "      <td>Middle Management</td>\n",
       "      <td>Information Technology</td>\n",
       "      <td>b' &amp;  The Director of Data Science will be a k...</td>\n",
       "      <td>b'RequirementsQualifications  7+ years experie...</td>\n",
       "      <td>25000.000000</td>\n",
       "      <td>100.000000</td>\n",
       "    </tr>\n",
       "    <tr>\n",
       "      <th>248</th>\n",
       "      <td>AMAZON WEB SERVICES SINGAPORE PRIVATE LIMITED</td>\n",
       "      <td>Sr. Data Architect, Data Warehousing &amp; MPP</td>\n",
       "      <td>Permanent, Full Time</td>\n",
       "      <td>Professional</td>\n",
       "      <td>Information Technology</td>\n",
       "      <td>b' &amp; At Amazon Web Services (AWS), were hiring...</td>\n",
       "      <td>b'RequirementsBasic Qualifications  BA/BS degr...</td>\n",
       "      <td>22916.666667</td>\n",
       "      <td>99.932931</td>\n",
       "    </tr>\n",
       "    <tr>\n",
       "      <th>514</th>\n",
       "      <td>ESSENCE GLOBAL MEDIA SINGAPORE PTE. LTD.</td>\n",
       "      <td>Senior Media Planning Director</td>\n",
       "      <td>Permanent, Full Time</td>\n",
       "      <td>Senior Management</td>\n",
       "      <td>Advertising / Media</td>\n",
       "      <td>b' &amp; About Essence Essence, part of GroupM, is...</td>\n",
       "      <td>b'RequirementsA bit about yourself:   At least...</td>\n",
       "      <td>13333.333333</td>\n",
       "      <td>99.798793</td>\n",
       "    </tr>\n",
       "    <tr>\n",
       "      <th>1294</th>\n",
       "      <td>STANDARD CHARTERED BANK</td>\n",
       "      <td>Senior Manager, Advanced Analytics, ERM</td>\n",
       "      <td>Full Time</td>\n",
       "      <td>Manager</td>\n",
       "      <td>Banking and Finance</td>\n",
       "      <td>b' &amp; Leading the way in International Banking....</td>\n",
       "      <td>b'RequirementsQualifications: Training, licens...</td>\n",
       "      <td>13333.333333</td>\n",
       "      <td>99.798793</td>\n",
       "    </tr>\n",
       "    <tr>\n",
       "      <th>236</th>\n",
       "      <td>ENGINE BIOSCIENCES PTE. LTD.</td>\n",
       "      <td>Bioinformatics Manager</td>\n",
       "      <td>Full Time</td>\n",
       "      <td>Manager</td>\n",
       "      <td>Healthcare / Pharmaceutical, Information Techn...</td>\n",
       "      <td>b' &amp; Engine Biosciences is a venture-backed bi...</td>\n",
       "      <td>b'RequirementsMinimum Requirements  Ph.D. in B...</td>\n",
       "      <td>13333.333333</td>\n",
       "      <td>99.798793</td>\n",
       "    </tr>\n",
       "    <tr>\n",
       "      <th>189</th>\n",
       "      <td>INTELLECT DESIGN ARENA PTE. LTD.</td>\n",
       "      <td>Subject-Matter Expert - Trade and Supply Chain...</td>\n",
       "      <td>Permanent, Full Time</td>\n",
       "      <td>Middle Management</td>\n",
       "      <td>Information Technology</td>\n",
       "      <td>b' &amp;  Demonstrate how product functionality ca...</td>\n",
       "      <td>b'Requirements Should have minimum 18+years of...</td>\n",
       "      <td>12916.666667</td>\n",
       "      <td>99.664655</td>\n",
       "    </tr>\n",
       "    <tr>\n",
       "      <th>1423</th>\n",
       "      <td>ROBERT WALTERS (SINGAPORE) PTE LTD</td>\n",
       "      <td>Business Analyst</td>\n",
       "      <td>Contract</td>\n",
       "      <td>Senior Management</td>\n",
       "      <td>Banking and Finance</td>\n",
       "      <td>b' &amp; A Business Analyst job based in Singapore...</td>\n",
       "      <td>b\"RequirementsTo succeed in this Business Anal...</td>\n",
       "      <td>11250.000000</td>\n",
       "      <td>99.597586</td>\n",
       "    </tr>\n",
       "    <tr>\n",
       "      <th>257</th>\n",
       "      <td>FAIR ISAAC (ASPAC) PTE. LTD.</td>\n",
       "      <td>Solution Consulting – Lead Consultant</td>\n",
       "      <td>Permanent, Full Time</td>\n",
       "      <td>Middle Management</td>\n",
       "      <td>Consulting , Banking and Finance, Information ...</td>\n",
       "      <td>b' &amp; Job title  Solution Consulting  Lead Cons...</td>\n",
       "      <td>b'Requirements A minimum of five years Busines...</td>\n",
       "      <td>11000.000000</td>\n",
       "      <td>99.530516</td>\n",
       "    </tr>\n",
       "    <tr>\n",
       "      <th>724</th>\n",
       "      <td>AMBITION GROUP SINGAPORE PTE. LTD.</td>\n",
       "      <td>Senior Digital Marketing Manager</td>\n",
       "      <td>Permanent, Full Time</td>\n",
       "      <td>Manager</td>\n",
       "      <td>Marketing / Public Relations</td>\n",
       "      <td>b' &amp; This  will be having the overall ownershi...</td>\n",
       "      <td>b'Requirements Minimum 8 years of experiencein...</td>\n",
       "      <td>10833.333333</td>\n",
       "      <td>99.463447</td>\n",
       "    </tr>\n",
       "    <tr>\n",
       "      <th>305</th>\n",
       "      <td>UBS AG</td>\n",
       "      <td>IT Software Engineer Unix / Linux</td>\n",
       "      <td>Permanent, Full Time</td>\n",
       "      <td>Executive</td>\n",
       "      <td>Banking and Finance</td>\n",
       "      <td>b' &amp; Do you possess all-round development skil...</td>\n",
       "      <td>b'RequirementsYou have:  experience designing ...</td>\n",
       "      <td>10625.000000</td>\n",
       "      <td>99.396378</td>\n",
       "    </tr>\n",
       "    <tr>\n",
       "      <th>645</th>\n",
       "      <td>AUTODESK ASIA PTE. LTD.</td>\n",
       "      <td>Contact Center Business support Analyst_18WD27168</td>\n",
       "      <td>Permanent, Full Time</td>\n",
       "      <td>Professional</td>\n",
       "      <td>Information Technology</td>\n",
       "      <td>b' &amp; The Contact Center Business Analyst will ...</td>\n",
       "      <td>b'Requirements 5  8 years of experience in CRM...</td>\n",
       "      <td>9750.000000</td>\n",
       "      <td>99.329309</td>\n",
       "    </tr>\n",
       "    <tr>\n",
       "      <th>1253</th>\n",
       "      <td>ENGINE BIOSCIENCES PTE. LTD.</td>\n",
       "      <td>Senior Bioinformatics Specialist</td>\n",
       "      <td>Permanent, Full Time</td>\n",
       "      <td>Professional</td>\n",
       "      <td>Healthcare / Pharmaceutical</td>\n",
       "      <td>b' &amp; Engine Biosciences is a venture-backed bi...</td>\n",
       "      <td>b'Requirements Ph.D. in Bioinformatics / Stati...</td>\n",
       "      <td>9583.333333</td>\n",
       "      <td>99.262240</td>\n",
       "    </tr>\n",
       "    <tr>\n",
       "      <th>639</th>\n",
       "      <td>LENOVO ENTERPRISE SOLUTIONS (SINGAPORE) PTE. LTD.</td>\n",
       "      <td>senior maketing manager</td>\n",
       "      <td>Full Time</td>\n",
       "      <td>Middle Management, Manager</td>\n",
       "      <td>Marketing / Public Relations</td>\n",
       "      <td>b' &amp; Job Scope   As an ASEAN Marketing leader,...</td>\n",
       "      <td>b'RequirementsCandidate Profile Requirements: ...</td>\n",
       "      <td>9375.000000</td>\n",
       "      <td>99.195171</td>\n",
       "    </tr>\n",
       "    <tr>\n",
       "      <th>10</th>\n",
       "      <td>ESSENCE GLOBAL MEDIA SINGAPORE PTE. LTD.</td>\n",
       "      <td>Analytics Director</td>\n",
       "      <td>Permanent, Full Time</td>\n",
       "      <td>Senior Management</td>\n",
       "      <td>Advertising / Media</td>\n",
       "      <td>b' &amp; About Essence Essence, part of GroupM, is...</td>\n",
       "      <td>b'RequirementsA bit about yourself:   Degree f...</td>\n",
       "      <td>9166.666667</td>\n",
       "      <td>99.128102</td>\n",
       "    </tr>\n",
       "    <tr>\n",
       "      <th>926</th>\n",
       "      <td>KERRY CONSULTING PTE. LTD.</td>\n",
       "      <td>APAC Market Risk Manager – Commodities Trading</td>\n",
       "      <td>Permanent, Full Time</td>\n",
       "      <td>Manager</td>\n",
       "      <td>Engineering</td>\n",
       "      <td>b' &amp;  Leading integrated agriculture MNC  Regi...</td>\n",
       "      <td>b'Requirements The successful candidate will b...</td>\n",
       "      <td>8750.000000</td>\n",
       "      <td>99.061033</td>\n",
       "    </tr>\n",
       "    <tr>\n",
       "      <th>740</th>\n",
       "      <td>UBS AG</td>\n",
       "      <td>IT Software Engineer</td>\n",
       "      <td>Permanent, Full Time</td>\n",
       "      <td>Senior Executive</td>\n",
       "      <td>Banking and Finance</td>\n",
       "      <td>b' &amp; Are you an experienced mainframe engineer...</td>\n",
       "      <td>b'RequirementsYou have:  long-standing experie...</td>\n",
       "      <td>8333.333333</td>\n",
       "      <td>98.926895</td>\n",
       "    </tr>\n",
       "    <tr>\n",
       "      <th>1219</th>\n",
       "      <td>OAK CONSULTING PTE. LTD.</td>\n",
       "      <td>Product Sales Specialist</td>\n",
       "      <td>Permanent, Full Time</td>\n",
       "      <td>Senior Executive</td>\n",
       "      <td>Consulting , Customer Service, Information Tec...</td>\n",
       "      <td>b\" &amp; What you'll be doing As a Sales Professio...</td>\n",
       "      <td>b'RequirementsWho you are  Experienced.Conside...</td>\n",
       "      <td>8333.333333</td>\n",
       "      <td>98.926895</td>\n",
       "    </tr>\n",
       "    <tr>\n",
       "      <th>88</th>\n",
       "      <td>Company Undisclosed</td>\n",
       "      <td>Senior Business Analyst</td>\n",
       "      <td>Permanent, Full Time</td>\n",
       "      <td>Professional</td>\n",
       "      <td>Insurance</td>\n",
       "      <td>b' &amp; Main Purpose Reporting to the Lead Analys...</td>\n",
       "      <td>b'RequirementsKnowledge &amp; Skills  Degree in bu...</td>\n",
       "      <td>8333.333333</td>\n",
       "      <td>98.926895</td>\n",
       "    </tr>\n",
       "    <tr>\n",
       "      <th>578</th>\n",
       "      <td>ENTITY SOLUTIONS (SINGAPORE) PTE. LTD.</td>\n",
       "      <td>data base developer</td>\n",
       "      <td>Full Time</td>\n",
       "      <td>Senior Management</td>\n",
       "      <td>General Management</td>\n",
       "      <td>b\" &amp;  Conceptualize and develop the back end o...</td>\n",
       "      <td>b'RequirementsIT, Blockchain'</td>\n",
       "      <td>7916.666667</td>\n",
       "      <td>98.792757</td>\n",
       "    </tr>\n",
       "    <tr>\n",
       "      <th>555</th>\n",
       "      <td>ENGINE BIOSCIENCES PTE. LTD.</td>\n",
       "      <td>Bioinformatics Specialist</td>\n",
       "      <td>Permanent, Full Time</td>\n",
       "      <td>Professional</td>\n",
       "      <td>Healthcare / Pharmaceutical</td>\n",
       "      <td>b' &amp; Engine Biosciences is a venture-backed bi...</td>\n",
       "      <td>b'Requirements Ph.D. in Bioinformatics / Stati...</td>\n",
       "      <td>6666.666667</td>\n",
       "      <td>98.692153</td>\n",
       "    </tr>\n",
       "    <tr>\n",
       "      <th>412</th>\n",
       "      <td>EAMES CONSULTING GROUP (SINGAPORE) PTE. LTD.</td>\n",
       "      <td>Senior Business Analyst</td>\n",
       "      <td>Permanent, Full Time</td>\n",
       "      <td>Professional</td>\n",
       "      <td>Information Technology, Insurance</td>\n",
       "      <td>b' &amp; To identify business requirements, docume...</td>\n",
       "      <td>b'RequirementsSkills Required:  Good understan...</td>\n",
       "      <td>6666.666667</td>\n",
       "      <td>98.692153</td>\n",
       "    </tr>\n",
       "    <tr>\n",
       "      <th>244</th>\n",
       "      <td>ROBERT WALTERS (SINGAPORE) PTE LTD</td>\n",
       "      <td>Regional Business Development Manager</td>\n",
       "      <td>Permanent, Full Time</td>\n",
       "      <td>Manager</td>\n",
       "      <td>Sales / Retail</td>\n",
       "      <td>b' &amp; A newly-created Regional Business Develop...</td>\n",
       "      <td>b\"RequirementsTo succeed in this Regional Busi...</td>\n",
       "      <td>6250.000000</td>\n",
       "      <td>98.558015</td>\n",
       "    </tr>\n",
       "    <tr>\n",
       "      <th>1354</th>\n",
       "      <td>ILLUMINA SINGAPORE PTE. LTD.</td>\n",
       "      <td>SAP Senior Business Solution Analyst, Logistic...</td>\n",
       "      <td>Full Time</td>\n",
       "      <td>Senior Executive</td>\n",
       "      <td>Others</td>\n",
       "      <td>b' &amp; This  functions as a Senior Analyst and i...</td>\n",
       "      <td>b'RequirementsPreferred Experience:  Experienc...</td>\n",
       "      <td>6250.000000</td>\n",
       "      <td>98.558015</td>\n",
       "    </tr>\n",
       "    <tr>\n",
       "      <th>1474</th>\n",
       "      <td>SYNGENTA ASIA PACIFIC PTE. LTD.</td>\n",
       "      <td>Regional Planner</td>\n",
       "      <td>Full Time</td>\n",
       "      <td>Manager</td>\n",
       "      <td>Manufacturing</td>\n",
       "      <td>b' &amp; Regional Planner APAC Singapore About Syn...</td>\n",
       "      <td>b'RequirementsWe are looking for:  At least 3-...</td>\n",
       "      <td>6041.666667</td>\n",
       "      <td>98.457411</td>\n",
       "    </tr>\n",
       "    <tr>\n",
       "      <th>483</th>\n",
       "      <td>UBS AG</td>\n",
       "      <td>Database Analyst</td>\n",
       "      <td>Full Time</td>\n",
       "      <td>Executive</td>\n",
       "      <td>Banking and Finance</td>\n",
       "      <td>b\" &amp; Are you curious? Do you love data? Are yo...</td>\n",
       "      <td>b'RequirementsYou have - hands on data prepara...</td>\n",
       "      <td>5833.333333</td>\n",
       "      <td>98.356808</td>\n",
       "    </tr>\n",
       "    <tr>\n",
       "      <th>1313</th>\n",
       "      <td>ROBERT WALTERS (SINGAPORE) PTE LTD</td>\n",
       "      <td>Data Steward</td>\n",
       "      <td>Permanent, Full Time</td>\n",
       "      <td>Senior Executive</td>\n",
       "      <td>Information Technology</td>\n",
       "      <td>b' &amp; A global buyside firm has a job opportuni...</td>\n",
       "      <td>b\"RequirementsTo succeed in the Data Steward j...</td>\n",
       "      <td>5833.333333</td>\n",
       "      <td>98.356808</td>\n",
       "    </tr>\n",
       "    <tr>\n",
       "      <th>580</th>\n",
       "      <td>VISA WORLDWIDE PTE. LIMITED</td>\n",
       "      <td>Analyst, Visa Consulting and Analytics</td>\n",
       "      <td>Permanent, Full Time</td>\n",
       "      <td>Fresh/entry level</td>\n",
       "      <td>Consulting , Others</td>\n",
       "      <td>b\" &amp; Are you skilled at turning hard numbers i...</td>\n",
       "      <td>b\"RequirementsQualifications We are looking fo...</td>\n",
       "      <td>5416.666667</td>\n",
       "      <td>98.256204</td>\n",
       "    </tr>\n",
       "    <tr>\n",
       "      <th>0</th>\n",
       "      <td>NTT DATA SINGAPORE PTE. LTD.</td>\n",
       "      <td>Senior Application Developer</td>\n",
       "      <td>Contract</td>\n",
       "      <td>Executive, Senior Executive</td>\n",
       "      <td>Information Technology</td>\n",
       "      <td>b' &amp;  Creating complex, enterprise-transformin...</td>\n",
       "      <td>b'Requirements A Bachelors degree in Computer ...</td>\n",
       "      <td>4916.666667</td>\n",
       "      <td>98.189135</td>\n",
       "    </tr>\n",
       "    <tr>\n",
       "      <th>1250</th>\n",
       "      <td>EPAM SYSTEMS PTE. LTD.</td>\n",
       "      <td>Senior Business Analyst</td>\n",
       "      <td>Permanent, Full Time</td>\n",
       "      <td>Senior Executive</td>\n",
       "      <td>Information Technology</td>\n",
       "      <td>b' &amp;    Key in driving and supporting migratio...</td>\n",
       "      <td>b'Requirements Degree (and above) in Informati...</td>\n",
       "      <td>4875.000000</td>\n",
       "      <td>98.122066</td>\n",
       "    </tr>\n",
       "    <tr>\n",
       "      <th>1215</th>\n",
       "      <td>OBSERVATIONAL AND PRAGMATIC RESEARCH INSTITUTE...</td>\n",
       "      <td>Research Project Manager</td>\n",
       "      <td>Permanent, Full Time</td>\n",
       "      <td>Manager</td>\n",
       "      <td>Healthcare / Pharmaceutical</td>\n",
       "      <td>b' &amp; Our team, based in the UK and Singapore, ...</td>\n",
       "      <td>b'RequirementsEssential skills &amp; experience:  ...</td>\n",
       "      <td>4541.666667</td>\n",
       "      <td>98.054997</td>\n",
       "    </tr>\n",
       "    <tr>\n",
       "      <th>...</th>\n",
       "      <td>...</td>\n",
       "      <td>...</td>\n",
       "      <td>...</td>\n",
       "      <td>...</td>\n",
       "      <td>...</td>\n",
       "      <td>...</td>\n",
       "      <td>...</td>\n",
       "      <td>...</td>\n",
       "      <td>...</td>\n",
       "    </tr>\n",
       "    <tr>\n",
       "      <th>385</th>\n",
       "      <td>DECKS PTE. LTD.</td>\n",
       "      <td>Human Resource &amp; Administrative Officer</td>\n",
       "      <td>Permanent, Full Time</td>\n",
       "      <td>Executive</td>\n",
       "      <td>Human Resources</td>\n",
       "      <td>b\" &amp; The Human Resource Executive (Performance...</td>\n",
       "      <td>b\"Requirements ~ Analyse employee demographics...</td>\n",
       "      <td>2500.000000</td>\n",
       "      <td>1.911469</td>\n",
       "    </tr>\n",
       "    <tr>\n",
       "      <th>1089</th>\n",
       "      <td>ACTIVE INTELLIGENCE PTE. LTD.</td>\n",
       "      <td>Language Specialist - Mandarin</td>\n",
       "      <td>Part Time</td>\n",
       "      <td>Executive</td>\n",
       "      <td>Banking and Finance</td>\n",
       "      <td>b' &amp; What You will do:  Create and improvise d...</td>\n",
       "      <td>b'RequirementsWhat we are looking for:  Fluenc...</td>\n",
       "      <td>2500.000000</td>\n",
       "      <td>1.911469</td>\n",
       "    </tr>\n",
       "    <tr>\n",
       "      <th>522</th>\n",
       "      <td>THE HIMALAYA DRUG COMPANY PTE. LTD.</td>\n",
       "      <td>Marketing Assistant</td>\n",
       "      <td>Contract</td>\n",
       "      <td>Junior Executive</td>\n",
       "      <td>Marketing / Public Relations</td>\n",
       "      <td>b' &amp;  Undertake daily administrative tasks to ...</td>\n",
       "      <td>b'Requirements Position is for 4 - 5 months to...</td>\n",
       "      <td>2500.000000</td>\n",
       "      <td>1.911469</td>\n",
       "    </tr>\n",
       "    <tr>\n",
       "      <th>251</th>\n",
       "      <td>Company Undisclosed</td>\n",
       "      <td>Robotics Engineer</td>\n",
       "      <td>Permanent, Full Time</td>\n",
       "      <td>Professional</td>\n",
       "      <td>Engineering, Information Technology</td>\n",
       "      <td>b' &amp; Crown Robotics is seeking a Robotics / au...</td>\n",
       "      <td>b'RequirementsThe responsibilities include but...</td>\n",
       "      <td>2500.000000</td>\n",
       "      <td>1.911469</td>\n",
       "    </tr>\n",
       "    <tr>\n",
       "      <th>1353</th>\n",
       "      <td>AIK CHIN HIN MACHINERY CO</td>\n",
       "      <td>HR Executive</td>\n",
       "      <td>Full Time</td>\n",
       "      <td>Executive</td>\n",
       "      <td>Human Resources</td>\n",
       "      <td>b\" &amp; The Human Resource Executive (Performance...</td>\n",
       "      <td>b\"Requirements ~ Develop frequently asked ques...</td>\n",
       "      <td>2500.000000</td>\n",
       "      <td>1.911469</td>\n",
       "    </tr>\n",
       "    <tr>\n",
       "      <th>1060</th>\n",
       "      <td>IX TECHNOLOGY PTE. LTD.</td>\n",
       "      <td>Data Centre FM Technician</td>\n",
       "      <td>Permanent, Full Time</td>\n",
       "      <td>Executive</td>\n",
       "      <td>Building and Construction</td>\n",
       "      <td>b' &amp;  Adhering to the Employers processes and ...</td>\n",
       "      <td>b'Requirements Sound knowledge of data centre ...</td>\n",
       "      <td>2400.000000</td>\n",
       "      <td>1.576123</td>\n",
       "    </tr>\n",
       "    <tr>\n",
       "      <th>1470</th>\n",
       "      <td>THE SUPREME HR ADVISORY PTE. LTD.</td>\n",
       "      <td>IT Account Manager (ITSM / Cyber Security / Cl...</td>\n",
       "      <td>Permanent, Full Time</td>\n",
       "      <td>Executive</td>\n",
       "      <td>Information Technology</td>\n",
       "      <td>b\" &amp;  Attractive salary packages  Company Bonu...</td>\n",
       "      <td>b\"Requirements Attractive salary packages  Com...</td>\n",
       "      <td>2400.000000</td>\n",
       "      <td>1.576123</td>\n",
       "    </tr>\n",
       "    <tr>\n",
       "      <th>1242</th>\n",
       "      <td>RPAT PTE. LTD.</td>\n",
       "      <td>Human Resource Executive</td>\n",
       "      <td>Others</td>\n",
       "      <td>Manager, Fresh/entry level, Executive</td>\n",
       "      <td>Human Resources , Information Technology</td>\n",
       "      <td>b\" &amp; The Human Resource Executive (Performance...</td>\n",
       "      <td>b\"Requirements ~ Analyse employee demographics...</td>\n",
       "      <td>2400.000000</td>\n",
       "      <td>1.576123</td>\n",
       "    </tr>\n",
       "    <tr>\n",
       "      <th>430</th>\n",
       "      <td>UL INTERNATIONAL-SINGAPORE PRIVATE LIMITED</td>\n",
       "      <td>Credit Control Assistant</td>\n",
       "      <td>Contract</td>\n",
       "      <td>Non-executive</td>\n",
       "      <td>Accounting / Auditing / Taxation</td>\n",
       "      <td>b' &amp; UL helps companies demonstrate safety, co...</td>\n",
       "      <td>b'RequirementsSuccessful candidate should idea...</td>\n",
       "      <td>2400.000000</td>\n",
       "      <td>1.576123</td>\n",
       "    </tr>\n",
       "    <tr>\n",
       "      <th>1307</th>\n",
       "      <td>ACTIVATE INTERACTIVE PTE LTD</td>\n",
       "      <td>Research Intern(Data science &amp; Analytics)</td>\n",
       "      <td>Full Time</td>\n",
       "      <td>Manager</td>\n",
       "      <td>Sciences / Laboratory / R&amp;D</td>\n",
       "      <td>b' &amp; Activate Interactive is a fast growing te...</td>\n",
       "      <td>b\"RequirementsRoles and responsibilities   Gat...</td>\n",
       "      <td>2300.000000</td>\n",
       "      <td>1.408451</td>\n",
       "    </tr>\n",
       "    <tr>\n",
       "      <th>398</th>\n",
       "      <td>TOSS-EX PTE. LTD.</td>\n",
       "      <td>HR Fresher</td>\n",
       "      <td>Permanent, Full Time</td>\n",
       "      <td>Fresh/entry level</td>\n",
       "      <td>Human Resources</td>\n",
       "      <td>b\" &amp; The Human Resource Executive (Performance...</td>\n",
       "      <td>b\"Requirements ~ Analyse employee demographics...</td>\n",
       "      <td>2250.000000</td>\n",
       "      <td>1.173709</td>\n",
       "    </tr>\n",
       "    <tr>\n",
       "      <th>268</th>\n",
       "      <td>PAL-LINK CONSTRUCTION PTE. LTD.</td>\n",
       "      <td>Admin / HR Executive</td>\n",
       "      <td>Full Time</td>\n",
       "      <td>Junior Executive</td>\n",
       "      <td>Building and Construction</td>\n",
       "      <td>b\" &amp; The Human Resource Executive (Performance...</td>\n",
       "      <td>b\"Requirements ~ Develop frequently asked ques...</td>\n",
       "      <td>2250.000000</td>\n",
       "      <td>1.173709</td>\n",
       "    </tr>\n",
       "    <tr>\n",
       "      <th>131</th>\n",
       "      <td>SBM MARINE &amp; ENGINEERING PTE. LTD.</td>\n",
       "      <td>hr executive</td>\n",
       "      <td>Full Time</td>\n",
       "      <td>Executive</td>\n",
       "      <td>Human Resources</td>\n",
       "      <td>b\" &amp; The Human Resource Executive (Performance...</td>\n",
       "      <td>b\"Requirements ~ Analyse employee demographics...</td>\n",
       "      <td>2250.000000</td>\n",
       "      <td>1.173709</td>\n",
       "    </tr>\n",
       "    <tr>\n",
       "      <th>321</th>\n",
       "      <td>DENYO UNITED MACHINERY PTE. LTD.</td>\n",
       "      <td>Digital Marketing Executive</td>\n",
       "      <td>Permanent, Full Time</td>\n",
       "      <td>Junior Executive</td>\n",
       "      <td>Marketing / Public Relations</td>\n",
       "      <td>b' &amp;  Create EDM and marketing content regular...</td>\n",
       "      <td>b'Requirements Minimum diploma holder in Marke...</td>\n",
       "      <td>2250.000000</td>\n",
       "      <td>1.173709</td>\n",
       "    </tr>\n",
       "    <tr>\n",
       "      <th>1412</th>\n",
       "      <td>ACTIVE INTELLIGENCE PTE. LTD.</td>\n",
       "      <td>Language Specialist - Thai</td>\n",
       "      <td>Full Time</td>\n",
       "      <td>Executive</td>\n",
       "      <td>Banking and Finance</td>\n",
       "      <td>b' &amp; What You will do:  Create and improvise d...</td>\n",
       "      <td>b'RequirementsWhat we are looking for:  Fluenc...</td>\n",
       "      <td>2250.000000</td>\n",
       "      <td>1.173709</td>\n",
       "    </tr>\n",
       "    <tr>\n",
       "      <th>630</th>\n",
       "      <td>SBM MANPOWER CONSULTANCY PTE. LTD.</td>\n",
       "      <td>hr executive</td>\n",
       "      <td>Full Time</td>\n",
       "      <td>Executive</td>\n",
       "      <td>Human Resources</td>\n",
       "      <td>b\" &amp; The Human Resource Executive (Performance...</td>\n",
       "      <td>b\"Requirements ~ Analyse employee demographics...</td>\n",
       "      <td>2250.000000</td>\n",
       "      <td>1.173709</td>\n",
       "    </tr>\n",
       "    <tr>\n",
       "      <th>593</th>\n",
       "      <td>LOADED LOGISTICS PTE. LTD.</td>\n",
       "      <td>Data Entry Clerk</td>\n",
       "      <td>Full Time</td>\n",
       "      <td>Fresh/entry level, Non-executive</td>\n",
       "      <td>Logistics / Supply Chain</td>\n",
       "      <td>b' &amp;  Perform general admin duties including D...</td>\n",
       "      <td>b'Requirements Minimum Diploma or equivalent. ...</td>\n",
       "      <td>2200.000000</td>\n",
       "      <td>0.905433</td>\n",
       "    </tr>\n",
       "    <tr>\n",
       "      <th>429</th>\n",
       "      <td>ARC MARINE PTE. LTD.</td>\n",
       "      <td>Accounts Data Entry</td>\n",
       "      <td>Permanent, Full Time</td>\n",
       "      <td>Junior Executive</td>\n",
       "      <td>Accounting / Auditing / Taxation</td>\n",
       "      <td>b' &amp;  Responsible for administrative task of t...</td>\n",
       "      <td>b'Requirements Min relevant Diploma or Certifi...</td>\n",
       "      <td>2200.000000</td>\n",
       "      <td>0.905433</td>\n",
       "    </tr>\n",
       "    <tr>\n",
       "      <th>730</th>\n",
       "      <td>QUALITY HOTEL MARLOW</td>\n",
       "      <td>PERSONAL DATA PROTECTION OFFICER</td>\n",
       "      <td>Full Time</td>\n",
       "      <td>Junior Executive</td>\n",
       "      <td>Admin / Secretarial</td>\n",
       "      <td>b' &amp; Job   Write and update detailed guides on...</td>\n",
       "      <td>b'Requirements Experience in data protection a...</td>\n",
       "      <td>2100.000000</td>\n",
       "      <td>0.804829</td>\n",
       "    </tr>\n",
       "    <tr>\n",
       "      <th>1218</th>\n",
       "      <td>GIFT TIME PTE. LTD.</td>\n",
       "      <td>Programmer (Data Team Supervisor)</td>\n",
       "      <td>Full Time</td>\n",
       "      <td>Fresh/entry level</td>\n",
       "      <td>Information Technology</td>\n",
       "      <td>b' &amp; Main   Maintain and adding features to We...</td>\n",
       "      <td>b'RequirementsRequirements  Diploma/Degree in ...</td>\n",
       "      <td>2050.000000</td>\n",
       "      <td>0.737760</td>\n",
       "    </tr>\n",
       "    <tr>\n",
       "      <th>1485</th>\n",
       "      <td>BGC GROUP PTE. LTD.</td>\n",
       "      <td>Data Entry Officer  /  Public Surveyor</td>\n",
       "      <td>Contract, Full Time</td>\n",
       "      <td>Fresh/entry level, Non-executive</td>\n",
       "      <td>Others, Public / Civil Service</td>\n",
       "      <td>b' &amp; BGC Group is hiring 50 full-time data ent...</td>\n",
       "      <td>b\"RequirementsRequirements  Only Singaporeans ...</td>\n",
       "      <td>1900.000000</td>\n",
       "      <td>0.670691</td>\n",
       "    </tr>\n",
       "    <tr>\n",
       "      <th>1098</th>\n",
       "      <td>TRADERSPERMITS</td>\n",
       "      <td>Data Entry Clerk - Changi</td>\n",
       "      <td>Full Time</td>\n",
       "      <td>Fresh/entry level</td>\n",
       "      <td>Admin / Secretarial</td>\n",
       "      <td>b' &amp; Data Entry Clerk, to work in the Changi A...</td>\n",
       "      <td>b'RequirementsBasic Computer Skills (Word, Exc...</td>\n",
       "      <td>1850.000000</td>\n",
       "      <td>0.603622</td>\n",
       "    </tr>\n",
       "    <tr>\n",
       "      <th>940</th>\n",
       "      <td>HNWI PRIVATE LIMITED</td>\n",
       "      <td>Data Entry (3 Months Part Time Contract, Flexi...</td>\n",
       "      <td>Part Time</td>\n",
       "      <td>Executive</td>\n",
       "      <td>Admin / Secretarial</td>\n",
       "      <td>b' &amp;  Applythis jobvia this formonly:https://g...</td>\n",
       "      <td>b'Requirements Job Application Process If yous...</td>\n",
       "      <td>1800.500000</td>\n",
       "      <td>0.536553</td>\n",
       "    </tr>\n",
       "    <tr>\n",
       "      <th>1072</th>\n",
       "      <td>AMT PTE. LTD.</td>\n",
       "      <td>Data Entry Clerk</td>\n",
       "      <td>Contract</td>\n",
       "      <td>Non-executive</td>\n",
       "      <td>Admin / Secretarial</td>\n",
       "      <td>b' &amp; - Perform Routine data entry and clerical...</td>\n",
       "      <td>b'RequirementsCompetence - O Level holder with...</td>\n",
       "      <td>1700.000000</td>\n",
       "      <td>0.469484</td>\n",
       "    </tr>\n",
       "    <tr>\n",
       "      <th>333</th>\n",
       "      <td>PL BIZ CONSULTING PTE. LTD.</td>\n",
       "      <td>Admin cum data entry</td>\n",
       "      <td>Permanent, Full Time</td>\n",
       "      <td>Executive</td>\n",
       "      <td>Admin / Secretarial</td>\n",
       "      <td>b' &amp; PL Biz Consulting Pte Ltd, an expanding p...</td>\n",
       "      <td>b'RequirementsRequirements:   Min. O level 2-3...</td>\n",
       "      <td>1650.000000</td>\n",
       "      <td>0.402414</td>\n",
       "    </tr>\n",
       "    <tr>\n",
       "      <th>1203</th>\n",
       "      <td>CYC COMPANY PTE. LTD.</td>\n",
       "      <td>Data Entry Clerk</td>\n",
       "      <td>Part Time</td>\n",
       "      <td>Fresh/entry level</td>\n",
       "      <td>Admin / Secretarial</td>\n",
       "      <td>b' &amp; Data entry into system.'</td>\n",
       "      <td>b'RequirementsAble to enter data accurately an...</td>\n",
       "      <td>1600.000000</td>\n",
       "      <td>0.335345</td>\n",
       "    </tr>\n",
       "    <tr>\n",
       "      <th>745</th>\n",
       "      <td>FRANKLIN OFFSHORE INTERNATIONAL PTE. LTD.</td>\n",
       "      <td>Data Entry Clerk</td>\n",
       "      <td>Contract</td>\n",
       "      <td>Fresh/entry level</td>\n",
       "      <td>Admin / Secretarial</td>\n",
       "      <td>b' &amp; - Assist Finance Manager on the day to da...</td>\n",
       "      <td>b\"Requirements-GCE 'O' Level and above - Micro...</td>\n",
       "      <td>1550.000000</td>\n",
       "      <td>0.268276</td>\n",
       "    </tr>\n",
       "    <tr>\n",
       "      <th>858</th>\n",
       "      <td>EAMES CONSULTING GROUP (SINGAPORE) PTE. LTD.</td>\n",
       "      <td>Data Entry Clerk</td>\n",
       "      <td>Contract</td>\n",
       "      <td>Non-executive</td>\n",
       "      <td>Admin / Secretarial</td>\n",
       "      <td>b' &amp; Maintains database by entering new and up...</td>\n",
       "      <td>b'RequirementsData Entry Clerk Job Duties:  Pr...</td>\n",
       "      <td>1400.000000</td>\n",
       "      <td>0.201207</td>\n",
       "    </tr>\n",
       "    <tr>\n",
       "      <th>1077</th>\n",
       "      <td>ACUMED HOLDINGS PTE. LTD.</td>\n",
       "      <td>Data Entry Clerk</td>\n",
       "      <td>Others</td>\n",
       "      <td>Fresh/entry level, Non-executive</td>\n",
       "      <td>Accounting / Auditing / Taxation, Admin / Secr...</td>\n",
       "      <td>b' &amp; We are looking for Contract-based Data En...</td>\n",
       "      <td>b'RequirementsRequirements: - Candidate must p...</td>\n",
       "      <td>1300.000000</td>\n",
       "      <td>0.134138</td>\n",
       "    </tr>\n",
       "    <tr>\n",
       "      <th>1251</th>\n",
       "      <td>SOIL INVESTIGATION PTE. LIMITED</td>\n",
       "      <td>Data Processor [Part-Time]</td>\n",
       "      <td>Part Time</td>\n",
       "      <td>Fresh/entry level</td>\n",
       "      <td>Building and Construction</td>\n",
       "      <td>b' &amp; To gather and process data To compile dat...</td>\n",
       "      <td>b'RequirementsKnowledge in Microsoft Excel and...</td>\n",
       "      <td>1000.000000</td>\n",
       "      <td>0.067069</td>\n",
       "    </tr>\n",
       "  </tbody>\n",
       "</table>\n",
       "<p>1491 rows × 9 columns</p>\n",
       "</div>"
      ],
      "text/plain": [
       "                                                Company  \\\n",
       "237                                 DATASPARK PTE. LTD.   \n",
       "248       AMAZON WEB SERVICES SINGAPORE PRIVATE LIMITED   \n",
       "514            ESSENCE GLOBAL MEDIA SINGAPORE PTE. LTD.   \n",
       "1294                            STANDARD CHARTERED BANK   \n",
       "236                        ENGINE BIOSCIENCES PTE. LTD.   \n",
       "189                    INTELLECT DESIGN ARENA PTE. LTD.   \n",
       "1423                 ROBERT WALTERS (SINGAPORE) PTE LTD   \n",
       "257                        FAIR ISAAC (ASPAC) PTE. LTD.   \n",
       "724                  AMBITION GROUP SINGAPORE PTE. LTD.   \n",
       "305                                              UBS AG   \n",
       "645                             AUTODESK ASIA PTE. LTD.   \n",
       "1253                       ENGINE BIOSCIENCES PTE. LTD.   \n",
       "639   LENOVO ENTERPRISE SOLUTIONS (SINGAPORE) PTE. LTD.   \n",
       "10             ESSENCE GLOBAL MEDIA SINGAPORE PTE. LTD.   \n",
       "926                          KERRY CONSULTING PTE. LTD.   \n",
       "740                                              UBS AG   \n",
       "1219                           OAK CONSULTING PTE. LTD.   \n",
       "88                                  Company Undisclosed   \n",
       "578              ENTITY SOLUTIONS (SINGAPORE) PTE. LTD.   \n",
       "555                        ENGINE BIOSCIENCES PTE. LTD.   \n",
       "412        EAMES CONSULTING GROUP (SINGAPORE) PTE. LTD.   \n",
       "244                  ROBERT WALTERS (SINGAPORE) PTE LTD   \n",
       "1354                       ILLUMINA SINGAPORE PTE. LTD.   \n",
       "1474                    SYNGENTA ASIA PACIFIC PTE. LTD.   \n",
       "483                                              UBS AG   \n",
       "1313                 ROBERT WALTERS (SINGAPORE) PTE LTD   \n",
       "580                         VISA WORLDWIDE PTE. LIMITED   \n",
       "0                          NTT DATA SINGAPORE PTE. LTD.   \n",
       "1250                             EPAM SYSTEMS PTE. LTD.   \n",
       "1215  OBSERVATIONAL AND PRAGMATIC RESEARCH INSTITUTE...   \n",
       "...                                                 ...   \n",
       "385                                     DECKS PTE. LTD.   \n",
       "1089                      ACTIVE INTELLIGENCE PTE. LTD.   \n",
       "522                 THE HIMALAYA DRUG COMPANY PTE. LTD.   \n",
       "251                                 Company Undisclosed   \n",
       "1353                          AIK CHIN HIN MACHINERY CO   \n",
       "1060                            IX TECHNOLOGY PTE. LTD.   \n",
       "1470                  THE SUPREME HR ADVISORY PTE. LTD.   \n",
       "1242                                     RPAT PTE. LTD.   \n",
       "430          UL INTERNATIONAL-SINGAPORE PRIVATE LIMITED   \n",
       "1307                       ACTIVATE INTERACTIVE PTE LTD   \n",
       "398                                   TOSS-EX PTE. LTD.   \n",
       "268                     PAL-LINK CONSTRUCTION PTE. LTD.   \n",
       "131                  SBM MARINE & ENGINEERING PTE. LTD.   \n",
       "321                    DENYO UNITED MACHINERY PTE. LTD.   \n",
       "1412                      ACTIVE INTELLIGENCE PTE. LTD.   \n",
       "630                  SBM MANPOWER CONSULTANCY PTE. LTD.   \n",
       "593                          LOADED LOGISTICS PTE. LTD.   \n",
       "429                                ARC MARINE PTE. LTD.   \n",
       "730                                QUALITY HOTEL MARLOW   \n",
       "1218                                GIFT TIME PTE. LTD.   \n",
       "1485                                BGC GROUP PTE. LTD.   \n",
       "1098                                     TRADERSPERMITS   \n",
       "940                                HNWI PRIVATE LIMITED   \n",
       "1072                                      AMT PTE. LTD.   \n",
       "333                         PL BIZ CONSULTING PTE. LTD.   \n",
       "1203                              CYC COMPANY PTE. LTD.   \n",
       "745           FRANKLIN OFFSHORE INTERNATIONAL PTE. LTD.   \n",
       "858        EAMES CONSULTING GROUP (SINGAPORE) PTE. LTD.   \n",
       "1077                          ACUMED HOLDINGS PTE. LTD.   \n",
       "1251                    SOIL INVESTIGATION PTE. LIMITED   \n",
       "\n",
       "                                                  Title              Emp_type  \\\n",
       "237                              Director, Data Science  Permanent, Full Time   \n",
       "248          Sr. Data Architect, Data Warehousing & MPP  Permanent, Full Time   \n",
       "514                      Senior Media Planning Director  Permanent, Full Time   \n",
       "1294            Senior Manager, Advanced Analytics, ERM             Full Time   \n",
       "236                              Bioinformatics Manager             Full Time   \n",
       "189   Subject-Matter Expert - Trade and Supply Chain...  Permanent, Full Time   \n",
       "1423                                   Business Analyst              Contract   \n",
       "257               Solution Consulting – Lead Consultant  Permanent, Full Time   \n",
       "724                    Senior Digital Marketing Manager  Permanent, Full Time   \n",
       "305                   IT Software Engineer Unix / Linux  Permanent, Full Time   \n",
       "645   Contact Center Business support Analyst_18WD27168  Permanent, Full Time   \n",
       "1253                   Senior Bioinformatics Specialist  Permanent, Full Time   \n",
       "639                             senior maketing manager             Full Time   \n",
       "10                                   Analytics Director  Permanent, Full Time   \n",
       "926      APAC Market Risk Manager – Commodities Trading  Permanent, Full Time   \n",
       "740                                IT Software Engineer  Permanent, Full Time   \n",
       "1219                           Product Sales Specialist  Permanent, Full Time   \n",
       "88                              Senior Business Analyst  Permanent, Full Time   \n",
       "578                                 data base developer             Full Time   \n",
       "555                           Bioinformatics Specialist  Permanent, Full Time   \n",
       "412                             Senior Business Analyst  Permanent, Full Time   \n",
       "244               Regional Business Development Manager  Permanent, Full Time   \n",
       "1354  SAP Senior Business Solution Analyst, Logistic...             Full Time   \n",
       "1474                                   Regional Planner             Full Time   \n",
       "483                                    Database Analyst             Full Time   \n",
       "1313                                       Data Steward  Permanent, Full Time   \n",
       "580              Analyst, Visa Consulting and Analytics  Permanent, Full Time   \n",
       "0                          Senior Application Developer              Contract   \n",
       "1250                            Senior Business Analyst  Permanent, Full Time   \n",
       "1215                           Research Project Manager  Permanent, Full Time   \n",
       "...                                                 ...                   ...   \n",
       "385             Human Resource & Administrative Officer  Permanent, Full Time   \n",
       "1089                     Language Specialist - Mandarin             Part Time   \n",
       "522                                 Marketing Assistant              Contract   \n",
       "251                                   Robotics Engineer  Permanent, Full Time   \n",
       "1353                                       HR Executive             Full Time   \n",
       "1060                          Data Centre FM Technician  Permanent, Full Time   \n",
       "1470  IT Account Manager (ITSM / Cyber Security / Cl...  Permanent, Full Time   \n",
       "1242                           Human Resource Executive                Others   \n",
       "430                            Credit Control Assistant              Contract   \n",
       "1307          Research Intern(Data science & Analytics)             Full Time   \n",
       "398                                          HR Fresher  Permanent, Full Time   \n",
       "268                                Admin / HR Executive             Full Time   \n",
       "131                                        hr executive             Full Time   \n",
       "321                         Digital Marketing Executive  Permanent, Full Time   \n",
       "1412                         Language Specialist - Thai             Full Time   \n",
       "630                                        hr executive             Full Time   \n",
       "593                                    Data Entry Clerk             Full Time   \n",
       "429                                 Accounts Data Entry  Permanent, Full Time   \n",
       "730                    PERSONAL DATA PROTECTION OFFICER             Full Time   \n",
       "1218                  Programmer (Data Team Supervisor)             Full Time   \n",
       "1485             Data Entry Officer  /  Public Surveyor   Contract, Full Time   \n",
       "1098                          Data Entry Clerk - Changi             Full Time   \n",
       "940   Data Entry (3 Months Part Time Contract, Flexi...             Part Time   \n",
       "1072                                   Data Entry Clerk              Contract   \n",
       "333                                Admin cum data entry  Permanent, Full Time   \n",
       "1203                                   Data Entry Clerk             Part Time   \n",
       "745                                    Data Entry Clerk              Contract   \n",
       "858                                    Data Entry Clerk              Contract   \n",
       "1077                                   Data Entry Clerk                Others   \n",
       "1251                         Data Processor [Part-Time]             Part Time   \n",
       "\n",
       "                                  Seniority  \\\n",
       "237                       Middle Management   \n",
       "248                            Professional   \n",
       "514                       Senior Management   \n",
       "1294                                Manager   \n",
       "236                                 Manager   \n",
       "189                       Middle Management   \n",
       "1423                      Senior Management   \n",
       "257                       Middle Management   \n",
       "724                                 Manager   \n",
       "305                               Executive   \n",
       "645                            Professional   \n",
       "1253                           Professional   \n",
       "639              Middle Management, Manager   \n",
       "10                        Senior Management   \n",
       "926                                 Manager   \n",
       "740                        Senior Executive   \n",
       "1219                       Senior Executive   \n",
       "88                             Professional   \n",
       "578                       Senior Management   \n",
       "555                            Professional   \n",
       "412                            Professional   \n",
       "244                                 Manager   \n",
       "1354                       Senior Executive   \n",
       "1474                                Manager   \n",
       "483                               Executive   \n",
       "1313                       Senior Executive   \n",
       "580                       Fresh/entry level   \n",
       "0               Executive, Senior Executive   \n",
       "1250                       Senior Executive   \n",
       "1215                                Manager   \n",
       "...                                     ...   \n",
       "385                               Executive   \n",
       "1089                              Executive   \n",
       "522                        Junior Executive   \n",
       "251                            Professional   \n",
       "1353                              Executive   \n",
       "1060                              Executive   \n",
       "1470                              Executive   \n",
       "1242  Manager, Fresh/entry level, Executive   \n",
       "430                           Non-executive   \n",
       "1307                                Manager   \n",
       "398                       Fresh/entry level   \n",
       "268                        Junior Executive   \n",
       "131                               Executive   \n",
       "321                        Junior Executive   \n",
       "1412                              Executive   \n",
       "630                               Executive   \n",
       "593        Fresh/entry level, Non-executive   \n",
       "429                        Junior Executive   \n",
       "730                        Junior Executive   \n",
       "1218                      Fresh/entry level   \n",
       "1485       Fresh/entry level, Non-executive   \n",
       "1098                      Fresh/entry level   \n",
       "940                               Executive   \n",
       "1072                          Non-executive   \n",
       "333                               Executive   \n",
       "1203                      Fresh/entry level   \n",
       "745                       Fresh/entry level   \n",
       "858                           Non-executive   \n",
       "1077       Fresh/entry level, Non-executive   \n",
       "1251                      Fresh/entry level   \n",
       "\n",
       "                                               Industry  \\\n",
       "237                              Information Technology   \n",
       "248                              Information Technology   \n",
       "514                                Advertising / Media    \n",
       "1294                                Banking and Finance   \n",
       "236   Healthcare / Pharmaceutical, Information Techn...   \n",
       "189                              Information Technology   \n",
       "1423                                Banking and Finance   \n",
       "257   Consulting , Banking and Finance, Information ...   \n",
       "724                       Marketing / Public Relations    \n",
       "305                                 Banking and Finance   \n",
       "645                              Information Technology   \n",
       "1253                        Healthcare / Pharmaceutical   \n",
       "639                       Marketing / Public Relations    \n",
       "10                                 Advertising / Media    \n",
       "926                                         Engineering   \n",
       "740                                 Banking and Finance   \n",
       "1219  Consulting , Customer Service, Information Tec...   \n",
       "88                                            Insurance   \n",
       "578                                  General Management   \n",
       "555                         Healthcare / Pharmaceutical   \n",
       "412                   Information Technology, Insurance   \n",
       "244                                     Sales / Retail    \n",
       "1354                                             Others   \n",
       "1474                                      Manufacturing   \n",
       "483                                 Banking and Finance   \n",
       "1313                             Information Technology   \n",
       "580                                 Consulting , Others   \n",
       "0                                Information Technology   \n",
       "1250                             Information Technology   \n",
       "1215                        Healthcare / Pharmaceutical   \n",
       "...                                                 ...   \n",
       "385                                    Human Resources    \n",
       "1089                                Banking and Finance   \n",
       "522                       Marketing / Public Relations    \n",
       "251                 Engineering, Information Technology   \n",
       "1353                                   Human Resources    \n",
       "1060                          Building and Construction   \n",
       "1470                             Information Technology   \n",
       "1242           Human Resources , Information Technology   \n",
       "430                    Accounting / Auditing / Taxation   \n",
       "1307                        Sciences / Laboratory / R&D   \n",
       "398                                    Human Resources    \n",
       "268                           Building and Construction   \n",
       "131                                    Human Resources    \n",
       "321                       Marketing / Public Relations    \n",
       "1412                                Banking and Finance   \n",
       "630                                    Human Resources    \n",
       "593                            Logistics / Supply Chain   \n",
       "429                    Accounting / Auditing / Taxation   \n",
       "730                                 Admin / Secretarial   \n",
       "1218                             Information Technology   \n",
       "1485                     Others, Public / Civil Service   \n",
       "1098                                Admin / Secretarial   \n",
       "940                                 Admin / Secretarial   \n",
       "1072                                Admin / Secretarial   \n",
       "333                                 Admin / Secretarial   \n",
       "1203                                Admin / Secretarial   \n",
       "745                                 Admin / Secretarial   \n",
       "858                                 Admin / Secretarial   \n",
       "1077  Accounting / Auditing / Taxation, Admin / Secr...   \n",
       "1251                          Building and Construction   \n",
       "\n",
       "                                         Responsibility  \\\n",
       "237   b' &  The Director of Data Science will be a k...   \n",
       "248   b' & At Amazon Web Services (AWS), were hiring...   \n",
       "514   b' & About Essence Essence, part of GroupM, is...   \n",
       "1294  b' & Leading the way in International Banking....   \n",
       "236   b' & Engine Biosciences is a venture-backed bi...   \n",
       "189   b' &  Demonstrate how product functionality ca...   \n",
       "1423  b' & A Business Analyst job based in Singapore...   \n",
       "257   b' & Job title  Solution Consulting  Lead Cons...   \n",
       "724   b' & This  will be having the overall ownershi...   \n",
       "305   b' & Do you possess all-round development skil...   \n",
       "645   b' & The Contact Center Business Analyst will ...   \n",
       "1253  b' & Engine Biosciences is a venture-backed bi...   \n",
       "639   b' & Job Scope   As an ASEAN Marketing leader,...   \n",
       "10    b' & About Essence Essence, part of GroupM, is...   \n",
       "926   b' &  Leading integrated agriculture MNC  Regi...   \n",
       "740   b' & Are you an experienced mainframe engineer...   \n",
       "1219  b\" & What you'll be doing As a Sales Professio...   \n",
       "88    b' & Main Purpose Reporting to the Lead Analys...   \n",
       "578   b\" &  Conceptualize and develop the back end o...   \n",
       "555   b' & Engine Biosciences is a venture-backed bi...   \n",
       "412   b' & To identify business requirements, docume...   \n",
       "244   b' & A newly-created Regional Business Develop...   \n",
       "1354  b' & This  functions as a Senior Analyst and i...   \n",
       "1474  b' & Regional Planner APAC Singapore About Syn...   \n",
       "483   b\" & Are you curious? Do you love data? Are yo...   \n",
       "1313  b' & A global buyside firm has a job opportuni...   \n",
       "580   b\" & Are you skilled at turning hard numbers i...   \n",
       "0     b' &  Creating complex, enterprise-transformin...   \n",
       "1250  b' &    Key in driving and supporting migratio...   \n",
       "1215  b' & Our team, based in the UK and Singapore, ...   \n",
       "...                                                 ...   \n",
       "385   b\" & The Human Resource Executive (Performance...   \n",
       "1089  b' & What You will do:  Create and improvise d...   \n",
       "522   b' &  Undertake daily administrative tasks to ...   \n",
       "251   b' & Crown Robotics is seeking a Robotics / au...   \n",
       "1353  b\" & The Human Resource Executive (Performance...   \n",
       "1060  b' &  Adhering to the Employers processes and ...   \n",
       "1470  b\" &  Attractive salary packages  Company Bonu...   \n",
       "1242  b\" & The Human Resource Executive (Performance...   \n",
       "430   b' & UL helps companies demonstrate safety, co...   \n",
       "1307  b' & Activate Interactive is a fast growing te...   \n",
       "398   b\" & The Human Resource Executive (Performance...   \n",
       "268   b\" & The Human Resource Executive (Performance...   \n",
       "131   b\" & The Human Resource Executive (Performance...   \n",
       "321   b' &  Create EDM and marketing content regular...   \n",
       "1412  b' & What You will do:  Create and improvise d...   \n",
       "630   b\" & The Human Resource Executive (Performance...   \n",
       "593   b' &  Perform general admin duties including D...   \n",
       "429   b' &  Responsible for administrative task of t...   \n",
       "730   b' & Job   Write and update detailed guides on...   \n",
       "1218  b' & Main   Maintain and adding features to We...   \n",
       "1485  b' & BGC Group is hiring 50 full-time data ent...   \n",
       "1098  b' & Data Entry Clerk, to work in the Changi A...   \n",
       "940   b' &  Applythis jobvia this formonly:https://g...   \n",
       "1072  b' & - Perform Routine data entry and clerical...   \n",
       "333   b' & PL Biz Consulting Pte Ltd, an expanding p...   \n",
       "1203                      b' & Data entry into system.'   \n",
       "745   b' & - Assist Finance Manager on the day to da...   \n",
       "858   b' & Maintains database by entering new and up...   \n",
       "1077  b' & We are looking for Contract-based Data En...   \n",
       "1251  b' & To gather and process data To compile dat...   \n",
       "\n",
       "                                           Requirements       Avg_sal  \\\n",
       "237   b'RequirementsQualifications  7+ years experie...  25000.000000   \n",
       "248   b'RequirementsBasic Qualifications  BA/BS degr...  22916.666667   \n",
       "514   b'RequirementsA bit about yourself:   At least...  13333.333333   \n",
       "1294  b'RequirementsQualifications: Training, licens...  13333.333333   \n",
       "236   b'RequirementsMinimum Requirements  Ph.D. in B...  13333.333333   \n",
       "189   b'Requirements Should have minimum 18+years of...  12916.666667   \n",
       "1423  b\"RequirementsTo succeed in this Business Anal...  11250.000000   \n",
       "257   b'Requirements A minimum of five years Busines...  11000.000000   \n",
       "724   b'Requirements Minimum 8 years of experiencein...  10833.333333   \n",
       "305   b'RequirementsYou have:  experience designing ...  10625.000000   \n",
       "645   b'Requirements 5  8 years of experience in CRM...   9750.000000   \n",
       "1253  b'Requirements Ph.D. in Bioinformatics / Stati...   9583.333333   \n",
       "639   b'RequirementsCandidate Profile Requirements: ...   9375.000000   \n",
       "10    b'RequirementsA bit about yourself:   Degree f...   9166.666667   \n",
       "926   b'Requirements The successful candidate will b...   8750.000000   \n",
       "740   b'RequirementsYou have:  long-standing experie...   8333.333333   \n",
       "1219  b'RequirementsWho you are  Experienced.Conside...   8333.333333   \n",
       "88    b'RequirementsKnowledge & Skills  Degree in bu...   8333.333333   \n",
       "578                       b'RequirementsIT, Blockchain'   7916.666667   \n",
       "555   b'Requirements Ph.D. in Bioinformatics / Stati...   6666.666667   \n",
       "412   b'RequirementsSkills Required:  Good understan...   6666.666667   \n",
       "244   b\"RequirementsTo succeed in this Regional Busi...   6250.000000   \n",
       "1354  b'RequirementsPreferred Experience:  Experienc...   6250.000000   \n",
       "1474  b'RequirementsWe are looking for:  At least 3-...   6041.666667   \n",
       "483   b'RequirementsYou have - hands on data prepara...   5833.333333   \n",
       "1313  b\"RequirementsTo succeed in the Data Steward j...   5833.333333   \n",
       "580   b\"RequirementsQualifications We are looking fo...   5416.666667   \n",
       "0     b'Requirements A Bachelors degree in Computer ...   4916.666667   \n",
       "1250  b'Requirements Degree (and above) in Informati...   4875.000000   \n",
       "1215  b'RequirementsEssential skills & experience:  ...   4541.666667   \n",
       "...                                                 ...           ...   \n",
       "385   b\"Requirements ~ Analyse employee demographics...   2500.000000   \n",
       "1089  b'RequirementsWhat we are looking for:  Fluenc...   2500.000000   \n",
       "522   b'Requirements Position is for 4 - 5 months to...   2500.000000   \n",
       "251   b'RequirementsThe responsibilities include but...   2500.000000   \n",
       "1353  b\"Requirements ~ Develop frequently asked ques...   2500.000000   \n",
       "1060  b'Requirements Sound knowledge of data centre ...   2400.000000   \n",
       "1470  b\"Requirements Attractive salary packages  Com...   2400.000000   \n",
       "1242  b\"Requirements ~ Analyse employee demographics...   2400.000000   \n",
       "430   b'RequirementsSuccessful candidate should idea...   2400.000000   \n",
       "1307  b\"RequirementsRoles and responsibilities   Gat...   2300.000000   \n",
       "398   b\"Requirements ~ Analyse employee demographics...   2250.000000   \n",
       "268   b\"Requirements ~ Develop frequently asked ques...   2250.000000   \n",
       "131   b\"Requirements ~ Analyse employee demographics...   2250.000000   \n",
       "321   b'Requirements Minimum diploma holder in Marke...   2250.000000   \n",
       "1412  b'RequirementsWhat we are looking for:  Fluenc...   2250.000000   \n",
       "630   b\"Requirements ~ Analyse employee demographics...   2250.000000   \n",
       "593   b'Requirements Minimum Diploma or equivalent. ...   2200.000000   \n",
       "429   b'Requirements Min relevant Diploma or Certifi...   2200.000000   \n",
       "730   b'Requirements Experience in data protection a...   2100.000000   \n",
       "1218  b'RequirementsRequirements  Diploma/Degree in ...   2050.000000   \n",
       "1485  b\"RequirementsRequirements  Only Singaporeans ...   1900.000000   \n",
       "1098  b'RequirementsBasic Computer Skills (Word, Exc...   1850.000000   \n",
       "940   b'Requirements Job Application Process If yous...   1800.500000   \n",
       "1072  b'RequirementsCompetence - O Level holder with...   1700.000000   \n",
       "333   b'RequirementsRequirements:   Min. O level 2-3...   1650.000000   \n",
       "1203  b'RequirementsAble to enter data accurately an...   1600.000000   \n",
       "745   b\"Requirements-GCE 'O' Level and above - Micro...   1550.000000   \n",
       "858   b'RequirementsData Entry Clerk Job Duties:  Pr...   1400.000000   \n",
       "1077  b'RequirementsRequirements: - Candidate must p...   1300.000000   \n",
       "1251  b'RequirementsKnowledge in Microsoft Excel and...   1000.000000   \n",
       "\n",
       "      Avg_sal_percentile  \n",
       "237           100.000000  \n",
       "248            99.932931  \n",
       "514            99.798793  \n",
       "1294           99.798793  \n",
       "236            99.798793  \n",
       "189            99.664655  \n",
       "1423           99.597586  \n",
       "257            99.530516  \n",
       "724            99.463447  \n",
       "305            99.396378  \n",
       "645            99.329309  \n",
       "1253           99.262240  \n",
       "639            99.195171  \n",
       "10             99.128102  \n",
       "926            99.061033  \n",
       "740            98.926895  \n",
       "1219           98.926895  \n",
       "88             98.926895  \n",
       "578            98.792757  \n",
       "555            98.692153  \n",
       "412            98.692153  \n",
       "244            98.558015  \n",
       "1354           98.558015  \n",
       "1474           98.457411  \n",
       "483            98.356808  \n",
       "1313           98.356808  \n",
       "580            98.256204  \n",
       "0              98.189135  \n",
       "1250           98.122066  \n",
       "1215           98.054997  \n",
       "...                  ...  \n",
       "385             1.911469  \n",
       "1089            1.911469  \n",
       "522             1.911469  \n",
       "251             1.911469  \n",
       "1353            1.911469  \n",
       "1060            1.576123  \n",
       "1470            1.576123  \n",
       "1242            1.576123  \n",
       "430             1.576123  \n",
       "1307            1.408451  \n",
       "398             1.173709  \n",
       "268             1.173709  \n",
       "131             1.173709  \n",
       "321             1.173709  \n",
       "1412            1.173709  \n",
       "630             1.173709  \n",
       "593             0.905433  \n",
       "429             0.905433  \n",
       "730             0.804829  \n",
       "1218            0.737760  \n",
       "1485            0.670691  \n",
       "1098            0.603622  \n",
       "940             0.536553  \n",
       "1072            0.469484  \n",
       "333             0.402414  \n",
       "1203            0.335345  \n",
       "745             0.268276  \n",
       "858             0.201207  \n",
       "1077            0.134138  \n",
       "1251            0.067069  \n",
       "\n",
       "[1491 rows x 9 columns]"
      ]
     },
     "execution_count": 48,
     "metadata": {},
     "output_type": "execute_result"
    }
   ],
   "source": [
    "# checking for top salaries in jobs.Avg_sal to ensure there are no outliers in the col\n",
    "\n",
    "jobs = pd.concat([jobs,outliers])\n",
    "jobs.sort_values('Avg_sal_percentile', ascending=False)"
   ]
  },
  {
   "cell_type": "markdown",
   "metadata": {},
   "source": [
    "https://blog.moneysmart.sg/career/average-salary-singapore/\n",
    "\n",
    "###### Based on the website above, data scientist salary stats are as below:\n",
    "\n",
    "25th-percentile = $5,505   / 3,803 (average of all in the list)\n",
    "\n",
    "Median = $6,279   / 4,711 (average of all in the list)\n",
    "\n",
    "75th-percentile = $7,836  / 5,708 (average of all in the list)\n",
    "\n",
    "###### For the salary categorization below, I will base it on the data scientist stats above.\n",
    "\n",
    "Very low salary: x <= 5,505\n",
    "\n",
    "Low salary: 5,505 < x <= 6,279\n",
    "\n",
    "High salary: 6,279 < x <= 7,836\n",
    "\n",
    "Very high salary: x > 7,836"
   ]
  },
  {
   "cell_type": "code",
   "execution_count": 49,
   "metadata": {
    "ExecuteTime": {
     "end_time": "2018-08-31T16:34:06.065348Z",
     "start_time": "2018-08-31T16:34:06.052557Z"
    }
   },
   "outputs": [],
   "source": [
    "# splitting based on percentile to 4 salary categories - very low salary, low salary, high salary, very high salary\n",
    "\n",
    "# current y\n",
    "jobs['sal_cat'] = jobs.Avg_sal.apply(lambda x: 'very low salary' if x <= 5505  else ('low salary' if 5505 < x <= 6279 else ('high salary' if 6279 < x <= 7836 else 'very high salary')))"
   ]
  },
  {
   "cell_type": "code",
   "execution_count": 50,
   "metadata": {
    "ExecuteTime": {
     "end_time": "2018-08-31T16:34:07.159853Z",
     "start_time": "2018-08-31T16:34:07.147076Z"
    }
   },
   "outputs": [
    {
     "data": {
      "text/plain": [
       "very low salary     35.881958\n",
       "very high salary    32.796781\n",
       "high salary         20.791415\n",
       "low salary          10.529846\n",
       "Name: sal_cat, dtype: float64"
      ]
     },
     "execution_count": 50,
     "metadata": {},
     "output_type": "execute_result"
    }
   ],
   "source": [
    "jobs.sal_cat.value_counts()/len(jobs)*100"
   ]
  },
  {
   "cell_type": "code",
   "execution_count": 51,
   "metadata": {
    "ExecuteTime": {
     "end_time": "2018-08-31T16:34:08.956820Z",
     "start_time": "2018-08-31T16:34:08.629154Z"
    }
   },
   "outputs": [
    {
     "data": {
      "text/plain": [
       "[Text(0.5,0,'Monthly Salary')]"
      ]
     },
     "execution_count": 51,
     "metadata": {},
     "output_type": "execute_result"
    },
    {
     "data": {
      "image/png": "[encoded data removed]",
      "text/plain": [
       "<Figure size 720x360 with 1 Axes>"
      ]
     },
     "metadata": {},
     "output_type": "display_data"
    }
   ],
   "source": [
    "plt.figure(figsize=(10,5))\n",
    "jobs['Avg_sal'].plot(kind='hist', bins=20, title='Distribution plot of Salary').set(xlabel='Monthly Salary')"
   ]
  },
  {
   "cell_type": "code",
   "execution_count": 52,
   "metadata": {
    "ExecuteTime": {
     "end_time": "2018-08-31T16:34:10.602208Z",
     "start_time": "2018-08-31T16:34:10.357381Z"
    },
    "scrolled": false
   },
   "outputs": [
    {
     "data": {
      "text/plain": [
       "(array([0, 1, 2, 3, 4, 5, 6]), <a list of 7 Text xticklabel objects>)"
      ]
     },
     "execution_count": 52,
     "metadata": {},
     "output_type": "execute_result"
    },
    {
     "data": {
      "image/png": "[encoded data removed]",
      "text/plain": [
       "<Figure size 720x432 with 1 Axes>"
      ]
     },
     "metadata": {},
     "output_type": "display_data"
    }
   ],
   "source": [
    "plt.figure(figsize=(10,6))\n",
    "jobs.Emp_type.value_counts().plot(kind='bar', title='Employment Type Plot').set(xlabel='Emp_type', ylabel='Counts')\n",
    "plt.xticks(rotation=30)"
   ]
  },
  {
   "cell_type": "code",
   "execution_count": 66,
   "metadata": {
    "ExecuteTime": {
     "end_time": "2018-08-31T16:48:30.749676Z",
     "start_time": "2018-08-31T16:48:30.690026Z"
    }
   },
   "outputs": [],
   "source": [
    "# combining all the job information into 1 column for NLP\n",
    "\n",
    "jobs['all_info']= jobs['Company'].astype(str) + ' ' + jobs.Title.astype(str) + ' ' + jobs.Emp_type.astype(str) + ' ' \\\n",
    "    + jobs.Seniority.astype(str) + ' ' + jobs.Industry.astype(str) + ' ' + jobs.Responsibility.astype(str) + ' ' + jobs.Requirements.astype(str)"
   ]
  },
  {
   "cell_type": "code",
   "execution_count": 71,
   "metadata": {
    "ExecuteTime": {
     "end_time": "2018-08-31T16:49:23.588073Z",
     "start_time": "2018-08-31T16:49:23.579097Z"
    }
   },
   "outputs": [],
   "source": [
    "jobs.reset_index(inplace=True)\n",
    "jobs.drop('index', axis=1, inplace=True)"
   ]
  },
  {
   "cell_type": "markdown",
   "metadata": {},
   "source": [
    "## Getting the scores"
   ]
  },
  {
   "cell_type": "code",
   "execution_count": 554,
   "metadata": {
    "ExecuteTime": {
     "end_time": "2018-09-01T12:11:42.328850Z",
     "start_time": "2018-09-01T12:11:42.322867Z"
    }
   },
   "outputs": [],
   "source": [
    "from sklearn.cross_validation import train_test_split, cross_val_score\n",
    "from sklearn.preprocessing import label_binarize\n",
    "from sklearn.linear_model import LogisticRegression, SGDClassifier\n",
    "from sklearn.pipeline import Pipeline, make_pipeline\n",
    "from sklearn.feature_extraction.text import CountVectorizer, TfidfVectorizer\n",
    "from sklearn.ensemble import RandomForestClassifier, GradientBoostingClassifier, AdaBoostClassifier\n",
    "from sklearn.model_selection import GridSearchCV\n",
    "from sklearn.neighbors import KNeighborsClassifier\n",
    "from nltk.stem import PorterStemmer, WordNetLemmatizer\n",
    "from sklearn.metrics import confusion_matrix, classification_report, roc_curve, auc\n",
    "from sklearn.svm import SVC\n",
    "import string\n",
    "from itertools import cycle\n",
    "from xgboost import XGBClassifier"
   ]
  },
  {
   "cell_type": "markdown",
   "metadata": {},
   "source": [
    "### Preparing for NLP"
   ]
  },
  {
   "cell_type": "code",
   "execution_count": null,
   "metadata": {},
   "outputs": [],
   "source": [
    "from nltk.corpus import stopwords\n",
    "from sklearn.feature_extraction import stop_words\n",
    "\n",
    "stopwords_sk = stop_words.ENGLISH_STOP_WORDS  #from sklearn\n",
    "# stopwords_nltk = stopwords.words('english')  #from nltk"
   ]
  },
  {
   "cell_type": "code",
   "execution_count": 567,
   "metadata": {
    "ExecuteTime": {
     "end_time": "2018-09-01T12:18:33.143954Z",
     "start_time": "2018-09-01T12:18:33.138967Z"
    }
   },
   "outputs": [],
   "source": [
    "# adding additional stopwords for our analysis later\n",
    "additional_words = ['Roles', 'Responsibilities', 'Requirements', 'RequirementsRequirements', 'Qualifications', 'Roles & ResponsibilitiesRole'\n",
    "                   'Roles & ResponsibilitiesResponsibilities', 'requirement', 'minimum', 'Singapore', 'singapore',\n",
    "                   'ltd', 'limited', 'pte', 'private', 'hub', 'dm', 'etl', 'large', 'able', 'react', 'axa', 'lc',\n",
    "                    'phone', 'hana', 'technical', 'goal', 'pi', 'site', 'sp', 'pwm']\n",
    "\n",
    "stopwords_sk = stopwords_sk.union(additional_words)"
   ]
  },
  {
   "cell_type": "code",
   "execution_count": 568,
   "metadata": {
    "ExecuteTime": {
     "end_time": "2018-09-01T12:18:33.767162Z",
     "start_time": "2018-09-01T12:18:33.764170Z"
    }
   },
   "outputs": [],
   "source": [
    "X = jobs.all_info\n",
    "\n",
    "y = jobs['sal_cat']"
   ]
  },
  {
   "cell_type": "code",
   "execution_count": 569,
   "metadata": {
    "ExecuteTime": {
     "end_time": "2018-09-01T12:18:37.544406Z",
     "start_time": "2018-09-01T12:18:34.195005Z"
    }
   },
   "outputs": [],
   "source": [
    "# lemmatizing X\n",
    "\n",
    "lemma = WordNetLemmatizer()\n",
    "stemmer = PorterStemmer()\n",
    "\n",
    "X_temp = []\n",
    "for i in range (0,len(X)):\n",
    "    col = re.sub('[^a-zA-Z]', ' ', X[i])\n",
    "    col = col.lower()\n",
    "    col = col.split()\n",
    "    col = [lemma.lemmatize(word) for word in col if not word in set(stopwords_sk)]\n",
    "    col = ' '.join(col)\n",
    "    X_temp.append(col)\n",
    "\n",
    "X = X_temp"
   ]
  },
  {
   "cell_type": "code",
   "execution_count": 570,
   "metadata": {
    "ExecuteTime": {
     "end_time": "2018-09-01T12:18:37.552402Z",
     "start_time": "2018-09-01T12:18:37.546403Z"
    }
   },
   "outputs": [],
   "source": [
    "X_train, X_test, y_train, y_test = train_test_split(X, y, test_size=0.2, random_state=42)"
   ]
  },
  {
   "cell_type": "code",
   "execution_count": 571,
   "metadata": {
    "ExecuteTime": {
     "end_time": "2018-09-01T12:18:37.566359Z",
     "start_time": "2018-09-01T12:18:37.554382Z"
    },
    "scrolled": false
   },
   "outputs": [
    {
     "name": "stdout",
     "output_type": "stream",
     "text": [
      "Train set: \n",
      " very high salary    34.060403\n",
      "very low salary     33.976510\n",
      "high salary         21.057047\n",
      "low salary          10.906040\n",
      "Name: sal_cat, dtype: float64 \n",
      "\n",
      "----------------------------------\n",
      "\n",
      "Test Set: \n",
      " very low salary     43.478261\n",
      "very high salary    27.759197\n",
      "high salary         19.732441\n",
      "low salary           9.030100\n",
      "Name: sal_cat, dtype: float64\n"
     ]
    }
   ],
   "source": [
    "# checking for imbalance dataset\n",
    "\n",
    "print ('Train set: \\n', y_train.value_counts() / len(y_train) * 100, '\\n')\n",
    "print ('----------------------------------\\n')\n",
    "print ('Test Set: \\n', y_test.value_counts() / len(y_test) * 100)"
   ]
  },
  {
   "cell_type": "code",
   "execution_count": 572,
   "metadata": {
    "ExecuteTime": {
     "end_time": "2018-09-01T12:18:39.741539Z",
     "start_time": "2018-09-01T12:18:37.569342Z"
    }
   },
   "outputs": [],
   "source": [
    "# TFIDF Vectorizer\n",
    "tfidf = TfidfVectorizer(stop_words=stopwords_sk, ngram_range=(1,2), min_df=3)\n",
    "Xtf_train = tfidf.fit_transform(X_train)\n",
    "Xtf_test = tfidf.transform(X_test)\n",
    "\n",
    "# ------------------------------------------------------------------------- #\n",
    "\n",
    "# CountVectorizer\n",
    "cvec = CountVectorizer(stop_words=stopwords_sk, ngram_range=(1,2), min_df=3)\n",
    "Xcv_train = cvec.fit_transform(X_train)\n",
    "Xcv_test = cvec.transform(X_test)"
   ]
  },
  {
   "cell_type": "markdown",
   "metadata": {},
   "source": [
    "### KNN"
   ]
  },
  {
   "cell_type": "code",
   "execution_count": 573,
   "metadata": {
    "ExecuteTime": {
     "end_time": "2018-09-01T12:18:40.023803Z",
     "start_time": "2018-09-01T12:18:39.745521Z"
    }
   },
   "outputs": [
    {
     "name": "stdout",
     "output_type": "stream",
     "text": [
      "Cross Val Score:  0.46733193277310925\n"
     ]
    }
   ],
   "source": [
    "# KNN TFIDF vectorizer\n",
    "knn = KNeighborsClassifier()\n",
    "cross_val_knntf = cross_val_score(knn, Xtf_train, y_train, cv=5)\n",
    "\n",
    "print ('Cross Val Score: ', np.mean(cross_val_knntf))\n",
    "\n",
    "\n",
    "knn.fit(Xtf_train, y_train)\n",
    "\n",
    "pred_knntf = knn.predict(Xtf_test)"
   ]
  },
  {
   "cell_type": "code",
   "execution_count": 574,
   "metadata": {
    "ExecuteTime": {
     "end_time": "2018-09-01T12:18:40.098575Z",
     "start_time": "2018-09-01T12:18:40.026767Z"
    }
   },
   "outputs": [
    {
     "name": "stdout",
     "output_type": "stream",
     "text": [
      "Score:  0.46488294314381273 \n",
      "\n",
      "Classification Report: \n",
      "                   precision    recall  f1-score   support\n",
      "\n",
      "     high salary       0.30      0.36      0.32        59\n",
      "      low salary       0.15      0.15      0.15        27\n",
      "very high salary       0.45      0.54      0.49        83\n",
      " very low salary       0.68      0.53      0.60       130\n",
      "\n",
      "     avg / total       0.49      0.46      0.47       299\n",
      "\n"
     ]
    }
   ],
   "source": [
    "print ('Score: ', knn.score(Xtf_test, y_test), '\\n')\n",
    "print ('Classification Report: \\n', classification_report(y_test, pred_knntf))"
   ]
  },
  {
   "cell_type": "code",
   "execution_count": 575,
   "metadata": {
    "ExecuteTime": {
     "end_time": "2018-09-01T12:18:40.476563Z",
     "start_time": "2018-09-01T12:18:40.100569Z"
    }
   },
   "outputs": [
    {
     "name": "stdout",
     "output_type": "stream",
     "text": [
      "Cross Val Score:  0.4337675070028011\n"
     ]
    }
   ],
   "source": [
    "# KNN CVEC\n",
    "knn = KNeighborsClassifier()\n",
    "cross_val_knncv = cross_val_score(knn, Xcv_train, y_train, cv=5)\n",
    "\n",
    "print ('Cross Val Score: ', np.mean(cross_val_knncv))\n",
    "\n",
    "\n",
    "knn.fit(Xcv_train, y_train)\n",
    "\n",
    "pred_knncv = knn.predict(Xcv_test)"
   ]
  },
  {
   "cell_type": "code",
   "execution_count": 576,
   "metadata": {
    "ExecuteTime": {
     "end_time": "2018-09-01T12:18:40.545379Z",
     "start_time": "2018-09-01T12:18:40.478558Z"
    }
   },
   "outputs": [
    {
     "name": "stdout",
     "output_type": "stream",
     "text": [
      "Score:  0.45819397993311034 \n",
      "\n",
      "Classification Report: \n",
      "                   precision    recall  f1-score   support\n",
      "\n",
      "     high salary       0.23      0.42      0.30        59\n",
      "      low salary       0.25      0.15      0.19        27\n",
      "very high salary       0.50      0.22      0.30        83\n",
      " very low salary       0.65      0.69      0.67       130\n",
      "\n",
      "     avg / total       0.49      0.46      0.45       299\n",
      "\n"
     ]
    }
   ],
   "source": [
    "print ('Score: ', knn.score(Xcv_test, y_test), '\\n')\n",
    "print ('Classification Report: \\n', classification_report(y_test, pred_knncv))"
   ]
  },
  {
   "cell_type": "markdown",
   "metadata": {},
   "source": [
    "### LogisticRegression GridSearch for TFIDFVectorizer"
   ]
  },
  {
   "cell_type": "code",
   "execution_count": 577,
   "metadata": {
    "ExecuteTime": {
     "end_time": "2018-09-01T12:18:47.092056Z",
     "start_time": "2018-09-01T12:18:40.548371Z"
    }
   },
   "outputs": [
    {
     "name": "stdout",
     "output_type": "stream",
     "text": [
      "Fitting 5 folds for each of 5 candidates, totalling 25 fits\n"
     ]
    },
    {
     "name": "stderr",
     "output_type": "stream",
     "text": [
      "[Parallel(n_jobs=4)]: Done  25 out of  25 | elapsed:    6.0s finished\n"
     ]
    },
    {
     "data": {
      "text/plain": [
       "GridSearchCV(cv=5, error_score='raise',\n",
       "       estimator=LogisticRegression(C=1.0, class_weight='balanced', dual=False,\n",
       "          fit_intercept=True, intercept_scaling=1, max_iter=100,\n",
       "          multi_class='ovr', n_jobs=1, penalty='l2', random_state=None,\n",
       "          solver='liblinear', tol=0.0001, verbose=0, warm_start=False),\n",
       "       fit_params=None, iid=True, n_jobs=4,\n",
       "       param_grid={'C': [0.001, 0.01, 1, 5, 10]}, pre_dispatch='2*n_jobs',\n",
       "       refit=True, return_train_score='warn', scoring=None, verbose=1)"
      ]
     },
     "execution_count": 577,
     "metadata": {},
     "output_type": "execute_result"
    }
   ],
   "source": [
    "lr = LogisticRegression(class_weight='balanced')\n",
    "\n",
    "param = {'C': [0.001, 0.01, 1, 5, 10]    \n",
    "}\n",
    "\n",
    "grid_lrtf = GridSearchCV(lr, param, verbose=1, cv=5, n_jobs=4)\n",
    "\n",
    "grid_lrtf.fit(Xtf_train, y_train)"
   ]
  },
  {
   "cell_type": "code",
   "execution_count": 578,
   "metadata": {
    "ExecuteTime": {
     "end_time": "2018-09-01T12:18:47.111006Z",
     "start_time": "2018-09-01T12:18:47.094052Z"
    }
   },
   "outputs": [
    {
     "name": "stdout",
     "output_type": "stream",
     "text": [
      "Score:  0.6120401337792643 \n",
      "\n",
      "------------------------------------------------------------ \n",
      "\n",
      "Best params:  {'C': 5} \n",
      "\n",
      "------------------------------------------------------------ \n",
      "\n",
      "Classification Report: \n",
      "                   precision    recall  f1-score   support\n",
      "\n",
      "     high salary       0.47      0.37      0.42        59\n",
      "      low salary       0.24      0.19      0.21        27\n",
      "very high salary       0.55      0.71      0.62        83\n",
      " very low salary       0.78      0.75      0.76       130\n",
      "\n",
      "     avg / total       0.61      0.61      0.61       299\n",
      "\n"
     ]
    }
   ],
   "source": [
    "print ('Score: ', grid_lrtf.score(Xtf_test, y_test), '\\n')\n",
    "print ('--' *30, '\\n')\n",
    "print ('Best params: ', grid_lrtf.best_params_, '\\n')\n",
    "# print ('--' *30, '\\n')\n",
    "# model_grid_lrtf = grid_lrtf.best_estimator_\n",
    "# print ('Best est score: ', model_grid_lrtf.score(Xtf_test, y_test), '\\n')\n",
    "print ('--' *30, '\\n')\n",
    "print ('Classification Report: \\n', classification_report(y_test, grid_lrtf.predict(Xtf_test)))"
   ]
  },
  {
   "cell_type": "code",
   "execution_count": 579,
   "metadata": {
    "ExecuteTime": {
     "end_time": "2018-09-01T12:18:47.699433Z",
     "start_time": "2018-09-01T12:18:47.113001Z"
    },
    "scrolled": true
   },
   "outputs": [
    {
     "data": {
      "image/png": "[encoded data removed]",
      "text/plain": [
       "<Figure size 432x288 with 1 Axes>"
      ]
     },
     "metadata": {},
     "output_type": "display_data"
    },
    {
     "data": {
      "image/png": "[encoded data removed]",
      "text/plain": [
       "<Figure size 432x288 with 1 Axes>"
      ]
     },
     "metadata": {},
     "output_type": "display_data"
    },
    {
     "data": {
      "image/png": "[encoded data removed]",
      "text/plain": [
       "<Figure size 432x288 with 1 Axes>"
      ]
     },
     "metadata": {},
     "output_type": "display_data"
    },
    {
     "data": {
      "image/png": "[encoded data removed]",
      "text/plain": [
       "<Figure size 432x288 with 1 Axes>"
      ]
     },
     "metadata": {},
     "output_type": "display_data"
    },
    {
     "data": {
      "image/png": "[encoded data removed]",
      "text/plain": [
       "<Figure size 432x288 with 1 Axes>"
      ]
     },
     "metadata": {},
     "output_type": "display_data"
    }
   ],
   "source": [
    "# getting the target categories out\n",
    "cat = y_test.value_counts().keys().values\n",
    "\n",
    "\n",
    "y_score = grid_lrtf.predict_proba(Xtf_test)\n",
    "y_test_roc = label_binarize(y_test, classes=cat)\n",
    "\n",
    "# Computing ROC for each class in 1 plot\n",
    "lw=2\n",
    "fpr = dict()\n",
    "tpr = dict()\n",
    "roc_auc = dict()\n",
    "for i in range(len(cat)):\n",
    "    fpr[i], tpr[i], _ = roc_curve(y_test_roc[:, i], y_score[:, i])\n",
    "    roc_auc[i] = auc(fpr[i], tpr[i])\n",
    "\n",
    "colors = cycle(['blue', 'red', 'green', 'orange'])\n",
    "for i, color in zip(range(len(cat)), colors):\n",
    "    plt.plot(fpr[i], tpr[i], color=color, lw=lw,\n",
    "             label='ROC curve of {0} (area = {1:0.2f})'\n",
    "             ''.format(i, roc_auc[i]))\n",
    "\n",
    "# setup for plot\n",
    "plt.plot([0, 1], [0, 1], 'k--', lw=lw)\n",
    "plt.xlim([-0.05, 1.0])\n",
    "plt.ylim([0.0, 1.05])\n",
    "plt.xlabel('False Positive Rate')\n",
    "plt.ylabel('True Positive Rate')\n",
    "plt.title('ROC Plot for all classes')\n",
    "plt.legend(loc=\"lower right\")\n",
    "plt.show()\n",
    "\n",
    "\n",
    "# Plot of a ROC curve for a specific class\n",
    "for i in range(len(cat)):\n",
    "    plt.figure()\n",
    "    plt.plot(fpr[i], tpr[i], label='ROC curve (area = %0.2f)' % roc_auc[i])\n",
    "    plt.plot([0, 1], [0, 1], 'k--')\n",
    "    plt.xlim([0.0, 1.0])\n",
    "    plt.ylim([0.0, 1.05])\n",
    "    plt.xlabel('False Positive Rate')\n",
    "    plt.ylabel('True Positive Rate')\n",
    "    plt.title('ROC curve for ' + str(cat[i]))\n",
    "    plt.legend(loc=\"lower right\")\n",
    "    plt.show()"
   ]
  },
  {
   "cell_type": "code",
   "execution_count": 580,
   "metadata": {
    "ExecuteTime": {
     "end_time": "2018-09-01T12:18:47.798167Z",
     "start_time": "2018-09-01T12:18:47.701428Z"
    }
   },
   "outputs": [],
   "source": [
    "grid_lrtf_0 = pd.DataFrame({'feature':tfidf.get_feature_names(),\n",
    "                            'Very Low':grid_lrtf.best_estimator_.coef_[0]})\n",
    "grid_lrtf_1 = pd.DataFrame({'feature':tfidf.get_feature_names(),\n",
    "                         'Very High':grid_lrtf.best_estimator_.coef_[1]})\n",
    "grid_lrtf_2 = pd.DataFrame({'feature':tfidf.get_feature_names(),\n",
    "                         'High':grid_lrtf.best_estimator_.coef_[2]})\n",
    "grid_lrtf_3 = pd.DataFrame({'feature':tfidf.get_feature_names(),\n",
    "                         'Low':grid_lrtf.best_estimator_.coef_[3]})\n",
    "\n",
    "grid_lrtf_0.sort_values('Very Low', inplace=True, ascending=False)\n",
    "grid_lrtf_1.sort_values('Very High', inplace=True, ascending=False)\n",
    "grid_lrtf_2.sort_values('High', inplace=True, ascending=False)\n",
    "grid_lrtf_3.sort_values('Low', inplace=True, ascending=False)"
   ]
  },
  {
   "cell_type": "code",
   "execution_count": 581,
   "metadata": {
    "ExecuteTime": {
     "end_time": "2018-09-01T12:18:47.811161Z",
     "start_time": "2018-09-01T12:18:47.799166Z"
    }
   },
   "outputs": [
    {
     "data": {
      "text/html": [
       "<div>\n",
       "<style scoped>\n",
       "    .dataframe tbody tr th:only-of-type {\n",
       "        vertical-align: middle;\n",
       "    }\n",
       "\n",
       "    .dataframe tbody tr th {\n",
       "        vertical-align: top;\n",
       "    }\n",
       "\n",
       "    .dataframe thead th {\n",
       "        text-align: right;\n",
       "    }\n",
       "</style>\n",
       "<table border=\"1\" class=\"dataframe\">\n",
       "  <thead>\n",
       "    <tr style=\"text-align: right;\">\n",
       "      <th></th>\n",
       "      <th>feature</th>\n",
       "      <th>Very Low</th>\n",
       "    </tr>\n",
       "  </thead>\n",
       "  <tbody>\n",
       "    <tr>\n",
       "      <th>7809</th>\n",
       "      <td>experience</td>\n",
       "      <td>1.895499</td>\n",
       "    </tr>\n",
       "    <tr>\n",
       "      <th>8159</th>\n",
       "      <td>expertise</td>\n",
       "      <td>1.815925</td>\n",
       "    </tr>\n",
       "    <tr>\n",
       "      <th>21108</th>\n",
       "      <td>technology</td>\n",
       "      <td>1.788039</td>\n",
       "    </tr>\n",
       "    <tr>\n",
       "      <th>18491</th>\n",
       "      <td>scientist</td>\n",
       "      <td>1.684816</td>\n",
       "    </tr>\n",
       "    <tr>\n",
       "      <th>16160</th>\n",
       "      <td>professional information</td>\n",
       "      <td>1.665764</td>\n",
       "    </tr>\n",
       "    <tr>\n",
       "      <th>21547</th>\n",
       "      <td>time professional</td>\n",
       "      <td>1.592574</td>\n",
       "    </tr>\n",
       "    <tr>\n",
       "      <th>6676</th>\n",
       "      <td>ecommerce</td>\n",
       "      <td>1.544470</td>\n",
       "    </tr>\n",
       "    <tr>\n",
       "      <th>23283</th>\n",
       "      <td>year experience</td>\n",
       "      <td>1.487978</td>\n",
       "    </tr>\n",
       "    <tr>\n",
       "      <th>7183</th>\n",
       "      <td>enhancement</td>\n",
       "      <td>1.446245</td>\n",
       "    </tr>\n",
       "    <tr>\n",
       "      <th>13949</th>\n",
       "      <td>nlp</td>\n",
       "      <td>1.425820</td>\n",
       "    </tr>\n",
       "  </tbody>\n",
       "</table>\n",
       "</div>"
      ],
      "text/plain": [
       "                        feature  Very Low\n",
       "7809                 experience  1.895499\n",
       "8159                  expertise  1.815925\n",
       "21108                technology  1.788039\n",
       "18491                 scientist  1.684816\n",
       "16160  professional information  1.665764\n",
       "21547         time professional  1.592574\n",
       "6676                  ecommerce  1.544470\n",
       "23283           year experience  1.487978\n",
       "7183                enhancement  1.446245\n",
       "13949                       nlp  1.425820"
      ]
     },
     "execution_count": 581,
     "metadata": {},
     "output_type": "execute_result"
    }
   ],
   "source": [
    "grid_lrtf_0.head(10)"
   ]
  },
  {
   "cell_type": "code",
   "execution_count": 582,
   "metadata": {
    "ExecuteTime": {
     "end_time": "2018-09-01T12:18:47.826100Z",
     "start_time": "2018-09-01T12:18:47.813128Z"
    }
   },
   "outputs": [
    {
     "data": {
      "text/html": [
       "<div>\n",
       "<style scoped>\n",
       "    .dataframe tbody tr th:only-of-type {\n",
       "        vertical-align: middle;\n",
       "    }\n",
       "\n",
       "    .dataframe tbody tr th {\n",
       "        vertical-align: top;\n",
       "    }\n",
       "\n",
       "    .dataframe thead th {\n",
       "        text-align: right;\n",
       "    }\n",
       "</style>\n",
       "<table border=\"1\" class=\"dataframe\">\n",
       "  <thead>\n",
       "    <tr style=\"text-align: right;\">\n",
       "      <th></th>\n",
       "      <th>feature</th>\n",
       "      <th>Very High</th>\n",
       "    </tr>\n",
       "  </thead>\n",
       "  <tbody>\n",
       "    <tr>\n",
       "      <th>12790</th>\n",
       "      <td>manufacturing</td>\n",
       "      <td>2.479303</td>\n",
       "    </tr>\n",
       "    <tr>\n",
       "      <th>18347</th>\n",
       "      <td>sap</td>\n",
       "      <td>2.437711</td>\n",
       "    </tr>\n",
       "    <tr>\n",
       "      <th>4929</th>\n",
       "      <td>dashboard</td>\n",
       "      <td>2.349234</td>\n",
       "    </tr>\n",
       "    <tr>\n",
       "      <th>5195</th>\n",
       "      <td>database</td>\n",
       "      <td>2.043783</td>\n",
       "    </tr>\n",
       "    <tr>\n",
       "      <th>8916</th>\n",
       "      <td>functional</td>\n",
       "      <td>2.031752</td>\n",
       "    </tr>\n",
       "    <tr>\n",
       "      <th>17901</th>\n",
       "      <td>responsible</td>\n",
       "      <td>1.909967</td>\n",
       "    </tr>\n",
       "    <tr>\n",
       "      <th>15997</th>\n",
       "      <td>processing</td>\n",
       "      <td>1.796164</td>\n",
       "    </tr>\n",
       "    <tr>\n",
       "      <th>1108</th>\n",
       "      <td>analyze</td>\n",
       "      <td>1.772493</td>\n",
       "    </tr>\n",
       "    <tr>\n",
       "      <th>4093</th>\n",
       "      <td>conduct</td>\n",
       "      <td>1.737535</td>\n",
       "    </tr>\n",
       "    <tr>\n",
       "      <th>1674</th>\n",
       "      <td>associate</td>\n",
       "      <td>1.696811</td>\n",
       "    </tr>\n",
       "  </tbody>\n",
       "</table>\n",
       "</div>"
      ],
      "text/plain": [
       "             feature  Very High\n",
       "12790  manufacturing   2.479303\n",
       "18347            sap   2.437711\n",
       "4929       dashboard   2.349234\n",
       "5195        database   2.043783\n",
       "8916      functional   2.031752\n",
       "17901    responsible   1.909967\n",
       "15997     processing   1.796164\n",
       "1108         analyze   1.772493\n",
       "4093         conduct   1.737535\n",
       "1674       associate   1.696811"
      ]
     },
     "execution_count": 582,
     "metadata": {},
     "output_type": "execute_result"
    }
   ],
   "source": [
    "grid_lrtf_1.head(10)"
   ]
  },
  {
   "cell_type": "code",
   "execution_count": 583,
   "metadata": {
    "ExecuteTime": {
     "end_time": "2018-09-01T12:18:47.846041Z",
     "start_time": "2018-09-01T12:18:47.828088Z"
    }
   },
   "outputs": [
    {
     "data": {
      "text/html": [
       "<div>\n",
       "<style scoped>\n",
       "    .dataframe tbody tr th:only-of-type {\n",
       "        vertical-align: middle;\n",
       "    }\n",
       "\n",
       "    .dataframe tbody tr th {\n",
       "        vertical-align: top;\n",
       "    }\n",
       "\n",
       "    .dataframe thead th {\n",
       "        text-align: right;\n",
       "    }\n",
       "</style>\n",
       "<table border=\"1\" class=\"dataframe\">\n",
       "  <thead>\n",
       "    <tr style=\"text-align: right;\">\n",
       "      <th></th>\n",
       "      <th>feature</th>\n",
       "      <th>High</th>\n",
       "    </tr>\n",
       "  </thead>\n",
       "  <tbody>\n",
       "    <tr>\n",
       "      <th>11656</th>\n",
       "      <td>lead</td>\n",
       "      <td>3.959233</td>\n",
       "    </tr>\n",
       "    <tr>\n",
       "      <th>1986</th>\n",
       "      <td>banking</td>\n",
       "      <td>3.645290</td>\n",
       "    </tr>\n",
       "    <tr>\n",
       "      <th>12659</th>\n",
       "      <td>manager</td>\n",
       "      <td>2.682818</td>\n",
       "    </tr>\n",
       "    <tr>\n",
       "      <th>18714</th>\n",
       "      <td>senior</td>\n",
       "      <td>2.307279</td>\n",
       "    </tr>\n",
       "    <tr>\n",
       "      <th>20813</th>\n",
       "      <td>team</td>\n",
       "      <td>2.186886</td>\n",
       "    </tr>\n",
       "    <tr>\n",
       "      <th>12448</th>\n",
       "      <td>management</td>\n",
       "      <td>2.141708</td>\n",
       "    </tr>\n",
       "    <tr>\n",
       "      <th>21738</th>\n",
       "      <td>trading</td>\n",
       "      <td>2.021812</td>\n",
       "    </tr>\n",
       "    <tr>\n",
       "      <th>14441</th>\n",
       "      <td>organization</td>\n",
       "      <td>1.960131</td>\n",
       "    </tr>\n",
       "    <tr>\n",
       "      <th>2510</th>\n",
       "      <td>business</td>\n",
       "      <td>1.884161</td>\n",
       "    </tr>\n",
       "    <tr>\n",
       "      <th>11709</th>\n",
       "      <td>leader</td>\n",
       "      <td>1.667217</td>\n",
       "    </tr>\n",
       "  </tbody>\n",
       "</table>\n",
       "</div>"
      ],
      "text/plain": [
       "            feature      High\n",
       "11656          lead  3.959233\n",
       "1986        banking  3.645290\n",
       "12659       manager  2.682818\n",
       "18714        senior  2.307279\n",
       "20813          team  2.186886\n",
       "12448    management  2.141708\n",
       "21738       trading  2.021812\n",
       "14441  organization  1.960131\n",
       "2510       business  1.884161\n",
       "11709        leader  1.667217"
      ]
     },
     "execution_count": 583,
     "metadata": {},
     "output_type": "execute_result"
    }
   ],
   "source": [
    "grid_lrtf_2.head(10)"
   ]
  },
  {
   "cell_type": "code",
   "execution_count": 584,
   "metadata": {
    "ExecuteTime": {
     "end_time": "2018-09-01T12:18:47.864026Z",
     "start_time": "2018-09-01T12:18:47.849050Z"
    }
   },
   "outputs": [
    {
     "data": {
      "text/html": [
       "<div>\n",
       "<style scoped>\n",
       "    .dataframe tbody tr th:only-of-type {\n",
       "        vertical-align: middle;\n",
       "    }\n",
       "\n",
       "    .dataframe tbody tr th {\n",
       "        vertical-align: top;\n",
       "    }\n",
       "\n",
       "    .dataframe thead th {\n",
       "        text-align: right;\n",
       "    }\n",
       "</style>\n",
       "<table border=\"1\" class=\"dataframe\">\n",
       "  <thead>\n",
       "    <tr style=\"text-align: right;\">\n",
       "      <th></th>\n",
       "      <th>feature</th>\n",
       "      <th>Low</th>\n",
       "    </tr>\n",
       "  </thead>\n",
       "  <tbody>\n",
       "    <tr>\n",
       "      <th>7722</th>\n",
       "      <td>executive</td>\n",
       "      <td>3.518258</td>\n",
       "    </tr>\n",
       "    <tr>\n",
       "      <th>7360</th>\n",
       "      <td>entry</td>\n",
       "      <td>2.149840</td>\n",
       "    </tr>\n",
       "    <tr>\n",
       "      <th>16198</th>\n",
       "      <td>proficient</td>\n",
       "      <td>2.043939</td>\n",
       "    </tr>\n",
       "    <tr>\n",
       "      <th>21537</th>\n",
       "      <td>time executive</td>\n",
       "      <td>1.973260</td>\n",
       "    </tr>\n",
       "    <tr>\n",
       "      <th>11280</th>\n",
       "      <td>junior executive</td>\n",
       "      <td>1.914721</td>\n",
       "    </tr>\n",
       "    <tr>\n",
       "      <th>7428</th>\n",
       "      <td>equipment</td>\n",
       "      <td>1.908538</td>\n",
       "    </tr>\n",
       "    <tr>\n",
       "      <th>6223</th>\n",
       "      <td>diploma</td>\n",
       "      <td>1.696421</td>\n",
       "    </tr>\n",
       "    <tr>\n",
       "      <th>11278</th>\n",
       "      <td>junior</td>\n",
       "      <td>1.695660</td>\n",
       "    </tr>\n",
       "    <tr>\n",
       "      <th>4951</th>\n",
       "      <td>data analyst</td>\n",
       "      <td>1.692428</td>\n",
       "    </tr>\n",
       "    <tr>\n",
       "      <th>1648</th>\n",
       "      <td>assist</td>\n",
       "      <td>1.667445</td>\n",
       "    </tr>\n",
       "  </tbody>\n",
       "</table>\n",
       "</div>"
      ],
      "text/plain": [
       "                feature       Low\n",
       "7722          executive  3.518258\n",
       "7360              entry  2.149840\n",
       "16198        proficient  2.043939\n",
       "21537    time executive  1.973260\n",
       "11280  junior executive  1.914721\n",
       "7428          equipment  1.908538\n",
       "6223            diploma  1.696421\n",
       "11278            junior  1.695660\n",
       "4951       data analyst  1.692428\n",
       "1648             assist  1.667445"
      ]
     },
     "execution_count": 584,
     "metadata": {},
     "output_type": "execute_result"
    }
   ],
   "source": [
    "grid_lrtf_3.head(10)"
   ]
  },
  {
   "cell_type": "markdown",
   "metadata": {},
   "source": [
    "### Random Forest GridSearch for TFIDFVectorizer"
   ]
  },
  {
   "cell_type": "code",
   "execution_count": 585,
   "metadata": {
    "ExecuteTime": {
     "end_time": "2018-09-01T12:19:28.634265Z",
     "start_time": "2018-09-01T12:18:47.866024Z"
    }
   },
   "outputs": [
    {
     "name": "stdout",
     "output_type": "stream",
     "text": [
      "Fitting 10 folds for each of 7 candidates, totalling 70 fits\n"
     ]
    },
    {
     "name": "stderr",
     "output_type": "stream",
     "text": [
      "[Parallel(n_jobs=4)]: Done  42 tasks      | elapsed:   18.9s\n",
      "[Parallel(n_jobs=4)]: Done  70 out of  70 | elapsed:   38.5s finished\n"
     ]
    },
    {
     "data": {
      "text/plain": [
       "GridSearchCV(cv=10, error_score='raise',\n",
       "       estimator=RandomForestClassifier(bootstrap=True, class_weight='balanced',\n",
       "            criterion='gini', max_depth=None, max_features='auto',\n",
       "            max_leaf_nodes=None, min_impurity_decrease=0.0,\n",
       "            min_impurity_split=None, min_samples_leaf=1,\n",
       "            min_samples_split=2, min_weight_fraction_leaf=0.0,\n",
       "            n_estimators=10, n_jobs=1, oob_score=False, random_state=None,\n",
       "            verbose=0, warm_start=False),\n",
       "       fit_params=None, iid=True, n_jobs=4,\n",
       "       param_grid={'n_estimators': [10, 15, 20, 30, 35, 40, 45]},\n",
       "       pre_dispatch='2*n_jobs', refit=True, return_train_score='warn',\n",
       "       scoring=None, verbose=1)"
      ]
     },
     "execution_count": 585,
     "metadata": {},
     "output_type": "execute_result"
    }
   ],
   "source": [
    "rfc = RandomForestClassifier(class_weight='balanced')\n",
    "\n",
    "param = {'n_estimators': [10, 15, 20, 30, 35, 40, 45],\n",
    "}\n",
    "\n",
    "grid_rfctf = GridSearchCV(rfc, param, verbose=1, cv=10, n_jobs=4)\n",
    "\n",
    "grid_rfctf.fit(Xtf_train, y_train)"
   ]
  },
  {
   "cell_type": "code",
   "execution_count": 586,
   "metadata": {
    "ExecuteTime": {
     "end_time": "2018-09-01T12:19:28.678138Z",
     "start_time": "2018-09-01T12:19:28.638248Z"
    }
   },
   "outputs": [
    {
     "name": "stdout",
     "output_type": "stream",
     "text": [
      "Score:  0.5852842809364549 \n",
      "\n",
      "------------------------------------------------------------ \n",
      "\n",
      "Best params:  {'n_estimators': 35} \n",
      "\n",
      "------------------------------------------------------------ \n",
      "\n",
      "Classification Report: \n",
      "                   precision    recall  f1-score   support\n",
      "\n",
      "     high salary       0.43      0.25      0.32        59\n",
      "      low salary       0.38      0.11      0.17        27\n",
      "very high salary       0.50      0.76      0.60        83\n",
      " very low salary       0.73      0.72      0.73       130\n",
      "\n",
      "     avg / total       0.57      0.59      0.56       299\n",
      "\n"
     ]
    }
   ],
   "source": [
    "print ('Score: ', grid_rfctf.score(Xtf_test, y_test), '\\n')\n",
    "print ('--' *30, '\\n')\n",
    "print ('Best params: ', grid_rfctf.best_params_, '\\n')\n",
    "# print ('--' *30, '\\n')\n",
    "# model_grid_lrtf = grid_lrtf.best_estimator_\n",
    "# print ('Best est score: ', model_grid_lrtf.score(Xtf_test, y_test), '\\n')\n",
    "print ('--' *30, '\\n')\n",
    "print ('Classification Report: \\n', classification_report(y_test, grid_rfctf.predict(Xtf_test)))"
   ]
  },
  {
   "cell_type": "code",
   "execution_count": 587,
   "metadata": {
    "ExecuteTime": {
     "end_time": "2018-09-01T12:19:29.218720Z",
     "start_time": "2018-09-01T12:19:28.679142Z"
    },
    "scrolled": true
   },
   "outputs": [
    {
     "data": {
      "image/png": "[encoded data removed]",
      "text/plain": [
       "<Figure size 432x288 with 1 Axes>"
      ]
     },
     "metadata": {},
     "output_type": "display_data"
    },
    {
     "data": {
      "image/png": "[encoded data removed]",
      "text/plain": [
       "<Figure size 432x288 with 1 Axes>"
      ]
     },
     "metadata": {},
     "output_type": "display_data"
    },
    {
     "data": {
      "image/png": "[encoded data removed]",
      "text/plain": [
       "<Figure size 432x288 with 1 Axes>"
      ]
     },
     "metadata": {},
     "output_type": "display_data"
    },
    {
     "data": {
      "image/png": "[encoded data removed]",
      "text/plain": [
       "<Figure size 432x288 with 1 Axes>"
      ]
     },
     "metadata": {},
     "output_type": "display_data"
    },
    {
     "data": {
      "image/png": "[encoded data removed]",
      "text/plain": [
       "<Figure size 432x288 with 1 Axes>"
      ]
     },
     "metadata": {},
     "output_type": "display_data"
    }
   ],
   "source": [
    "# getting the target categories out\n",
    "cat = y_test.value_counts().keys().values\n",
    "\n",
    "\n",
    "y_score = grid_rfctf.predict_proba(Xtf_test)\n",
    "y_test_roc = label_binarize(y_test, classes=cat)\n",
    "\n",
    "# Computing ROC for each class in 1 plot\n",
    "lw=2\n",
    "fpr = dict()\n",
    "tpr = dict()\n",
    "roc_auc = dict()\n",
    "for i in range(len(cat)):\n",
    "    fpr[i], tpr[i], _ = roc_curve(y_test_roc[:, i], y_score[:, i])\n",
    "    roc_auc[i] = auc(fpr[i], tpr[i])\n",
    "\n",
    "colors = cycle(['blue', 'red', 'green', 'orange'])\n",
    "for i, color in zip(range(len(cat)), colors):\n",
    "    plt.plot(fpr[i], tpr[i], color=color, lw=lw,\n",
    "             label='ROC curve of {0} (area = {1:0.2f})'\n",
    "             ''.format(i, roc_auc[i]))\n",
    "\n",
    "# setup for plot\n",
    "plt.plot([0, 1], [0, 1], 'k--', lw=lw)\n",
    "plt.xlim([-0.05, 1.0])\n",
    "plt.ylim([0.0, 1.05])\n",
    "plt.xlabel('False Positive Rate')\n",
    "plt.ylabel('True Positive Rate')\n",
    "plt.title('ROC Plot for all classes')\n",
    "plt.legend(loc=\"lower right\")\n",
    "plt.show()\n",
    "\n",
    "\n",
    "# Plot of a ROC curve for a specific class\n",
    "for i in range(len(cat)):\n",
    "    plt.figure()\n",
    "    plt.plot(fpr[i], tpr[i], label='ROC curve (area = %0.2f)' % roc_auc[i])\n",
    "    plt.plot([0, 1], [0, 1], 'k--')\n",
    "    plt.xlim([0.0, 1.0])\n",
    "    plt.ylim([0.0, 1.05])\n",
    "    plt.xlabel('False Positive Rate')\n",
    "    plt.ylabel('True Positive Rate')\n",
    "    plt.title('ROC curve for ' + str(cat[i]))\n",
    "    plt.legend(loc=\"lower right\")\n",
    "    plt.show()"
   ]
  },
  {
   "cell_type": "code",
   "execution_count": 588,
   "metadata": {
    "ExecuteTime": {
     "end_time": "2018-09-01T12:19:29.263572Z",
     "start_time": "2018-09-01T12:19:29.220689Z"
    },
    "scrolled": true
   },
   "outputs": [
    {
     "data": {
      "text/html": [
       "<div>\n",
       "<style scoped>\n",
       "    .dataframe tbody tr th:only-of-type {\n",
       "        vertical-align: middle;\n",
       "    }\n",
       "\n",
       "    .dataframe tbody tr th {\n",
       "        vertical-align: top;\n",
       "    }\n",
       "\n",
       "    .dataframe thead th {\n",
       "        text-align: right;\n",
       "    }\n",
       "</style>\n",
       "<table border=\"1\" class=\"dataframe\">\n",
       "  <thead>\n",
       "    <tr style=\"text-align: right;\">\n",
       "      <th></th>\n",
       "      <th>feature</th>\n",
       "      <th>value</th>\n",
       "    </tr>\n",
       "  </thead>\n",
       "  <tbody>\n",
       "    <tr>\n",
       "      <th>11656</th>\n",
       "      <td>lead</td>\n",
       "      <td>0.005812</td>\n",
       "    </tr>\n",
       "    <tr>\n",
       "      <th>7722</th>\n",
       "      <td>executive</td>\n",
       "      <td>0.004563</td>\n",
       "    </tr>\n",
       "    <tr>\n",
       "      <th>2510</th>\n",
       "      <td>business</td>\n",
       "      <td>0.004132</td>\n",
       "    </tr>\n",
       "    <tr>\n",
       "      <th>20813</th>\n",
       "      <td>team</td>\n",
       "      <td>0.003868</td>\n",
       "    </tr>\n",
       "    <tr>\n",
       "      <th>12659</th>\n",
       "      <td>manager</td>\n",
       "      <td>0.003329</td>\n",
       "    </tr>\n",
       "    <tr>\n",
       "      <th>7809</th>\n",
       "      <td>experience</td>\n",
       "      <td>0.003154</td>\n",
       "    </tr>\n",
       "    <tr>\n",
       "      <th>10506</th>\n",
       "      <td>information technology</td>\n",
       "      <td>0.003089</td>\n",
       "    </tr>\n",
       "    <tr>\n",
       "      <th>1986</th>\n",
       "      <td>banking</td>\n",
       "      <td>0.002753</td>\n",
       "    </tr>\n",
       "    <tr>\n",
       "      <th>3754</th>\n",
       "      <td>communication</td>\n",
       "      <td>0.002690</td>\n",
       "    </tr>\n",
       "    <tr>\n",
       "      <th>22899</th>\n",
       "      <td>work</td>\n",
       "      <td>0.002597</td>\n",
       "    </tr>\n",
       "  </tbody>\n",
       "</table>\n",
       "</div>"
      ],
      "text/plain": [
       "                      feature     value\n",
       "11656                    lead  0.005812\n",
       "7722                executive  0.004563\n",
       "2510                 business  0.004132\n",
       "20813                    team  0.003868\n",
       "12659                 manager  0.003329\n",
       "7809               experience  0.003154\n",
       "10506  information technology  0.003089\n",
       "1986                  banking  0.002753\n",
       "3754            communication  0.002690\n",
       "22899                    work  0.002597"
      ]
     },
     "execution_count": 588,
     "metadata": {},
     "output_type": "execute_result"
    }
   ],
   "source": [
    "grid_rfctf_0 = pd.DataFrame({'feature':tfidf.get_feature_names(),\n",
    "                            'value':grid_rfctf.best_estimator_.feature_importances_})\n",
    "grid_rfctf_0.sort_values('value', ascending=False).head(10)"
   ]
  },
  {
   "cell_type": "markdown",
   "metadata": {},
   "source": [
    "### SGD Classifier GridSearch for TFIDFVectorizer"
   ]
  },
  {
   "cell_type": "code",
   "execution_count": 589,
   "metadata": {
    "ExecuteTime": {
     "end_time": "2018-09-01T12:19:54.029884Z",
     "start_time": "2018-09-01T12:19:29.265568Z"
    }
   },
   "outputs": [
    {
     "name": "stdout",
     "output_type": "stream",
     "text": [
      "Fitting 10 folds for each of 36 candidates, totalling 360 fits\n"
     ]
    },
    {
     "name": "stderr",
     "output_type": "stream",
     "text": [
      "[Parallel(n_jobs=4)]: Done  42 tasks      | elapsed:    6.6s\n",
      "[Parallel(n_jobs=4)]: Done 192 tasks      | elapsed:   15.4s\n",
      "[Parallel(n_jobs=4)]: Done 360 out of 360 | elapsed:   24.2s finished\n"
     ]
    },
    {
     "data": {
      "text/plain": [
       "GridSearchCV(cv=10, error_score='raise',\n",
       "       estimator=SGDClassifier(alpha=0.0001, average=False, class_weight='balanced',\n",
       "       epsilon=0.1, eta0=0.0, fit_intercept=True, l1_ratio=0.15,\n",
       "       learning_rate='optimal', loss='hinge', max_iter=10, n_iter=None,\n",
       "       n_jobs=1, penalty='l2', power_t=0.5, random_state=None,\n",
       "       shuffle=True, tol=None, verbose=0, warm_start=False),\n",
       "       fit_params=None, iid=True, n_jobs=4,\n",
       "       param_grid={'alpha': [0.0001, 0.001, 0.01, 0.1, 1, 10], 'penalty': ['elasticnet', 'l1', 'l2'], 'loss': ['hinge', 'log']},\n",
       "       pre_dispatch='2*n_jobs', refit=True, return_train_score='warn',\n",
       "       scoring=None, verbose=1)"
      ]
     },
     "execution_count": 589,
     "metadata": {},
     "output_type": "execute_result"
    }
   ],
   "source": [
    "sgc = SGDClassifier(class_weight='balanced', max_iter=10)\n",
    "\n",
    "param = {'alpha': [0.0001, 0.001, 0.01, 0.1, 1, 10], \n",
    "        'penalty': ['elasticnet', 'l1', 'l2'],\n",
    "        'loss': ['hinge', 'log']\n",
    "}\n",
    "\n",
    "grid_sgctf = GridSearchCV(sgc, param, verbose=1, cv=10, n_jobs=4)\n",
    "\n",
    "grid_sgctf.fit(Xtf_train, y_train)"
   ]
  },
  {
   "cell_type": "code",
   "execution_count": 590,
   "metadata": {
    "ExecuteTime": {
     "end_time": "2018-09-01T12:19:54.045842Z",
     "start_time": "2018-09-01T12:19:54.031879Z"
    }
   },
   "outputs": [
    {
     "name": "stdout",
     "output_type": "stream",
     "text": [
      "Score:  0.5953177257525084 \n",
      "\n",
      "------------------------------------------------------------ \n",
      "\n",
      "Best params:  {'alpha': 0.0001, 'loss': 'log', 'penalty': 'elasticnet'} \n",
      "\n",
      "------------------------------------------------------------ \n",
      "\n",
      "Classification Report: \n",
      "                   precision    recall  f1-score   support\n",
      "\n",
      "     high salary       0.41      0.36      0.38        59\n",
      "      low salary       0.21      0.15      0.17        27\n",
      "very high salary       0.55      0.72      0.62        83\n",
      " very low salary       0.78      0.72      0.74       130\n",
      "\n",
      "     avg / total       0.59      0.60      0.59       299\n",
      "\n"
     ]
    }
   ],
   "source": [
    "print ('Score: ', grid_sgctf.score(Xtf_test, y_test), '\\n')\n",
    "print ('--' *30, '\\n')\n",
    "print ('Best params: ', grid_sgctf.best_params_, '\\n')\n",
    "# print ('--' *30, '\\n')\n",
    "# model_grid_lrtf = grid_lrtf.best_estimator_\n",
    "# print ('Best est score: ', model_grid_lrtf.score(Xtf_test, y_test), '\\n')\n",
    "print ('--' *30, '\\n')\n",
    "print ('Classification Report: \\n', classification_report(y_test, grid_sgctf.predict(Xtf_test)))"
   ]
  },
  {
   "cell_type": "code",
   "execution_count": 591,
   "metadata": {
    "ExecuteTime": {
     "end_time": "2018-09-01T12:19:54.673163Z",
     "start_time": "2018-09-01T12:19:54.047838Z"
    },
    "scrolled": true
   },
   "outputs": [
    {
     "data": {
      "image/png": "[encoded data removed]",
      "text/plain": [
       "<Figure size 432x288 with 1 Axes>"
      ]
     },
     "metadata": {},
     "output_type": "display_data"
    },
    {
     "data": {
      "image/png": "[encoded data removed]",
      "text/plain": [
       "<Figure size 432x288 with 1 Axes>"
      ]
     },
     "metadata": {},
     "output_type": "display_data"
    },
    {
     "data": {
      "image/png": "[encoded data removed]",
      "text/plain": [
       "<Figure size 432x288 with 1 Axes>"
      ]
     },
     "metadata": {},
     "output_type": "display_data"
    },
    {
     "data": {
      "image/png": "[encoded data removed]",
      "text/plain": [
       "<Figure size 432x288 with 1 Axes>"
      ]
     },
     "metadata": {},
     "output_type": "display_data"
    },
    {
     "data": {
      "image/png": "[encoded data removed]",
      "text/plain": [
       "<Figure size 432x288 with 1 Axes>"
      ]
     },
     "metadata": {},
     "output_type": "display_data"
    }
   ],
   "source": [
    "# getting the target categories out\n",
    "cat = y_test.value_counts().keys().values\n",
    "\n",
    "\n",
    "y_score = grid_sgctf.predict_proba(Xtf_test)\n",
    "y_test_roc = label_binarize(y_test, classes=cat)\n",
    "\n",
    "# Computing ROC for each class in 1 plot\n",
    "lw=2\n",
    "fpr = dict()\n",
    "tpr = dict()\n",
    "roc_auc = dict()\n",
    "for i in range(len(cat)):\n",
    "    fpr[i], tpr[i], _ = roc_curve(y_test_roc[:, i], y_score[:, i])\n",
    "    roc_auc[i] = auc(fpr[i], tpr[i])\n",
    "\n",
    "colors = cycle(['blue', 'red', 'green', 'orange'])\n",
    "for i, color in zip(range(len(cat)), colors):\n",
    "    plt.plot(fpr[i], tpr[i], color=color, lw=lw,\n",
    "             label='ROC curve of {0} (area = {1:0.2f})'\n",
    "             ''.format(i, roc_auc[i]))\n",
    "\n",
    "# setup for plot\n",
    "plt.plot([0, 1], [0, 1], 'k--', lw=lw)\n",
    "plt.xlim([-0.05, 1.0])\n",
    "plt.ylim([0.0, 1.05])\n",
    "plt.xlabel('False Positive Rate')\n",
    "plt.ylabel('True Positive Rate')\n",
    "plt.title('ROC Plot for all classes')\n",
    "plt.legend(loc=\"lower right\")\n",
    "plt.show()\n",
    "\n",
    "\n",
    "# Plot of a ROC curve for a specific class\n",
    "for i in range(len(cat)):\n",
    "    plt.figure()\n",
    "    plt.plot(fpr[i], tpr[i], label='ROC curve (area = %0.2f)' % roc_auc[i])\n",
    "    plt.plot([0, 1], [0, 1], 'k--')\n",
    "    plt.xlim([0.0, 1.0])\n",
    "    plt.ylim([0.0, 1.05])\n",
    "    plt.xlabel('False Positive Rate')\n",
    "    plt.ylabel('True Positive Rate')\n",
    "    plt.title('ROC curve for ' + str(cat[i]))\n",
    "    plt.legend(loc=\"lower right\")\n",
    "    plt.show()"
   ]
  },
  {
   "cell_type": "code",
   "execution_count": 592,
   "metadata": {
    "ExecuteTime": {
     "end_time": "2018-09-01T12:19:54.787856Z",
     "start_time": "2018-09-01T12:19:54.674161Z"
    },
    "scrolled": true
   },
   "outputs": [],
   "source": [
    "grid_sgctf_0 = pd.DataFrame({'feature':tfidf.get_feature_names(),\n",
    "                            'Very Low':grid_sgctf.best_estimator_.coef_[0]})\n",
    "grid_sgctf_1 = pd.DataFrame({'feature':tfidf.get_feature_names(),\n",
    "                         'Very High':grid_sgctf.best_estimator_.coef_[1]})\n",
    "grid_sgctf_2 = pd.DataFrame({'feature':tfidf.get_feature_names(),\n",
    "                         'High':grid_sgctf.best_estimator_.coef_[2]})\n",
    "grid_sgctf_3 = pd.DataFrame({'feature':tfidf.get_feature_names(),\n",
    "                         'Low':grid_sgctf.best_estimator_.coef_[3]})\n",
    "\n",
    "grid_sgctf_0.sort_values('Very Low', inplace=True, ascending=False)\n",
    "grid_sgctf_1.sort_values('Very High', inplace=True, ascending=False)\n",
    "grid_sgctf_2.sort_values('High', inplace=True, ascending=False)\n",
    "grid_sgctf_3.sort_values('Low', inplace=True, ascending=False)"
   ]
  },
  {
   "cell_type": "code",
   "execution_count": 593,
   "metadata": {
    "ExecuteTime": {
     "end_time": "2018-09-01T12:19:54.805809Z",
     "start_time": "2018-09-01T12:19:54.789852Z"
    }
   },
   "outputs": [
    {
     "data": {
      "text/html": [
       "<div>\n",
       "<style scoped>\n",
       "    .dataframe tbody tr th:only-of-type {\n",
       "        vertical-align: middle;\n",
       "    }\n",
       "\n",
       "    .dataframe tbody tr th {\n",
       "        vertical-align: top;\n",
       "    }\n",
       "\n",
       "    .dataframe thead th {\n",
       "        text-align: right;\n",
       "    }\n",
       "</style>\n",
       "<table border=\"1\" class=\"dataframe\">\n",
       "  <thead>\n",
       "    <tr style=\"text-align: right;\">\n",
       "      <th></th>\n",
       "      <th>feature</th>\n",
       "      <th>Very Low</th>\n",
       "    </tr>\n",
       "  </thead>\n",
       "  <tbody>\n",
       "    <tr>\n",
       "      <th>8159</th>\n",
       "      <td>expertise</td>\n",
       "      <td>2.704931</td>\n",
       "    </tr>\n",
       "    <tr>\n",
       "      <th>18491</th>\n",
       "      <td>scientist</td>\n",
       "      <td>2.607310</td>\n",
       "    </tr>\n",
       "    <tr>\n",
       "      <th>21108</th>\n",
       "      <td>technology</td>\n",
       "      <td>2.351435</td>\n",
       "    </tr>\n",
       "    <tr>\n",
       "      <th>6676</th>\n",
       "      <td>ecommerce</td>\n",
       "      <td>2.304048</td>\n",
       "    </tr>\n",
       "    <tr>\n",
       "      <th>16160</th>\n",
       "      <td>professional information</td>\n",
       "      <td>2.232330</td>\n",
       "    </tr>\n",
       "    <tr>\n",
       "      <th>7183</th>\n",
       "      <td>enhancement</td>\n",
       "      <td>2.210918</td>\n",
       "    </tr>\n",
       "    <tr>\n",
       "      <th>10596</th>\n",
       "      <td>innovation</td>\n",
       "      <td>2.184851</td>\n",
       "    </tr>\n",
       "    <tr>\n",
       "      <th>17803</th>\n",
       "      <td>researcher</td>\n",
       "      <td>2.150803</td>\n",
       "    </tr>\n",
       "    <tr>\n",
       "      <th>13949</th>\n",
       "      <td>nlp</td>\n",
       "      <td>2.135706</td>\n",
       "    </tr>\n",
       "    <tr>\n",
       "      <th>21547</th>\n",
       "      <td>time professional</td>\n",
       "      <td>2.105911</td>\n",
       "    </tr>\n",
       "  </tbody>\n",
       "</table>\n",
       "</div>"
      ],
      "text/plain": [
       "                        feature  Very Low\n",
       "8159                  expertise  2.704931\n",
       "18491                 scientist  2.607310\n",
       "21108                technology  2.351435\n",
       "6676                  ecommerce  2.304048\n",
       "16160  professional information  2.232330\n",
       "7183                enhancement  2.210918\n",
       "10596                innovation  2.184851\n",
       "17803                researcher  2.150803\n",
       "13949                       nlp  2.135706\n",
       "21547         time professional  2.105911"
      ]
     },
     "execution_count": 593,
     "metadata": {},
     "output_type": "execute_result"
    }
   ],
   "source": [
    "grid_sgctf_0.head(10)"
   ]
  },
  {
   "cell_type": "code",
   "execution_count": 594,
   "metadata": {
    "ExecuteTime": {
     "end_time": "2018-09-01T12:19:54.821781Z",
     "start_time": "2018-09-01T12:19:54.808802Z"
    }
   },
   "outputs": [
    {
     "data": {
      "text/html": [
       "<div>\n",
       "<style scoped>\n",
       "    .dataframe tbody tr th:only-of-type {\n",
       "        vertical-align: middle;\n",
       "    }\n",
       "\n",
       "    .dataframe tbody tr th {\n",
       "        vertical-align: top;\n",
       "    }\n",
       "\n",
       "    .dataframe thead th {\n",
       "        text-align: right;\n",
       "    }\n",
       "</style>\n",
       "<table border=\"1\" class=\"dataframe\">\n",
       "  <thead>\n",
       "    <tr style=\"text-align: right;\">\n",
       "      <th></th>\n",
       "      <th>feature</th>\n",
       "      <th>Very High</th>\n",
       "    </tr>\n",
       "  </thead>\n",
       "  <tbody>\n",
       "    <tr>\n",
       "      <th>12790</th>\n",
       "      <td>manufacturing</td>\n",
       "      <td>3.693952</td>\n",
       "    </tr>\n",
       "    <tr>\n",
       "      <th>4929</th>\n",
       "      <td>dashboard</td>\n",
       "      <td>3.564705</td>\n",
       "    </tr>\n",
       "    <tr>\n",
       "      <th>8916</th>\n",
       "      <td>functional</td>\n",
       "      <td>2.999992</td>\n",
       "    </tr>\n",
       "    <tr>\n",
       "      <th>5195</th>\n",
       "      <td>database</td>\n",
       "      <td>2.705515</td>\n",
       "    </tr>\n",
       "    <tr>\n",
       "      <th>1674</th>\n",
       "      <td>associate</td>\n",
       "      <td>2.704100</td>\n",
       "    </tr>\n",
       "    <tr>\n",
       "      <th>17901</th>\n",
       "      <td>responsible</td>\n",
       "      <td>2.686277</td>\n",
       "    </tr>\n",
       "    <tr>\n",
       "      <th>18347</th>\n",
       "      <td>sap</td>\n",
       "      <td>2.678776</td>\n",
       "    </tr>\n",
       "    <tr>\n",
       "      <th>1108</th>\n",
       "      <td>analyze</td>\n",
       "      <td>2.540918</td>\n",
       "    </tr>\n",
       "    <tr>\n",
       "      <th>4093</th>\n",
       "      <td>conduct</td>\n",
       "      <td>2.509420</td>\n",
       "    </tr>\n",
       "    <tr>\n",
       "      <th>21078</th>\n",
       "      <td>technician</td>\n",
       "      <td>2.491818</td>\n",
       "    </tr>\n",
       "  </tbody>\n",
       "</table>\n",
       "</div>"
      ],
      "text/plain": [
       "             feature  Very High\n",
       "12790  manufacturing   3.693952\n",
       "4929       dashboard   3.564705\n",
       "8916      functional   2.999992\n",
       "5195        database   2.705515\n",
       "1674       associate   2.704100\n",
       "17901    responsible   2.686277\n",
       "18347            sap   2.678776\n",
       "1108         analyze   2.540918\n",
       "4093         conduct   2.509420\n",
       "21078     technician   2.491818"
      ]
     },
     "execution_count": 594,
     "metadata": {},
     "output_type": "execute_result"
    }
   ],
   "source": [
    "grid_sgctf_1.head(10)"
   ]
  },
  {
   "cell_type": "code",
   "execution_count": 595,
   "metadata": {
    "ExecuteTime": {
     "end_time": "2018-09-01T12:19:54.834737Z",
     "start_time": "2018-09-01T12:19:54.823761Z"
    }
   },
   "outputs": [
    {
     "data": {
      "text/html": [
       "<div>\n",
       "<style scoped>\n",
       "    .dataframe tbody tr th:only-of-type {\n",
       "        vertical-align: middle;\n",
       "    }\n",
       "\n",
       "    .dataframe tbody tr th {\n",
       "        vertical-align: top;\n",
       "    }\n",
       "\n",
       "    .dataframe thead th {\n",
       "        text-align: right;\n",
       "    }\n",
       "</style>\n",
       "<table border=\"1\" class=\"dataframe\">\n",
       "  <thead>\n",
       "    <tr style=\"text-align: right;\">\n",
       "      <th></th>\n",
       "      <th>feature</th>\n",
       "      <th>High</th>\n",
       "    </tr>\n",
       "  </thead>\n",
       "  <tbody>\n",
       "    <tr>\n",
       "      <th>11656</th>\n",
       "      <td>lead</td>\n",
       "      <td>5.782727</td>\n",
       "    </tr>\n",
       "    <tr>\n",
       "      <th>1986</th>\n",
       "      <td>banking</td>\n",
       "      <td>4.946459</td>\n",
       "    </tr>\n",
       "    <tr>\n",
       "      <th>12659</th>\n",
       "      <td>manager</td>\n",
       "      <td>3.489131</td>\n",
       "    </tr>\n",
       "    <tr>\n",
       "      <th>18714</th>\n",
       "      <td>senior</td>\n",
       "      <td>3.194874</td>\n",
       "    </tr>\n",
       "    <tr>\n",
       "      <th>14441</th>\n",
       "      <td>organization</td>\n",
       "      <td>3.036694</td>\n",
       "    </tr>\n",
       "    <tr>\n",
       "      <th>21738</th>\n",
       "      <td>trading</td>\n",
       "      <td>2.976615</td>\n",
       "    </tr>\n",
       "    <tr>\n",
       "      <th>20813</th>\n",
       "      <td>team</td>\n",
       "      <td>2.555966</td>\n",
       "    </tr>\n",
       "    <tr>\n",
       "      <th>11709</th>\n",
       "      <td>leader</td>\n",
       "      <td>2.321514</td>\n",
       "    </tr>\n",
       "    <tr>\n",
       "      <th>6260</th>\n",
       "      <td>director</td>\n",
       "      <td>2.265784</td>\n",
       "    </tr>\n",
       "    <tr>\n",
       "      <th>12448</th>\n",
       "      <td>management</td>\n",
       "      <td>2.202675</td>\n",
       "    </tr>\n",
       "  </tbody>\n",
       "</table>\n",
       "</div>"
      ],
      "text/plain": [
       "            feature      High\n",
       "11656          lead  5.782727\n",
       "1986        banking  4.946459\n",
       "12659       manager  3.489131\n",
       "18714        senior  3.194874\n",
       "14441  organization  3.036694\n",
       "21738       trading  2.976615\n",
       "20813          team  2.555966\n",
       "11709        leader  2.321514\n",
       "6260       director  2.265784\n",
       "12448    management  2.202675"
      ]
     },
     "execution_count": 595,
     "metadata": {},
     "output_type": "execute_result"
    }
   ],
   "source": [
    "grid_sgctf_2.head(10)"
   ]
  },
  {
   "cell_type": "code",
   "execution_count": 596,
   "metadata": {
    "ExecuteTime": {
     "end_time": "2018-09-01T12:19:54.846700Z",
     "start_time": "2018-09-01T12:19:54.835728Z"
    }
   },
   "outputs": [
    {
     "data": {
      "text/html": [
       "<div>\n",
       "<style scoped>\n",
       "    .dataframe tbody tr th:only-of-type {\n",
       "        vertical-align: middle;\n",
       "    }\n",
       "\n",
       "    .dataframe tbody tr th {\n",
       "        vertical-align: top;\n",
       "    }\n",
       "\n",
       "    .dataframe thead th {\n",
       "        text-align: right;\n",
       "    }\n",
       "</style>\n",
       "<table border=\"1\" class=\"dataframe\">\n",
       "  <thead>\n",
       "    <tr style=\"text-align: right;\">\n",
       "      <th></th>\n",
       "      <th>feature</th>\n",
       "      <th>Low</th>\n",
       "    </tr>\n",
       "  </thead>\n",
       "  <tbody>\n",
       "    <tr>\n",
       "      <th>7722</th>\n",
       "      <td>executive</td>\n",
       "      <td>5.228537</td>\n",
       "    </tr>\n",
       "    <tr>\n",
       "      <th>16198</th>\n",
       "      <td>proficient</td>\n",
       "      <td>3.147314</td>\n",
       "    </tr>\n",
       "    <tr>\n",
       "      <th>21537</th>\n",
       "      <td>time executive</td>\n",
       "      <td>2.925813</td>\n",
       "    </tr>\n",
       "    <tr>\n",
       "      <th>11280</th>\n",
       "      <td>junior executive</td>\n",
       "      <td>2.848566</td>\n",
       "    </tr>\n",
       "    <tr>\n",
       "      <th>7360</th>\n",
       "      <td>entry</td>\n",
       "      <td>2.832006</td>\n",
       "    </tr>\n",
       "    <tr>\n",
       "      <th>7428</th>\n",
       "      <td>equipment</td>\n",
       "      <td>2.632983</td>\n",
       "    </tr>\n",
       "    <tr>\n",
       "      <th>11278</th>\n",
       "      <td>junior</td>\n",
       "      <td>2.524858</td>\n",
       "    </tr>\n",
       "    <tr>\n",
       "      <th>4951</th>\n",
       "      <td>data analyst</td>\n",
       "      <td>2.510037</td>\n",
       "    </tr>\n",
       "    <tr>\n",
       "      <th>1648</th>\n",
       "      <td>assist</td>\n",
       "      <td>2.489734</td>\n",
       "    </tr>\n",
       "    <tr>\n",
       "      <th>6223</th>\n",
       "      <td>diploma</td>\n",
       "      <td>2.400563</td>\n",
       "    </tr>\n",
       "  </tbody>\n",
       "</table>\n",
       "</div>"
      ],
      "text/plain": [
       "                feature       Low\n",
       "7722          executive  5.228537\n",
       "16198        proficient  3.147314\n",
       "21537    time executive  2.925813\n",
       "11280  junior executive  2.848566\n",
       "7360              entry  2.832006\n",
       "7428          equipment  2.632983\n",
       "11278            junior  2.524858\n",
       "4951       data analyst  2.510037\n",
       "1648             assist  2.489734\n",
       "6223            diploma  2.400563"
      ]
     },
     "execution_count": 596,
     "metadata": {},
     "output_type": "execute_result"
    }
   ],
   "source": [
    "grid_sgctf_3.head(10)"
   ]
  },
  {
   "cell_type": "markdown",
   "metadata": {},
   "source": [
    "### XGBoosting"
   ]
  },
  {
   "cell_type": "code",
   "execution_count": 319,
   "metadata": {
    "ExecuteTime": {
     "end_time": "2018-09-01T09:39:26.648387Z",
     "start_time": "2018-09-01T08:38:33.953544Z"
    }
   },
   "outputs": [
    {
     "name": "stdout",
     "output_type": "stream",
     "text": [
      "Fitting 5 folds for each of 72 candidates, totalling 360 fits\n"
     ]
    },
    {
     "name": "stderr",
     "output_type": "stream",
     "text": [
      "[Parallel(n_jobs=4)]: Done  42 tasks      | elapsed:  6.4min\n",
      "[Parallel(n_jobs=4)]: Done 192 tasks      | elapsed: 29.1min\n",
      "[Parallel(n_jobs=4)]: Done 360 out of 360 | elapsed: 60.0min finished\n"
     ]
    },
    {
     "data": {
      "text/plain": [
       "GridSearchCV(cv=5, error_score='raise',\n",
       "       estimator=XGBClassifier(base_score=0.5, booster='gbtree', colsample_bylevel=1,\n",
       "       colsample_bytree=1, gamma=0, learning_rate=0.02, max_delta_step=0,\n",
       "       max_depth=3, min_child_weight=1, missing=None, n_estimators=100,\n",
       "       n_jobs=1, nthread=1, objective='binary:logistic', random_state=0,\n",
       "       reg_alpha=0, reg_lambda=1, scale_pos_weight=1, seed=None,\n",
       "       silent=True, subsample=1),\n",
       "       fit_params=None, iid=True, n_jobs=4,\n",
       "       param_grid={'min_child_weight': [1, 5, 10], 'gamma': [0.5, 1, 1.5], 'subsample': [0.8, 1.0], 'colsample_bytree': [0.8, 1.0], 'max_depth': [4, 5]},\n",
       "       pre_dispatch='2*n_jobs', refit=True, return_train_score='warn',\n",
       "       scoring=None, verbose=1)"
      ]
     },
     "execution_count": 319,
     "metadata": {},
     "output_type": "execute_result"
    }
   ],
   "source": [
    "xgb = XGBClassifier(learning_rate=0.02, n_estimators=100, objective='binary:logistic',\n",
    "                   silent=True, nthread=1)\n",
    "\n",
    "param = {'min_child_weight': [1, 5, 10],\n",
    "       'gamma': [0.5, 1, 1.5],\n",
    "       'subsample': [0.8, 1.0],\n",
    "       'colsample_bytree': [0.8, 1.0],\n",
    "       'max_depth': [4, 5]\n",
    "       }\n",
    "\n",
    "grid_xgbtf = GridSearchCV(xgb, param, verbose=1, cv=5, n_jobs=4)\n",
    "\n",
    "grid_xgbtf.fit(Xtf_train, y_train)"
   ]
  },
  {
   "cell_type": "code",
   "execution_count": 320,
   "metadata": {
    "ExecuteTime": {
     "end_time": "2018-09-01T09:44:50.459413Z",
     "start_time": "2018-09-01T09:44:50.383456Z"
    }
   },
   "outputs": [
    {
     "name": "stdout",
     "output_type": "stream",
     "text": [
      "Score:  0.6287625418060201 \n",
      "\n",
      "------------------------------------------------------------ \n",
      "\n",
      "Best params:  {'colsample_bytree': 0.8, 'gamma': 1, 'max_depth': 5, 'min_child_weight': 1, 'subsample': 1.0} \n",
      "\n",
      "------------------------------------------------------------ \n",
      "\n",
      "Classification Report: \n",
      "                   precision    recall  f1-score   support\n",
      "\n",
      "     high salary       0.50      0.31      0.38        59\n",
      "      low salary       0.00      0.00      0.00        27\n",
      "very high salary       0.55      0.76      0.64        83\n",
      " very low salary       0.73      0.82      0.78       130\n",
      "\n",
      "     avg / total       0.57      0.63      0.59       299\n",
      "\n"
     ]
    },
    {
     "name": "stderr",
     "output_type": "stream",
     "text": [
      "C:\\Users\\Arsyad\\Anaconda2\\envs\\Python_3\\lib\\site-packages\\sklearn\\preprocessing\\label.py:151: DeprecationWarning: The truth value of an empty array is ambiguous. Returning False, but in future this will result in an error. Use `array.size > 0` to check that an array is not empty.\n",
      "  if diff:\n",
      "C:\\Users\\Arsyad\\Anaconda2\\envs\\Python_3\\lib\\site-packages\\sklearn\\preprocessing\\label.py:151: DeprecationWarning: The truth value of an empty array is ambiguous. Returning False, but in future this will result in an error. Use `array.size > 0` to check that an array is not empty.\n",
      "  if diff:\n"
     ]
    }
   ],
   "source": [
    "print ('Score: ', grid_xgbtf.score(Xtf_test, y_test), '\\n')\n",
    "print ('--' *30, '\\n')\n",
    "print ('Best params: ', grid_xgbtf.best_params_, '\\n')\n",
    "# print ('--' *30, '\\n')\n",
    "# model_grid_lrtf = grid_lrtf.best_estimator_\n",
    "# print ('Best est score: ', model_grid_lrtf.score(Xtf_test, y_test), '\\n')\n",
    "print ('--' *30, '\\n')\n",
    "print ('Classification Report: \\n', classification_report(y_test, grid_xgbtf.predict(Xtf_test)))"
   ]
  },
  {
   "cell_type": "markdown",
   "metadata": {},
   "source": [
    "# Question 2"
   ]
  },
  {
   "cell_type": "markdown",
   "metadata": {},
   "source": [
    "## Preparing dataset for Q2"
   ]
  },
  {
   "cell_type": "code",
   "execution_count": 602,
   "metadata": {
    "ExecuteTime": {
     "end_time": "2018-09-01T12:31:53.583480Z",
     "start_time": "2018-09-01T12:31:53.564527Z"
    }
   },
   "outputs": [],
   "source": [
    "jobs1 = jobs.copy()"
   ]
  },
  {
   "cell_type": "code",
   "execution_count": 603,
   "metadata": {
    "ExecuteTime": {
     "end_time": "2018-09-01T12:31:53.960500Z",
     "start_time": "2018-09-01T12:31:53.951524Z"
    }
   },
   "outputs": [],
   "source": [
    "# if data_scientist == 1, else == 0\n",
    "\n",
    "jobs1['data_scientist'] = jobs1.Title.apply(lambda x: str(x))\n",
    "\n",
    "jobs1['data_scientist'] = jobs1.data_scientist.apply(lambda x: 1 if 'data scientist' in x.lower() or 'data science' in x.lower() or 'scientist' in x.lower() or 'science' in x.lower() else 0)"
   ]
  },
  {
   "cell_type": "code",
   "execution_count": 604,
   "metadata": {
    "ExecuteTime": {
     "end_time": "2018-09-01T12:31:54.431142Z",
     "start_time": "2018-09-01T12:31:54.424130Z"
    }
   },
   "outputs": [
    {
     "data": {
      "text/plain": [
       "0    1365\n",
       "1     126\n",
       "Name: data_scientist, dtype: int64"
      ]
     },
     "execution_count": 604,
     "metadata": {},
     "output_type": "execute_result"
    }
   ],
   "source": [
    "jobs1.data_scientist.value_counts()\n",
    "\n",
    "# there is class imbalance, but we can use random forest with class_weight=\"balanced\""
   ]
  },
  {
   "cell_type": "code",
   "execution_count": 605,
   "metadata": {
    "ExecuteTime": {
     "end_time": "2018-09-01T12:31:54.904871Z",
     "start_time": "2018-09-01T12:31:54.870935Z"
    }
   },
   "outputs": [],
   "source": [
    "jobs1['all_info_q2']= jobs1['Company'].astype(str) + ' ' + jobs1.Emp_type.astype(str) + ' ' \\\n",
    "    + jobs1.Seniority.astype(str) + ' ' + jobs1.Industry.astype(str) + ' ' + jobs1.Responsibility.astype(str) + ' ' + jobs1.Requirements.astype(str)"
   ]
  },
  {
   "cell_type": "code",
   "execution_count": 606,
   "metadata": {
    "ExecuteTime": {
     "end_time": "2018-09-01T12:31:55.337416Z",
     "start_time": "2018-09-01T12:31:55.333428Z"
    }
   },
   "outputs": [],
   "source": [
    "X_q2 = jobs1['all_info_q2']\n",
    "y_q2 = jobs1.data_scientist"
   ]
  },
  {
   "cell_type": "code",
   "execution_count": 607,
   "metadata": {
    "ExecuteTime": {
     "end_time": "2018-09-01T12:31:59.015161Z",
     "start_time": "2018-09-01T12:31:55.856058Z"
    }
   },
   "outputs": [],
   "source": [
    "# lemmatizing X\n",
    "\n",
    "lemma = WordNetLemmatizer()\n",
    "stemmer = PorterStemmer()\n",
    "\n",
    "X_temp_q2 = []\n",
    "for i in range (0,len(X_q2)):\n",
    "    col = re.sub('[^a-zA-Z]', ' ', X_q2[i])\n",
    "    col = col.lower()\n",
    "    col = col.split()\n",
    "    col = [lemma.lemmatize(word) for word in col if not word in set(stopwords_sk)]\n",
    "    col = ' '.join(col)\n",
    "    X_temp_q2.append(col)\n",
    "\n",
    "X_q2 = X_temp_q2"
   ]
  },
  {
   "cell_type": "code",
   "execution_count": 608,
   "metadata": {
    "ExecuteTime": {
     "end_time": "2018-09-01T12:31:59.023839Z",
     "start_time": "2018-09-01T12:31:59.016843Z"
    }
   },
   "outputs": [
    {
     "name": "stdout",
     "output_type": "stream",
     "text": [
      "1043\n",
      "448\n",
      "1043\n",
      "448\n"
     ]
    }
   ],
   "source": [
    "X_train_q2, X_test_q2, y_train_q2, y_test_q2 = train_test_split(X_q2, y_q2, test_size=0.3, random_state=42)\n",
    "\n",
    "# check the shape of train and test set\n",
    "print (len(X_train_q2))\n",
    "print (len(X_test_q2))\n",
    "print (len(y_train_q2))\n",
    "print (len(y_test_q2))"
   ]
  },
  {
   "cell_type": "code",
   "execution_count": 609,
   "metadata": {
    "ExecuteTime": {
     "end_time": "2018-09-01T12:31:59.035793Z",
     "start_time": "2018-09-01T12:31:59.026817Z"
    }
   },
   "outputs": [],
   "source": [
    "temp_train_df = pd.DataFrame({'all_info_q2': X_train_q2,\n",
    "                       'data_scientist': y_train_q2})\n",
    "\n",
    "temp_train_df.reset_index(inplace=True, drop=('index'))\n",
    "\n",
    "\n",
    "temp_test_df = pd.DataFrame({'all_info_q2': X_test_q2,\n",
    "                            'data_scientist': y_test_q2})\n",
    "\n",
    "temp_test_df.reset_index(inplace=True, drop=('index'))"
   ]
  },
  {
   "cell_type": "code",
   "execution_count": 610,
   "metadata": {
    "ExecuteTime": {
     "end_time": "2018-09-01T12:31:59.437031Z",
     "start_time": "2018-09-01T12:31:59.426090Z"
    }
   },
   "outputs": [
    {
     "data": {
      "text/plain": [
       "0    959\n",
       "1     84\n",
       "Name: data_scientist, dtype: int64"
      ]
     },
     "execution_count": 610,
     "metadata": {},
     "output_type": "execute_result"
    }
   ],
   "source": [
    "temp_train_df.data_scientist.value_counts()"
   ]
  },
  {
   "cell_type": "code",
   "execution_count": 611,
   "metadata": {
    "ExecuteTime": {
     "end_time": "2018-09-01T12:32:00.322493Z",
     "start_time": "2018-09-01T12:32:00.315498Z"
    }
   },
   "outputs": [
    {
     "data": {
      "text/plain": [
       "0    406\n",
       "1     42\n",
       "Name: data_scientist, dtype: int64"
      ]
     },
     "execution_count": 611,
     "metadata": {},
     "output_type": "execute_result"
    }
   ],
   "source": [
    "temp_test_df.data_scientist.value_counts()"
   ]
  },
  {
   "cell_type": "markdown",
   "metadata": {},
   "source": [
    "An upsample on the train set is required due to the class imbalance."
   ]
  },
  {
   "cell_type": "code",
   "execution_count": 612,
   "metadata": {
    "ExecuteTime": {
     "end_time": "2018-09-01T12:32:01.693615Z",
     "start_time": "2018-09-01T12:32:01.680650Z"
    }
   },
   "outputs": [
    {
     "data": {
      "text/plain": [
       "1    959\n",
       "0    959\n",
       "Name: data_scientist, dtype: int64"
      ]
     },
     "execution_count": 612,
     "metadata": {},
     "output_type": "execute_result"
    }
   ],
   "source": [
    "from sklearn.utils import resample\n",
    "\n",
    "# Separate majority and minority classes\n",
    "df_majority = temp_train_df[temp_train_df.data_scientist == 0]\n",
    "df_minority = temp_train_df[temp_train_df.data_scientist == 1]\n",
    " \n",
    "# Upsample minority class\n",
    "df_minority_upsampled = resample(df_minority, \n",
    "                                 replace=True,     # sample with replacement\n",
    "                                 n_samples=959,    # to match majority class\n",
    "                                 random_state=123) # reproducible results\n",
    " \n",
    "# Combine majority class with upsampled minority class\n",
    "jobs1_upsampled = pd.concat([df_majority, df_minority_upsampled])\n",
    " \n",
    "# Display new class counts\n",
    "jobs1_upsampled.data_scientist.value_counts()"
   ]
  },
  {
   "cell_type": "code",
   "execution_count": 613,
   "metadata": {
    "ExecuteTime": {
     "end_time": "2018-09-01T12:32:02.562136Z",
     "start_time": "2018-09-01T12:32:02.558113Z"
    }
   },
   "outputs": [],
   "source": [
    "X_train_q2_up = jobs1_upsampled['all_info_q2']\n",
    "y_train_q2_up = jobs1_upsampled.data_scientist"
   ]
  },
  {
   "cell_type": "code",
   "execution_count": 614,
   "metadata": {
    "ExecuteTime": {
     "end_time": "2018-09-01T12:32:06.444216Z",
     "start_time": "2018-09-01T12:32:04.164059Z"
    }
   },
   "outputs": [],
   "source": [
    "tfidf_q2 = TfidfVectorizer(stop_words=stopwords_sk, ngram_range=(1,2), min_df=3)\n",
    "Xtf_train_q2 = tfidf_q2.fit_transform(X_train_q2_up)\n",
    "Xtf_test_q2 = tfidf_q2.transform(X_test_q2)\n",
    "\n",
    "# ------------------------------------------------------------------------- #\n",
    "\n",
    "cvec_q2 = CountVectorizer(stop_words=stopwords_sk, ngram_range=(1,2), min_df=3)\n",
    "Xcv_train_q2 = cvec_q2.fit_transform(X_train_q2_up)\n",
    "Xcv_test_q2 = cvec_q2.transform(X_test_q2)\n",
    "\n",
    "# ------------------------------------------------------------------------ #\n",
    "\n",
    "y_train_q2 = y_train_q2_up"
   ]
  },
  {
   "cell_type": "markdown",
   "metadata": {},
   "source": [
    "## Getting the scores"
   ]
  },
  {
   "cell_type": "markdown",
   "metadata": {
    "ExecuteTime": {
     "end_time": "2018-07-26T22:45:36.722000Z",
     "start_time": "2018-07-26T22:45:36.715000Z"
    }
   },
   "source": [
    "### AUC plot function"
   ]
  },
  {
   "cell_type": "code",
   "execution_count": 615,
   "metadata": {
    "ExecuteTime": {
     "end_time": "2018-09-01T12:32:15.494518Z",
     "start_time": "2018-09-01T12:32:15.485579Z"
    }
   },
   "outputs": [],
   "source": [
    "#write function to get model performance\n",
    "def model_performance(model, X_train_q2, y_train_q2, X_test_q2, y_test_q2):\n",
    "#     model.fit(X_train_q2, y_train_q2)\n",
    "    Y_pp = pd.DataFrame(model.predict_proba(X_test_q2), columns=['class_0_pp','class_1_pp'])\n",
    "    #roc, auc for model for common performance measurement\n",
    "    \n",
    "    from sklearn.metrics import roc_curve, auc\n",
    "    \n",
    "    # For class 1, find the area under the curve.\n",
    "    fpr, tpr, _ = roc_curve(y_test_q2, Y_pp.class_1_pp)\n",
    "    roc_auc = auc(fpr, tpr)\n",
    "    \n",
    "    # Plot of a ROC curve.\n",
    "    plt.figure(figsize=[4,4])\n",
    "    plt.plot(fpr, tpr, label='ROC curve (area = %0.2f)' % roc_auc, linewidth=4)\n",
    "    plt.plot([0, 1], [0, 1], 'k--', linewidth=4)\n",
    "    plt.xlim([-0.05, 1.0])\n",
    "    plt.ylim([-0.05, 1.05])\n",
    "    plt.xlabel('False Positive Rate', fontsize=18)\n",
    "    plt.ylabel('True Positive Rate', fontsize=18)\n",
    "    plt.title('Receiver operating characteristic for 1', fontsize=18)\n",
    "    plt.legend(loc=\"lower right\")\n",
    "    plt.show()\n",
    "    print ('auc:',roc_auc)\n",
    "    \n",
    "    from sklearn.metrics import confusion_matrix\n",
    "    from sklearn.metrics import classification_report\n",
    "    from sklearn import metrics\n",
    "    \n",
    "    #fit and predict\n",
    "#     class_fit = model.fit(X_train_q2, y_train_q2)\n",
    "    class_pred = model.predict(X_test_q2)\n",
    "    \n",
    "    #confusion matrix and f1-score\n",
    "    conmat = np.array(confusion_matrix(y_test_q2, class_pred))\n",
    "    confusion = pd.DataFrame(conmat, index=[0,1], columns=['predicted_0','predicted_1'])\n",
    "    f1_score = metrics.f1_score(y_test_q2, class_pred, average='weighted')\n",
    "    precision_score = metrics.precision_score(y_test_q2, class_pred, average='weighted')\n",
    "    print ('--'*30)\n",
    "    print ('Confusion Table:')\n",
    "    print (confusion)\n",
    "    print ('--'*30)\n",
    "    print ('Classification Report:')\n",
    "    print (classification_report(y_test_q2, class_pred))\n",
    "    print ('--'*30)\n",
    "    print ('auc:',roc_auc)\n",
    "    print ('f1:',f1_score)\n",
    "    print ('precision:',precision_score)\n",
    "#     return roc_auc, f1_score, precision_score"
   ]
  },
  {
   "cell_type": "markdown",
   "metadata": {},
   "source": [
    "### Random Forest GridSearch for TFIDFVectorizer"
   ]
  },
  {
   "cell_type": "code",
   "execution_count": 616,
   "metadata": {
    "ExecuteTime": {
     "end_time": "2018-09-01T12:34:22.971075Z",
     "start_time": "2018-09-01T12:32:16.769943Z"
    }
   },
   "outputs": [
    {
     "name": "stdout",
     "output_type": "stream",
     "text": [
      "Fitting 10 folds for each of 84 candidates, totalling 840 fits\n"
     ]
    },
    {
     "name": "stderr",
     "output_type": "stream",
     "text": [
      "[Parallel(n_jobs=4)]: Done  42 tasks      | elapsed:    9.5s\n",
      "[Parallel(n_jobs=4)]: Done 192 tasks      | elapsed:   44.9s\n",
      "[Parallel(n_jobs=4)]: Done 442 tasks      | elapsed:  1.4min\n",
      "[Parallel(n_jobs=4)]: Done 792 tasks      | elapsed:  2.0min\n",
      "[Parallel(n_jobs=4)]: Done 840 out of 840 | elapsed:  2.1min finished\n"
     ]
    },
    {
     "data": {
      "text/plain": [
       "GridSearchCV(cv=10, error_score='raise',\n",
       "       estimator=RandomForestClassifier(bootstrap=True, class_weight=None, criterion='gini',\n",
       "            max_depth=None, max_features='auto', max_leaf_nodes=None,\n",
       "            min_impurity_decrease=0.0, min_impurity_split=None,\n",
       "            min_samples_leaf=1, min_samples_split=2,\n",
       "            min_weight_fraction_leaf=0.0, n_estimators=10, n_jobs=1,\n",
       "            oob_score=False, random_state=None, verbose=0,\n",
       "            warm_start=False),\n",
       "       fit_params=None, iid=True, n_jobs=4,\n",
       "       param_grid={'n_estimators': [10, 15, 20, 30, 35, 40, 45], 'min_samples_split': [2, 5, 7], 'min_samples_leaf': [1, 3, 5, 7]},\n",
       "       pre_dispatch='2*n_jobs', refit=True, return_train_score='warn',\n",
       "       scoring=None, verbose=1)"
      ]
     },
     "execution_count": 616,
     "metadata": {},
     "output_type": "execute_result"
    }
   ],
   "source": [
    "rfc = RandomForestClassifier()\n",
    "\n",
    "param = {'n_estimators': [10, 15, 20, 30, 35, 40, 45],\n",
    "         'min_samples_split': [2,5,7],\n",
    "         'min_samples_leaf': [1,3,5,7]\n",
    "}\n",
    "\n",
    "grid_rfctf = GridSearchCV(rfc, param, verbose=1, cv=10, n_jobs=4)\n",
    "\n",
    "grid_rfctf.fit(Xtf_train_q2, y_train_q2)"
   ]
  },
  {
   "cell_type": "code",
   "execution_count": 617,
   "metadata": {
    "ExecuteTime": {
     "end_time": "2018-09-01T12:34:23.120697Z",
     "start_time": "2018-09-01T12:34:22.973057Z"
    },
    "scrolled": false
   },
   "outputs": [
    {
     "data": {
      "image/png": "[encoded data removed]",
      "text/plain": [
       "<Figure size 288x288 with 1 Axes>"
      ]
     },
     "metadata": {},
     "output_type": "display_data"
    },
    {
     "name": "stdout",
     "output_type": "stream",
     "text": [
      "auc: 0.9292165141918838\n",
      "------------------------------------------------------------\n",
      "Confusion Table:\n",
      "   predicted_0  predicted_1\n",
      "0          402            4\n",
      "1           27           15\n",
      "------------------------------------------------------------\n",
      "Classification Report:\n",
      "             precision    recall  f1-score   support\n",
      "\n",
      "          0       0.94      0.99      0.96       406\n",
      "          1       0.79      0.36      0.49        42\n",
      "\n",
      "avg / total       0.92      0.93      0.92       448\n",
      "\n",
      "------------------------------------------------------------\n",
      "auc: 0.9292165141918838\n",
      "f1: 0.9187113477962108\n",
      "precision: 0.9232264446080236\n"
     ]
    }
   ],
   "source": [
    "model_performance(grid_rfctf, Xtf_train_q2, y_train_q2, Xtf_test_q2, y_test_q2)"
   ]
  },
  {
   "cell_type": "code",
   "execution_count": 618,
   "metadata": {
    "ExecuteTime": {
     "end_time": "2018-09-01T12:34:23.172573Z",
     "start_time": "2018-09-01T12:34:23.121694Z"
    }
   },
   "outputs": [
    {
     "data": {
      "text/html": [
       "<div>\n",
       "<style scoped>\n",
       "    .dataframe tbody tr th:only-of-type {\n",
       "        vertical-align: middle;\n",
       "    }\n",
       "\n",
       "    .dataframe tbody tr th {\n",
       "        vertical-align: top;\n",
       "    }\n",
       "\n",
       "    .dataframe thead th {\n",
       "        text-align: right;\n",
       "    }\n",
       "</style>\n",
       "<table border=\"1\" class=\"dataframe\">\n",
       "  <thead>\n",
       "    <tr style=\"text-align: right;\">\n",
       "      <th></th>\n",
       "      <th>feature</th>\n",
       "      <th>value</th>\n",
       "    </tr>\n",
       "  </thead>\n",
       "  <tbody>\n",
       "    <tr>\n",
       "      <th>13758</th>\n",
       "      <td>learning</td>\n",
       "      <td>0.048734</td>\n",
       "    </tr>\n",
       "    <tr>\n",
       "      <th>23607</th>\n",
       "      <td>statistic</td>\n",
       "      <td>0.030080</td>\n",
       "    </tr>\n",
       "    <tr>\n",
       "      <th>21753</th>\n",
       "      <td>science</td>\n",
       "      <td>0.018995</td>\n",
       "    </tr>\n",
       "    <tr>\n",
       "      <th>19722</th>\n",
       "      <td>python</td>\n",
       "      <td>0.016614</td>\n",
       "    </tr>\n",
       "    <tr>\n",
       "      <th>21852</th>\n",
       "      <td>scientist</td>\n",
       "      <td>0.016412</td>\n",
       "    </tr>\n",
       "    <tr>\n",
       "      <th>5888</th>\n",
       "      <td>data mining</td>\n",
       "      <td>0.013737</td>\n",
       "    </tr>\n",
       "    <tr>\n",
       "      <th>13505</th>\n",
       "      <td>language</td>\n",
       "      <td>0.013222</td>\n",
       "    </tr>\n",
       "    <tr>\n",
       "      <th>756</th>\n",
       "      <td>algorithm</td>\n",
       "      <td>0.008847</td>\n",
       "    </tr>\n",
       "    <tr>\n",
       "      <th>15156</th>\n",
       "      <td>mathematics</td>\n",
       "      <td>0.008788</td>\n",
       "    </tr>\n",
       "    <tr>\n",
       "      <th>13791</th>\n",
       "      <td>learning data</td>\n",
       "      <td>0.008269</td>\n",
       "    </tr>\n",
       "  </tbody>\n",
       "</table>\n",
       "</div>"
      ],
      "text/plain": [
       "             feature     value\n",
       "13758       learning  0.048734\n",
       "23607      statistic  0.030080\n",
       "21753        science  0.018995\n",
       "19722         python  0.016614\n",
       "21852      scientist  0.016412\n",
       "5888     data mining  0.013737\n",
       "13505       language  0.013222\n",
       "756        algorithm  0.008847\n",
       "15156    mathematics  0.008788\n",
       "13791  learning data  0.008269"
      ]
     },
     "execution_count": 618,
     "metadata": {},
     "output_type": "execute_result"
    }
   ],
   "source": [
    "grid_rfctf_0 = pd.DataFrame({'feature':tfidf_q2.get_feature_names(),\n",
    "                            'value':grid_rfctf.best_estimator_.feature_importances_})\n",
    "grid_rfctf_0.sort_values('value', ascending=False).head(10)"
   ]
  },
  {
   "cell_type": "markdown",
   "metadata": {},
   "source": [
    "### Logistic Regression GridSearch for TFIDFVectorizer"
   ]
  },
  {
   "cell_type": "code",
   "execution_count": 619,
   "metadata": {
    "ExecuteTime": {
     "end_time": "2018-09-01T12:34:29.618944Z",
     "start_time": "2018-09-01T12:34:23.174552Z"
    }
   },
   "outputs": [
    {
     "name": "stdout",
     "output_type": "stream",
     "text": [
      "Fitting 10 folds for each of 5 candidates, totalling 50 fits\n"
     ]
    },
    {
     "name": "stderr",
     "output_type": "stream",
     "text": [
      "[Parallel(n_jobs=4)]: Done  42 tasks      | elapsed:    5.4s\n",
      "[Parallel(n_jobs=4)]: Done  50 out of  50 | elapsed:    6.0s finished\n"
     ]
    },
    {
     "data": {
      "text/plain": [
       "GridSearchCV(cv=10, error_score='raise',\n",
       "       estimator=LogisticRegression(C=1.0, class_weight=None, dual=False, fit_intercept=True,\n",
       "          intercept_scaling=1, max_iter=100, multi_class='ovr', n_jobs=1,\n",
       "          penalty='l2', random_state=None, solver='liblinear', tol=0.0001,\n",
       "          verbose=0, warm_start=False),\n",
       "       fit_params=None, iid=True, n_jobs=4,\n",
       "       param_grid={'C': [0.001, 0.01, 1, 5, 10]}, pre_dispatch='2*n_jobs',\n",
       "       refit=True, return_train_score='warn', scoring=None, verbose=1)"
      ]
     },
     "execution_count": 619,
     "metadata": {},
     "output_type": "execute_result"
    }
   ],
   "source": [
    "lr = LogisticRegression()\n",
    "\n",
    "param = {'C': [0.001, 0.01, 1, 5, 10]    \n",
    "}\n",
    "\n",
    "grid_lrtf = GridSearchCV(lr, param, verbose=1, cv=10, n_jobs=4)\n",
    "\n",
    "grid_lrtf.fit(Xtf_train_q2, y_train_q2)"
   ]
  },
  {
   "cell_type": "code",
   "execution_count": 620,
   "metadata": {
    "ExecuteTime": {
     "end_time": "2018-09-01T12:34:29.800458Z",
     "start_time": "2018-09-01T12:34:29.620939Z"
    }
   },
   "outputs": [
    {
     "data": {
      "image/png": "[encoded data removed]",
      "text/plain": [
       "<Figure size 288x288 with 1 Axes>"
      ]
     },
     "metadata": {},
     "output_type": "display_data"
    },
    {
     "name": "stdout",
     "output_type": "stream",
     "text": [
      "auc: 0.9638165611072015\n",
      "------------------------------------------------------------\n",
      "Confusion Table:\n",
      "   predicted_0  predicted_1\n",
      "0          394           12\n",
      "1           16           26\n",
      "------------------------------------------------------------\n",
      "Classification Report:\n",
      "             precision    recall  f1-score   support\n",
      "\n",
      "          0       0.96      0.97      0.97       406\n",
      "          1       0.68      0.62      0.65        42\n",
      "\n",
      "avg / total       0.94      0.94      0.94       448\n",
      "\n",
      "------------------------------------------------------------\n",
      "auc: 0.9638165611072015\n",
      "f1: 0.9360906862745099\n",
      "precision: 0.9350288831835687\n"
     ]
    }
   ],
   "source": [
    "model_performance(grid_lrtf, Xtf_train_q2, y_train_q2, Xtf_test_q2, y_test_q2)"
   ]
  },
  {
   "cell_type": "code",
   "execution_count": 621,
   "metadata": {
    "ExecuteTime": {
     "end_time": "2018-09-01T12:34:29.859301Z",
     "start_time": "2018-09-01T12:34:29.803451Z"
    }
   },
   "outputs": [
    {
     "data": {
      "text/html": [
       "<div>\n",
       "<style scoped>\n",
       "    .dataframe tbody tr th:only-of-type {\n",
       "        vertical-align: middle;\n",
       "    }\n",
       "\n",
       "    .dataframe tbody tr th {\n",
       "        vertical-align: top;\n",
       "    }\n",
       "\n",
       "    .dataframe thead th {\n",
       "        text-align: right;\n",
       "    }\n",
       "</style>\n",
       "<table border=\"1\" class=\"dataframe\">\n",
       "  <thead>\n",
       "    <tr style=\"text-align: right;\">\n",
       "      <th></th>\n",
       "      <th>feature</th>\n",
       "      <th>value</th>\n",
       "    </tr>\n",
       "  </thead>\n",
       "  <tbody>\n",
       "    <tr>\n",
       "      <th>5721</th>\n",
       "      <td>data</td>\n",
       "      <td>4.657080</td>\n",
       "    </tr>\n",
       "    <tr>\n",
       "      <th>13758</th>\n",
       "      <td>learning</td>\n",
       "      <td>4.502143</td>\n",
       "    </tr>\n",
       "    <tr>\n",
       "      <th>15708</th>\n",
       "      <td>model</td>\n",
       "      <td>4.144685</td>\n",
       "    </tr>\n",
       "    <tr>\n",
       "      <th>14358</th>\n",
       "      <td>machine learning</td>\n",
       "      <td>3.969908</td>\n",
       "    </tr>\n",
       "    <tr>\n",
       "      <th>14356</th>\n",
       "      <td>machine</td>\n",
       "      <td>3.804516</td>\n",
       "    </tr>\n",
       "    <tr>\n",
       "      <th>5959</th>\n",
       "      <td>data science</td>\n",
       "      <td>3.706387</td>\n",
       "    </tr>\n",
       "    <tr>\n",
       "      <th>23645</th>\n",
       "      <td>statistical</td>\n",
       "      <td>3.416153</td>\n",
       "    </tr>\n",
       "    <tr>\n",
       "      <th>21852</th>\n",
       "      <td>scientist</td>\n",
       "      <td>3.020495</td>\n",
       "    </tr>\n",
       "    <tr>\n",
       "      <th>21753</th>\n",
       "      <td>science</td>\n",
       "      <td>2.910813</td>\n",
       "    </tr>\n",
       "    <tr>\n",
       "      <th>23607</th>\n",
       "      <td>statistic</td>\n",
       "      <td>2.687488</td>\n",
       "    </tr>\n",
       "  </tbody>\n",
       "</table>\n",
       "</div>"
      ],
      "text/plain": [
       "                feature     value\n",
       "5721               data  4.657080\n",
       "13758          learning  4.502143\n",
       "15708             model  4.144685\n",
       "14358  machine learning  3.969908\n",
       "14356           machine  3.804516\n",
       "5959       data science  3.706387\n",
       "23645       statistical  3.416153\n",
       "21852         scientist  3.020495\n",
       "21753           science  2.910813\n",
       "23607         statistic  2.687488"
      ]
     },
     "execution_count": 621,
     "metadata": {},
     "output_type": "execute_result"
    }
   ],
   "source": [
    "grid_lrtf_0 = pd.DataFrame({'feature':tfidf_q2.get_feature_names(),\n",
    "                            'value':grid_lrtf.best_estimator_.coef_[0]})\n",
    "\n",
    "grid_lrtf_0.sort_values('value', ascending=False).head(10)"
   ]
  },
  {
   "cell_type": "code",
   "execution_count": null,
   "metadata": {},
   "outputs": [],
   "source": []
  }
 ],
 "metadata": {
  "kernelspec": {
   "display_name": "Python [conda env:Python_3]",
   "language": "python",
   "name": "conda-env-Python_3-py"
  },
  "language_info": {
   "codemirror_mode": {
    "name": "ipython",
    "version": 3
   },
   "file_extension": ".py",
   "mimetype": "text/x-python",
   "name": "python",
   "nbconvert_exporter": "python",
   "pygments_lexer": "ipython3",
   "version": "3.6.6"
  },
  "toc": {
   "base_numbering": 1,
   "nav_menu": {},
   "number_sections": true,
   "sideBar": true,
   "skip_h1_title": false,
   "title_cell": "Table of Contents",
   "title_sidebar": "Contents",
   "toc_cell": false,
   "toc_position": {
    "height": "calc(100% - 180px)",
    "left": "10px",
    "top": "150px",
    "width": "215.509px"
   },
   "toc_section_display": true,
   "toc_window_display": true
  }
 },
 "nbformat": 4,
 "nbformat_minor": 2
}
