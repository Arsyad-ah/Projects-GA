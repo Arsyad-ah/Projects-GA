{
 "cells": [
  {
   "cell_type": "code",
   "execution_count": 8,
   "metadata": {
    "ExecuteTime": {
     "end_time": "2018-07-27T06:50:41.639000Z",
     "start_time": "2018-07-27T06:50:40.673000Z"
    }
   },
   "outputs": [],
   "source": [
    "from bs4 import BeautifulSoup\n",
    "import urllib\n",
    "from selenium import webdriver\n",
    "from time import sleep\n",
    "import requests"
   ]
  },
  {
   "cell_type": "code",
   "execution_count": 13,
   "metadata": {
    "ExecuteTime": {
     "end_time": "2018-07-27T06:53:46.126000Z",
     "start_time": "2018-07-27T06:53:46.115000Z"
    }
   },
   "outputs": [],
   "source": [
    "download_urls = []\n",
    "vPath = 'C:/Users/Arsyad/Downloads/chromedriver_win32/chromedriver'"
   ]
  },
  {
   "cell_type": "code",
   "execution_count": null,
   "metadata": {},
   "outputs": [],
   "source": [
    "driver = webdriver.Chrome(executable_path=vPath)"
   ]
  },
  {
   "cell_type": "code",
   "execution_count": 10,
   "metadata": {
    "ExecuteTime": {
     "end_time": "2018-07-27T06:50:48.678000Z",
     "start_time": "2018-07-27T06:50:47.453000Z"
    }
   },
   "outputs": [],
   "source": [
    "url = 'https://www.superdatascience.com/machine-learning/'\n",
    "r = requests.get(url)\n",
    "soup = BeautifulSoup(r.text, 'lxml')\n",
    "links = soup.find_all(name='a', href=True)"
   ]
  },
  {
   "cell_type": "code",
   "execution_count": 14,
   "metadata": {
    "ExecuteTime": {
     "end_time": "2018-07-27T06:53:58.567000Z",
     "start_time": "2018-07-27T06:53:58.557000Z"
    }
   },
   "outputs": [],
   "source": [
    "for l in links:\n",
    "    if 'zip' in l:\n",
    "        download_urls.append(l)"
   ]
  },
  {
   "cell_type": "code",
   "execution_count": 15,
   "metadata": {
    "ExecuteTime": {
     "end_time": "2018-07-27T06:54:01.555000Z",
     "start_time": "2018-07-27T06:54:01.538000Z"
    }
   },
   "outputs": [
    {
     "data": {
      "text/plain": [
       "<a class=\"logo\" href=\"https://www.superdatascience.com\"><img alt=\"SuperDataScience \\u2013 Big Data | Analytics Careers | Mentors | Success\" src=\"https://www.superdatascience.com/wp-content/themes/superdatascience/images/logo.png\" width=\"284\"/></a>"
      ]
     },
     "execution_count": 15,
     "metadata": {},
     "output_type": "execute_result"
    }
   ],
   "source": []
  },
  {
   "cell_type": "code",
   "execution_count": null,
   "metadata": {},
   "outputs": [],
   "source": []
  }
 ],
 "metadata": {
  "kernelspec": {
   "display_name": "Python 2",
   "language": "python",
   "name": "python2"
  },
  "language_info": {
   "codemirror_mode": {
    "name": "ipython",
    "version": 2
   },
   "file_extension": ".py",
   "mimetype": "text/x-python",
   "name": "python",
   "nbconvert_exporter": "python",
   "pygments_lexer": "ipython2",
   "version": "2.7.14"
  },
  "toc": {
   "base_numbering": 1,
   "nav_menu": {},
   "number_sections": true,
   "sideBar": true,
   "skip_h1_title": false,
   "title_cell": "Table of Contents",
   "title_sidebar": "Contents",
   "toc_cell": false,
   "toc_position": {},
   "toc_section_display": true,
   "toc_window_display": false
  }
 },
 "nbformat": 4,
 "nbformat_minor": 2
}
