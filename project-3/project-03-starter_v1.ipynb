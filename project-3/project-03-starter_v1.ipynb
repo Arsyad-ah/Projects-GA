{
 "cells": [
  {
   "cell_type": "markdown",
   "metadata": {},
   "source": [
    "<img src=\"http://imgur.com/1ZcRyrc.png\" style=\"float: left; margin: 15px; height: 80px\">\n",
    "\n",
    "# Project 3\n",
    "\n",
    "### Regression and Classification with the Ames Housing Data\n",
    "\n",
    "---\n",
    "\n",
    "You have just joined a new \"full stack\" real estate company in Ames, Iowa. The strategy of the firm is two-fold:\n",
    "- Own the entire process from the purchase of the land all the way to sale of the house, and anything in between.\n",
    "- Use statistical analysis to optimize investment and maximize return.\n",
    "\n",
    "The company is still small, and though investment is substantial the short-term goals of the company are more oriented towards purchasing existing houses and flipping them as opposed to constructing entirely new houses. That being said, the company has access to a large construction workforce operating at rock-bottom prices.\n",
    "\n",
    "This project uses the [Ames housing data recently made available on kaggle](https://www.kaggle.com/c/house-prices-advanced-regression-techniques)."
   ]
  },
  {
   "cell_type": "code",
   "execution_count": 1,
   "metadata": {},
   "outputs": [],
   "source": [
    "import numpy as np\n",
    "import scipy.stats as stats\n",
    "import seaborn as sns\n",
    "import matplotlib.pyplot as plt\n",
    "import pandas as pd\n",
    "\n",
    "sns.set_style('whitegrid')\n",
    "\n",
    "%config InlineBackend.figure_format = 'retina'\n",
    "%matplotlib inline"
   ]
  },
  {
   "cell_type": "markdown",
   "metadata": {},
   "source": [
    "<img src=\"http://imgur.com/l5NasQj.png\" style=\"float: left; margin: 25px 15px 0px 0px; height: 25px\">\n",
    "\n",
    "## 1. Estimating the value of homes from fixed characteristics.\n",
    "\n",
    "---\n",
    "\n",
    "Your superiors have outlined this year's strategy for the company:\n",
    "1. Develop an algorithm to reliably estimate the value of residential houses based on *fixed* characteristics.\n",
    "2. Identify characteristics of houses that the company can cost-effectively change/renovate with their construction team.\n",
    "3. Evaluate the mean dollar value of different renovations.\n",
    "\n",
    "Then we can use that to buy houses that are likely to sell for more than the cost of the purchase plus renovations.\n",
    "\n",
    "Your first job is to tackle #1. You have a dataset of housing sale data with a huge amount of features identifying different aspects of the house. The full description of the data features can be found in a separate file:\n",
    "\n",
    "    housing.csv\n",
    "    data_description.txt\n",
    "    \n",
    "You need to build a reliable estimator for the price of the house given characteristics of the house that cannot be renovated. Some examples include:\n",
    "- The neighborhood\n",
    "- Square feet\n",
    "- Bedrooms, bathrooms\n",
    "- Basement and garage space\n",
    "\n",
    "and many more. \n",
    "\n",
    "Some examples of things that **ARE renovate-able:**\n",
    "- Roof and exterior features\n",
    "- \"Quality\" metrics, such as kitchen quality\n",
    "- \"Condition\" metrics, such as condition of garage\n",
    "- Heating and electrical components\n",
    "\n",
    "and generally anything you deem can be modified without having to undergo major construction on the house.\n",
    "\n",
    "---\n",
    "\n",
    "**Your goals:**\n",
    "1. Perform any cleaning, feature engineering, and EDA you deem necessary.\n",
    "- Be sure to remove any houses that are not residential from the dataset.\n",
    "- Identify **fixed** features that can predict price.\n",
    "- Train a model on pre-2010 data and evaluate its performance on the 2010 houses.\n",
    "- Characterize your model. How well does it perform? What are the best estimates of price?\n",
    "\n",
    "> **Note:** The EDA and feature engineering component to this project is not trivial! Be sure to always think critically and creatively. Justify your actions! Use the data description file!"
   ]
  },
  {
   "cell_type": "code",
   "execution_count": 2,
   "metadata": {},
   "outputs": [],
   "source": [
    "# Load the data\n",
    "house = pd.read_csv('./housing.csv')"
   ]
  },
  {
   "cell_type": "code",
   "execution_count": 3,
   "metadata": {},
   "outputs": [
    {
     "data": {
      "text/plain": [
       "(1460, 81)"
      ]
     },
     "execution_count": 3,
     "metadata": {},
     "output_type": "execute_result"
    }
   ],
   "source": [
    "house.shape"
   ]
  },
  {
   "cell_type": "code",
   "execution_count": 4,
   "metadata": {},
   "outputs": [
    {
     "data": {
      "text/plain": [
       "RL         1151\n",
       "RM          218\n",
       "FV           65\n",
       "RH           16\n",
       "C (all)      10\n",
       "Name: MSZoning, dtype: int64"
      ]
     },
     "execution_count": 4,
     "metadata": {},
     "output_type": "execute_result"
    }
   ],
   "source": [
    "house['MSZoning'].value_counts()\n",
    "\n",
    "# note: there are 10 rows of non-residential to drop"
   ]
  },
  {
   "cell_type": "code",
   "execution_count": 5,
   "metadata": {},
   "outputs": [],
   "source": [
    "# dropping all non-residential\n",
    "house_nr = house[house['MSZoning'] == 'C (all)']\n",
    "house = house.drop(house_nr.index)"
   ]
  },
  {
   "cell_type": "code",
   "execution_count": null,
   "metadata": {},
   "outputs": [],
   "source": [
    "print house.shape"
   ]
  },
  {
   "cell_type": "code",
   "execution_count": null,
   "metadata": {},
   "outputs": [],
   "source": [
    "house.isnull().sum().sort_values(ascending=False)\n",
    "# drop MiscFeature, Id"
   ]
  },
  {
   "cell_type": "code",
   "execution_count": 6,
   "metadata": {},
   "outputs": [],
   "source": [
    "house.drop('Id', axis=1, inplace=True)"
   ]
  },
  {
   "cell_type": "code",
   "execution_count": null,
   "metadata": {},
   "outputs": [],
   "source": [
    "house.head(3)"
   ]
  },
  {
   "cell_type": "code",
   "execution_count": null,
   "metadata": {
    "scrolled": true
   },
   "outputs": [],
   "source": [
    "house.tail(3)"
   ]
  },
  {
   "cell_type": "code",
   "execution_count": null,
   "metadata": {
    "scrolled": false
   },
   "outputs": [],
   "source": [
    "# house.columns[house.dtypes != 'object'].values"
   ]
  },
  {
   "cell_type": "code",
   "execution_count": null,
   "metadata": {
    "scrolled": false
   },
   "outputs": [],
   "source": [
    "sns.set(style=\"white\")\n",
    "corr = house.corr()\n",
    "mask = np.zeros_like(corr, dtype=np.bool)\n",
    "mask[np.triu_indices_from(mask)] = True\n",
    "cmap = sns.diverging_palette(120, 10, as_cmap=True)\n",
    "plt.figure(figsize=(35,20))\n",
    "sns.heatmap(corr, mask=mask, cmap=cmap, vmax=.3, center=0, annot=True, fmt='.1f',\n",
    "            square=True, linewidths=.5, cbar_kws={\"shrink\": .5}, cbar=False)"
   ]
  },
  {
   "cell_type": "code",
   "execution_count": 7,
   "metadata": {},
   "outputs": [
    {
     "data": {
      "text/plain": [
       "array(['MSZoning', 'Street', 'Alley', 'LotShape', 'LandContour',\n",
       "       'Utilities', 'LotConfig', 'LandSlope', 'Neighborhood',\n",
       "       'Condition1', 'Condition2', 'BldgType', 'HouseStyle', 'RoofStyle',\n",
       "       'RoofMatl', 'Exterior1st', 'Exterior2nd', 'MasVnrType',\n",
       "       'ExterQual', 'ExterCond', 'Foundation', 'BsmtQual', 'BsmtCond',\n",
       "       'BsmtExposure', 'BsmtFinType1', 'BsmtFinType2', 'Heating',\n",
       "       'HeatingQC', 'CentralAir', 'Electrical', 'KitchenQual',\n",
       "       'Functional', 'FireplaceQu', 'GarageType', 'GarageFinish',\n",
       "       'GarageQual', 'GarageCond', 'PavedDrive', 'PoolQC', 'Fence',\n",
       "       'MiscFeature', 'SaleType', 'SaleCondition'], dtype=object)"
      ]
     },
     "execution_count": 7,
     "metadata": {},
     "output_type": "execute_result"
    }
   ],
   "source": [
    "house.columns[house.dtypes == 'object'].values"
   ]
  },
  {
   "cell_type": "code",
   "execution_count": 8,
   "metadata": {},
   "outputs": [
    {
     "data": {
      "text/plain": [
       "SalePrice      1.000000\n",
       "OverallQual    0.789031\n",
       "GrLivArea      0.708658\n",
       "GarageCars     0.642135\n",
       "GarageArea     0.629831\n",
       "Name: SalePrice, dtype: float64"
      ]
     },
     "execution_count": 8,
     "metadata": {},
     "output_type": "execute_result"
    }
   ],
   "source": [
    "corr=house.corr()[\"SalePrice\"]\n",
    "corr[np.argsort(corr, axis=0)[::-1]].head()"
   ]
  },
  {
   "cell_type": "code",
   "execution_count": 9,
   "metadata": {},
   "outputs": [],
   "source": [
    "# categorical features, non-numeric\n",
    "\n",
    "house_cat = house[['MSZoning', 'Street', 'Alley', 'LotShape', 'LandContour',\n",
    "       'Utilities', 'LotConfig', 'LandSlope', 'Neighborhood',\n",
    "       'Condition1', 'Condition2', 'BldgType', 'HouseStyle', 'RoofStyle',\n",
    "       'RoofMatl', 'Exterior1st', 'Exterior2nd', 'MasVnrType',\n",
    "       'ExterQual', 'ExterCond', 'Foundation', 'BsmtQual', 'BsmtCond',\n",
    "       'BsmtExposure', 'BsmtFinType1', 'BsmtFinType2', 'Heating',\n",
    "       'HeatingQC', 'CentralAir', 'Electrical', 'KitchenQual',\n",
    "       'Functional', 'FireplaceQu', 'GarageType', 'GarageFinish',\n",
    "       'GarageQual', 'GarageCond', 'PavedDrive', 'PoolQC', 'Fence',\n",
    "       'SaleType', 'SaleCondition', 'MSSubClass', 'MiscFeature']]\n",
    "\n",
    "# not categorical, but numerical features\n",
    "\n",
    "house_num = house[['LotFrontage', 'LotArea', 'YearBuilt', 'YearRemodAdd',\n",
    "       'MasVnrArea', 'BsmtFinSF1', 'BsmtFinSF2', 'BsmtUnfSF',\n",
    "       'TotalBsmtSF', '1stFlrSF', '2ndFlrSF', 'LowQualFinSF', 'GrLivArea',\n",
    "       'GarageYrBlt', 'GarageArea', 'WoodDeckSF', 'OpenPorchSF',\n",
    "       'EnclosedPorch', '3SsnPorch', 'ScreenPorch', 'PoolArea', 'MiscVal',\n",
    "       'MoSold', 'YrSold', 'SalePrice']]"
   ]
  },
  {
   "cell_type": "code",
   "execution_count": 10,
   "metadata": {},
   "outputs": [],
   "source": [
    "# categorical, ordinal values\n",
    "house_ord = house.drop(house_cat, axis=1)\n",
    "house_ord = house_ord.drop(house_num, axis=1)"
   ]
  },
  {
   "cell_type": "code",
   "execution_count": 11,
   "metadata": {},
   "outputs": [
    {
     "data": {
      "text/plain": [
       "array(['OverallQual', 'OverallCond', 'BsmtFullBath', 'BsmtHalfBath',\n",
       "       'FullBath', 'HalfBath', 'BedroomAbvGr', 'KitchenAbvGr',\n",
       "       'TotRmsAbvGrd', 'Fireplaces', 'GarageCars'], dtype=object)"
      ]
     },
     "execution_count": 11,
     "metadata": {},
     "output_type": "execute_result"
    }
   ],
   "source": [
    "house_ord.columns.values"
   ]
  },
  {
   "cell_type": "code",
   "execution_count": 12,
   "metadata": {},
   "outputs": [
    {
     "name": "stdout",
     "output_type": "stream",
     "text": [
      "(1450, 11)\n",
      "(1450, 25)\n",
      "(1450, 44)\n"
     ]
    }
   ],
   "source": [
    "print house_ord.shape\n",
    "print house_num.shape\n",
    "print house_cat.shape"
   ]
  },
  {
   "cell_type": "code",
   "execution_count": null,
   "metadata": {
    "scrolled": true
   },
   "outputs": [],
   "source": [
    "house_cat.isnull().sum().sort_values(ascending=False).head(20)"
   ]
  },
  {
   "cell_type": "code",
   "execution_count": 13,
   "metadata": {},
   "outputs": [
    {
     "name": "stderr",
     "output_type": "stream",
     "text": [
      "C:\\Users\\Arsyad\\Anaconda2\\lib\\site-packages\\pandas\\core\\frame.py:3035: SettingWithCopyWarning: \n",
      "A value is trying to be set on a copy of a slice from a DataFrame\n",
      "\n",
      "See the caveats in the documentation: http://pandas.pydata.org/pandas-docs/stable/indexing.html#indexing-view-versus-copy\n",
      "  downcast=downcast, **kwargs)\n"
     ]
    }
   ],
   "source": [
    "# Ok to change NaN to 'Nil' as further check shows they mean variable is not available at property\n",
    "\n",
    "house_cat.fillna('Nil', inplace=True)"
   ]
  },
  {
   "cell_type": "code",
   "execution_count": null,
   "metadata": {
    "scrolled": true
   },
   "outputs": [],
   "source": [
    "house_num.isnull().sum().sort_values(ascending=False).head()"
   ]
  },
  {
   "cell_type": "code",
   "execution_count": 14,
   "metadata": {},
   "outputs": [
    {
     "name": "stderr",
     "output_type": "stream",
     "text": [
      "C:\\Users\\Arsyad\\Anaconda2\\lib\\site-packages\\ipykernel_launcher.py:4: SettingWithCopyWarning: \n",
      "A value is trying to be set on a copy of a slice from a DataFrame\n",
      "\n",
      "See the caveats in the documentation: http://pandas.pydata.org/pandas-docs/stable/indexing.html#indexing-view-versus-copy\n",
      "  after removing the cwd from sys.path.\n"
     ]
    }
   ],
   "source": [
    "# dropping GarageYrBlt as it has high correlation with YearBuilt. Does not make sense to put 0 for houses with no garage\n",
    "# as col is showing as year\n",
    "\n",
    "house_num.drop('GarageYrBlt', axis=1, inplace=True)"
   ]
  },
  {
   "cell_type": "code",
   "execution_count": 15,
   "metadata": {},
   "outputs": [],
   "source": [
    "# filling LotFrontage as 0. Would indicate that there is no LotFrontage\n",
    "\n",
    "house_num.fillna(0, inplace=True)"
   ]
  },
  {
   "cell_type": "code",
   "execution_count": null,
   "metadata": {},
   "outputs": [],
   "source": [
    "house_num.isnull().sum()"
   ]
  },
  {
   "cell_type": "code",
   "execution_count": null,
   "metadata": {},
   "outputs": [],
   "source": [
    "house_ord.isnull().sum()\n",
    "\n",
    "# no null values to change for house_ord"
   ]
  },
  {
   "cell_type": "code",
   "execution_count": null,
   "metadata": {
    "scrolled": true
   },
   "outputs": [],
   "source": [
    "# see distribution of numerical features\n",
    "\n",
    "plt.figure()\n",
    "house.hist(layout=(8,5), bins=30, figsize=(20,25))\n",
    "\n",
    "# SalePrice is slightly skewed to the right. Note: may need to apply log function during regression"
   ]
  },
  {
   "cell_type": "code",
   "execution_count": null,
   "metadata": {},
   "outputs": [],
   "source": [
    "# see relation of sqft with SalePrice\n",
    "plt.figure(figsize=(1,1))\n",
    "sns.lmplot('GrLivArea', 'SalePrice', house_1)"
   ]
  },
  {
   "cell_type": "code",
   "execution_count": null,
   "metadata": {},
   "outputs": [],
   "source": [
    "# see relation of house_age with SalePrice\n",
    "plt.figure(figsize=(5,5))\n",
    "sns.regplot('house_age', 'SalePrice', house_1)"
   ]
  },
  {
   "cell_type": "code",
   "execution_count": null,
   "metadata": {},
   "outputs": [],
   "source": [
    "# see relation of Garage Area with SalePrice\n",
    "plt.figure(figsize=(1,1))\n",
    "sns.lmplot('GarageArea', 'SalePrice', house_1)"
   ]
  },
  {
   "cell_type": "code",
   "execution_count": null,
   "metadata": {},
   "outputs": [],
   "source": [
    "\n",
    "plt.figure(figsize=(1,1))\n",
    "sns.lmplot('TotalBsmtSF', 'SalePrice', house_1)"
   ]
  },
  {
   "cell_type": "code",
   "execution_count": null,
   "metadata": {},
   "outputs": [],
   "source": [
    "plt.figure(figsize=(1,1))\n",
    "sns.lmplot('Fireplaces', 'SalePrice', house_1)"
   ]
  },
  {
   "cell_type": "code",
   "execution_count": null,
   "metadata": {},
   "outputs": [],
   "source": [
    "corr1=house_clean.corr()[\"SalePrice\"]\n",
    "corr1[np.argsort(corr1, axis=0)[::-1]]"
   ]
  },
  {
   "cell_type": "code",
   "execution_count": null,
   "metadata": {},
   "outputs": [],
   "source": [
    "# Categorical columns: Street, Alley, LotShape, LandContour, Utillities, LandConfig, LandSlope, Neighborhood, \n",
    "# Condition1, Condition2, BldgType, HouseStyle, OverallQual, OverallCond, RoofStyle, RoofMatl, Exterior1st,\n",
    "# Exterior2nd, MasVnrType, ExterQual, ExterCond, Foundation, BsmtQual, BsmtCond, BsmtExposure, BsmtFinType1,\n",
    "# BsmtFinType2, Heating, HeatingQC, CentralAir, Electrical, KitchenQual, TotRmsAbvGrd, Functional, Fireplaces\n",
    "# GarageType, GarageFinish, GarageCars, GarageQual, GarageCond, PavedDrive, PoolQC, Fence, MiscFeature,\n",
    "# SaleType, SaleCondition, BsmtFullBath, BsmtHalfBath, FullBath, HalfBath\n",
    "# total: 52"
   ]
  },
  {
   "cell_type": "code",
   "execution_count": null,
   "metadata": {},
   "outputs": [],
   "source": [
    "# house_cat = house[['Street', 'Alley', 'LotShape', 'LandContour', 'Utilities', 'LotConfig', 'LandSlope', 'Neighborhood', \n",
    "# 'Condition1', 'Condition2', 'BldgType', 'HouseStyle', 'OverallQual', 'OverallCond', 'RoofStyle', 'RoofMatl', 'Exterior1st',\n",
    "# 'Exterior2nd', 'MasVnrType', 'ExterQual', 'ExterCond', 'Foundation', 'BsmtQual', 'BsmtCond', 'BsmtExposure', 'BsmtFinType1',\n",
    "# 'BsmtFinType2', 'Heating', 'HeatingQC', 'CentralAir', 'Electrical', 'KitchenQual', 'TotRmsAbvGrd', 'Functional', 'Fireplaces',\n",
    "# 'GarageType', 'GarageFinish', 'GarageCars', 'GarageQual', 'GarageCond', 'PavedDrive', 'PoolQC', 'Fence','SaleType', \n",
    "# 'SaleCondition', 'BsmtFullBath', 'BsmtHalfBath', 'FullBath', 'HalfBath', 'FireplaceQu', 'MSZoning', 'BedroomAbvGr',\n",
    "# 'KitchenAbvGr', 'MSSubClass']]"
   ]
  },
  {
   "cell_type": "code",
   "execution_count": 16,
   "metadata": {},
   "outputs": [],
   "source": [
    "house_clean = pd.concat([house_num, house_cat, house_ord], axis=1)"
   ]
  },
  {
   "cell_type": "code",
   "execution_count": 17,
   "metadata": {},
   "outputs": [],
   "source": [
    "house_clean['MSSubClass'] = house_clean['MSSubClass'].apply(lambda x: str(x))"
   ]
  },
  {
   "cell_type": "code",
   "execution_count": 18,
   "metadata": {},
   "outputs": [],
   "source": [
    "# get age of house\n",
    "\n",
    "house_clean['house_age'] = house_clean['YrSold'] - house_clean['YearBuilt']"
   ]
  },
  {
   "cell_type": "code",
   "execution_count": 19,
   "metadata": {},
   "outputs": [],
   "source": [
    "# determining the fixed features\n",
    "\n",
    "# draft fixed features\n",
    "fixed_feature_ = house_clean[['MSSubClass', 'MSZoning', 'LotFrontage', 'LotShape', 'LotArea', 'Street', 'Alley', 'LandContour', \n",
    "               'Utilities', 'LotConfig', 'LandSlope', 'Neighborhood', 'Condition1', 'Condition2', \n",
    "               'BldgType', 'HouseStyle', 'YearBuilt', 'YearRemodAdd', 'Exterior1st', 'Exterior2nd', 'MasVnrType', \n",
    "               'Foundation', 'BsmtQual', 'TotalBsmtSF', '1stFlrSF', '2ndFlrSF', 'GrLivArea', 'BsmtFullBath',\n",
    "               'BsmtHalfBath', 'FullBath', 'HalfBath', 'BedroomAbvGr', 'KitchenAbvGr', 'TotRmsAbvGrd', 'Fireplaces', 'GarageType', \n",
    "               'GarageCars', 'GarageArea', 'WoodDeckSF', 'OpenPorchSF', 'EnclosedPorch', '3SsnPorch', \n",
    "               'ScreenPorch', 'PoolArea', 'MiscFeature', 'MiscVal', \n",
    "               ]]\n",
    "\n",
    "# confirmed fixed values\n",
    "\n",
    "# YearRemodAdd, YearBuilt, house_age\n",
    "\n",
    "fixed_feat = house_clean[['MSSubClass', 'Street', 'LotConfig', 'Condition2', 'Foundation', 'HalfBath',\n",
    "                   'MSZoning', 'BldgType', 'BsmtQual', 'BsmtFullBath', 'BedroomAbvGr', 'GarageType', 'PoolArea', \n",
    "                    'LotFrontage', 'Neighborhood', 'HouseStyle', 'TotalBsmtSF', 'BsmtHalfBath', 'KitchenAbvGr', \n",
    "                    'MiscFeature', 'LotShape', 'LandContour', 'Condition1', 'MasVnrType', '2ndFlrSF', 'TotRmsAbvGrd',\n",
    "                   '1stFlrSF', 'FullBath', 'GrLivArea', 'GarageArea', 'MiscVal', 'LotArea', 'Utilities', 'GarageCars',\n",
    "                   'MasVnrArea', 'BsmtFinSF1', 'BsmtFinSF2', 'Alley', 'LandSlope', 'house_age', 'YearRemodAdd',\n",
    "                    'WoodDeckSF', 'OpenPorchSF', 'EnclosedPorch', '3SsnPorch', 'ScreenPorch', 'RoofStyle'\n",
    "                         ]]"
   ]
  },
  {
   "cell_type": "code",
   "execution_count": 20,
   "metadata": {},
   "outputs": [
    {
     "name": "stdout",
     "output_type": "stream",
     "text": [
      "(1450, 33)\n",
      "(1450, 47)\n"
     ]
    }
   ],
   "source": [
    "test = house_clean.drop(fixed_feat, axis=1)\n",
    "print test.shape\n",
    "print fixed_feat.shape"
   ]
  },
  {
   "cell_type": "code",
   "execution_count": 21,
   "metadata": {
    "scrolled": true
   },
   "outputs": [
    {
     "data": {
      "text/plain": [
       "(1450, 138)"
      ]
     },
     "execution_count": 21,
     "metadata": {},
     "output_type": "execute_result"
    }
   ],
   "source": [
    "# creating dummy variable for categories cols\n",
    "\n",
    "fixed_feat_dummy = pd.get_dummies(fixed_feat, drop_first=True)\n",
    "fixed_feat_dummy.shape"
   ]
  },
  {
   "cell_type": "code",
   "execution_count": 22,
   "metadata": {},
   "outputs": [
    {
     "name": "stdout",
     "output_type": "stream",
     "text": [
      "(1450, 140)\n"
     ]
    }
   ],
   "source": [
    "house_1 = pd.concat([fixed_feat_dummy, house['YrSold'], house['SalePrice']], axis=1)\n",
    "print house_1.shape"
   ]
  },
  {
   "cell_type": "code",
   "execution_count": 23,
   "metadata": {},
   "outputs": [
    {
     "name": "stdout",
     "output_type": "stream",
     "text": [
      "(1278, 140)\n",
      "(172, 140)\n"
     ]
    }
   ],
   "source": [
    "# to filter based on Yrsold to split for test and prediction set\n",
    "\n",
    "house_Yrb4_2010 = house_1[house_1['YrSold'] < 2010]\n",
    "house_Yr_2010 = house_1[house_1['YrSold'] == 2010]\n",
    "print house_Yrb4_2010.shape\n",
    "print house_Yr_2010.shape"
   ]
  },
  {
   "cell_type": "code",
   "execution_count": 24,
   "metadata": {},
   "outputs": [
    {
     "name": "stderr",
     "output_type": "stream",
     "text": [
      "C:\\Users\\Arsyad\\Anaconda2\\lib\\site-packages\\ipykernel_launcher.py:1: SettingWithCopyWarning: \n",
      "A value is trying to be set on a copy of a slice from a DataFrame\n",
      "\n",
      "See the caveats in the documentation: http://pandas.pydata.org/pandas-docs/stable/indexing.html#indexing-view-versus-copy\n",
      "  \"\"\"Entry point for launching an IPython kernel.\n",
      "C:\\Users\\Arsyad\\Anaconda2\\lib\\site-packages\\ipykernel_launcher.py:2: SettingWithCopyWarning: \n",
      "A value is trying to be set on a copy of a slice from a DataFrame\n",
      "\n",
      "See the caveats in the documentation: http://pandas.pydata.org/pandas-docs/stable/indexing.html#indexing-view-versus-copy\n",
      "  \n"
     ]
    }
   ],
   "source": [
    "house_Yrb4_2010.drop('YrSold', axis=1, inplace=True)\n",
    "house_Yr_2010.drop('YrSold', axis=1, inplace=True)"
   ]
  },
  {
   "cell_type": "code",
   "execution_count": 25,
   "metadata": {},
   "outputs": [],
   "source": [
    "cols = list(house_Yrb4_2010.columns)\n",
    "cols.remove('SalePrice')\n",
    "\n",
    "# house_train_target = house_Yrb4_2010['SalePrice']\n",
    "# house_train_pred = house_Yrb4_2010.drop('SalePrice', axis=1)\n",
    "\n",
    "y_train = house_Yrb4_2010['SalePrice']\n",
    "X_train = house_Yrb4_2010.drop('SalePrice', axis=1)\n",
    "\n",
    "y_test = house_Yr_2010['SalePrice']\n",
    "X_test = house_Yr_2010.drop('SalePrice', axis=1)"
   ]
  },
  {
   "cell_type": "code",
   "execution_count": null,
   "metadata": {},
   "outputs": [],
   "source": [
    "# sns.set(style=\"white\")\n",
    "# corr = fixed_feat.corr()\n",
    "# mask = np.zeros_like(corr, dtype=np.bool)\n",
    "# mask[np.triu_indices_from(mask)] = True\n",
    "# cmap = sns.diverging_palette(220, 10, as_cmap=True)\n",
    "# plt.figure(figsize=(35,20))\n",
    "# sns.heatmap(corr, mask=mask, cmap=cmap, vmax=.3, center=0, annot=True, fmt='.1f',\n",
    "#             square=True, linewidths=.5, cbar_kws={\"shrink\": .5}, cbar=False)"
   ]
  },
  {
   "cell_type": "code",
   "execution_count": null,
   "metadata": {
    "scrolled": true
   },
   "outputs": [],
   "source": [
    "# see distribution of chosen fixed features\n",
    "\n",
    "corr = house_1.corr()[\"SalePrice\"]\n",
    "corr[np.argsort(corr, axis=0)[::-1]].head()\n",
    "\n",
    "# plt.figure()\n",
    "# house_1.hist(layout=(30,5), bins=30, figsize=(20,25))"
   ]
  },
  {
   "cell_type": "code",
   "execution_count": 26,
   "metadata": {},
   "outputs": [
    {
     "name": "stderr",
     "output_type": "stream",
     "text": [
      "C:\\Users\\Arsyad\\Anaconda2\\lib\\site-packages\\statsmodels\\compat\\pandas.py:56: FutureWarning: The pandas.core.datetools module is deprecated and will be removed in a future version. Please use the pandas.tseries module instead.\n",
      "  from pandas.core import datetools\n"
     ]
    }
   ],
   "source": [
    "# importing all the sklearn modules\n",
    "\n",
    "from sklearn.preprocessing import StandardScaler, MinMaxScaler\n",
    "from sklearn.linear_model import Ridge, Lasso, ElasticNet, LinearRegression, RidgeCV, LassoCV, ElasticNetCV\n",
    "from sklearn.model_selection import KFold, cross_val_score, cross_val_predict\n",
    "import statsmodels.api as sm\n",
    "from sklearn.model_selection import train_test_split"
   ]
  },
  {
   "cell_type": "code",
   "execution_count": 27,
   "metadata": {},
   "outputs": [],
   "source": [
    "ss = StandardScaler()\n",
    "\n",
    "Xs_train = pd.DataFrame(ss.fit_transform(X_train), columns=X_train.columns.values)\n",
    "Xs_test = pd.DataFrame(ss.fit_transform(X_test), columns=X_train.columns.values)\n",
    "\n",
    "mm = MinMaxScaler()\n",
    "\n",
    "# Xs_train = pd.DataFrame(mm.fit_transform(X_train), columns=X_train.columns.values)\n",
    "# Xs_test = pd.DataFrame(mm.fit_transform(X_test), columns=X_test.columns.values)"
   ]
  },
  {
   "cell_type": "code",
   "execution_count": 28,
   "metadata": {},
   "outputs": [
    {
     "name": "stdout",
     "output_type": "stream",
     "text": [
      "-5.835066894409498e+24\n",
      "181989.78247261344\n"
     ]
    }
   ],
   "source": [
    "lm = LinearRegression()\n",
    "model = lm.fit(Xs_train, y_train)\n",
    "\n",
    "print model.score(Xs_test, y_test)\n",
    "print model.intercept_"
   ]
  },
  {
   "cell_type": "code",
   "execution_count": null,
   "metadata": {},
   "outputs": [],
   "source": [
    "# from sklearn.linear_model import LinearRegression\n",
    "# from sklearn import metrics\n",
    "\n",
    "# lm = LinearRegression()\n",
    "# model = lm.fit(Xs_train, y_train)\n",
    "\n",
    "# predictions = model.predict(Xs_test)\n",
    "# print \"R^2 Score: \", metrics.r2_score(y_test, predictions)"
   ]
  },
  {
   "cell_type": "code",
   "execution_count": null,
   "metadata": {},
   "outputs": [],
   "source": [
    "# # baseline model\n",
    "\n",
    "# Xs_train1 = np.concatenate([Xs_train, np.ones((Xs_train.shape[0], 1))], axis=1)\n",
    "# Xs_test1 = np.concatenate([Xs_test, np.ones((Xs_test.shape[0], 1))], axis=1)\n",
    "# model1 = sm.OLS(y_train, Xs_train)\n",
    "# model1 = model.fit()\n",
    "# prediction = model1.predict()\n",
    "# model.summary()"
   ]
  },
  {
   "cell_type": "code",
   "execution_count": null,
   "metadata": {},
   "outputs": [],
   "source": [
    "len(X_train.columns)"
   ]
  },
  {
   "cell_type": "markdown",
   "metadata": {},
   "source": [
    "### Running Lasso Reg"
   ]
  },
  {
   "cell_type": "code",
   "execution_count": 29,
   "metadata": {},
   "outputs": [
    {
     "name": "stdout",
     "output_type": "stream",
     "text": [
      "Optimal Lasso Alpha:  676.5605011343918\n",
      "lasso scores: [0.88991442 0.83796334 0.8661984  0.74044028 0.82980373 0.71586157\n",
      " 0.8899007  0.81947596 0.47743729 0.83611817]\n",
      "Mean lasso scores: 0.7903113859422126\n"
     ]
    }
   ],
   "source": [
    "# lasso feature selection with house_age\n",
    "\n",
    "optimal_lasso = LassoCV(n_alphas=500, cv=10)\n",
    "optimal_lasso.fit(Xs_train, y_train)\n",
    "\n",
    "print 'Optimal Lasso Alpha: ', optimal_lasso.alpha_\n",
    "\n",
    "lasso = Lasso(alpha=optimal_lasso.alpha_)\n",
    "\n",
    "lasso_scores = cross_val_score(lasso, Xs_train, y_train, cv=10)\n",
    "\n",
    "print 'lasso scores:', lasso_scores\n",
    "print 'Mean lasso scores:', np.mean(lasso_scores)"
   ]
  },
  {
   "cell_type": "code",
   "execution_count": 30,
   "metadata": {},
   "outputs": [
    {
     "data": {
      "text/html": [
       "<div>\n",
       "<style scoped>\n",
       "    .dataframe tbody tr th:only-of-type {\n",
       "        vertical-align: middle;\n",
       "    }\n",
       "\n",
       "    .dataframe tbody tr th {\n",
       "        vertical-align: top;\n",
       "    }\n",
       "\n",
       "    .dataframe thead th {\n",
       "        text-align: right;\n",
       "    }\n",
       "</style>\n",
       "<table border=\"1\" class=\"dataframe\">\n",
       "  <thead>\n",
       "    <tr style=\"text-align: right;\">\n",
       "      <th></th>\n",
       "      <th>abs_coef</th>\n",
       "      <th>coef</th>\n",
       "      <th>var</th>\n",
       "    </tr>\n",
       "  </thead>\n",
       "  <tbody>\n",
       "    <tr>\n",
       "      <th>12</th>\n",
       "      <td>30281.260971</td>\n",
       "      <td>30281.260971</td>\n",
       "      <td>GrLivArea</td>\n",
       "    </tr>\n",
       "    <tr>\n",
       "      <th>66</th>\n",
       "      <td>14462.122345</td>\n",
       "      <td>-14462.122345</td>\n",
       "      <td>BsmtQual_Gd</td>\n",
       "    </tr>\n",
       "    <tr>\n",
       "      <th>68</th>\n",
       "      <td>13829.960867</td>\n",
       "      <td>-13829.960867</td>\n",
       "      <td>BsmtQual_TA</td>\n",
       "    </tr>\n",
       "    <tr>\n",
       "      <th>90</th>\n",
       "      <td>11316.237358</td>\n",
       "      <td>11316.237358</td>\n",
       "      <td>Neighborhood_NridgHt</td>\n",
       "    </tr>\n",
       "    <tr>\n",
       "      <th>16</th>\n",
       "      <td>9498.461252</td>\n",
       "      <td>9498.461252</td>\n",
       "      <td>GarageCars</td>\n",
       "    </tr>\n",
       "    <tr>\n",
       "      <th>89</th>\n",
       "      <td>8773.707858</td>\n",
       "      <td>8773.707858</td>\n",
       "      <td>Neighborhood_NoRidge</td>\n",
       "    </tr>\n",
       "    <tr>\n",
       "      <th>20</th>\n",
       "      <td>7535.551027</td>\n",
       "      <td>-7535.551027</td>\n",
       "      <td>house_age</td>\n",
       "    </tr>\n",
       "    <tr>\n",
       "      <th>96</th>\n",
       "      <td>7196.629578</td>\n",
       "      <td>7196.629578</td>\n",
       "      <td>Neighborhood_StoneBr</td>\n",
       "    </tr>\n",
       "    <tr>\n",
       "      <th>21</th>\n",
       "      <td>7059.690546</td>\n",
       "      <td>7059.690546</td>\n",
       "      <td>YearRemodAdd</td>\n",
       "    </tr>\n",
       "    <tr>\n",
       "      <th>7</th>\n",
       "      <td>5879.207779</td>\n",
       "      <td>-5879.207779</td>\n",
       "      <td>KitchenAbvGr</td>\n",
       "    </tr>\n",
       "    <tr>\n",
       "      <th>5</th>\n",
       "      <td>5088.619115</td>\n",
       "      <td>5088.619115</td>\n",
       "      <td>TotalBsmtSF</td>\n",
       "    </tr>\n",
       "    <tr>\n",
       "      <th>49</th>\n",
       "      <td>5055.019805</td>\n",
       "      <td>-5055.019805</td>\n",
       "      <td>Condition2_PosN</td>\n",
       "    </tr>\n",
       "    <tr>\n",
       "      <th>95</th>\n",
       "      <td>4942.476878</td>\n",
       "      <td>4942.476878</td>\n",
       "      <td>Neighborhood_Somerst</td>\n",
       "    </tr>\n",
       "    <tr>\n",
       "      <th>15</th>\n",
       "      <td>4504.178081</td>\n",
       "      <td>4504.178081</td>\n",
       "      <td>LotArea</td>\n",
       "    </tr>\n",
       "    <tr>\n",
       "      <th>80</th>\n",
       "      <td>4087.062365</td>\n",
       "      <td>4087.062365</td>\n",
       "      <td>Neighborhood_Crawfor</td>\n",
       "    </tr>\n",
       "    <tr>\n",
       "      <th>65</th>\n",
       "      <td>4075.828043</td>\n",
       "      <td>-4075.828043</td>\n",
       "      <td>BsmtQual_Fa</td>\n",
       "    </tr>\n",
       "    <tr>\n",
       "      <th>81</th>\n",
       "      <td>3776.640471</td>\n",
       "      <td>-3776.640471</td>\n",
       "      <td>Neighborhood_Edwards</td>\n",
       "    </tr>\n",
       "    <tr>\n",
       "      <th>2</th>\n",
       "      <td>3650.364902</td>\n",
       "      <td>-3650.364902</td>\n",
       "      <td>BedroomAbvGr</td>\n",
       "    </tr>\n",
       "    <tr>\n",
       "      <th>18</th>\n",
       "      <td>3635.468099</td>\n",
       "      <td>3635.468099</td>\n",
       "      <td>BsmtFinSF1</td>\n",
       "    </tr>\n",
       "    <tr>\n",
       "      <th>67</th>\n",
       "      <td>3607.162689</td>\n",
       "      <td>-3607.162689</td>\n",
       "      <td>BsmtQual_Nil</td>\n",
       "    </tr>\n",
       "    <tr>\n",
       "      <th>1</th>\n",
       "      <td>3512.206780</td>\n",
       "      <td>3512.206780</td>\n",
       "      <td>BsmtFullBath</td>\n",
       "    </tr>\n",
       "    <tr>\n",
       "      <th>11</th>\n",
       "      <td>3475.353879</td>\n",
       "      <td>3475.353879</td>\n",
       "      <td>FullBath</td>\n",
       "    </tr>\n",
       "    <tr>\n",
       "      <th>26</th>\n",
       "      <td>3344.615919</td>\n",
       "      <td>3344.615919</td>\n",
       "      <td>ScreenPorch</td>\n",
       "    </tr>\n",
       "    <tr>\n",
       "      <th>64</th>\n",
       "      <td>3244.948000</td>\n",
       "      <td>-3244.948000</td>\n",
       "      <td>BldgType_TwnhsE</td>\n",
       "    </tr>\n",
       "    <tr>\n",
       "      <th>111</th>\n",
       "      <td>2982.276526</td>\n",
       "      <td>-2982.276526</td>\n",
       "      <td>LotShape_IR3</td>\n",
       "    </tr>\n",
       "    <tr>\n",
       "      <th>27</th>\n",
       "      <td>2866.341818</td>\n",
       "      <td>-2866.341818</td>\n",
       "      <td>MSSubClass_160</td>\n",
       "    </tr>\n",
       "    <tr>\n",
       "      <th>98</th>\n",
       "      <td>2846.731779</td>\n",
       "      <td>2846.731779</td>\n",
       "      <td>Neighborhood_Veenker</td>\n",
       "    </tr>\n",
       "    <tr>\n",
       "      <th>30</th>\n",
       "      <td>2730.079691</td>\n",
       "      <td>2730.079691</td>\n",
       "      <td>MSSubClass_20</td>\n",
       "    </tr>\n",
       "    <tr>\n",
       "      <th>63</th>\n",
       "      <td>2680.744598</td>\n",
       "      <td>-2680.744598</td>\n",
       "      <td>BldgType_Twnhs</td>\n",
       "    </tr>\n",
       "    <tr>\n",
       "      <th>85</th>\n",
       "      <td>2566.153113</td>\n",
       "      <td>-2566.153113</td>\n",
       "      <td>Neighborhood_Mitchel</td>\n",
       "    </tr>\n",
       "    <tr>\n",
       "      <th>...</th>\n",
       "      <td>...</td>\n",
       "      <td>...</td>\n",
       "      <td>...</td>\n",
       "    </tr>\n",
       "    <tr>\n",
       "      <th>28</th>\n",
       "      <td>0.000000</td>\n",
       "      <td>0.000000</td>\n",
       "      <td>MSSubClass_180</td>\n",
       "    </tr>\n",
       "    <tr>\n",
       "      <th>24</th>\n",
       "      <td>0.000000</td>\n",
       "      <td>-0.000000</td>\n",
       "      <td>EnclosedPorch</td>\n",
       "    </tr>\n",
       "    <tr>\n",
       "      <th>19</th>\n",
       "      <td>0.000000</td>\n",
       "      <td>0.000000</td>\n",
       "      <td>BsmtFinSF2</td>\n",
       "    </tr>\n",
       "    <tr>\n",
       "      <th>14</th>\n",
       "      <td>0.000000</td>\n",
       "      <td>-0.000000</td>\n",
       "      <td>MiscVal</td>\n",
       "    </tr>\n",
       "    <tr>\n",
       "      <th>13</th>\n",
       "      <td>0.000000</td>\n",
       "      <td>0.000000</td>\n",
       "      <td>GarageArea</td>\n",
       "    </tr>\n",
       "    <tr>\n",
       "      <th>10</th>\n",
       "      <td>0.000000</td>\n",
       "      <td>0.000000</td>\n",
       "      <td>1stFlrSF</td>\n",
       "    </tr>\n",
       "    <tr>\n",
       "      <th>8</th>\n",
       "      <td>0.000000</td>\n",
       "      <td>0.000000</td>\n",
       "      <td>2ndFlrSF</td>\n",
       "    </tr>\n",
       "    <tr>\n",
       "      <th>4</th>\n",
       "      <td>0.000000</td>\n",
       "      <td>-0.000000</td>\n",
       "      <td>LotFrontage</td>\n",
       "    </tr>\n",
       "    <tr>\n",
       "      <th>3</th>\n",
       "      <td>0.000000</td>\n",
       "      <td>-0.000000</td>\n",
       "      <td>PoolArea</td>\n",
       "    </tr>\n",
       "    <tr>\n",
       "      <th>39</th>\n",
       "      <td>0.000000</td>\n",
       "      <td>0.000000</td>\n",
       "      <td>MSSubClass_85</td>\n",
       "    </tr>\n",
       "    <tr>\n",
       "      <th>40</th>\n",
       "      <td>0.000000</td>\n",
       "      <td>-0.000000</td>\n",
       "      <td>MSSubClass_90</td>\n",
       "    </tr>\n",
       "    <tr>\n",
       "      <th>45</th>\n",
       "      <td>0.000000</td>\n",
       "      <td>0.000000</td>\n",
       "      <td>LotConfig_Inside</td>\n",
       "    </tr>\n",
       "    <tr>\n",
       "      <th>59</th>\n",
       "      <td>0.000000</td>\n",
       "      <td>0.000000</td>\n",
       "      <td>MSZoning_RL</td>\n",
       "    </tr>\n",
       "    <tr>\n",
       "      <th>83</th>\n",
       "      <td>0.000000</td>\n",
       "      <td>-0.000000</td>\n",
       "      <td>Neighborhood_IDOTRR</td>\n",
       "    </tr>\n",
       "    <tr>\n",
       "      <th>78</th>\n",
       "      <td>0.000000</td>\n",
       "      <td>-0.000000</td>\n",
       "      <td>Neighborhood_ClearCr</td>\n",
       "    </tr>\n",
       "    <tr>\n",
       "      <th>76</th>\n",
       "      <td>0.000000</td>\n",
       "      <td>0.000000</td>\n",
       "      <td>Neighborhood_BrDale</td>\n",
       "    </tr>\n",
       "    <tr>\n",
       "      <th>75</th>\n",
       "      <td>0.000000</td>\n",
       "      <td>0.000000</td>\n",
       "      <td>Neighborhood_Blueste</td>\n",
       "    </tr>\n",
       "    <tr>\n",
       "      <th>70</th>\n",
       "      <td>0.000000</td>\n",
       "      <td>0.000000</td>\n",
       "      <td>GarageType_Basment</td>\n",
       "    </tr>\n",
       "    <tr>\n",
       "      <th>62</th>\n",
       "      <td>0.000000</td>\n",
       "      <td>-0.000000</td>\n",
       "      <td>BldgType_Duplex</td>\n",
       "    </tr>\n",
       "    <tr>\n",
       "      <th>61</th>\n",
       "      <td>0.000000</td>\n",
       "      <td>-0.000000</td>\n",
       "      <td>BldgType_2fmCon</td>\n",
       "    </tr>\n",
       "    <tr>\n",
       "      <th>58</th>\n",
       "      <td>0.000000</td>\n",
       "      <td>-0.000000</td>\n",
       "      <td>MSZoning_RH</td>\n",
       "    </tr>\n",
       "    <tr>\n",
       "      <th>46</th>\n",
       "      <td>0.000000</td>\n",
       "      <td>-0.000000</td>\n",
       "      <td>Condition2_Feedr</td>\n",
       "    </tr>\n",
       "    <tr>\n",
       "      <th>57</th>\n",
       "      <td>0.000000</td>\n",
       "      <td>-0.000000</td>\n",
       "      <td>Foundation_Wood</td>\n",
       "    </tr>\n",
       "    <tr>\n",
       "      <th>56</th>\n",
       "      <td>0.000000</td>\n",
       "      <td>0.000000</td>\n",
       "      <td>Foundation_Stone</td>\n",
       "    </tr>\n",
       "    <tr>\n",
       "      <th>53</th>\n",
       "      <td>0.000000</td>\n",
       "      <td>-0.000000</td>\n",
       "      <td>Foundation_CBlock</td>\n",
       "    </tr>\n",
       "    <tr>\n",
       "      <th>52</th>\n",
       "      <td>0.000000</td>\n",
       "      <td>0.000000</td>\n",
       "      <td>Condition2_RRNn</td>\n",
       "    </tr>\n",
       "    <tr>\n",
       "      <th>51</th>\n",
       "      <td>0.000000</td>\n",
       "      <td>-0.000000</td>\n",
       "      <td>Condition2_RRAn</td>\n",
       "    </tr>\n",
       "    <tr>\n",
       "      <th>50</th>\n",
       "      <td>0.000000</td>\n",
       "      <td>-0.000000</td>\n",
       "      <td>Condition2_RRAe</td>\n",
       "    </tr>\n",
       "    <tr>\n",
       "      <th>47</th>\n",
       "      <td>0.000000</td>\n",
       "      <td>0.000000</td>\n",
       "      <td>Condition2_Norm</td>\n",
       "    </tr>\n",
       "    <tr>\n",
       "      <th>137</th>\n",
       "      <td>0.000000</td>\n",
       "      <td>-0.000000</td>\n",
       "      <td>RoofStyle_Shed</td>\n",
       "    </tr>\n",
       "  </tbody>\n",
       "</table>\n",
       "<p>138 rows × 3 columns</p>\n",
       "</div>"
      ],
      "text/plain": [
       "         abs_coef          coef                   var\n",
       "12   30281.260971  30281.260971             GrLivArea\n",
       "66   14462.122345 -14462.122345           BsmtQual_Gd\n",
       "68   13829.960867 -13829.960867           BsmtQual_TA\n",
       "90   11316.237358  11316.237358  Neighborhood_NridgHt\n",
       "16    9498.461252   9498.461252            GarageCars\n",
       "89    8773.707858   8773.707858  Neighborhood_NoRidge\n",
       "20    7535.551027  -7535.551027             house_age\n",
       "96    7196.629578   7196.629578  Neighborhood_StoneBr\n",
       "21    7059.690546   7059.690546          YearRemodAdd\n",
       "7     5879.207779  -5879.207779          KitchenAbvGr\n",
       "5     5088.619115   5088.619115           TotalBsmtSF\n",
       "49    5055.019805  -5055.019805       Condition2_PosN\n",
       "95    4942.476878   4942.476878  Neighborhood_Somerst\n",
       "15    4504.178081   4504.178081               LotArea\n",
       "80    4087.062365   4087.062365  Neighborhood_Crawfor\n",
       "65    4075.828043  -4075.828043           BsmtQual_Fa\n",
       "81    3776.640471  -3776.640471  Neighborhood_Edwards\n",
       "2     3650.364902  -3650.364902          BedroomAbvGr\n",
       "18    3635.468099   3635.468099            BsmtFinSF1\n",
       "67    3607.162689  -3607.162689          BsmtQual_Nil\n",
       "1     3512.206780   3512.206780          BsmtFullBath\n",
       "11    3475.353879   3475.353879              FullBath\n",
       "26    3344.615919   3344.615919           ScreenPorch\n",
       "64    3244.948000  -3244.948000       BldgType_TwnhsE\n",
       "111   2982.276526  -2982.276526          LotShape_IR3\n",
       "27    2866.341818  -2866.341818        MSSubClass_160\n",
       "98    2846.731779   2846.731779  Neighborhood_Veenker\n",
       "30    2730.079691   2730.079691         MSSubClass_20\n",
       "63    2680.744598  -2680.744598        BldgType_Twnhs\n",
       "85    2566.153113  -2566.153113  Neighborhood_Mitchel\n",
       "..            ...           ...                   ...\n",
       "28       0.000000      0.000000        MSSubClass_180\n",
       "24       0.000000     -0.000000         EnclosedPorch\n",
       "19       0.000000      0.000000            BsmtFinSF2\n",
       "14       0.000000     -0.000000               MiscVal\n",
       "13       0.000000      0.000000            GarageArea\n",
       "10       0.000000      0.000000              1stFlrSF\n",
       "8        0.000000      0.000000              2ndFlrSF\n",
       "4        0.000000     -0.000000           LotFrontage\n",
       "3        0.000000     -0.000000              PoolArea\n",
       "39       0.000000      0.000000         MSSubClass_85\n",
       "40       0.000000     -0.000000         MSSubClass_90\n",
       "45       0.000000      0.000000      LotConfig_Inside\n",
       "59       0.000000      0.000000           MSZoning_RL\n",
       "83       0.000000     -0.000000   Neighborhood_IDOTRR\n",
       "78       0.000000     -0.000000  Neighborhood_ClearCr\n",
       "76       0.000000      0.000000   Neighborhood_BrDale\n",
       "75       0.000000      0.000000  Neighborhood_Blueste\n",
       "70       0.000000      0.000000    GarageType_Basment\n",
       "62       0.000000     -0.000000       BldgType_Duplex\n",
       "61       0.000000     -0.000000       BldgType_2fmCon\n",
       "58       0.000000     -0.000000           MSZoning_RH\n",
       "46       0.000000     -0.000000      Condition2_Feedr\n",
       "57       0.000000     -0.000000       Foundation_Wood\n",
       "56       0.000000      0.000000      Foundation_Stone\n",
       "53       0.000000     -0.000000     Foundation_CBlock\n",
       "52       0.000000      0.000000       Condition2_RRNn\n",
       "51       0.000000     -0.000000       Condition2_RRAn\n",
       "50       0.000000     -0.000000       Condition2_RRAe\n",
       "47       0.000000      0.000000       Condition2_Norm\n",
       "137      0.000000     -0.000000        RoofStyle_Shed\n",
       "\n",
       "[138 rows x 3 columns]"
      ]
     },
     "execution_count": 30,
     "metadata": {},
     "output_type": "execute_result"
    }
   ],
   "source": [
    "#Lasso feature selection/variable selection alternative with house_age\n",
    "\n",
    "lasso = lasso.fit(Xs_train, y_train)\n",
    "lasso_coefs = pd.DataFrame({'var': X_train.columns,\n",
    "                          'coef':lasso.coef_,\n",
    "                          'abs_coef':np.abs(lasso.coef_)})\n",
    "lasso_coefs.sort_values('abs_coef', ascending=False)"
   ]
  },
  {
   "cell_type": "code",
   "execution_count": 31,
   "metadata": {},
   "outputs": [
    {
     "data": {
      "text/plain": [
       "77"
      ]
     },
     "execution_count": 31,
     "metadata": {},
     "output_type": "execute_result"
    }
   ],
   "source": [
    "# pull out cols for lasso\n",
    "\n",
    "lasso_columns = list(lasso_coefs[lasso_coefs.abs_coef > 0]['var'])\n",
    "len(lasso_columns)"
   ]
  },
  {
   "cell_type": "markdown",
   "metadata": {},
   "source": [
    "### RFECV Feature Selection"
   ]
  },
  {
   "cell_type": "code",
   "execution_count": 32,
   "metadata": {},
   "outputs": [],
   "source": [
    "# RFECV feature selection\n",
    "\n",
    "from sklearn.feature_selection import RFECV\n",
    "\n",
    "\n",
    "selector = RFECV(lm, step=1, cv=10)\n",
    "selector = selector.fit(Xs_train, y_train)\n",
    "\n",
    "\n",
    "# print selector.support_\n",
    "# print selector.ranking_"
   ]
  },
  {
   "cell_type": "code",
   "execution_count": 33,
   "metadata": {
    "scrolled": false
   },
   "outputs": [
    {
     "data": {
      "text/plain": [
       "array(['BsmtFullBath', 'BedroomAbvGr', 'KitchenAbvGr', 'FullBath',\n",
       "       'GrLivArea', 'LotArea', 'GarageCars', 'MasVnrArea', 'BsmtFinSF1',\n",
       "       'house_age', 'YearRemodAdd', 'ScreenPorch', 'Condition2_PosN',\n",
       "       'BldgType_Twnhs', 'BldgType_TwnhsE', 'BsmtQual_Fa', 'BsmtQual_Gd',\n",
       "       'BsmtQual_Nil', 'BsmtQual_TA', 'GarageType_Attchd',\n",
       "       'GarageType_Basment', 'GarageType_BuiltIn', 'GarageType_Detchd',\n",
       "       'GarageType_Nil', 'Neighborhood_CollgCr', 'Neighborhood_Edwards',\n",
       "       'Neighborhood_Gilbert', 'Neighborhood_Mitchel',\n",
       "       'Neighborhood_NAmes', 'Neighborhood_NWAmes',\n",
       "       'Neighborhood_NoRidge', 'Neighborhood_NridgHt',\n",
       "       'Neighborhood_OldTown', 'Neighborhood_SWISU',\n",
       "       'Neighborhood_Sawyer', 'Neighborhood_StoneBr', 'HouseStyle_1Story',\n",
       "       'LotShape_IR3', 'MasVnrType_BrkFace', 'MasVnrType_None',\n",
       "       'MasVnrType_Stone'], dtype='|S20')"
      ]
     },
     "execution_count": 33,
     "metadata": {},
     "output_type": "execute_result"
    }
   ],
   "source": [
    "rfecv_columns = np.array(cols)[selector.support_]\n",
    "rfecv_columns"
   ]
  },
  {
   "cell_type": "markdown",
   "metadata": {},
   "source": [
    "### K Best Feature Selection"
   ]
  },
  {
   "cell_type": "code",
   "execution_count": 34,
   "metadata": {
    "scrolled": false
   },
   "outputs": [
    {
     "data": {
      "text/html": [
       "<div>\n",
       "<style scoped>\n",
       "    .dataframe tbody tr th:only-of-type {\n",
       "        vertical-align: middle;\n",
       "    }\n",
       "\n",
       "    .dataframe tbody tr th {\n",
       "        vertical-align: top;\n",
       "    }\n",
       "\n",
       "    .dataframe thead th {\n",
       "        text-align: right;\n",
       "    }\n",
       "</style>\n",
       "<table border=\"1\" class=\"dataframe\">\n",
       "  <thead>\n",
       "    <tr style=\"text-align: right;\">\n",
       "      <th></th>\n",
       "      <th>feature</th>\n",
       "      <th>f_regression</th>\n",
       "    </tr>\n",
       "  </thead>\n",
       "  <tbody>\n",
       "    <tr>\n",
       "      <th>12</th>\n",
       "      <td>GrLivArea</td>\n",
       "      <td>1284</td>\n",
       "    </tr>\n",
       "    <tr>\n",
       "      <th>16</th>\n",
       "      <td>GarageCars</td>\n",
       "      <td>894.937</td>\n",
       "    </tr>\n",
       "    <tr>\n",
       "      <th>13</th>\n",
       "      <td>GarageArea</td>\n",
       "      <td>844.791</td>\n",
       "    </tr>\n",
       "    <tr>\n",
       "      <th>5</th>\n",
       "      <td>TotalBsmtSF</td>\n",
       "      <td>731.737</td>\n",
       "    </tr>\n",
       "    <tr>\n",
       "      <th>10</th>\n",
       "      <td>1stFlrSF</td>\n",
       "      <td>711.931</td>\n",
       "    </tr>\n",
       "    <tr>\n",
       "      <th>11</th>\n",
       "      <td>FullBath</td>\n",
       "      <td>590.937</td>\n",
       "    </tr>\n",
       "    <tr>\n",
       "      <th>9</th>\n",
       "      <td>TotRmsAbvGrd</td>\n",
       "      <td>495.105</td>\n",
       "    </tr>\n",
       "    <tr>\n",
       "      <th>20</th>\n",
       "      <td>house_age</td>\n",
       "      <td>454.294</td>\n",
       "    </tr>\n",
       "    <tr>\n",
       "      <th>21</th>\n",
       "      <td>YearRemodAdd</td>\n",
       "      <td>438.748</td>\n",
       "    </tr>\n",
       "    <tr>\n",
       "      <th>54</th>\n",
       "      <td>Foundation_PConc</td>\n",
       "      <td>387.207</td>\n",
       "    </tr>\n",
       "  </tbody>\n",
       "</table>\n",
       "</div>"
      ],
      "text/plain": [
       "             feature f_regression\n",
       "12         GrLivArea         1284\n",
       "16        GarageCars      894.937\n",
       "13        GarageArea      844.791\n",
       "5        TotalBsmtSF      731.737\n",
       "10          1stFlrSF      711.931\n",
       "11          FullBath      590.937\n",
       "9       TotRmsAbvGrd      495.105\n",
       "20         house_age      454.294\n",
       "21      YearRemodAdd      438.748\n",
       "54  Foundation_PConc      387.207"
      ]
     },
     "execution_count": 34,
     "metadata": {},
     "output_type": "execute_result"
    }
   ],
   "source": [
    "# select k best feature\n",
    "\n",
    "from sklearn.feature_selection import SelectKBest, f_regression\n",
    "\n",
    "# Build the selector — we'll build one with each score type.\n",
    "skb_f = SelectKBest(f_regression, k=10)\n",
    "\n",
    "# Train the selector on the data.\n",
    "skb_f.fit(Xs_train, y_train)\n",
    "\n",
    "# Examine the results.\n",
    "kbest = pd.DataFrame([cols, list(skb_f.scores_)], \n",
    "                     index=['feature','f_regression']).T.sort_values('f_regression', ascending=False)\n",
    "\n",
    "kbest.head(10)"
   ]
  },
  {
   "cell_type": "code",
   "execution_count": 35,
   "metadata": {},
   "outputs": [
    {
     "data": {
      "text/plain": [
       "array(['GrLivArea', 'GarageCars', 'GarageArea', 'TotalBsmtSF', '1stFlrSF',\n",
       "       'FullBath', 'TotRmsAbvGrd', 'house_age', 'YearRemodAdd',\n",
       "       'Foundation_PConc', 'MasVnrArea', 'BsmtQual_TA',\n",
       "       'Neighborhood_NridgHt', 'MSSubClass_60', 'MasVnrType_None',\n",
       "       'BsmtFinSF1', 'GarageType_Detchd', 'Neighborhood_NoRidge',\n",
       "       'MasVnrType_Stone', 'OpenPorchSF', 'WoodDeckSF',\n",
       "       'GarageType_Attchd', 'Foundation_CBlock', '2ndFlrSF',\n",
       "       'MSZoning_RM'], dtype=object)"
      ]
     },
     "execution_count": 35,
     "metadata": {},
     "output_type": "execute_result"
    }
   ],
   "source": [
    "kbest_columns = kbest.feature.values[:25]\n",
    "kbest_columns"
   ]
  },
  {
   "cell_type": "code",
   "execution_count": 39,
   "metadata": {
    "scrolled": true
   },
   "outputs": [
    {
     "name": "stdout",
     "output_type": "stream",
     "text": [
      "Mean rfecv:  0.7956156776128195\n",
      "Std rfecv:  0.09741179501515586 \n",
      "\n",
      "Mean kbest:  0.7452890744290503\n",
      "Std kbest:  0.12674513469037527 \n",
      "\n",
      "Mean Lasso:  0.7903113859422126\n",
      "Std Lasso:  0.11759971424693416 \n",
      "\n"
     ]
    }
   ],
   "source": [
    "# selecting the best model / features\n",
    "\n",
    "rfecv_scores = cross_val_score(lm, Xs_train[rfecv_columns], y_train, cv=10)\n",
    "print 'Mean rfecv: ', np.mean(rfecv_scores)\n",
    "print 'Std rfecv: ', np.std(rfecv_scores),'\\n'\n",
    "\n",
    "kbest_scores = cross_val_score(lm, Xs_train[kbest_columns], y_train, cv=10)\n",
    "print 'Mean kbest: ', np.mean(kbest_scores)\n",
    "print 'Std kbest: ', np.std(kbest_scores),'\\n'\n",
    "\n",
    "print 'Mean Lasso: ', np.mean(lasso_scores)\n",
    "print 'Std Lasso: ', np.std(lasso_scores),'\\n'"
   ]
  },
  {
   "cell_type": "code",
   "execution_count": 40,
   "metadata": {},
   "outputs": [
    {
     "data": {
      "text/plain": [
       "0.8684467531343133"
      ]
     },
     "execution_count": 40,
     "metadata": {},
     "output_type": "execute_result"
    }
   ],
   "source": [
    "# lin reg with rfecv due to best score\n",
    "\n",
    "model_rfecv = lm.fit(Xs_train[rfecv_columns], y_train)\n",
    "X_test_rfecv = Xs_test[rfecv_columns]\n",
    "\n",
    "# print X_test_rfe.shape\n",
    "\n",
    "# prediction_lasso = lm.predict(X_test_lasso)\n",
    "\n",
    "prediction_rfecv = model_rfecv.predict(Xs_test[rfecv_columns])\n",
    "\n",
    "# score for model\n",
    "\n",
    "from sklearn.metrics import r2_score\n",
    "\n",
    "score_rfecv = r2_score(y_test, prediction_rfecv)\n",
    "score_rfecv"
   ]
  },
  {
   "cell_type": "code",
   "execution_count": 41,
   "metadata": {},
   "outputs": [
    {
     "data": {
      "text/plain": [
       "0.8684467531343133"
      ]
     },
     "execution_count": 41,
     "metadata": {},
     "output_type": "execute_result"
    }
   ],
   "source": [
    "# lin reg with rfecv due to best score\n",
    "\n",
    "model_rfecv = lm.fit(Xs_train[rfecv_columns], y_train)\n",
    "X_test_rfecv = Xs_test[rfecv_columns]\n",
    "\n",
    "# print X_test_rfe.shape\n",
    "\n",
    "# prediction_lasso = lm.predict(X_test_lasso)\n",
    "\n",
    "prediction_rfecv = model_rfecv.predict(Xs_test[rfecv_columns])\n",
    "\n",
    "# score for model\n",
    "\n",
    "from sklearn.metrics import r2_score\n",
    "\n",
    "score_rfecv = r2_score(y_test, prediction_rfecv)\n",
    "score_rfecv"
   ]
  },
  {
   "cell_type": "markdown",
   "metadata": {},
   "source": [
    "<img src=\"http://imgur.com/l5NasQj.png\" style=\"float: left; margin: 25px 15px 0px 0px; height: 25px\">\n",
    "\n",
    "## 2. Determine any value of *changeable* property characteristics unexplained by the *fixed* ones.\n",
    "\n",
    "---\n",
    "\n",
    "Now that you have a model that estimates the price of a house based on its static characteristics, we can move forward with part 2 and 3 of the plan: what are the costs/benefits of quality, condition, and renovations?\n",
    "\n",
    "There are two specific requirements for these estimates:\n",
    "1. The estimates of effects must be in terms of dollars added or subtracted from the house value. \n",
    "2. The effects must be on the variance in price remaining from the first model.\n",
    "\n",
    "The residuals from the first model (training and testing) represent the variance in price unexplained by the fixed characteristics. Of that variance in price remaining, how much of it can be explained by the easy-to-change aspects of the property?\n",
    "\n",
    "---\n",
    "\n",
    "**Your goals:**\n",
    "1. Evaluate the effect in dollars of the renovate-able features. \n",
    "- How would your company use this second model and its coefficients to determine whether they should buy a property or not? Explain how the company can use the two models you have built to determine if they can make money. \n",
    "- Investigate how much of the variance in price remaining is explained by these features.\n",
    "- Do you trust your model? Should it be used to evaluate which properties to buy and fix up?"
   ]
  },
  {
   "cell_type": "code",
   "execution_count": 42,
   "metadata": {},
   "outputs": [
    {
     "data": {
      "text/plain": [
       "array(['YearBuilt', 'BsmtUnfSF', 'LowQualFinSF', 'MoSold', 'YrSold',\n",
       "       'SalePrice', 'RoofMatl', 'Exterior1st', 'Exterior2nd', 'ExterQual',\n",
       "       'ExterCond', 'BsmtCond', 'BsmtExposure', 'BsmtFinType1',\n",
       "       'BsmtFinType2', 'Heating', 'HeatingQC', 'CentralAir', 'Electrical',\n",
       "       'KitchenQual', 'Functional', 'FireplaceQu', 'GarageFinish',\n",
       "       'GarageQual', 'GarageCond', 'PavedDrive', 'PoolQC', 'Fence',\n",
       "       'SaleType', 'SaleCondition', 'OverallQual', 'OverallCond',\n",
       "       'Fireplaces'], dtype=object)"
      ]
     },
     "execution_count": 42,
     "metadata": {},
     "output_type": "execute_result"
    }
   ],
   "source": [
    "# A:\n",
    "non_fixed_feat = house_clean.drop(fixed_feat, axis=1)\n",
    "non_fixed_feat.columns.values"
   ]
  },
  {
   "cell_type": "code",
   "execution_count": 43,
   "metadata": {},
   "outputs": [],
   "source": [
    "# to filter out the ord categorical features\n",
    "\n",
    "def change_to_string(col):\n",
    "    non_fixed_feat[col] = non_fixed_feat[col].apply(lambda x: str(x))                                         \n",
    "\n",
    "# non_fixed_ord_feat = [str(row) if row in house_ord.columns.values else row for row in non_fixed_feat.columns.values]\n",
    "# type(non_fixed_ord_feat)\n"
   ]
  },
  {
   "cell_type": "code",
   "execution_count": 44,
   "metadata": {},
   "outputs": [
    {
     "name": "stdout",
     "output_type": "stream",
     "text": [
      "<class 'pandas.core.frame.DataFrame'>\n",
      "Int64Index: 1450 entries, 0 to 1459\n",
      "Data columns (total 33 columns):\n",
      "YearBuilt        1450 non-null int64\n",
      "BsmtUnfSF        1450 non-null int64\n",
      "LowQualFinSF     1450 non-null int64\n",
      "MoSold           1450 non-null int64\n",
      "YrSold           1450 non-null int64\n",
      "SalePrice        1450 non-null int64\n",
      "RoofMatl         1450 non-null object\n",
      "Exterior1st      1450 non-null object\n",
      "Exterior2nd      1450 non-null object\n",
      "ExterQual        1450 non-null object\n",
      "ExterCond        1450 non-null object\n",
      "BsmtCond         1450 non-null object\n",
      "BsmtExposure     1450 non-null object\n",
      "BsmtFinType1     1450 non-null object\n",
      "BsmtFinType2     1450 non-null object\n",
      "Heating          1450 non-null object\n",
      "HeatingQC        1450 non-null object\n",
      "CentralAir       1450 non-null object\n",
      "Electrical       1450 non-null object\n",
      "KitchenQual      1450 non-null object\n",
      "Functional       1450 non-null object\n",
      "FireplaceQu      1450 non-null object\n",
      "GarageFinish     1450 non-null object\n",
      "GarageQual       1450 non-null object\n",
      "GarageCond       1450 non-null object\n",
      "PavedDrive       1450 non-null object\n",
      "PoolQC           1450 non-null object\n",
      "Fence            1450 non-null object\n",
      "SaleType         1450 non-null object\n",
      "SaleCondition    1450 non-null object\n",
      "OverallQual      1450 non-null object\n",
      "OverallCond      1450 non-null object\n",
      "Fireplaces       1450 non-null object\n",
      "dtypes: int64(6), object(27)\n",
      "memory usage: 385.2+ KB\n"
     ]
    }
   ],
   "source": [
    "change_to_string('OverallQual')\n",
    "change_to_string('OverallCond')\n",
    "change_to_string('Fireplaces')\n",
    "non_fixed_feat.info()"
   ]
  },
  {
   "cell_type": "code",
   "execution_count": 45,
   "metadata": {
    "scrolled": true
   },
   "outputs": [
    {
     "data": {
      "text/plain": [
       "array(['BsmtUnfSF', 'LowQualFinSF', 'MoSold', 'YrSold', 'SalePrice',\n",
       "       'RoofMatl', 'Exterior1st', 'Exterior2nd', 'ExterQual', 'ExterCond',\n",
       "       'BsmtCond', 'BsmtExposure', 'BsmtFinType1', 'BsmtFinType2',\n",
       "       'Heating', 'HeatingQC', 'CentralAir', 'Electrical', 'KitchenQual',\n",
       "       'Functional', 'FireplaceQu', 'GarageFinish', 'GarageQual',\n",
       "       'GarageCond', 'PavedDrive', 'PoolQC', 'Fence', 'SaleType',\n",
       "       'SaleCondition', 'OverallQual', 'OverallCond', 'Fireplaces'],\n",
       "      dtype=object)"
      ]
     },
     "execution_count": 45,
     "metadata": {},
     "output_type": "execute_result"
    }
   ],
   "source": [
    "# ok saleprice in\n",
    "# to remove from renovate-able columns: '2ndFlrSF', 'MoSold', 'SaleType', 'TotRmsAbvGrd', 'GarageCars'\n",
    "\n",
    "non_fixed_feat.drop('YearBuilt', axis=1, inplace=True)\n",
    "\n",
    "# non_fixed_feat.drop(['2ndFlrSF', 'MoSold', 'SaleType', 'TotRmsAbvGrd', 'GarageCars', 'BsmtUnfSF', \n",
    "#                      'YearBuilt', 'YearRemodAdd', 'SaleCondition'], axis=1, inplace=True)\n",
    "non_fixed_feat.columns.values"
   ]
  },
  {
   "cell_type": "code",
   "execution_count": 46,
   "metadata": {},
   "outputs": [
    {
     "data": {
      "text/plain": [
       "(1450, 152)"
      ]
     },
     "execution_count": 46,
     "metadata": {},
     "output_type": "execute_result"
    }
   ],
   "source": [
    "non_fixed_feat_dummy = pd.get_dummies(non_fixed_feat, drop_first=True)\n",
    "non_fixed_feat_dummy.shape"
   ]
  },
  {
   "cell_type": "code",
   "execution_count": 47,
   "metadata": {
    "scrolled": false
   },
   "outputs": [
    {
     "name": "stdout",
     "output_type": "stream",
     "text": [
      "<class 'pandas.core.frame.DataFrame'>\n",
      "Int64Index: 1450 entries, 0 to 1459\n",
      "Columns: 152 entries, BsmtUnfSF to Fireplaces_3\n",
      "dtypes: int64(5), uint8(147)\n",
      "memory usage: 276.1 KB\n"
     ]
    }
   ],
   "source": [
    "non_fixed_feat_dummy.info()\n",
    "# LowQualFinSF, OverallQual, OverallCond\n",
    "# dropping SalePrice and YrSold later\n",
    "\n",
    "# get_dummies for these and concat later to the list"
   ]
  },
  {
   "cell_type": "code",
   "execution_count": 48,
   "metadata": {},
   "outputs": [
    {
     "name": "stdout",
     "output_type": "stream",
     "text": [
      "(1278, 152)\n",
      "(172, 152)\n"
     ]
    }
   ],
   "source": [
    "# splitting to train and test set for non-fixed feature\n",
    "\n",
    "house_Yrb4_2010_1 = non_fixed_feat_dummy[non_fixed_feat_dummy['YrSold'] < 2010]\n",
    "house_Yr_2010_1 = non_fixed_feat_dummy[non_fixed_feat_dummy['YrSold'] == 2010]\n",
    "\n",
    "print house_Yrb4_2010_1.shape\n",
    "print house_Yr_2010_1.shape"
   ]
  },
  {
   "cell_type": "code",
   "execution_count": 49,
   "metadata": {
    "scrolled": true
   },
   "outputs": [
    {
     "name": "stdout",
     "output_type": "stream",
     "text": [
      "(1278, 150)\n",
      "(1278L,)\n",
      "(172, 150)\n",
      "(172L,)\n"
     ]
    }
   ],
   "source": [
    "# splitting to train and test set for non-fixed feature\n",
    "\n",
    "\n",
    "y_train1 = house_Yrb4_2010_1['SalePrice']\n",
    "X_train1 = house_Yrb4_2010_1[house_Yrb4_2010_1['YrSold'] < 2010].drop(['YrSold', 'SalePrice'], axis=1)\n",
    "\n",
    "y_test1 = house_Yr_2010_1['SalePrice']\n",
    "X_test1 = house_Yr_2010_1[house_Yr_2010_1['YrSold'] == 2010].drop(['YrSold', 'SalePrice'], axis=1)\n",
    "\n",
    "cols_nf = list(X_train1.columns)\n",
    "\n",
    "print X_train1.shape\n",
    "print y_train1.shape\n",
    "print X_test1.shape\n",
    "print y_test1.shape"
   ]
  },
  {
   "cell_type": "code",
   "execution_count": 50,
   "metadata": {},
   "outputs": [],
   "source": [
    "# scaling the train and test set\n",
    "\n",
    "Xs_train1 = pd.DataFrame(ss.fit_transform(X_train1), columns=X_train1.columns.values)\n",
    "Xs_test1 = pd.DataFrame(ss.fit_transform(X_test1), columns=X_train1.columns.values)\n",
    "\n",
    "# Xs_train1 = pd.DataFrame(mm.fit_transform(X_train1), columns=X_train1.columns.values)\n",
    "# Xs_test1 = pd.DataFrame(mm.fit_transform(X_test1), columns=X_train1.columns.values)"
   ]
  },
  {
   "cell_type": "markdown",
   "metadata": {},
   "source": [
    "## 2.1"
   ]
  },
  {
   "cell_type": "code",
   "execution_count": 66,
   "metadata": {
    "scrolled": true
   },
   "outputs": [
    {
     "name": "stdout",
     "output_type": "stream",
     "text": [
      " 0.8073753616402863\n",
      "181991.13001452317\n"
     ]
    }
   ],
   "source": [
    "# res -> residual\n",
    "# scoring for non-fixed features for lin reg (baseline)\n",
    "\n",
    "lm = LinearRegression()\n",
    "model_nf = lm.fit(Xs_train1, y_train1)\n",
    "\n",
    "print lm.score(Xs_train1, y_train1)\n",
    "print model_nf.intercept_"
   ]
  },
  {
   "cell_type": "markdown",
   "metadata": {},
   "source": [
    "### Lasso "
   ]
  },
  {
   "cell_type": "code",
   "execution_count": 52,
   "metadata": {},
   "outputs": [
    {
     "name": "stdout",
     "output_type": "stream",
     "text": [
      "Optimal Lasso Alpha for non-fixed features:  1452.781268178824 \n",
      "\n",
      "lasso scores for non-fixed features: [0.77521579 0.78475717 0.8145225  0.68301079 0.72929349 0.71989308\n",
      " 0.73158417 0.73582177 0.66070988 0.71136341] \n",
      "\n",
      "Mean lasso scores for non-fixed features: 0.7346172051954626\n"
     ]
    }
   ],
   "source": [
    "# lasso feature selection\n",
    "\n",
    "\n",
    "optimal_lasso_nf = LassoCV(n_alphas=500, cv=10)\n",
    "optimal_lasso_nf.fit(Xs_train1, y_train1)\n",
    "\n",
    "print 'Optimal Lasso Alpha for non-fixed features: ', optimal_lasso_nf.alpha_, '\\n'\n",
    "\n",
    "lasso_nf = Lasso(alpha=optimal_lasso_nf.alpha_)\n",
    "\n",
    "lasso_scores_nf = cross_val_score(lasso_nf, Xs_train1, y_train1, cv=10)\n",
    "\n",
    "print 'lasso scores for non-fixed features:', lasso_scores_nf, '\\n'\n",
    "print 'Mean lasso scores for non-fixed features:', np.mean(lasso_scores_nf)"
   ]
  },
  {
   "cell_type": "code",
   "execution_count": 53,
   "metadata": {},
   "outputs": [
    {
     "data": {
      "text/html": [
       "<div>\n",
       "<style scoped>\n",
       "    .dataframe tbody tr th:only-of-type {\n",
       "        vertical-align: middle;\n",
       "    }\n",
       "\n",
       "    .dataframe tbody tr th {\n",
       "        vertical-align: top;\n",
       "    }\n",
       "\n",
       "    .dataframe thead th {\n",
       "        text-align: right;\n",
       "    }\n",
       "</style>\n",
       "<table border=\"1\" class=\"dataframe\">\n",
       "  <thead>\n",
       "    <tr style=\"text-align: right;\">\n",
       "      <th></th>\n",
       "      <th>abs_coef_nf</th>\n",
       "      <th>coef_nf</th>\n",
       "      <th>var_nf</th>\n",
       "    </tr>\n",
       "  </thead>\n",
       "  <tbody>\n",
       "    <tr>\n",
       "      <th>138</th>\n",
       "      <td>23514.200911</td>\n",
       "      <td>23514.200911</td>\n",
       "      <td>OverallQual_9</td>\n",
       "    </tr>\n",
       "    <tr>\n",
       "      <th>130</th>\n",
       "      <td>23235.197903</td>\n",
       "      <td>23235.197903</td>\n",
       "      <td>OverallQual_10</td>\n",
       "    </tr>\n",
       "    <tr>\n",
       "      <th>137</th>\n",
       "      <td>22491.004541</td>\n",
       "      <td>22491.004541</td>\n",
       "      <td>OverallQual_8</td>\n",
       "    </tr>\n",
       "    <tr>\n",
       "      <th>92</th>\n",
       "      <td>10836.197473</td>\n",
       "      <td>-10836.197473</td>\n",
       "      <td>FireplaceQu_Nil</td>\n",
       "    </tr>\n",
       "    <tr>\n",
       "      <th>136</th>\n",
       "      <td>8263.736957</td>\n",
       "      <td>8263.736957</td>\n",
       "      <td>OverallQual_7</td>\n",
       "    </tr>\n",
       "  </tbody>\n",
       "</table>\n",
       "</div>"
      ],
      "text/plain": [
       "      abs_coef_nf       coef_nf           var_nf\n",
       "138  23514.200911  23514.200911    OverallQual_9\n",
       "130  23235.197903  23235.197903   OverallQual_10\n",
       "137  22491.004541  22491.004541    OverallQual_8\n",
       "92   10836.197473 -10836.197473  FireplaceQu_Nil\n",
       "136   8263.736957   8263.736957    OverallQual_7"
      ]
     },
     "execution_count": 53,
     "metadata": {},
     "output_type": "execute_result"
    }
   ],
   "source": [
    "# Lasso feature selection/variable for non-fixed features\n",
    "\n",
    "lasso_nf = lasso_nf.fit(Xs_train1, y_train1)\n",
    "lasso_coefs_nf = pd.DataFrame({'var_nf': X_train1.columns,\n",
    "                          'coef_nf':lasso_nf.coef_,\n",
    "                          'abs_coef_nf':np.abs(lasso_nf.coef_)})\n",
    "lasso_coefs_nf.sort_values('abs_coef_nf', ascending=False).head()"
   ]
  },
  {
   "cell_type": "code",
   "execution_count": 54,
   "metadata": {
    "scrolled": true
   },
   "outputs": [
    {
     "data": {
      "text/plain": [
       "60"
      ]
     },
     "execution_count": 54,
     "metadata": {},
     "output_type": "execute_result"
    }
   ],
   "source": [
    "lasso_columns_nf = list(lasso_coefs_nf[lasso_coefs_nf.abs_coef_nf > 0]['var_nf'])\n",
    "len(lasso_columns_nf)"
   ]
  },
  {
   "cell_type": "markdown",
   "metadata": {},
   "source": [
    "### RFECV"
   ]
  },
  {
   "cell_type": "code",
   "execution_count": 55,
   "metadata": {},
   "outputs": [],
   "source": [
    "# RFECV feature selection for non-fixed features\n",
    "\n",
    "selector_nf = RFECV(lm, step=1, cv=10)\n",
    "selector_nf = selector_nf.fit(Xs_train1, y_train1)\n",
    "\n",
    "# print selector.support_\n",
    "# print selector.ranking_"
   ]
  },
  {
   "cell_type": "code",
   "execution_count": 56,
   "metadata": {},
   "outputs": [
    {
     "data": {
      "text/plain": [
       "array(['OverallQual_10', 'OverallQual_7', 'OverallQual_8',\n",
       "       'OverallQual_9'], dtype='|S21')"
      ]
     },
     "execution_count": 56,
     "metadata": {},
     "output_type": "execute_result"
    }
   ],
   "source": [
    "# getting the RFECV non-fixed features\n",
    "\n",
    "rfecv_columns_nf = np.array(cols_nf)[selector_nf.support_]\n",
    "rfecv_columns_nf"
   ]
  },
  {
   "cell_type": "markdown",
   "metadata": {},
   "source": [
    "### KBest"
   ]
  },
  {
   "cell_type": "code",
   "execution_count": 57,
   "metadata": {
    "scrolled": true
   },
   "outputs": [
    {
     "name": "stderr",
     "output_type": "stream",
     "text": [
      "C:\\Users\\Arsyad\\Anaconda2\\lib\\site-packages\\sklearn\\feature_selection\\univariate_selection.py:298: RuntimeWarning: invalid value encountered in divide\n",
      "  corr /= X_norms\n",
      "C:\\Users\\Arsyad\\Anaconda2\\lib\\site-packages\\scipy\\stats\\_distn_infrastructure.py:879: RuntimeWarning: invalid value encountered in greater\n",
      "  return (self.a < x) & (x < self.b)\n",
      "C:\\Users\\Arsyad\\Anaconda2\\lib\\site-packages\\scipy\\stats\\_distn_infrastructure.py:879: RuntimeWarning: invalid value encountered in less\n",
      "  return (self.a < x) & (x < self.b)\n",
      "C:\\Users\\Arsyad\\Anaconda2\\lib\\site-packages\\scipy\\stats\\_distn_infrastructure.py:1821: RuntimeWarning: invalid value encountered in less_equal\n",
      "  cond2 = cond0 & (x <= self.a)\n"
     ]
    },
    {
     "data": {
      "text/html": [
       "<div>\n",
       "<style scoped>\n",
       "    .dataframe tbody tr th:only-of-type {\n",
       "        vertical-align: middle;\n",
       "    }\n",
       "\n",
       "    .dataframe tbody tr th {\n",
       "        vertical-align: top;\n",
       "    }\n",
       "\n",
       "    .dataframe thead th {\n",
       "        text-align: right;\n",
       "    }\n",
       "</style>\n",
       "<table border=\"1\" class=\"dataframe\">\n",
       "  <thead>\n",
       "    <tr style=\"text-align: right;\">\n",
       "      <th></th>\n",
       "      <th>feature_nf</th>\n",
       "      <th>f_reg_nf</th>\n",
       "    </tr>\n",
       "  </thead>\n",
       "  <tbody>\n",
       "    <tr>\n",
       "      <th>41</th>\n",
       "      <td>ExterQual_TA</td>\n",
       "      <td>692.972</td>\n",
       "    </tr>\n",
       "    <tr>\n",
       "      <th>83</th>\n",
       "      <td>KitchenQual_TA</td>\n",
       "      <td>480.343</td>\n",
       "    </tr>\n",
       "    <tr>\n",
       "      <th>92</th>\n",
       "      <td>FireplaceQu_Nil</td>\n",
       "      <td>373.325</td>\n",
       "    </tr>\n",
       "    <tr>\n",
       "      <th>40</th>\n",
       "      <td>ExterQual_Gd</td>\n",
       "      <td>331.628</td>\n",
       "    </tr>\n",
       "    <tr>\n",
       "      <th>55</th>\n",
       "      <td>BsmtFinType1_GLQ</td>\n",
       "      <td>296.143</td>\n",
       "    </tr>\n",
       "    <tr>\n",
       "      <th>137</th>\n",
       "      <td>OverallQual_8</td>\n",
       "      <td>292.335</td>\n",
       "    </tr>\n",
       "    <tr>\n",
       "      <th>97</th>\n",
       "      <td>GarageFinish_Unf</td>\n",
       "      <td>259.828</td>\n",
       "    </tr>\n",
       "    <tr>\n",
       "      <th>138</th>\n",
       "      <td>OverallQual_9</td>\n",
       "      <td>231.287</td>\n",
       "    </tr>\n",
       "    <tr>\n",
       "      <th>130</th>\n",
       "      <td>OverallQual_10</td>\n",
       "      <td>226.007</td>\n",
       "    </tr>\n",
       "    <tr>\n",
       "      <th>134</th>\n",
       "      <td>OverallQual_5</td>\n",
       "      <td>210.179</td>\n",
       "    </tr>\n",
       "    <tr>\n",
       "      <th>147</th>\n",
       "      <td>Fireplaces_1</td>\n",
       "      <td>187.503</td>\n",
       "    </tr>\n",
       "    <tr>\n",
       "      <th>122</th>\n",
       "      <td>SaleType_New</td>\n",
       "      <td>184.53</td>\n",
       "    </tr>\n",
       "    <tr>\n",
       "      <th>129</th>\n",
       "      <td>SaleCondition_Partial</td>\n",
       "      <td>177.609</td>\n",
       "    </tr>\n",
       "    <tr>\n",
       "      <th>91</th>\n",
       "      <td>FireplaceQu_Gd</td>\n",
       "      <td>172.512</td>\n",
       "    </tr>\n",
       "    <tr>\n",
       "      <th>82</th>\n",
       "      <td>KitchenQual_Gd</td>\n",
       "      <td>148.396</td>\n",
       "    </tr>\n",
       "    <tr>\n",
       "      <th>142</th>\n",
       "      <td>OverallCond_5</td>\n",
       "      <td>143.467</td>\n",
       "    </tr>\n",
       "    <tr>\n",
       "      <th>21</th>\n",
       "      <td>Exterior1st_VinylSd</td>\n",
       "      <td>132.697</td>\n",
       "    </tr>\n",
       "    <tr>\n",
       "      <th>74</th>\n",
       "      <td>HeatingQC_TA</td>\n",
       "      <td>132.097</td>\n",
       "    </tr>\n",
       "    <tr>\n",
       "      <th>50</th>\n",
       "      <td>BsmtExposure_Gd</td>\n",
       "      <td>131.236</td>\n",
       "    </tr>\n",
       "    <tr>\n",
       "      <th>36</th>\n",
       "      <td>Exterior2nd_VinylSd</td>\n",
       "      <td>128.929</td>\n",
       "    </tr>\n",
       "    <tr>\n",
       "      <th>107</th>\n",
       "      <td>GarageCond_TA</td>\n",
       "      <td>102.319</td>\n",
       "    </tr>\n",
       "    <tr>\n",
       "      <th>53</th>\n",
       "      <td>BsmtExposure_No</td>\n",
       "      <td>98.0233</td>\n",
       "    </tr>\n",
       "    <tr>\n",
       "      <th>133</th>\n",
       "      <td>OverallQual_4</td>\n",
       "      <td>89.4683</td>\n",
       "    </tr>\n",
       "    <tr>\n",
       "      <th>124</th>\n",
       "      <td>SaleType_WD</td>\n",
       "      <td>85.9211</td>\n",
       "    </tr>\n",
       "    <tr>\n",
       "      <th>102</th>\n",
       "      <td>GarageQual_TA</td>\n",
       "      <td>80.3494</td>\n",
       "    </tr>\n",
       "    <tr>\n",
       "      <th>80</th>\n",
       "      <td>Electrical_SBrkr</td>\n",
       "      <td>78.9426</td>\n",
       "    </tr>\n",
       "    <tr>\n",
       "      <th>75</th>\n",
       "      <td>CentralAir_Y</td>\n",
       "      <td>74.4827</td>\n",
       "    </tr>\n",
       "    <tr>\n",
       "      <th>100</th>\n",
       "      <td>GarageQual_Nil</td>\n",
       "      <td>72.5392</td>\n",
       "    </tr>\n",
       "    <tr>\n",
       "      <th>95</th>\n",
       "      <td>GarageFinish_Nil</td>\n",
       "      <td>72.5392</td>\n",
       "    </tr>\n",
       "    <tr>\n",
       "      <th>105</th>\n",
       "      <td>GarageCond_Nil</td>\n",
       "      <td>72.5392</td>\n",
       "    </tr>\n",
       "    <tr>\n",
       "      <th>...</th>\n",
       "      <td>...</td>\n",
       "      <td>...</td>\n",
       "    </tr>\n",
       "    <tr>\n",
       "      <th>8</th>\n",
       "      <td>RoofMatl_WdShake</td>\n",
       "      <td>1.35108</td>\n",
       "    </tr>\n",
       "    <tr>\n",
       "      <th>121</th>\n",
       "      <td>SaleType_ConLw</td>\n",
       "      <td>1.17652</td>\n",
       "    </tr>\n",
       "    <tr>\n",
       "      <th>12</th>\n",
       "      <td>Exterior1st_BrkFace</td>\n",
       "      <td>1.1309</td>\n",
       "    </tr>\n",
       "    <tr>\n",
       "      <th>16</th>\n",
       "      <td>Exterior1st_ImStucc</td>\n",
       "      <td>1.02409</td>\n",
       "    </tr>\n",
       "    <tr>\n",
       "      <th>120</th>\n",
       "      <td>SaleType_ConLI</td>\n",
       "      <td>1.01333</td>\n",
       "    </tr>\n",
       "    <tr>\n",
       "      <th>69</th>\n",
       "      <td>Heating_OthW</td>\n",
       "      <td>1.01275</td>\n",
       "    </tr>\n",
       "    <tr>\n",
       "      <th>13</th>\n",
       "      <td>Exterior1st_CBlock</td>\n",
       "      <td>0.948174</td>\n",
       "    </tr>\n",
       "    <tr>\n",
       "      <th>27</th>\n",
       "      <td>Exterior2nd_CBlock</td>\n",
       "      <td>0.948174</td>\n",
       "    </tr>\n",
       "    <tr>\n",
       "      <th>119</th>\n",
       "      <td>SaleType_ConLD</td>\n",
       "      <td>0.836653</td>\n",
       "    </tr>\n",
       "    <tr>\n",
       "      <th>87</th>\n",
       "      <td>Functional_Mod</td>\n",
       "      <td>0.718943</td>\n",
       "    </tr>\n",
       "    <tr>\n",
       "      <th>90</th>\n",
       "      <td>FireplaceQu_Fa</td>\n",
       "      <td>0.613519</td>\n",
       "    </tr>\n",
       "    <tr>\n",
       "      <th>4</th>\n",
       "      <td>RoofMatl_Membran</td>\n",
       "      <td>0.566337</td>\n",
       "    </tr>\n",
       "    <tr>\n",
       "      <th>117</th>\n",
       "      <td>SaleType_CWD</td>\n",
       "      <td>0.52481</td>\n",
       "    </tr>\n",
       "    <tr>\n",
       "      <th>67</th>\n",
       "      <td>Heating_GasW</td>\n",
       "      <td>0.496692</td>\n",
       "    </tr>\n",
       "    <tr>\n",
       "      <th>34</th>\n",
       "      <td>Exterior2nd_Stone</td>\n",
       "      <td>0.452961</td>\n",
       "    </tr>\n",
       "    <tr>\n",
       "      <th>88</th>\n",
       "      <td>Functional_Sev</td>\n",
       "      <td>0.44899</td>\n",
       "    </tr>\n",
       "    <tr>\n",
       "      <th>1</th>\n",
       "      <td>LowQualFinSF</td>\n",
       "      <td>0.3657</td>\n",
       "    </tr>\n",
       "    <tr>\n",
       "      <th>110</th>\n",
       "      <td>PoolQC_Fa</td>\n",
       "      <td>0.359374</td>\n",
       "    </tr>\n",
       "    <tr>\n",
       "      <th>6</th>\n",
       "      <td>RoofMatl_Roll</td>\n",
       "      <td>0.323621</td>\n",
       "    </tr>\n",
       "    <tr>\n",
       "      <th>24</th>\n",
       "      <td>Exterior2nd_AsphShn</td>\n",
       "      <td>0.199831</td>\n",
       "    </tr>\n",
       "    <tr>\n",
       "      <th>111</th>\n",
       "      <td>PoolQC_Gd</td>\n",
       "      <td>0.192148</td>\n",
       "    </tr>\n",
       "    <tr>\n",
       "      <th>61</th>\n",
       "      <td>BsmtFinType2_GLQ</td>\n",
       "      <td>0.191581</td>\n",
       "    </tr>\n",
       "    <tr>\n",
       "      <th>18</th>\n",
       "      <td>Exterior1st_Plywood</td>\n",
       "      <td>0.152045</td>\n",
       "    </tr>\n",
       "    <tr>\n",
       "      <th>126</th>\n",
       "      <td>SaleCondition_Alloca</td>\n",
       "      <td>0.0356727</td>\n",
       "    </tr>\n",
       "    <tr>\n",
       "      <th>79</th>\n",
       "      <td>Electrical_Nil</td>\n",
       "      <td>0.033561</td>\n",
       "    </tr>\n",
       "    <tr>\n",
       "      <th>7</th>\n",
       "      <td>RoofMatl_Tar&amp;Grv</td>\n",
       "      <td>0.020687</td>\n",
       "    </tr>\n",
       "    <tr>\n",
       "      <th>104</th>\n",
       "      <td>GarageCond_Gd</td>\n",
       "      <td>0.00614209</td>\n",
       "    </tr>\n",
       "    <tr>\n",
       "      <th>5</th>\n",
       "      <td>RoofMatl_Metal</td>\n",
       "      <td>0.000632865</td>\n",
       "    </tr>\n",
       "    <tr>\n",
       "      <th>10</th>\n",
       "      <td>Exterior1st_AsphShn</td>\n",
       "      <td>NaN</td>\n",
       "    </tr>\n",
       "    <tr>\n",
       "      <th>44</th>\n",
       "      <td>ExterCond_Po</td>\n",
       "      <td>NaN</td>\n",
       "    </tr>\n",
       "  </tbody>\n",
       "</table>\n",
       "<p>150 rows × 2 columns</p>\n",
       "</div>"
      ],
      "text/plain": [
       "                feature_nf     f_reg_nf\n",
       "41            ExterQual_TA      692.972\n",
       "83          KitchenQual_TA      480.343\n",
       "92         FireplaceQu_Nil      373.325\n",
       "40            ExterQual_Gd      331.628\n",
       "55        BsmtFinType1_GLQ      296.143\n",
       "137          OverallQual_8      292.335\n",
       "97        GarageFinish_Unf      259.828\n",
       "138          OverallQual_9      231.287\n",
       "130         OverallQual_10      226.007\n",
       "134          OverallQual_5      210.179\n",
       "147           Fireplaces_1      187.503\n",
       "122           SaleType_New       184.53\n",
       "129  SaleCondition_Partial      177.609\n",
       "91          FireplaceQu_Gd      172.512\n",
       "82          KitchenQual_Gd      148.396\n",
       "142          OverallCond_5      143.467\n",
       "21     Exterior1st_VinylSd      132.697\n",
       "74            HeatingQC_TA      132.097\n",
       "50         BsmtExposure_Gd      131.236\n",
       "36     Exterior2nd_VinylSd      128.929\n",
       "107          GarageCond_TA      102.319\n",
       "53         BsmtExposure_No      98.0233\n",
       "133          OverallQual_4      89.4683\n",
       "124            SaleType_WD      85.9211\n",
       "102          GarageQual_TA      80.3494\n",
       "80        Electrical_SBrkr      78.9426\n",
       "75            CentralAir_Y      74.4827\n",
       "100         GarageQual_Nil      72.5392\n",
       "95        GarageFinish_Nil      72.5392\n",
       "105         GarageCond_Nil      72.5392\n",
       "..                     ...          ...\n",
       "8         RoofMatl_WdShake      1.35108\n",
       "121         SaleType_ConLw      1.17652\n",
       "12     Exterior1st_BrkFace       1.1309\n",
       "16     Exterior1st_ImStucc      1.02409\n",
       "120         SaleType_ConLI      1.01333\n",
       "69            Heating_OthW      1.01275\n",
       "13      Exterior1st_CBlock     0.948174\n",
       "27      Exterior2nd_CBlock     0.948174\n",
       "119         SaleType_ConLD     0.836653\n",
       "87          Functional_Mod     0.718943\n",
       "90          FireplaceQu_Fa     0.613519\n",
       "4         RoofMatl_Membran     0.566337\n",
       "117           SaleType_CWD      0.52481\n",
       "67            Heating_GasW     0.496692\n",
       "34       Exterior2nd_Stone     0.452961\n",
       "88          Functional_Sev      0.44899\n",
       "1             LowQualFinSF       0.3657\n",
       "110              PoolQC_Fa     0.359374\n",
       "6            RoofMatl_Roll     0.323621\n",
       "24     Exterior2nd_AsphShn     0.199831\n",
       "111              PoolQC_Gd     0.192148\n",
       "61        BsmtFinType2_GLQ     0.191581\n",
       "18     Exterior1st_Plywood     0.152045\n",
       "126   SaleCondition_Alloca    0.0356727\n",
       "79          Electrical_Nil     0.033561\n",
       "7         RoofMatl_Tar&Grv     0.020687\n",
       "104          GarageCond_Gd   0.00614209\n",
       "5           RoofMatl_Metal  0.000632865\n",
       "10     Exterior1st_AsphShn          NaN\n",
       "44            ExterCond_Po          NaN\n",
       "\n",
       "[150 rows x 2 columns]"
      ]
     },
     "execution_count": 57,
     "metadata": {},
     "output_type": "execute_result"
    }
   ],
   "source": [
    "# select k best feature\n",
    "\n",
    "# Build the selector — we'll build one with each score type.\n",
    "skb_f_nf = SelectKBest(f_regression, k=10)\n",
    "# skb_chi2 = SelectKBest(chi2, k=10)\n",
    "\n",
    "# Train the selector on the data.\n",
    "skb_f_nf.fit(Xs_train1, y_train1)\n",
    "# skb_chi2.fit(Xs_train, y_train)\n",
    "\n",
    "\n",
    "# Examine the results.\n",
    "kbest_nf = pd.DataFrame([cols_nf, list(skb_f_nf.scores_)], \n",
    "                     index=['feature_nf','f_reg_nf']).T.sort_values('f_reg_nf', ascending=False)\n",
    "\n",
    "# # Examine the results.\n",
    "# kbest = pd.DataFrame([cols, list(skb_f.scores_), list(skb_chi2.scores_)], \n",
    "#                      index=['feature','f_classif','chi2 score']).T.sort_values('f_classif', ascending=False)\n",
    "kbest_nf"
   ]
  },
  {
   "cell_type": "code",
   "execution_count": 58,
   "metadata": {},
   "outputs": [
    {
     "data": {
      "text/plain": [
       "array(['ExterQual_TA', 'KitchenQual_TA', 'FireplaceQu_Nil',\n",
       "       'ExterQual_Gd', 'BsmtFinType1_GLQ', 'OverallQual_8',\n",
       "       'GarageFinish_Unf', 'OverallQual_9', 'OverallQual_10',\n",
       "       'OverallQual_5', 'Fireplaces_1', 'SaleType_New',\n",
       "       'SaleCondition_Partial', 'FireplaceQu_Gd', 'KitchenQual_Gd',\n",
       "       'OverallCond_5', 'Exterior1st_VinylSd', 'HeatingQC_TA',\n",
       "       'BsmtExposure_Gd', 'Exterior2nd_VinylSd', 'GarageCond_TA',\n",
       "       'BsmtExposure_No', 'OverallQual_4', 'SaleType_WD', 'GarageQual_TA'],\n",
       "      dtype=object)"
      ]
     },
     "execution_count": 58,
     "metadata": {},
     "output_type": "execute_result"
    }
   ],
   "source": [
    "kbest_columns_nf = kbest_nf.feature_nf.values[:25]\n",
    "kbest_columns_nf"
   ]
  },
  {
   "cell_type": "code",
   "execution_count": 68,
   "metadata": {},
   "outputs": [
    {
     "name": "stdout",
     "output_type": "stream",
     "text": [
      "Mean rfecv non-fixed feat:  0.6197607330654287\n",
      "Std rfecv non-fixed feat:  0.058410239794040475 \n",
      "\n",
      "Mean kbest non-fixed feat:  0.716040876637161\n",
      "Std kbest non-fixed feat:  0.04828528556452201 \n",
      "\n",
      "Mean Lasso non-fixed feat:  0.7346172051954626\n",
      "Std Lasso non-fixed feat:  0.044123874897574404 \n",
      "\n",
      "Baseline:  0.8073753616402863\n"
     ]
    }
   ],
   "source": [
    "# selecting the best model / features\n",
    "\n",
    "rfecv_scores_nf = cross_val_score(lm, Xs_train1[rfecv_columns_nf], y_train1, cv=10)\n",
    "print 'Mean rfecv non-fixed feat: ', np.mean(rfecv_scores_nf)\n",
    "print 'Std rfecv non-fixed feat: ', np.std(rfecv_scores_nf),'\\n'\n",
    "\n",
    "kbest_scores_nf = cross_val_score(lm, Xs_train1[kbest_columns_nf], y_train1, cv=10)\n",
    "print 'Mean kbest non-fixed feat: ', np.mean(kbest_scores_nf)\n",
    "print 'Std kbest non-fixed feat: ', np.std(kbest_scores_nf),'\\n'\n",
    "\n",
    "print 'Mean Lasso non-fixed feat: ', np.mean(lasso_scores_nf)\n",
    "print 'Std Lasso non-fixed feat: ', np.std(lasso_scores_nf),'\\n'\n",
    "\n",
    "print 'Baseline: ', model_nf.score(Xs_train1, y_train1)"
   ]
  },
  {
   "cell_type": "code",
   "execution_count": 60,
   "metadata": {},
   "outputs": [
    {
     "data": {
      "text/plain": [
       "-1.312502271828336e+24"
      ]
     },
     "execution_count": 60,
     "metadata": {},
     "output_type": "execute_result"
    }
   ],
   "source": [
    "# since baseline (linreg) has highest score, prediction will be done using baseline\n",
    "\n",
    "prediction_model_nf = model_nf.predict(Xs_test1)\n",
    "\n",
    "# score for model\n",
    "\n",
    "from sklearn.metrics import r2_score\n",
    "\n",
    "score_model_nf = r2_score(y_test1, prediction_model_nf)\n",
    "score_model_nf"
   ]
  },
  {
   "cell_type": "code",
   "execution_count": 61,
   "metadata": {},
   "outputs": [
    {
     "name": "stdout",
     "output_type": "stream",
     "text": [
      "Baseline mean:  -3.849431053610826e+23\n",
      "Baseline mean:  8.182302716573962e+23\n"
     ]
    }
   ],
   "source": [
    "# finding out why baseline not performing as well as rfecv\n",
    "\n",
    "baseline_scores_nf = cross_val_score(lm, Xs_train1, y_train1, cv=10)\n",
    "print 'Baseline mean: ', np.mean(baseline_scores_nf)\n",
    "print 'Baseline mean: ', np.std(baseline_scores_nf)"
   ]
  },
  {
   "cell_type": "code",
   "execution_count": 62,
   "metadata": {},
   "outputs": [
    {
     "data": {
      "text/plain": [
       "-1.312502271828336e+24"
      ]
     },
     "execution_count": 62,
     "metadata": {},
     "output_type": "execute_result"
    }
   ],
   "source": [
    "# # lin reg with lasso col due to best score\n",
    "\n",
    "# basemodel_nf = lm.fit(Xs_train1, y_train)\n",
    "\n",
    "# # print X_test_rfe.shape\n",
    "\n",
    "# prediction_baseline_nf = basemodel_nf.predict(Xs_test1)\n",
    "\n",
    "# # score for model\n",
    "\n",
    "# score_baseline_nf = r2_score(y_test1, prediction_baseline_nf)\n",
    "# score_baseline_nf"
   ]
  },
  {
   "cell_type": "code",
   "execution_count": 72,
   "metadata": {},
   "outputs": [],
   "source": [
    "# # overfitting in prediction. baseline could have the best score due to the values of features in train model. \n",
    "# # 2nd best result will be taken for another prediction\n",
    "\n",
    "# # prediction with rcefv which is the next best score\n",
    "\n",
    "# model_rfecv_nf = lm.fit(Xs_train1[rfecv_columns_nf], y_train1)\n",
    "# Xs_test1_rfecv_nf = Xs_test1[rfecv_columns_nf]\n",
    "\n",
    "# prediction_rfecv_nf = model_rfecv_nf.predict(Xs_test1_rfecv_nf)\n",
    "\n",
    "# # score for model\n",
    "\n",
    "# score_rfecv_nf = r2_score(y_test1, prediction_rfecv_nf)\n",
    "# score_rfecv_nf"
   ]
  },
  {
   "cell_type": "code",
   "execution_count": 71,
   "metadata": {},
   "outputs": [
    {
     "data": {
      "text/plain": [
       "0.7340189204160145"
      ]
     },
     "execution_count": 71,
     "metadata": {},
     "output_type": "execute_result"
    }
   ],
   "source": [
    "# overfitting in prediction. baseline could have the best score due to the values of features in train model. \n",
    "# 2nd best result will be taken for another prediction\n",
    "\n",
    "# prediction with lasso which is the next best score\n",
    "\n",
    "prediction_lasso_nf = lasso_nf.predict(Xs_test1)\n",
    "\n",
    "# score for model\n",
    "\n",
    "score_lasso_nf = r2_score(y_test1, prediction_lasso_nf)\n",
    "score_lasso_nf"
   ]
  },
  {
   "cell_type": "markdown",
   "metadata": {},
   "source": [
    "## 2.2\n",
    "price of house = est value of fixed features + est value of non-fixed features\n",
    "\n",
    "- value of fixed and non-fixed features work together to give an est house price.\n",
    "- we cannot renovate a house fixed feature to increase its price, we can determine a house estimate future price by using the non-fixed features such as reno on kitchen, basement, etc to determine the feature renovation type.\n",
    "- i.e. looking yield for ROI of cost of renovating a kitchen vs future price of house after renovation"
   ]
  },
  {
   "cell_type": "markdown",
   "metadata": {},
   "source": [
    "## 2.3"
   ]
  },
  {
   "cell_type": "code",
   "execution_count": 73,
   "metadata": {},
   "outputs": [],
   "source": [
    "# calculating price residual y_test - prediction. to use variable instead of y_train. fit and predict. score against y-test.\n",
    "# train_pred_lasso_ff: train prediction lasso model with lasso cols fixed feature\n",
    "# train_price_residual -> y_train; y_test -> y_test, X_train1 -> non-fixed feature before 2010\n",
    "\n",
    "cols_res = list(X_train1.columns)\n",
    "\n",
    "\n",
    "train_pred_rfecv_ff = model_rfecv.predict(Xs_train[rfecv_columns])\n",
    "\n",
    "y_train_price_residual = y_train - train_pred_rfecv_ff"
   ]
  },
  {
   "cell_type": "code",
   "execution_count": 74,
   "metadata": {},
   "outputs": [
    {
     "data": {
      "text/plain": [
       "<matplotlib.axes._subplots.AxesSubplot at 0x14511588>"
      ]
     },
     "execution_count": 74,
     "metadata": {},
     "output_type": "execute_result"
    },
    {
     "data": {
      "image/png": "[encoded data removed]",
      "text/plain": [
       "<matplotlib.figure.Figure at 0x14511198>"
      ]
     },
     "metadata": {
      "image/png": {
       "height": 260,
       "width": 400
      }
     },
     "output_type": "display_data"
    }
   ],
   "source": [
    "sns.distplot(y_train_price_residual, bins=30)"
   ]
  },
  {
   "cell_type": "code",
   "execution_count": 75,
   "metadata": {
    "scrolled": true
   },
   "outputs": [
    {
     "name": "stdout",
     "output_type": "stream",
     "text": [
      "0.40061915333460096\n",
      "1.0957526283602363\n"
     ]
    }
   ],
   "source": [
    "# res -> residual\n",
    "# for residual\n",
    "\n",
    "lm = LinearRegression()\n",
    "model_res = lm.fit(Xs_train1, y_train_price_residual)\n",
    "\n",
    "print model_res.score(Xs_train1, y_train_price_residual)\n",
    "print model_res.intercept_"
   ]
  },
  {
   "cell_type": "code",
   "execution_count": 76,
   "metadata": {},
   "outputs": [
    {
     "name": "stdout",
     "output_type": "stream",
     "text": [
      "Baseline mean:  -6.370916647903932e+24\n",
      "Baseline mean:  1.7843382460540796e+25\n"
     ]
    }
   ],
   "source": [
    "# doing cv to confirm on baseline score\n",
    "\n",
    "baseline_scores_res = cross_val_score(lm, Xs_train1, y_train_price_residual, cv=10)\n",
    "print 'Baseline mean: ', np.mean(baseline_scores_res)\n",
    "print 'Baseline mean: ', np.std(baseline_scores_res)"
   ]
  },
  {
   "cell_type": "code",
   "execution_count": 80,
   "metadata": {},
   "outputs": [
    {
     "name": "stdout",
     "output_type": "stream",
     "text": [
      "Optimal Lasso Alpha for Residual:  1331.3918150219074 \n",
      "\n",
      "lasso scores for residual: [-0.02115157  0.22626902  0.16866766 -0.03230289  0.02143294  0.14557284\n",
      "  0.06609115  0.13406056  0.02374384 -0.32450582] \n",
      "\n",
      "Mean lasso scores for residual: 0.040787771505806106\n"
     ]
    }
   ],
   "source": [
    "# lasso feature selection\n",
    "\n",
    "optimal_lasso_res = LassoCV(n_alphas=500, cv=10)\n",
    "optimal_lasso_res.fit(Xs_train1, y_train_price_residual)\n",
    "\n",
    "print 'Optimal Lasso Alpha for Residual: ', optimal_lasso_res.alpha_, '\\n'\n",
    "\n",
    "lasso_res = Lasso(alpha=optimal_lasso_res.alpha_)\n",
    "\n",
    "lasso_scores_res = cross_val_score(lasso_res, Xs_train1, y_train_price_residual, cv=10)\n",
    "\n",
    "print 'lasso scores for residual:', lasso_scores_res, '\\n'\n",
    "print 'Mean lasso scores for residual:', np.mean(lasso_scores_res)"
   ]
  },
  {
   "cell_type": "code",
   "execution_count": 78,
   "metadata": {},
   "outputs": [
    {
     "data": {
      "text/html": [
       "<div>\n",
       "<style scoped>\n",
       "    .dataframe tbody tr th:only-of-type {\n",
       "        vertical-align: middle;\n",
       "    }\n",
       "\n",
       "    .dataframe tbody tr th {\n",
       "        vertical-align: top;\n",
       "    }\n",
       "\n",
       "    .dataframe thead th {\n",
       "        text-align: right;\n",
       "    }\n",
       "</style>\n",
       "<table border=\"1\" class=\"dataframe\">\n",
       "  <thead>\n",
       "    <tr style=\"text-align: right;\">\n",
       "      <th></th>\n",
       "      <th>abs_coef_res</th>\n",
       "      <th>coef_res</th>\n",
       "      <th>var_res</th>\n",
       "    </tr>\n",
       "  </thead>\n",
       "  <tbody>\n",
       "    <tr>\n",
       "      <th>53</th>\n",
       "      <td>2536.091586</td>\n",
       "      <td>-2536.091586</td>\n",
       "      <td>BsmtExposure_No</td>\n",
       "    </tr>\n",
       "    <tr>\n",
       "      <th>142</th>\n",
       "      <td>243.087508</td>\n",
       "      <td>-243.087508</td>\n",
       "      <td>OverallCond_5</td>\n",
       "    </tr>\n",
       "    <tr>\n",
       "      <th>1</th>\n",
       "      <td>29.466992</td>\n",
       "      <td>-29.466992</td>\n",
       "      <td>LowQualFinSF</td>\n",
       "    </tr>\n",
       "    <tr>\n",
       "      <th>0</th>\n",
       "      <td>1.109303</td>\n",
       "      <td>1.109303</td>\n",
       "      <td>BsmtUnfSF</td>\n",
       "    </tr>\n",
       "    <tr>\n",
       "      <th>146</th>\n",
       "      <td>0.000000</td>\n",
       "      <td>0.000000</td>\n",
       "      <td>OverallCond_9</td>\n",
       "    </tr>\n",
       "  </tbody>\n",
       "</table>\n",
       "</div>"
      ],
      "text/plain": [
       "     abs_coef_res     coef_res          var_res\n",
       "53    2536.091586 -2536.091586  BsmtExposure_No\n",
       "142    243.087508  -243.087508    OverallCond_5\n",
       "1       29.466992   -29.466992     LowQualFinSF\n",
       "0        1.109303     1.109303        BsmtUnfSF\n",
       "146      0.000000     0.000000    OverallCond_9"
      ]
     },
     "execution_count": 78,
     "metadata": {},
     "output_type": "execute_result"
    }
   ],
   "source": [
    "#Lasso feature selection/variable selection alternative\n",
    "\n",
    "lasso_res = lasso_res.fit(X_train1, y_train_price_residual)\n",
    "lasso_coefs_res = pd.DataFrame({'var_res': X_train1.columns,\n",
    "                          'coef_res':lasso_res.coef_,\n",
    "                          'abs_coef_res':np.abs(lasso_res.coef_)})\n",
    "lasso_coefs_res.sort_values('abs_coef_res', ascending=False).head()"
   ]
  },
  {
   "cell_type": "code",
   "execution_count": 81,
   "metadata": {},
   "outputs": [
    {
     "data": {
      "text/plain": [
       "4"
      ]
     },
     "execution_count": 81,
     "metadata": {},
     "output_type": "execute_result"
    }
   ],
   "source": [
    "# pull out cols for lasso\n",
    "\n",
    "lasso_columns_res = list(lasso_coefs_res[lasso_coefs_res.abs_coef_res > 0]['var_res'])\n",
    "len(lasso_columns_res)"
   ]
  },
  {
   "cell_type": "code",
   "execution_count": 86,
   "metadata": {},
   "outputs": [],
   "source": [
    "# RFECV feature selection\n",
    "\n",
    "selector_res = RFECV(lm, step=2, cv=10)\n",
    "selector_res = selector_res.fit(Xs_train1, y_train_price_residual)\n",
    "\n",
    "# print selector.support_\n",
    "# print selector.ranking_"
   ]
  },
  {
   "cell_type": "code",
   "execution_count": 83,
   "metadata": {},
   "outputs": [
    {
     "data": {
      "text/plain": [
       "array(['OverallCond_9'], dtype='|S21')"
      ]
     },
     "execution_count": 83,
     "metadata": {},
     "output_type": "execute_result"
    }
   ],
   "source": [
    "rfecv_columns_res = np.array(cols_res)[selector_res.support_]\n",
    "rfecv_columns_res"
   ]
  },
  {
   "cell_type": "code",
   "execution_count": null,
   "metadata": {},
   "outputs": [],
   "source": [
    "# select k best feature\n",
    "\n",
    "# Build the selector — we'll build one with each score type.\n",
    "skb_f_res = SelectKBest(f_regression, k=10)\n",
    "\n",
    "\n",
    "# Train the selector on the data.\n",
    "skb_f_res.fit(Xs_train1, y_train_price_residual)\n",
    "\n",
    "\n",
    "# Examine the results.\n",
    "kbest_res = pd.DataFrame([cols_res, list(skb_f_res.scores_)], \n",
    "                     index=['feature_res','f_reg_res']).T.sort_values('f_reg_res', ascending=False)\n",
    "\n",
    "kbest_res"
   ]
  },
  {
   "cell_type": "code",
   "execution_count": null,
   "metadata": {},
   "outputs": [],
   "source": [
    "kbest_columns_res = kbest_res.feature_res.values[:20]\n",
    "kbest_columns_res"
   ]
  },
  {
   "cell_type": "code",
   "execution_count": null,
   "metadata": {},
   "outputs": [],
   "source": [
    "rfecv_scores_res = cross_val_score(lm, Xs_train1[rfecv_columns_res], y_train_price_residual, cv=10)\n",
    "print 'Mean rfecv residual: ', np.mean(rfecv_scores_res)\n",
    "print 'Std rfecv residual: ', np.std(rfecv_scores_res),'\\n'\n",
    "\n",
    "kbest_scores_res = cross_val_score(lm, Xs_train1[kbest_columns_res], y_train_price_residual, cv=10)\n",
    "print 'Mean kbest residual: ', np.mean(kbest_scores_res)\n",
    "print 'Std kbest residual: ', np.std(kbest_scores_res),'\\n'\n",
    "\n",
    "print 'Mean Lasso residual: ', np.mean(lasso_scores_res)\n",
    "print 'Std Lasso residual: ', np.std(lasso_scores_res),'\\n'\n",
    "\n",
    "linreg_lasso_col_scores_res = cross_val_score(lm, Xs_train1[lasso_columns_res], y_train_price_residual, cv=10)\n",
    "print 'Mean linreg with lasso col scores residual: ', np.mean(linreg_lasso_col_scores_res)\n",
    "print 'Std linreg with lasso col scores residual: ', np.std(linreg_lasso_col_scores_res),'\\n'\n",
    "\n",
    "lasso_lasso_col_scores_res = cross_val_score(lasso, Xs_train1[lasso_columns_res], y_train_price_residual, cv=10)\n",
    "print 'Mean lasso with lasso col scores residual: ', np.mean(lasso_lasso_col_scores_res)\n",
    "print 'Std lasso with lasso col scores residual: ', np.std(lasso_lasso_col_scores_res),'\\n'"
   ]
  },
  {
   "cell_type": "code",
   "execution_count": null,
   "metadata": {},
   "outputs": [],
   "source": []
  },
  {
   "cell_type": "code",
   "execution_count": null,
   "metadata": {},
   "outputs": [],
   "source": [
    "# l1_ratios = np.linspace(0.01, 1.0, 25)\n",
    "\n",
    "# optimal_enet = ElasticNetCV(l1_ratio=l1_ratios, n_alphas=30, cv=10,\n",
    "#                             verbose=1)\n",
    "# optimal_enet.fit(Xs, y)\n",
    "\n",
    "# print optimal_enet.alpha_\n",
    "# print optimal_enet.l1_ratio_"
   ]
  },
  {
   "cell_type": "code",
   "execution_count": null,
   "metadata": {},
   "outputs": [],
   "source": []
  },
  {
   "cell_type": "markdown",
   "metadata": {},
   "source": [
    "<img src=\"http://imgur.com/GCAf1UX.png\" style=\"float: left; margin: 25px 15px 0px 0px; height: 25px\">\n",
    "\n",
    "## 3. What property characteristics predict an \"abnormal\" sale?\n",
    "\n",
    "---\n",
    "\n",
    "The `SaleCondition` feature indicates the circumstances of the house sale. From the data file, we can see that the possibilities are:\n",
    "\n",
    "       Normal\tNormal Sale\n",
    "       Abnorml\tAbnormal Sale -  trade, foreclosure, short sale\n",
    "       AdjLand\tAdjoining Land Purchase\n",
    "       Alloca\tAllocation - two linked properties with separate deeds, typically condo with a garage unit\t\n",
    "       Family\tSale between family members\n",
    "       Partial\tHome was not completed when last assessed (associated with New Homes)\n",
    "       \n",
    "One of the executives at your company has an \"in\" with higher-ups at the major regional bank. His friends at the bank have made him a proposal: if he can reliably indicate what features, if any, predict \"abnormal\" sales (foreclosures, short sales, etc.), then in return the bank will give him first dibs on the pre-auction purchase of those properties (at a dirt-cheap price).\n",
    "\n",
    "He has tasked you with determining (and adequately validating) which features of a property predict this type of sale. \n",
    "\n",
    "---\n",
    "\n",
    "**Your task:**\n",
    "1. Determine which features predict the `Abnorml` category in the `SaleCondition` feature.\n",
    "- Justify your results.\n",
    "\n",
    "This is a challenging task that tests your ability to perform classification analysis in the face of severe class imbalance. You may find that simply running a classifier on the full dataset to predict the category ends up useless: when there is bad class imbalance classifiers often tend to simply guess the majority class.\n",
    "\n",
    "It is up to you to determine how you will tackle this problem. I recommend doing some research to find out how others have dealt with the problem in the past. Make sure to justify your solution. Don't worry about it being \"the best\" solution, but be rigorous.\n",
    "\n",
    "Be sure to indicate which features are predictive (if any) and whether they are positive or negative predictors of abnormal sales."
   ]
  },
  {
   "cell_type": "code",
   "execution_count": 104,
   "metadata": {},
   "outputs": [
    {
     "data": {
      "text/plain": [
       "Normal     1194\n",
       "Partial     125\n",
       "Abnorml      96\n",
       "Family       20\n",
       "Alloca       11\n",
       "AdjLand       4\n",
       "Name: SaleCondition, dtype: int64"
      ]
     },
     "execution_count": 104,
     "metadata": {},
     "output_type": "execute_result"
    }
   ],
   "source": [
    "house_clean['SaleCondition'].value_counts()"
   ]
  },
  {
   "cell_type": "code",
   "execution_count": 145,
   "metadata": {
    "scrolled": true
   },
   "outputs": [
    {
     "name": "stderr",
     "output_type": "stream",
     "text": [
      "C:\\Users\\Arsyad\\Anaconda2\\lib\\site-packages\\ipykernel_launcher.py:2: SettingWithCopyWarning: \n",
      "A value is trying to be set on a copy of a slice from a DataFrame.\n",
      "Try using .loc[row_indexer,col_indexer] = value instead\n",
      "\n",
      "See the caveats in the documentation: http://pandas.pydata.org/pandas-docs/stable/indexing.html#indexing-view-versus-copy\n",
      "  \n"
     ]
    }
   ],
   "source": [
    "y3 = house_clean[['SaleCondition']]\n",
    "y3['SaleCondition'] = y3['SaleCondition'].map(lambda x: 1 if x == 'Abnorml' else 0)\n",
    "X3 = house_cat.drop('SaleCondition', axis=1)\n",
    "X3 = pd.get_dummies(X3, drop_first=True)\n"
   ]
  },
  {
   "cell_type": "code",
   "execution_count": 148,
   "metadata": {},
   "outputs": [],
   "source": [
    "X3s = pd.DataFrame(ss.fit_transform(X3), columns=X3.columns.values)"
   ]
  },
  {
   "cell_type": "code",
   "execution_count": 152,
   "metadata": {},
   "outputs": [
    {
     "name": "stdout",
     "output_type": "stream",
     "text": [
      "(1450, 1)\n",
      "(1450, 220)\n"
     ]
    }
   ],
   "source": [
    "print y3.shape\n",
    "print X3s.shape"
   ]
  },
  {
   "cell_type": "code",
   "execution_count": 150,
   "metadata": {},
   "outputs": [],
   "source": [
    "X3s_train, X3s_test, y3_train, y3_test = train_test_split(X3s, y3, test_size=0.3, random_state=42)"
   ]
  },
  {
   "cell_type": "code",
   "execution_count": null,
   "metadata": {},
   "outputs": [],
   "source": []
  },
  {
   "cell_type": "code",
   "execution_count": 160,
   "metadata": {},
   "outputs": [
    {
     "ename": "ValueError",
     "evalue": "Found input variables with inconsistent numbers of samples: [1450, 435]",
     "output_type": "error",
     "traceback": [
      "\u001b[1;31m\u001b[0m",
      "\u001b[1;31mValueError\u001b[0mTraceback (most recent call last)",
      "\u001b[1;32m<ipython-input-160-66aa76919c0b>\u001b[0m in \u001b[0;36m<module>\u001b[1;34m()\u001b[0m\n\u001b[0;32m      8\u001b[0m \u001b[0my3_pred_sc\u001b[0m \u001b[1;33m=\u001b[0m \u001b[0mknn\u001b[0m\u001b[1;33m.\u001b[0m\u001b[0mpredict\u001b[0m\u001b[1;33m(\u001b[0m\u001b[0mX3_test\u001b[0m\u001b[1;33m)\u001b[0m\u001b[1;33m\u001b[0m\u001b[0m\n\u001b[0;32m      9\u001b[0m \u001b[1;33m\u001b[0m\u001b[0m\n\u001b[1;32m---> 10\u001b[1;33m \u001b[1;32mprint\u001b[0m \u001b[1;33m(\u001b[0m\u001b[1;34m'accuracy = {}'\u001b[0m\u001b[1;33m.\u001b[0m\u001b[0mformat\u001b[0m\u001b[1;33m(\u001b[0m\u001b[0maccuracy_score\u001b[0m\u001b[1;33m(\u001b[0m\u001b[0my3\u001b[0m\u001b[1;33m,\u001b[0m \u001b[0my3_pred_sc\u001b[0m\u001b[1;33m)\u001b[0m\u001b[1;33m)\u001b[0m\u001b[1;33m)\u001b[0m\u001b[1;33m\u001b[0m\u001b[0m\n\u001b[0m",
      "\u001b[1;32mC:\\Users\\Arsyad\\Anaconda2\\lib\\site-packages\\sklearn\\metrics\\classification.pyc\u001b[0m in \u001b[0;36maccuracy_score\u001b[1;34m(y_true, y_pred, normalize, sample_weight)\u001b[0m\n\u001b[0;32m    174\u001b[0m \u001b[1;33m\u001b[0m\u001b[0m\n\u001b[0;32m    175\u001b[0m     \u001b[1;31m# Compute accuracy for each possible representation\u001b[0m\u001b[1;33m\u001b[0m\u001b[1;33m\u001b[0m\u001b[0m\n\u001b[1;32m--> 176\u001b[1;33m     \u001b[0my_type\u001b[0m\u001b[1;33m,\u001b[0m \u001b[0my_true\u001b[0m\u001b[1;33m,\u001b[0m \u001b[0my_pred\u001b[0m \u001b[1;33m=\u001b[0m \u001b[0m_check_targets\u001b[0m\u001b[1;33m(\u001b[0m\u001b[0my_true\u001b[0m\u001b[1;33m,\u001b[0m \u001b[0my_pred\u001b[0m\u001b[1;33m)\u001b[0m\u001b[1;33m\u001b[0m\u001b[0m\n\u001b[0m\u001b[0;32m    177\u001b[0m     \u001b[1;32mif\u001b[0m \u001b[0my_type\u001b[0m\u001b[1;33m.\u001b[0m\u001b[0mstartswith\u001b[0m\u001b[1;33m(\u001b[0m\u001b[1;34m'multilabel'\u001b[0m\u001b[1;33m)\u001b[0m\u001b[1;33m:\u001b[0m\u001b[1;33m\u001b[0m\u001b[0m\n\u001b[0;32m    178\u001b[0m         \u001b[0mdiffering_labels\u001b[0m \u001b[1;33m=\u001b[0m \u001b[0mcount_nonzero\u001b[0m\u001b[1;33m(\u001b[0m\u001b[0my_true\u001b[0m \u001b[1;33m-\u001b[0m \u001b[0my_pred\u001b[0m\u001b[1;33m,\u001b[0m \u001b[0maxis\u001b[0m\u001b[1;33m=\u001b[0m\u001b[1;36m1\u001b[0m\u001b[1;33m)\u001b[0m\u001b[1;33m\u001b[0m\u001b[0m\n",
      "\u001b[1;32mC:\\Users\\Arsyad\\Anaconda2\\lib\\site-packages\\sklearn\\metrics\\classification.pyc\u001b[0m in \u001b[0;36m_check_targets\u001b[1;34m(y_true, y_pred)\u001b[0m\n\u001b[0;32m     69\u001b[0m     \u001b[0my_pred\u001b[0m \u001b[1;33m:\u001b[0m \u001b[0marray\u001b[0m \u001b[1;32mor\u001b[0m \u001b[0mindicator\u001b[0m \u001b[0mmatrix\u001b[0m\u001b[1;33m\u001b[0m\u001b[0m\n\u001b[0;32m     70\u001b[0m     \"\"\"\n\u001b[1;32m---> 71\u001b[1;33m     \u001b[0mcheck_consistent_length\u001b[0m\u001b[1;33m(\u001b[0m\u001b[0my_true\u001b[0m\u001b[1;33m,\u001b[0m \u001b[0my_pred\u001b[0m\u001b[1;33m)\u001b[0m\u001b[1;33m\u001b[0m\u001b[0m\n\u001b[0m\u001b[0;32m     72\u001b[0m     \u001b[0mtype_true\u001b[0m \u001b[1;33m=\u001b[0m \u001b[0mtype_of_target\u001b[0m\u001b[1;33m(\u001b[0m\u001b[0my_true\u001b[0m\u001b[1;33m)\u001b[0m\u001b[1;33m\u001b[0m\u001b[0m\n\u001b[0;32m     73\u001b[0m     \u001b[0mtype_pred\u001b[0m \u001b[1;33m=\u001b[0m \u001b[0mtype_of_target\u001b[0m\u001b[1;33m(\u001b[0m\u001b[0my_pred\u001b[0m\u001b[1;33m)\u001b[0m\u001b[1;33m\u001b[0m\u001b[0m\n",
      "\u001b[1;32mC:\\Users\\Arsyad\\Anaconda2\\lib\\site-packages\\sklearn\\utils\\validation.pyc\u001b[0m in \u001b[0;36mcheck_consistent_length\u001b[1;34m(*arrays)\u001b[0m\n\u001b[0;32m    202\u001b[0m     \u001b[1;32mif\u001b[0m \u001b[0mlen\u001b[0m\u001b[1;33m(\u001b[0m\u001b[0muniques\u001b[0m\u001b[1;33m)\u001b[0m \u001b[1;33m>\u001b[0m \u001b[1;36m1\u001b[0m\u001b[1;33m:\u001b[0m\u001b[1;33m\u001b[0m\u001b[0m\n\u001b[0;32m    203\u001b[0m         raise ValueError(\"Found input variables with inconsistent numbers of\"\n\u001b[1;32m--> 204\u001b[1;33m                          \" samples: %r\" % [int(l) for l in lengths])\n\u001b[0m\u001b[0;32m    205\u001b[0m \u001b[1;33m\u001b[0m\u001b[0m\n\u001b[0;32m    206\u001b[0m \u001b[1;33m\u001b[0m\u001b[0m\n",
      "\u001b[1;31mValueError\u001b[0m: Found input variables with inconsistent numbers of samples: [1450, 435]"
     ]
    }
   ],
   "source": [
    "#  use KNN as baseline\n",
    "from sklearn.neighbors import KNeighborsClassifier\n",
    "from sklearn.metrics import accuracy_score\n",
    "\n",
    "knn = KNeighborsClassifier(n_neighbors=10)\n",
    "sc = knn.fit(X3_train, y3_train.values.ravel())\n",
    "\n",
    "y3_pred_sc = knn.predict(X3_test)\n",
    "\n",
    "print ('accuracy = {}'.format(accuracy_score(y3, y3_pred_sc)))"
   ]
  },
  {
   "cell_type": "code",
   "execution_count": null,
   "metadata": {},
   "outputs": [],
   "source": [
    "# Feature selection with RFECV and Kbest - f_classif and chi2"
   ]
  },
  {
   "cell_type": "code",
   "execution_count": null,
   "metadata": {},
   "outputs": [],
   "source": []
  }
 ],
 "metadata": {
  "kernelspec": {
   "display_name": "Python 2",
   "language": "python",
   "name": "python2"
  },
  "language_info": {
   "codemirror_mode": {
    "name": "ipython",
    "version": 2
   },
   "file_extension": ".py",
   "mimetype": "text/x-python",
   "name": "python",
   "nbconvert_exporter": "python",
   "pygments_lexer": "ipython2",
   "version": "2.7.14"
  }
 },
 "nbformat": 4,
 "nbformat_minor": 2
}
